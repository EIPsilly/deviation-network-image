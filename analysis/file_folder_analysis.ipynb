{
 "cells": [
  {
   "cell_type": "code",
   "execution_count": 1,
   "metadata": {},
   "outputs": [],
   "source": [
    "import numpy as np\n",
    "import pandas as pd\n",
    "import os\n",
    "from matplotlib import pyplot as plt\n",
    "import re"
   ]
  },
  {
   "cell_type": "code",
   "execution_count": 2,
   "metadata": {},
   "outputs": [],
   "source": [
    "domain_list = ['photo', 'art_painting', 'cartoon', 'sketch']\n",
    "metric = \"AUPRC\"\n",
    "\n",
    "# dir_path = \"../results/DGAD/method5/1\"\n",
    "dir_path = '../results/devnet/many_versus_many'\n",
    "dir_path = '../results/DGAD/method5/3'\n",
    "dir_path = \"../results/DGAD/method6_tau\"\n",
    "# dir_path = '../results/DGAD/method5/3'\n",
    "# dir_path = '../results/DGAD/method5_reg_lambda'\n",
    "# dir_path = '../results/DGAD/method8'\n",
    "dir_path = '../results/DGAD/method6_lambda'\n",
    "# dir_path = '../results/devnet/many_versus_many'\n",
    "# dir_path = '../results/DGAD/method7'\n",
    "# dir_path = '../results/DGAD/method7_tau_lambda'\n",
    "\n",
    "dir_path = '../results/DGAD/method6_revision'\n",
    "dir_path = '../results/DGAD/method5/3'\n",
    "dir_path = '../results/DGAD/method5_aug/3'\n",
    "dir_path = '../results/DGAD/method5_reg_lambda'\n",
    "dir_path = '../results/DGAD/method10'\n",
    "dir_path = '../results/DGAD/method9_beta_list'\n",
    "dir_path = '../results/DGAD/method10_prototype_norm'\n",
    "dir_path = '../results/DGAD/method9'\n",
    "dir_path = '../results/DGAD/method9_revision'\n",
    "dir_path = '../results/DGAD/method9_kmeans'\n",
    "dir_path = '../results/devnet/one_source_domain'\n",
    "dir_path = '../results/devnet/many_versus_many'\n",
    "# dir_path = '../results/DGAD/method6_lambda'\n",
    "dir_path = '../results/DGAD/method6_revision'\n",
    "# dir_path = '../results/DGAD/VAE_DEVNET'\n",
    "# dir_path = '../results/DGAD/method6_2devnet'\n",
    "# dir_path = '../results/devnet/many_versus_many'\n",
    "dir_path = '../results/devnet/3domain'\n",
    "dir_path = '../results/DGAD/method12'\n",
    "dir_path = '../results/DGAD/method13'\n",
    "dir_path = '../results/DGAD/method14'\n",
    "# dir_path = '../old_results/DGAD/method6_lambda'\n",
    "# dir_path = '../results/DGAD/method13_lambda'\n",
    "dir_path = '../results/DGAD/VAE_LPIPS'\n",
    "dir_path = '../results/DGAD/VAE_LPIPS_DEVNET'\n",
    "dir_path = '../results/DGAD/method13'\n",
    "dir_path = '../results/DGAD/VAE_LPIPS_DEVNET_rec_lambda'\n",
    "dir_path = '../results/DGAD/VAE_LPIPS_DEVNET_rec_lambda_no_balance_sample'\n",
    "# dir_path = '../results/DGAD/VAE_LPIPS_DEVNET_rec_lambda'\n",
    "dir_path = '../results/DGAD/V_L_D'\n",
    "dir_path = '../results/DGAD/20240908V_L_D'\n",
    "\n",
    "dir_path = '../results/devnet/3domain'\n",
    "# dir_path = '../old_results/devnet/many_versus_many'\n",
    "# dir_path = '../results/devnet/20240915'\n",
    "dir_path = '../results/DGAD/latent_dim_DGAD'\n",
    "\n",
    "dir_path = '../results/DGAD/latent_dim_devnet'\n",
    "\n",
    "# dir_path = '../results/DGAD/latent_dim_DGAD_lambda'\n",
    "\n",
    "\n",
    "dir_path = '../results/devnet/20240915'\n",
    "\n",
    "# dir_path = '../results/DGAD/method13_lambda'\n",
    "\n",
    "dir_path = '../results/DGAD/latent_dim_CVAE_Unet'\n",
    "dir_path = '../results/DGAD/latent_dim_CVAE_Unet'\n",
    "\n",
    "dir_path = '../results/DGAD/VAE_LPIPS_DEVNET_rec_lambda_no_balance_sample'\n",
    "\n",
    "# dir_path = '../results/DGAD/20240908V_L_D'\n",
    "dir_path = '../results/DGAD/CVAE_DEVNET_rec_N'\n",
    "dir_path = '../results/DGAD/method16'\n",
    "\n",
    "# dir_path = '../results/devnet/20240915'\n",
    "# dir_path = '../results/DGAD/method16_lambda'\n",
    "dir_path = '../results/DGAD/method16_contamination'\n",
    "# dir_path = '../results/devnet/PACS_contamination'"
   ]
  },
  {
   "cell_type": "code",
   "execution_count": 3,
   "metadata": {},
   "outputs": [
    {
     "name": "stdout",
     "output_type": "stream",
     "text": [
      "64\n"
     ]
    },
    {
     "data": {
      "text/plain": [
       "(1, 1, 1, 0)"
      ]
     },
     "execution_count": 3,
     "metadata": {},
     "output_type": "execute_result"
    }
   ],
   "source": [
    "import itertools\n",
    "# normal_class=[\"0\", \"1\", \"2\", \"3\", \"4\", \"5\", \"6\"]\n",
    "# normal_class=[\"0 1 2 3\", \"4 5 6\", \"0 2 4 6\", \"1 3 5\", \"0\", \"1\", \"2\", \"3\", \"4\", \"5\", \"6\"]\n",
    "# anomaly_class=[\"4 5 6\", \"0 1 2 3\", \"1 3 5\", \"0 2 4 6\", \"1 2 3 4 5 6\", \"0 2 3 4 5 6\", \"0 1 3 4 5 6\", \"0 1 2 4 5 6\", \"0 1 2 3 5 6\", \"0 1 2 3 4 6\", \"0 1 2 3 4 5\"]\n",
    "# epochs_list=[5, 10, 15, 20, 30]\n",
    "# lr_list=[0.01, 0.001, 0.0005, 0.0002, 0.00005, 0.00001]\n",
    "reg_lambda=[1,2,5,10]\n",
    "NCE_lambda=[1,2,5,10]\n",
    "PL_lambda=[1,2,5,10]\n",
    "# cnt=[0,1,2,3,4]\n",
    "cnt=[0]\n",
    "all_para_list = list(itertools.product(reg_lambda, NCE_lambda, PL_lambda, cnt))\n",
    "print(len(all_para_list))\n",
    "all_para_list[0]"
   ]
  },
  {
   "cell_type": "code",
   "execution_count": 4,
   "metadata": {},
   "outputs": [
    {
     "name": "stdout",
     "output_type": "stream",
     "text": [
      "172\n"
     ]
    },
    {
     "data": {
      "text/html": [
       "<div>\n",
       "<style scoped>\n",
       "    .dataframe tbody tr th:only-of-type {\n",
       "        vertical-align: middle;\n",
       "    }\n",
       "\n",
       "    .dataframe tbody tr th {\n",
       "        vertical-align: top;\n",
       "    }\n",
       "\n",
       "    .dataframe thead th {\n",
       "        text-align: right;\n",
       "    }\n",
       "</style>\n",
       "<table border=\"1\" class=\"dataframe\">\n",
       "  <thead>\n",
       "    <tr style=\"text-align: right;\">\n",
       "      <th></th>\n",
       "      <th>contamination_rate</th>\n",
       "      <th>normal_class</th>\n",
       "      <th>anomaly_class</th>\n",
       "      <th>lr</th>\n",
       "      <th>epochs</th>\n",
       "      <th>cnt</th>\n",
       "      <th>max_val_epoch</th>\n",
       "      <th>photo_AUROC</th>\n",
       "      <th>art_painting_AUROC</th>\n",
       "      <th>cartoon_AUROC</th>\n",
       "      <th>...</th>\n",
       "      <th>val_sketch_AUROC</th>\n",
       "      <th>val_photo_AUPRC</th>\n",
       "      <th>val_art_painting_AUPRC</th>\n",
       "      <th>val_cartoon_AUPRC</th>\n",
       "      <th>val_sketch_AUPRC</th>\n",
       "      <th>file_name</th>\n",
       "      <th>AUROC_mean</th>\n",
       "      <th>AUPRC_mean</th>\n",
       "      <th>val_AUROC_mean</th>\n",
       "      <th>val_AUPRC_mean</th>\n",
       "    </tr>\n",
       "  </thead>\n",
       "  <tbody>\n",
       "    <tr>\n",
       "      <th>0</th>\n",
       "      <td>0.04</td>\n",
       "      <td>0</td>\n",
       "      <td>1 2 3 4 5 6</td>\n",
       "      <td>0.00010</td>\n",
       "      <td>40</td>\n",
       "      <td>1</td>\n",
       "      <td>0</td>\n",
       "      <td>0</td>\n",
       "      <td>0</td>\n",
       "      <td>0</td>\n",
       "      <td>...</td>\n",
       "      <td>0.916667</td>\n",
       "      <td>0.873413</td>\n",
       "      <td>0.425773</td>\n",
       "      <td>0.610690</td>\n",
       "      <td>0.449946</td>\n",
       "      <td>method=16,backbone=DGAD15,domain_cnt=3,normal_...</td>\n",
       "      <td>0.0</td>\n",
       "      <td>0.0</td>\n",
       "      <td>0.895997</td>\n",
       "      <td>0.589956</td>\n",
       "    </tr>\n",
       "    <tr>\n",
       "      <th>1</th>\n",
       "      <td>0.12</td>\n",
       "      <td>0</td>\n",
       "      <td>1 2 3 4 5 6</td>\n",
       "      <td>0.00001</td>\n",
       "      <td>30</td>\n",
       "      <td>1</td>\n",
       "      <td>4</td>\n",
       "      <td>0</td>\n",
       "      <td>0</td>\n",
       "      <td>0</td>\n",
       "      <td>...</td>\n",
       "      <td>0.899351</td>\n",
       "      <td>0.835714</td>\n",
       "      <td>0.409415</td>\n",
       "      <td>0.555250</td>\n",
       "      <td>0.372584</td>\n",
       "      <td>method=16,backbone=DGAD15,domain_cnt=3,normal_...</td>\n",
       "      <td>0.0</td>\n",
       "      <td>0.0</td>\n",
       "      <td>0.887958</td>\n",
       "      <td>0.543241</td>\n",
       "    </tr>\n",
       "    <tr>\n",
       "      <th>2</th>\n",
       "      <td>0.10</td>\n",
       "      <td>0</td>\n",
       "      <td>1 2 3 4 5 6</td>\n",
       "      <td>0.00050</td>\n",
       "      <td>40</td>\n",
       "      <td>0</td>\n",
       "      <td>14</td>\n",
       "      <td>0</td>\n",
       "      <td>0</td>\n",
       "      <td>0</td>\n",
       "      <td>...</td>\n",
       "      <td>0.356061</td>\n",
       "      <td>0.475197</td>\n",
       "      <td>0.263896</td>\n",
       "      <td>0.153641</td>\n",
       "      <td>0.042150</td>\n",
       "      <td>method=16,backbone=DGAD15,domain_cnt=3,normal_...</td>\n",
       "      <td>0.0</td>\n",
       "      <td>0.0</td>\n",
       "      <td>0.614104</td>\n",
       "      <td>0.233721</td>\n",
       "    </tr>\n",
       "    <tr>\n",
       "      <th>3</th>\n",
       "      <td>0.12</td>\n",
       "      <td>0</td>\n",
       "      <td>1 2 3 4 5 6</td>\n",
       "      <td>0.00001</td>\n",
       "      <td>20</td>\n",
       "      <td>0</td>\n",
       "      <td>5</td>\n",
       "      <td>0</td>\n",
       "      <td>0</td>\n",
       "      <td>0</td>\n",
       "      <td>...</td>\n",
       "      <td>0.875541</td>\n",
       "      <td>0.788492</td>\n",
       "      <td>0.342011</td>\n",
       "      <td>0.523108</td>\n",
       "      <td>0.561560</td>\n",
       "      <td>method=16,backbone=DGAD15,domain_cnt=3,normal_...</td>\n",
       "      <td>0.0</td>\n",
       "      <td>0.0</td>\n",
       "      <td>0.882120</td>\n",
       "      <td>0.553793</td>\n",
       "    </tr>\n",
       "    <tr>\n",
       "      <th>4</th>\n",
       "      <td>0.06</td>\n",
       "      <td>0</td>\n",
       "      <td>1 2 3 4 5 6</td>\n",
       "      <td>0.00050</td>\n",
       "      <td>30</td>\n",
       "      <td>1</td>\n",
       "      <td>3</td>\n",
       "      <td>0</td>\n",
       "      <td>0</td>\n",
       "      <td>0</td>\n",
       "      <td>...</td>\n",
       "      <td>0.673160</td>\n",
       "      <td>0.818452</td>\n",
       "      <td>0.161791</td>\n",
       "      <td>0.123020</td>\n",
       "      <td>0.089510</td>\n",
       "      <td>method=16,backbone=DGAD15,domain_cnt=3,normal_...</td>\n",
       "      <td>0.0</td>\n",
       "      <td>0.0</td>\n",
       "      <td>0.749658</td>\n",
       "      <td>0.298193</td>\n",
       "    </tr>\n",
       "  </tbody>\n",
       "</table>\n",
       "<p>5 rows × 28 columns</p>\n",
       "</div>"
      ],
      "text/plain": [
       "   contamination_rate normal_class anomaly_class       lr  epochs  cnt  \\\n",
       "0                0.04            0   1 2 3 4 5 6  0.00010      40    1   \n",
       "1                0.12            0   1 2 3 4 5 6  0.00001      30    1   \n",
       "2                0.10            0   1 2 3 4 5 6  0.00050      40    0   \n",
       "3                0.12            0   1 2 3 4 5 6  0.00001      20    0   \n",
       "4                0.06            0   1 2 3 4 5 6  0.00050      30    1   \n",
       "\n",
       "   max_val_epoch  photo_AUROC  art_painting_AUROC  cartoon_AUROC  ...  \\\n",
       "0              0            0                   0              0  ...   \n",
       "1              4            0                   0              0  ...   \n",
       "2             14            0                   0              0  ...   \n",
       "3              5            0                   0              0  ...   \n",
       "4              3            0                   0              0  ...   \n",
       "\n",
       "   val_sketch_AUROC  val_photo_AUPRC  val_art_painting_AUPRC  \\\n",
       "0          0.916667         0.873413                0.425773   \n",
       "1          0.899351         0.835714                0.409415   \n",
       "2          0.356061         0.475197                0.263896   \n",
       "3          0.875541         0.788492                0.342011   \n",
       "4          0.673160         0.818452                0.161791   \n",
       "\n",
       "   val_cartoon_AUPRC  val_sketch_AUPRC  \\\n",
       "0           0.610690          0.449946   \n",
       "1           0.555250          0.372584   \n",
       "2           0.153641          0.042150   \n",
       "3           0.523108          0.561560   \n",
       "4           0.123020          0.089510   \n",
       "\n",
       "                                           file_name  AUROC_mean  AUPRC_mean  \\\n",
       "0  method=16,backbone=DGAD15,domain_cnt=3,normal_...         0.0         0.0   \n",
       "1  method=16,backbone=DGAD15,domain_cnt=3,normal_...         0.0         0.0   \n",
       "2  method=16,backbone=DGAD15,domain_cnt=3,normal_...         0.0         0.0   \n",
       "3  method=16,backbone=DGAD15,domain_cnt=3,normal_...         0.0         0.0   \n",
       "4  method=16,backbone=DGAD15,domain_cnt=3,normal_...         0.0         0.0   \n",
       "\n",
       "   val_AUROC_mean  val_AUPRC_mean  \n",
       "0        0.895997        0.589956  \n",
       "1        0.887958        0.543241  \n",
       "2        0.614104        0.233721  \n",
       "3        0.882120        0.553793  \n",
       "4        0.749658        0.298193  \n",
       "\n",
       "[5 rows x 28 columns]"
      ]
     },
     "execution_count": 4,
     "metadata": {},
     "output_type": "execute_result"
    }
   ],
   "source": [
    "ans = []\n",
    "# para_name_list=[\"normal_class\", \"anomaly_class\", \"pre_lr\", \"pre_epochs\", \"lr\", \"epochs\", \"cnt\"]\n",
    "# para_name_list=[\"normal_class\", \"anomaly_class\", \"lr\", \"epochs\", \"cnt\", \"tau1\", \"tau2\"]\n",
    "para_name_list=[\"normal_class\", \"anomaly_class\", \"lr\", \"epochs\", \"cnt\",]\n",
    "# para_name_list=[\"normal_class\", \"anomaly_class\", \"lr\", \"epochs\", \"cnt\", \"reg_lambda\", \"BalancedBatchSampler\"]\n",
    "if dir_path.__contains__(\"method16_lambda\"):\n",
    "    para_name_list=[\"normal_class\", \"anomaly_class\", \"cnt\", \"reg_lambda\", \"NCE_lambda\", \"PL_lambda\", \"class_lambda\"]\n",
    "if dir_path.__contains__(\"contamination\"):\n",
    "    para_name_list=[\"contamination_rate\", \"normal_class\", \"anomaly_class\", \"lr\", \"epochs\", \"cnt\",]\n",
    "# para_name_list=[\"normal_class\", \"anomaly_class\", \"lr\", \"epochs\", \"cnt\", \"rec_lambda\",]\n",
    "# para_name_list=[\"normal_class\", \"anomaly_class\", \"lr\", \"epochs\", \"cnt\",\"reg_lambda\"]\n",
    "# para_name_list=[\"normal_class\", \"anomaly_class\", \"lr\", \"epochs\", \"cnt\", \"tau1\", \"tau2\", \"reg_lambda\", \"NCE_lambda\", \"PL_lambda\"]\n",
    "# para_name_list=[\"normal_class\", \"anomaly_class\", \"lr\", \"epochs\", \"cnt\", \"origin_svdd_lambda\", \"class_svdd_lambda\", \"align_lambda\", \"beta\"]\n",
    "print(len(os.listdir(dir_path)))\n",
    "for file_name in os.listdir(dir_path):\n",
    "    record = []\n",
    "    data = np.load(f'{dir_path}/{file_name}', allow_pickle=True)\n",
    "    max_epoch = data[\"val_max_metric\"].item()[\"epoch\"]\n",
    "    # max_epoch = [i for i, val in enumerate(data[f\"val_{metric}_list\"]) if (val == max(data[f\"val_{metric}_list\"]))][-1]\n",
    "    \n",
    "    for key in para_name_list:\n",
    "        if key in data[\"args\"].item():\n",
    "            record.append(data[\"args\"].item()[key])\n",
    "        else:\n",
    "            record.append(None)\n",
    "    \n",
    "    record.append(max_epoch)\n",
    "\n",
    "    if \"metric\" in data[\"val_max_metric\"].item():\n",
    "        for key in domain_list:\n",
    "            record.append(0)\n",
    "        for key in domain_list:\n",
    "            record.append(0)\n",
    "        for key in domain_list:\n",
    "            record.append(data[\"val_max_metric\"].item()[\"metric\"][key][\"AUROC\"])\n",
    "        for key in domain_list:\n",
    "            record.append(data[\"val_max_metric\"].item()[\"metric\"][key][\"AUPRC\"])\n",
    "    else:\n",
    "        for key in domain_list:\n",
    "            record.append(data[\"test_metric\"].item()[key][\"AUROC\"])\n",
    "        for key in domain_list:\n",
    "            record.append(data[\"test_metric\"].item()[key][\"AUPRC\"])\n",
    "        for key in domain_list:\n",
    "            record.append(data[\"test_results_list\"][max_epoch][key][\"AUROC\"])\n",
    "        for key in domain_list:\n",
    "            record.append(data[\"test_results_list\"][max_epoch][key][\"AUPRC\"])\n",
    "\n",
    "    record.append(file_name)\n",
    "    ans.append(record)\n",
    "\n",
    "ans = pd.DataFrame(ans,columns=para_name_list + [\"max_val_epoch\"] +\\\n",
    "             [f'{item}_AUROC' for item in domain_list] + \\\n",
    "                [f'{item}_AUPRC' for item in domain_list] +\\\n",
    "                    [f'val_{item}_AUROC' for item in domain_list] +\\\n",
    "                        [f'val_{item}_AUPRC' for item in domain_list] + [\"file_name\"])\n",
    "\n",
    "ans[\"normal_class\"] = ans[\"normal_class\"].astype(str)\n",
    "ans[\"anomaly_class\"] = ans[\"anomaly_class\"].astype(str)\n",
    "ans[\"AUROC_mean\"] = ans[[\"art_painting_AUROC\",\"cartoon_AUROC\",\"photo_AUROC\",\"sketch_AUROC\"]].mean(axis = 1)\n",
    "ans[\"AUPRC_mean\"] = ans[[\"art_painting_AUPRC\",\"cartoon_AUPRC\",\"photo_AUPRC\",\"sketch_AUPRC\"]].mean(axis = 1)\n",
    "ans[\"val_AUROC_mean\"] = ans[[\"val_art_painting_AUROC\",\"val_cartoon_AUROC\",\"val_photo_AUROC\",\"val_sketch_AUROC\"]].mean(axis = 1)\n",
    "ans[\"val_AUPRC_mean\"] = ans[[\"val_art_painting_AUPRC\",\"val_cartoon_AUPRC\",\"val_photo_AUPRC\",\"val_sketch_AUPRC\"]].mean(axis = 1)\n",
    "ans[\"normal_class\"] = ans[\"normal_class\"].apply(lambda x :re.sub(\"\\[|\\]|,\", \"\", x))\n",
    "ans[\"anomaly_class\"] = ans[\"anomaly_class\"].apply(lambda x :re.sub(\"\\[|\\]|,\", \"\", x))\n",
    "ans.head(5)"
   ]
  },
  {
   "cell_type": "code",
   "execution_count": 5,
   "metadata": {},
   "outputs": [],
   "source": [
    "# ans = ans[ans[\"epochs\"] != 2]\n",
    "# if dir_path.__contains__(\"devnet\"):\n",
    "#     ans = ans[ans[\"lr\"] != 0.00005]\n",
    "# ans = ans[ans[\"cnt\"] == 10]\n",
    "# ans = ans[ans[\"BalancedBatchSampler\"]==0]"
   ]
  },
  {
   "cell_type": "code",
   "execution_count": 6,
   "metadata": {},
   "outputs": [
    {
     "data": {
      "text/plain": [
       "0    172\n",
       "Name: normal_class, dtype: int64"
      ]
     },
     "execution_count": 6,
     "metadata": {},
     "output_type": "execute_result"
    }
   ],
   "source": [
    "ans[\"normal_class\"].value_counts()"
   ]
  },
  {
   "cell_type": "code",
   "execution_count": 7,
   "metadata": {},
   "outputs": [
    {
     "data": {
      "text/plain": [
       "0    76\n",
       "1    72\n",
       "2    24\n",
       "Name: cnt, dtype: int64"
      ]
     },
     "execution_count": 7,
     "metadata": {},
     "output_type": "execute_result"
    }
   ],
   "source": [
    "ans.cnt.value_counts()"
   ]
  },
  {
   "cell_type": "code",
   "execution_count": 8,
   "metadata": {},
   "outputs": [],
   "source": [
    "# pre_epochs_list = [10, 30, 50, 100]\n",
    "# pre_lr_list = [0.01, 0.001, 0.0001]\n",
    "# epochs_list = [10, 20, 30]\n",
    "# lr_list = [0.00001, 0.0001, 0.001]\n",
    "# cnt = [0, 1]\n",
    "# all_para_list = list(itertools.product(cnt, pre_epochs_list, pre_lr_list, epochs_list, lr_list))\n",
    "# remain_para = set(all_para_list) - set([tuple(item) for item in ans[[\"cnt\", \"pre_epochs\", \"pre_lr\", \"epochs\", \"lr\"]].values])\n",
    "# remain_para = pd.DataFrame(sorted(remain_para), columns=[\"cnt\", \"pre_epochs\", \"pre_lr\", \"epochs\", \"lr\"])\n",
    "# print(f\"./{dir_path.split('/')[-1]}_remain_para.csv\")\n",
    "# # remain_para.to_csv(f\"./{dir_path.split('/')[-1]}_remain_para.csv\",index=None, header=None)\n",
    "# remain_para"
   ]
  },
  {
   "cell_type": "code",
   "execution_count": 9,
   "metadata": {},
   "outputs": [],
   "source": [
    "# remain_para = set(all_para_list) - set([tuple(item) for item in ans[(ans[\"epochs\"]==30) & (ans[\"lr\"]==0.00005) & (ans[\"cnt\"] == 0)][[\"reg_lambda\", \"NCE_lambda\", \"PL_lambda\", \"cnt\"]].values])\n",
    "# remain_para = pd.DataFrame(remain_para, columns=[\"reg_lambda\", \"NCE_lambda\", \"PL_lambda\", \"cnt\"])\n",
    "# print(f\"./{dir_path.split('/')[-1]}_remain_para.csv\")\n",
    "# remain_para.to_csv(f\"./{dir_path.split('/')[-1]}_remain_para.csv\",index=None, header=None)\n",
    "# # remain_para\n",
    "# len(remain_para)"
   ]
  },
  {
   "cell_type": "code",
   "execution_count": 10,
   "metadata": {},
   "outputs": [],
   "source": [
    "# remain_para = set(all_para_list) - set([tuple(item) for item in ans[[\"normal_class\", \"epochs\", \"lr\", \"cnt\"]].values])\n",
    "# remain_para = pd.DataFrame(remain_para, columns=[\"normal_class\", \"epochs\", \"lr\", \"cnt\"])\n",
    "# remain_para.insert(1,\"anomaly_class\", remain_para.apply(lambda x: re.sub(\"\\{|,|\\}\",\"\", str(set([0,1,2,3,4,5,6]) - set(map(int, x[\"normal_class\"].split(\" \"))))), axis=1))\n",
    "# print(f\"./{dir_path.split('/')[-1]}_remain_para.csv\")\n",
    "# remain_para.to_csv(f\"./{dir_path.split('/')[-1]}_remain_para.csv\",index=None, header=None)\n",
    "# remain_para"
   ]
  },
  {
   "cell_type": "code",
   "execution_count": 11,
   "metadata": {},
   "outputs": [
    {
     "data": {
      "text/plain": [
       "['photo_AUROC',\n",
       " 'art_painting_AUROC',\n",
       " 'cartoon_AUROC',\n",
       " 'sketch_AUROC',\n",
       " 'val_photo_AUROC',\n",
       " 'val_art_painting_AUROC',\n",
       " 'val_cartoon_AUROC',\n",
       " 'val_sketch_AUROC',\n",
       " 'AUROC_mean',\n",
       " 'photo_AUPRC',\n",
       " 'art_painting_AUPRC',\n",
       " 'cartoon_AUPRC',\n",
       " 'sketch_AUPRC',\n",
       " 'AUPRC_mean']"
      ]
     },
     "execution_count": 11,
     "metadata": {},
     "output_type": "execute_result"
    }
   ],
   "source": [
    "if metric == \"AUPRC\":\n",
    "    columns_to_drop = ans.filter(like='AUROC').columns.to_list()\n",
    "    columns_to_drop.remove(\"val_AUROC_mean\")\n",
    "else:\n",
    "    columns_to_drop = ans.filter(like='AUPRC').columns.to_list()\n",
    "    columns_to_drop.remove(\"val_AUPRC_mean\")\n",
    "columns_to_drop = columns_to_drop + [f\"photo_{metric}\",f\"art_painting_{metric}\",f\"cartoon_{metric}\",f\"sketch_{metric}\",f\"{metric}_mean\"]\n",
    "ans = ans.drop(columns=columns_to_drop) \n",
    "columns_to_drop"
   ]
  },
  {
   "cell_type": "code",
   "execution_count": 12,
   "metadata": {},
   "outputs": [],
   "source": [
    "# agg_method = {\"cnt\":[\"count\"],\n",
    "#               \"max_val_epoch\":[\"mean\", \"std\"],\n",
    "#               f\"val_photo_{metric}\":[\"mean\", \"std\"],\n",
    "#               f\"val_art_painting_{metric}\":[\"mean\", \"std\"],\n",
    "#               f\"val_cartoon_{metric}\":[\"mean\", \"std\"],\n",
    "#               f\"val_sketch_{metric}\":[\"mean\", \"std\"],\n",
    "#               f\"val_{metric}_mean\":[\"mean\", \"std\"],\n",
    "#               f\"val_AUROC_mean\":[\"mean\", \"std\"],\n",
    "#               f\"val_AUPRC_mean\":[\"mean\", \"std\"],\n",
    "#               }\n",
    "\n",
    "# pd.set_option(\"display.max_columns\",None)\n",
    "# pd.set_option(\"display.max_rows\",None)\n",
    "\n",
    "# for normal_class in [\"0\", \"1\", \"2\", \"3\", \"4\", \"5\", \"6\"]:\n",
    "#     selected_records = ans[ans[\"normal_class\"] == normal_class].drop([\"normal_class\", \"anomaly_class\"],axis=1)\n",
    "#     # group_key = [\"pre_lr\", \"pre_epochs\", \"lr\", \"epochs\"]\n",
    "#     group_key = list(set(para_name_list) - set([\"normal_class\", \"anomaly_class\", \"cnt\"]))\n",
    "#     group_key.sort()\n",
    "#     # print(group_key)\n",
    "#     selected_records_anslysis = selected_records.groupby(group_key).agg(agg_method).sort_values(by=(f\"val_{metric}_mean\", \"mean\"), ascending=False)\n",
    "#     selected_para = selected_records_anslysis.index[0]\n",
    "#     # print(selected_para)\n",
    "#     selected_records_anslysis\n",
    "\n",
    "#     filter = None\n",
    "#     for idx, item in enumerate(group_key):\n",
    "#         if filter is None:\n",
    "#             filter = selected_records[item] == selected_para[idx]\n",
    "#         else:\n",
    "#             filter = filter & (selected_records[item] == selected_para[idx])\n",
    "#     temp = selected_records[filter].agg([\"mean\", \"std\"]).T\n",
    "#     temp[\"res\"] = temp.apply(lambda x: f'{round(x[\"mean\"] *100, 2)}({round(x[\"std\"] *100, 2)})', axis=1)\n",
    "#     for key in [f'val_{item}_{metric}' for item in domain_list]:\n",
    "#         print(temp.loc[key][\"res\"])\n",
    "#     print(f'{round(selected_records_anslysis.loc[selected_para][f\"val_{metric}_mean\"][\"mean\"] * 100, 2)}({round(selected_records_anslysis.loc[selected_para][f\"val_{metric}_mean\"][\"std\"] * 100, 2)})')\n",
    "#     selected_records[filter]"
   ]
  },
  {
   "cell_type": "code",
   "execution_count": 13,
   "metadata": {},
   "outputs": [
    {
     "name": "stdout",
     "output_type": "stream",
     "text": [
      "95.34(0.7)\n",
      "44.95(6.55)\n",
      "83.07(4.03)\n",
      "47.37(0.63)\n",
      "67.68(2.66)\n",
      "95.78(7.31)\n",
      "39.88(4.79)\n",
      "72.18(3.52)\n",
      "42.51(12.01)\n",
      "62.59(2.93)\n",
      "90.97(5.16)\n",
      "49.56(2.97)\n",
      "70.1(2.57)\n",
      "55.22(4.54)\n",
      "66.46(2.35)\n",
      "95.75(6.0)\n",
      "46.81(6.14)\n",
      "82.21(5.8)\n",
      "44.72(7.06)\n",
      "67.37(0.18)\n",
      "97.42(3.65)\n",
      "36.27(1.73)\n",
      "79.13(7.67)\n",
      "38.08(7.51)\n",
      "62.73(4.27)\n",
      "88.49(8.98)\n",
      "48.24(4.17)\n",
      "74.49(3.01)\n",
      "32.8(10.33)\n",
      "61.01(1.46)\n"
     ]
    },
    {
     "name": "stderr",
     "output_type": "stream",
     "text": [
      "/tmp/ipykernel_75400/4265299006.py:32: FutureWarning: ['file_name'] did not aggregate successfully. If any error is raised this will raise in a future version of pandas. Drop these columns/ops to avoid this warning.\n",
      "  temp = selected_records[filter].agg([\"mean\", \"std\"]).T\n",
      "/tmp/ipykernel_75400/4265299006.py:32: FutureWarning: ['file_name'] did not aggregate successfully. If any error is raised this will raise in a future version of pandas. Drop these columns/ops to avoid this warning.\n",
      "  temp = selected_records[filter].agg([\"mean\", \"std\"]).T\n",
      "/tmp/ipykernel_75400/4265299006.py:32: FutureWarning: ['file_name'] did not aggregate successfully. If any error is raised this will raise in a future version of pandas. Drop these columns/ops to avoid this warning.\n",
      "  temp = selected_records[filter].agg([\"mean\", \"std\"]).T\n",
      "/tmp/ipykernel_75400/4265299006.py:32: FutureWarning: ['file_name'] did not aggregate successfully. If any error is raised this will raise in a future version of pandas. Drop these columns/ops to avoid this warning.\n",
      "  temp = selected_records[filter].agg([\"mean\", \"std\"]).T\n",
      "/tmp/ipykernel_75400/4265299006.py:32: FutureWarning: ['file_name'] did not aggregate successfully. If any error is raised this will raise in a future version of pandas. Drop these columns/ops to avoid this warning.\n",
      "  temp = selected_records[filter].agg([\"mean\", \"std\"]).T\n",
      "/tmp/ipykernel_75400/4265299006.py:32: FutureWarning: ['file_name'] did not aggregate successfully. If any error is raised this will raise in a future version of pandas. Drop these columns/ops to avoid this warning.\n",
      "  temp = selected_records[filter].agg([\"mean\", \"std\"]).T\n"
     ]
    }
   ],
   "source": [
    "agg_method = {\"cnt\":[\"count\"],\n",
    "              \"max_val_epoch\":[\"mean\", \"std\"],\n",
    "              f\"val_photo_{metric}\":[\"mean\", \"std\"],\n",
    "              f\"val_art_painting_{metric}\":[\"mean\", \"std\"],\n",
    "              f\"val_cartoon_{metric}\":[\"mean\", \"std\"],\n",
    "              f\"val_sketch_{metric}\":[\"mean\", \"std\"],\n",
    "              f\"val_{metric}_mean\":[\"mean\", \"std\"],\n",
    "              f\"val_AUROC_mean\":[\"mean\", \"std\"],\n",
    "              f\"val_AUPRC_mean\":[\"mean\", \"std\"],\n",
    "              }\n",
    "\n",
    "pd.set_option(\"display.max_columns\",None)\n",
    "pd.set_option(\"display.max_rows\",None)\n",
    "\n",
    "for contamination_rate in [0.02, 0.04, 0.06, 0.08, 0.1, 0.12]:\n",
    "    selected_records = ans[ans[\"contamination_rate\"] == contamination_rate].drop([\"normal_class\", \"anomaly_class\"],axis=1)\n",
    "    # group_key = [\"pre_lr\", \"pre_epochs\", \"lr\", \"epochs\"]\n",
    "    group_key = list(set(para_name_list) - set([\"normal_class\", \"anomaly_class\", \"cnt\"]))\n",
    "    group_key.sort()\n",
    "    # print(group_key)\n",
    "    selected_records_anslysis = selected_records.groupby(group_key).agg(agg_method).sort_values(by=(f\"val_{metric}_mean\", \"mean\"), ascending=False)\n",
    "    selected_para = selected_records_anslysis.index[0]\n",
    "    # print(selected_para)\n",
    "    selected_records_anslysis\n",
    "\n",
    "    filter = None\n",
    "    for idx, item in enumerate(group_key):\n",
    "        if filter is None:\n",
    "            filter = selected_records[item] == selected_para[idx]\n",
    "        else:\n",
    "            filter = filter & (selected_records[item] == selected_para[idx])\n",
    "    temp = selected_records[filter].agg([\"mean\", \"std\"]).T\n",
    "    temp[\"res\"] = temp.apply(lambda x: f'{round(x[\"mean\"] *100, 2)}({round(x[\"std\"] *100, 2)})', axis=1)\n",
    "    for key in [f'val_{item}_{metric}' for item in domain_list]:\n",
    "        print(temp.loc[key][\"res\"])\n",
    "    print(f'{round(selected_records_anslysis.loc[selected_para][f\"val_{metric}_mean\"][\"mean\"] * 100, 2)}({round(selected_records_anslysis.loc[selected_para][f\"val_{metric}_mean\"][\"std\"] * 100, 2)})')\n",
    "    selected_records[filter]"
   ]
  },
  {
   "cell_type": "code",
   "execution_count": 14,
   "metadata": {},
   "outputs": [],
   "source": [
    "# remain_para = []\n",
    "# for item in selected_records_anslysis.index[:10]:\n",
    "#     remain_para.append(list(item))\n",
    "# remain_para = pd.DataFrame(remain_para)\n",
    "# remain_para.to_csv(f\"./{dir_path.split('/')[-1]}_remain_para.csv\",index=None, header=None)"
   ]
  },
  {
   "cell_type": "code",
   "execution_count": 15,
   "metadata": {},
   "outputs": [],
   "source": [
    "# remain_para = []\n",
    "# for item in selected_records_anslysis.index[:10]:\n",
    "#     remain_para.append([\"0\",\"1 2 3 4 5 6\",item[1],item[0],2])\n",
    "#     remain_para.append([\"0\",\"1 2 3 4 5 6\",item[1],item[0],3])\n",
    "#     remain_para.append([\"0\",\"1 2 3 4 5 6\",item[1],item[0],4])\n",
    "    \n",
    "# remain_para = pd.DataFrame(remain_para,columns=[\"normal_class\", \"anomaly_class\", \"epochs\", \"lr\", \"cnt\"])\n",
    "# # remain_para.to_csv(f\"./{dir_path.split('/')[-1]}_remain_para.csv\",index=None, header=None)\n",
    "# remain_para"
   ]
  },
  {
   "cell_type": "code",
   "execution_count": 59,
   "metadata": {},
   "outputs": [
    {
     "name": "stdout",
     "output_type": "stream",
     "text": [
      "['contamination_rate', 'epochs', 'lr']\n",
      "(0.08, 30, 0.0001)\n"
     ]
    },
    {
     "data": {
      "text/html": [
       "<div>\n",
       "<style scoped>\n",
       "    .dataframe tbody tr th:only-of-type {\n",
       "        vertical-align: middle;\n",
       "    }\n",
       "\n",
       "    .dataframe tbody tr th {\n",
       "        vertical-align: top;\n",
       "    }\n",
       "\n",
       "    .dataframe thead tr th {\n",
       "        text-align: left;\n",
       "    }\n",
       "\n",
       "    .dataframe thead tr:last-of-type th {\n",
       "        text-align: right;\n",
       "    }\n",
       "</style>\n",
       "<table border=\"1\" class=\"dataframe\">\n",
       "  <thead>\n",
       "    <tr>\n",
       "      <th></th>\n",
       "      <th></th>\n",
       "      <th></th>\n",
       "      <th>cnt</th>\n",
       "      <th colspan=\"2\" halign=\"left\">max_val_epoch</th>\n",
       "      <th colspan=\"2\" halign=\"left\">val_photo_AUPRC</th>\n",
       "      <th colspan=\"2\" halign=\"left\">val_art_painting_AUPRC</th>\n",
       "      <th colspan=\"2\" halign=\"left\">val_cartoon_AUPRC</th>\n",
       "      <th colspan=\"2\" halign=\"left\">val_sketch_AUPRC</th>\n",
       "      <th colspan=\"2\" halign=\"left\">val_AUPRC_mean</th>\n",
       "      <th colspan=\"2\" halign=\"left\">val_AUROC_mean</th>\n",
       "    </tr>\n",
       "    <tr>\n",
       "      <th></th>\n",
       "      <th></th>\n",
       "      <th></th>\n",
       "      <th>count</th>\n",
       "      <th>mean</th>\n",
       "      <th>std</th>\n",
       "      <th>mean</th>\n",
       "      <th>std</th>\n",
       "      <th>mean</th>\n",
       "      <th>std</th>\n",
       "      <th>mean</th>\n",
       "      <th>std</th>\n",
       "      <th>mean</th>\n",
       "      <th>std</th>\n",
       "      <th>mean</th>\n",
       "      <th>std</th>\n",
       "      <th>mean</th>\n",
       "      <th>std</th>\n",
       "    </tr>\n",
       "    <tr>\n",
       "      <th>contamination_rate</th>\n",
       "      <th>epochs</th>\n",
       "      <th>lr</th>\n",
       "      <th></th>\n",
       "      <th></th>\n",
       "      <th></th>\n",
       "      <th></th>\n",
       "      <th></th>\n",
       "      <th></th>\n",
       "      <th></th>\n",
       "      <th></th>\n",
       "      <th></th>\n",
       "      <th></th>\n",
       "      <th></th>\n",
       "      <th></th>\n",
       "      <th></th>\n",
       "      <th></th>\n",
       "      <th></th>\n",
       "    </tr>\n",
       "  </thead>\n",
       "  <tbody>\n",
       "    <tr>\n",
       "      <th rowspan=\"12\" valign=\"top\">0.08</th>\n",
       "      <th>30</th>\n",
       "      <th>0.00010</th>\n",
       "      <td>2</td>\n",
       "      <td>0.0</td>\n",
       "      <td>0.000000</td>\n",
       "      <td>0.957540</td>\n",
       "      <td>0.060048</td>\n",
       "      <td>0.468052</td>\n",
       "      <td>0.061392</td>\n",
       "      <td>0.822089</td>\n",
       "      <td>0.058043</td>\n",
       "      <td>0.447186</td>\n",
       "      <td>0.070632</td>\n",
       "      <td>0.673717</td>\n",
       "      <td>0.001809</td>\n",
       "      <td>0.915044</td>\n",
       "      <td>0.005151</td>\n",
       "    </tr>\n",
       "    <tr>\n",
       "      <th>20</th>\n",
       "      <th>0.00010</th>\n",
       "      <td>2</td>\n",
       "      <td>0.0</td>\n",
       "      <td>0.000000</td>\n",
       "      <td>0.910913</td>\n",
       "      <td>0.125988</td>\n",
       "      <td>0.457652</td>\n",
       "      <td>0.001005</td>\n",
       "      <td>0.695973</td>\n",
       "      <td>0.031531</td>\n",
       "      <td>0.559592</td>\n",
       "      <td>0.077770</td>\n",
       "      <td>0.656032</td>\n",
       "      <td>0.058571</td>\n",
       "      <td>0.904154</td>\n",
       "      <td>0.011625</td>\n",
       "    </tr>\n",
       "    <tr>\n",
       "      <th>40</th>\n",
       "      <th>0.00010</th>\n",
       "      <td>2</td>\n",
       "      <td>0.0</td>\n",
       "      <td>0.000000</td>\n",
       "      <td>0.901984</td>\n",
       "      <td>0.065660</td>\n",
       "      <td>0.438372</td>\n",
       "      <td>0.034849</td>\n",
       "      <td>0.709318</td>\n",
       "      <td>0.015423</td>\n",
       "      <td>0.457937</td>\n",
       "      <td>0.118412</td>\n",
       "      <td>0.626903</td>\n",
       "      <td>0.025756</td>\n",
       "      <td>0.914489</td>\n",
       "      <td>0.003817</td>\n",
       "    </tr>\n",
       "    <tr>\n",
       "      <th>30</th>\n",
       "      <th>0.00005</th>\n",
       "      <td>2</td>\n",
       "      <td>1.0</td>\n",
       "      <td>0.000000</td>\n",
       "      <td>0.875397</td>\n",
       "      <td>0.056120</td>\n",
       "      <td>0.426444</td>\n",
       "      <td>0.095904</td>\n",
       "      <td>0.681721</td>\n",
       "      <td>0.097316</td>\n",
       "      <td>0.454754</td>\n",
       "      <td>0.024977</td>\n",
       "      <td>0.609579</td>\n",
       "      <td>0.020627</td>\n",
       "      <td>0.889079</td>\n",
       "      <td>0.009037</td>\n",
       "    </tr>\n",
       "    <tr>\n",
       "      <th>20</th>\n",
       "      <th>0.00005</th>\n",
       "      <td>2</td>\n",
       "      <td>1.0</td>\n",
       "      <td>0.000000</td>\n",
       "      <td>0.845139</td>\n",
       "      <td>0.054015</td>\n",
       "      <td>0.425850</td>\n",
       "      <td>0.031049</td>\n",
       "      <td>0.627873</td>\n",
       "      <td>0.052513</td>\n",
       "      <td>0.499021</td>\n",
       "      <td>0.052876</td>\n",
       "      <td>0.599471</td>\n",
       "      <td>0.021175</td>\n",
       "      <td>0.882475</td>\n",
       "      <td>0.018483</td>\n",
       "    </tr>\n",
       "    <tr>\n",
       "      <th rowspan=\"2\" valign=\"top\">40</th>\n",
       "      <th>0.00005</th>\n",
       "      <td>2</td>\n",
       "      <td>0.5</td>\n",
       "      <td>0.707107</td>\n",
       "      <td>0.857540</td>\n",
       "      <td>0.081373</td>\n",
       "      <td>0.424519</td>\n",
       "      <td>0.092986</td>\n",
       "      <td>0.670676</td>\n",
       "      <td>0.000524</td>\n",
       "      <td>0.432389</td>\n",
       "      <td>0.081022</td>\n",
       "      <td>0.596281</td>\n",
       "      <td>0.023466</td>\n",
       "      <td>0.888192</td>\n",
       "      <td>0.021375</td>\n",
       "    </tr>\n",
       "    <tr>\n",
       "      <th>0.00001</th>\n",
       "      <td>2</td>\n",
       "      <td>5.0</td>\n",
       "      <td>0.000000</td>\n",
       "      <td>0.683896</td>\n",
       "      <td>0.009494</td>\n",
       "      <td>0.456474</td>\n",
       "      <td>0.064036</td>\n",
       "      <td>0.645162</td>\n",
       "      <td>0.016814</td>\n",
       "      <td>0.419130</td>\n",
       "      <td>0.096886</td>\n",
       "      <td>0.551165</td>\n",
       "      <td>0.001635</td>\n",
       "      <td>0.875059</td>\n",
       "      <td>0.002411</td>\n",
       "    </tr>\n",
       "    <tr>\n",
       "      <th>20</th>\n",
       "      <th>0.00001</th>\n",
       "      <td>2</td>\n",
       "      <td>5.0</td>\n",
       "      <td>0.000000</td>\n",
       "      <td>0.740542</td>\n",
       "      <td>0.004957</td>\n",
       "      <td>0.404523</td>\n",
       "      <td>0.026802</td>\n",
       "      <td>0.541723</td>\n",
       "      <td>0.042843</td>\n",
       "      <td>0.505679</td>\n",
       "      <td>0.010808</td>\n",
       "      <td>0.548117</td>\n",
       "      <td>0.007951</td>\n",
       "      <td>0.872568</td>\n",
       "      <td>0.034594</td>\n",
       "    </tr>\n",
       "    <tr>\n",
       "      <th>30</th>\n",
       "      <th>0.00001</th>\n",
       "      <td>2</td>\n",
       "      <td>5.5</td>\n",
       "      <td>0.707107</td>\n",
       "      <td>0.793173</td>\n",
       "      <td>0.019476</td>\n",
       "      <td>0.453478</td>\n",
       "      <td>0.005413</td>\n",
       "      <td>0.544698</td>\n",
       "      <td>0.025831</td>\n",
       "      <td>0.398835</td>\n",
       "      <td>0.001476</td>\n",
       "      <td>0.547546</td>\n",
       "      <td>0.003311</td>\n",
       "      <td>0.879223</td>\n",
       "      <td>0.003618</td>\n",
       "    </tr>\n",
       "    <tr>\n",
       "      <th>40</th>\n",
       "      <th>0.00050</th>\n",
       "      <td>2</td>\n",
       "      <td>9.0</td>\n",
       "      <td>11.313708</td>\n",
       "      <td>0.524216</td>\n",
       "      <td>0.080265</td>\n",
       "      <td>0.143910</td>\n",
       "      <td>0.020004</td>\n",
       "      <td>0.309850</td>\n",
       "      <td>0.039993</td>\n",
       "      <td>0.096672</td>\n",
       "      <td>0.095493</td>\n",
       "      <td>0.268662</td>\n",
       "      <td>0.038942</td>\n",
       "      <td>0.659066</td>\n",
       "      <td>0.046035</td>\n",
       "    </tr>\n",
       "    <tr>\n",
       "      <th>30</th>\n",
       "      <th>0.00050</th>\n",
       "      <td>2</td>\n",
       "      <td>5.0</td>\n",
       "      <td>5.656854</td>\n",
       "      <td>0.497402</td>\n",
       "      <td>0.039198</td>\n",
       "      <td>0.149444</td>\n",
       "      <td>0.065501</td>\n",
       "      <td>0.294213</td>\n",
       "      <td>0.327364</td>\n",
       "      <td>0.044106</td>\n",
       "      <td>0.004142</td>\n",
       "      <td>0.246291</td>\n",
       "      <td>0.074230</td>\n",
       "      <td>0.598053</td>\n",
       "      <td>0.103023</td>\n",
       "    </tr>\n",
       "    <tr>\n",
       "      <th>20</th>\n",
       "      <th>0.00050</th>\n",
       "      <td>2</td>\n",
       "      <td>5.5</td>\n",
       "      <td>0.707107</td>\n",
       "      <td>0.422973</td>\n",
       "      <td>0.152706</td>\n",
       "      <td>0.412291</td>\n",
       "      <td>0.123741</td>\n",
       "      <td>0.073795</td>\n",
       "      <td>0.022917</td>\n",
       "      <td>0.040131</td>\n",
       "      <td>0.007541</td>\n",
       "      <td>0.237298</td>\n",
       "      <td>0.011085</td>\n",
       "      <td>0.590549</td>\n",
       "      <td>0.091165</td>\n",
       "    </tr>\n",
       "  </tbody>\n",
       "</table>\n",
       "</div>"
      ],
      "text/plain": [
       "                                    cnt max_val_epoch             \\\n",
       "                                  count          mean        std   \n",
       "contamination_rate epochs lr                                       \n",
       "0.08               30     0.00010     2           0.0   0.000000   \n",
       "                   20     0.00010     2           0.0   0.000000   \n",
       "                   40     0.00010     2           0.0   0.000000   \n",
       "                   30     0.00005     2           1.0   0.000000   \n",
       "                   20     0.00005     2           1.0   0.000000   \n",
       "                   40     0.00005     2           0.5   0.707107   \n",
       "                          0.00001     2           5.0   0.000000   \n",
       "                   20     0.00001     2           5.0   0.000000   \n",
       "                   30     0.00001     2           5.5   0.707107   \n",
       "                   40     0.00050     2           9.0  11.313708   \n",
       "                   30     0.00050     2           5.0   5.656854   \n",
       "                   20     0.00050     2           5.5   0.707107   \n",
       "\n",
       "                                  val_photo_AUPRC            \\\n",
       "                                             mean       std   \n",
       "contamination_rate epochs lr                                  \n",
       "0.08               30     0.00010        0.957540  0.060048   \n",
       "                   20     0.00010        0.910913  0.125988   \n",
       "                   40     0.00010        0.901984  0.065660   \n",
       "                   30     0.00005        0.875397  0.056120   \n",
       "                   20     0.00005        0.845139  0.054015   \n",
       "                   40     0.00005        0.857540  0.081373   \n",
       "                          0.00001        0.683896  0.009494   \n",
       "                   20     0.00001        0.740542  0.004957   \n",
       "                   30     0.00001        0.793173  0.019476   \n",
       "                   40     0.00050        0.524216  0.080265   \n",
       "                   30     0.00050        0.497402  0.039198   \n",
       "                   20     0.00050        0.422973  0.152706   \n",
       "\n",
       "                                  val_art_painting_AUPRC            \\\n",
       "                                                    mean       std   \n",
       "contamination_rate epochs lr                                         \n",
       "0.08               30     0.00010               0.468052  0.061392   \n",
       "                   20     0.00010               0.457652  0.001005   \n",
       "                   40     0.00010               0.438372  0.034849   \n",
       "                   30     0.00005               0.426444  0.095904   \n",
       "                   20     0.00005               0.425850  0.031049   \n",
       "                   40     0.00005               0.424519  0.092986   \n",
       "                          0.00001               0.456474  0.064036   \n",
       "                   20     0.00001               0.404523  0.026802   \n",
       "                   30     0.00001               0.453478  0.005413   \n",
       "                   40     0.00050               0.143910  0.020004   \n",
       "                   30     0.00050               0.149444  0.065501   \n",
       "                   20     0.00050               0.412291  0.123741   \n",
       "\n",
       "                                  val_cartoon_AUPRC            \\\n",
       "                                               mean       std   \n",
       "contamination_rate epochs lr                                    \n",
       "0.08               30     0.00010          0.822089  0.058043   \n",
       "                   20     0.00010          0.695973  0.031531   \n",
       "                   40     0.00010          0.709318  0.015423   \n",
       "                   30     0.00005          0.681721  0.097316   \n",
       "                   20     0.00005          0.627873  0.052513   \n",
       "                   40     0.00005          0.670676  0.000524   \n",
       "                          0.00001          0.645162  0.016814   \n",
       "                   20     0.00001          0.541723  0.042843   \n",
       "                   30     0.00001          0.544698  0.025831   \n",
       "                   40     0.00050          0.309850  0.039993   \n",
       "                   30     0.00050          0.294213  0.327364   \n",
       "                   20     0.00050          0.073795  0.022917   \n",
       "\n",
       "                                  val_sketch_AUPRC           val_AUPRC_mean  \\\n",
       "                                              mean       std           mean   \n",
       "contamination_rate epochs lr                                                  \n",
       "0.08               30     0.00010         0.447186  0.070632       0.673717   \n",
       "                   20     0.00010         0.559592  0.077770       0.656032   \n",
       "                   40     0.00010         0.457937  0.118412       0.626903   \n",
       "                   30     0.00005         0.454754  0.024977       0.609579   \n",
       "                   20     0.00005         0.499021  0.052876       0.599471   \n",
       "                   40     0.00005         0.432389  0.081022       0.596281   \n",
       "                          0.00001         0.419130  0.096886       0.551165   \n",
       "                   20     0.00001         0.505679  0.010808       0.548117   \n",
       "                   30     0.00001         0.398835  0.001476       0.547546   \n",
       "                   40     0.00050         0.096672  0.095493       0.268662   \n",
       "                   30     0.00050         0.044106  0.004142       0.246291   \n",
       "                   20     0.00050         0.040131  0.007541       0.237298   \n",
       "\n",
       "                                            val_AUROC_mean            \n",
       "                                        std           mean       std  \n",
       "contamination_rate epochs lr                                          \n",
       "0.08               30     0.00010  0.001809       0.915044  0.005151  \n",
       "                   20     0.00010  0.058571       0.904154  0.011625  \n",
       "                   40     0.00010  0.025756       0.914489  0.003817  \n",
       "                   30     0.00005  0.020627       0.889079  0.009037  \n",
       "                   20     0.00005  0.021175       0.882475  0.018483  \n",
       "                   40     0.00005  0.023466       0.888192  0.021375  \n",
       "                          0.00001  0.001635       0.875059  0.002411  \n",
       "                   20     0.00001  0.007951       0.872568  0.034594  \n",
       "                   30     0.00001  0.003311       0.879223  0.003618  \n",
       "                   40     0.00050  0.038942       0.659066  0.046035  \n",
       "                   30     0.00050  0.074230       0.598053  0.103023  \n",
       "                   20     0.00050  0.011085       0.590549  0.091165  "
      ]
     },
     "execution_count": 59,
     "metadata": {},
     "output_type": "execute_result"
    }
   ],
   "source": [
    "agg_method = {\"cnt\":[\"count\"],\n",
    "              \"max_val_epoch\":[\"mean\", \"std\"],\n",
    "              f\"val_photo_{metric}\":[\"mean\", \"std\"],\n",
    "              f\"val_art_painting_{metric}\":[\"mean\", \"std\"],\n",
    "              f\"val_cartoon_{metric}\":[\"mean\", \"std\"],\n",
    "              f\"val_sketch_{metric}\":[\"mean\", \"std\"],\n",
    "              f\"val_{metric}_mean\":[\"mean\", \"std\"],\n",
    "              f\"val_AUROC_mean\":[\"mean\", \"std\"],\n",
    "              f\"val_AUPRC_mean\":[\"mean\", \"std\"],\n",
    "              }\n",
    "\n",
    "pd.set_option(\"display.max_columns\",None)\n",
    "pd.set_option(\"display.max_rows\",None)\n",
    "if dir_path.__contains__(\"contamination\"):\n",
    "    contamination_rate = 0.08\n",
    "    selected_records = ans[ans[\"contamination_rate\"] == contamination_rate].drop([\"normal_class\", \"anomaly_class\"],axis=1)\n",
    "else:\n",
    "    normal_class = '0'\n",
    "    selected_records = ans[ans[\"normal_class\"] == normal_class].drop([\"normal_class\", \"anomaly_class\"],axis=1)\n",
    "# group_key = [\"pre_lr\", \"pre_epochs\", \"lr\", \"epochs\"]\n",
    "group_key = list(set(para_name_list) - set([\"normal_class\", \"anomaly_class\", \"cnt\"]))\n",
    "group_key.sort()\n",
    "print(group_key)\n",
    "selected_records_anslysis = selected_records.groupby(group_key).agg(agg_method).sort_values(by=(f\"val_{metric}_mean\", \"mean\"), ascending=False)\n",
    "selected_para = selected_records_anslysis.index[0]\n",
    "print(selected_para)\n",
    "selected_records_anslysis"
   ]
  },
  {
   "cell_type": "code",
   "execution_count": 37,
   "metadata": {},
   "outputs": [],
   "source": [
    "# tmp = pd.DataFrame([[\"0\",\"1\",\"1\",\"1\"],\n",
    "# [\"1\",\"1\",\"1\",\"0\"],\n",
    "# [\"1\",\"1\",\"0\",\"1\"],\n",
    "# [\"0\",\"1\",\"1\",\"0\"],\n",
    "# [\"0\",\"1\",\"0\",\"1\"],\n",
    "# [\"1\",\"1\",\"0\",\"0\"],\n",
    "# [\"1\",\"0\",\"0\",\"1\"],\n",
    "# [\"1\",\"0\",\"0\",\"0\"],\n",
    "# [\"0\",\"0\",\"0\",\"1\"],\n",
    "# [\"0\",\"0\",\"0\",\"0\"],], columns = [\"NCE_lambda\",\"PL_lambda\",\"class_lambda\",\"reg_lambda\"], dtype=float)\n",
    "\n",
    "# for item in list(map(tuple,tmp.to_numpy())):\n",
    "#     record = selected_records_anslysis.loc[item]\n",
    "#     for key in [f'val_{item}_{metric}' for item in domain_list]:\n",
    "#         print(f'{round(record.loc[key][\"mean\"] * 100, 2)}({round(record.loc[key][\"std\"] * 100, 2)})', end='\\t')\n",
    "#     print(f'{round(record[f\"val_{metric}_mean\"][\"mean\"] * 100, 2)}({round(record[f\"val_{metric}_mean\"][\"std\"] * 100, 2)})', end='\\t')\n",
    "#     print()"
   ]
  },
  {
   "cell_type": "code",
   "execution_count": 38,
   "metadata": {},
   "outputs": [
    {
     "name": "stdout",
     "output_type": "stream",
     "text": [
      "90.97(5.16)\n",
      "49.56(2.97)\n",
      "70.1(2.57)\n",
      "55.22(4.54)\n",
      "66.46(2.35)\n"
     ]
    },
    {
     "name": "stderr",
     "output_type": "stream",
     "text": [
      "/tmp/ipykernel_75400/1079342940.py:7: FutureWarning: ['file_name'] did not aggregate successfully. If any error is raised this will raise in a future version of pandas. Drop these columns/ops to avoid this warning.\n",
      "  temp = selected_records[filter].agg([\"mean\", \"std\"]).T\n"
     ]
    },
    {
     "data": {
      "text/html": [
       "<div>\n",
       "<style scoped>\n",
       "    .dataframe tbody tr th:only-of-type {\n",
       "        vertical-align: middle;\n",
       "    }\n",
       "\n",
       "    .dataframe tbody tr th {\n",
       "        vertical-align: top;\n",
       "    }\n",
       "\n",
       "    .dataframe thead th {\n",
       "        text-align: right;\n",
       "    }\n",
       "</style>\n",
       "<table border=\"1\" class=\"dataframe\">\n",
       "  <thead>\n",
       "    <tr style=\"text-align: right;\">\n",
       "      <th></th>\n",
       "      <th>contamination_rate</th>\n",
       "      <th>lr</th>\n",
       "      <th>epochs</th>\n",
       "      <th>cnt</th>\n",
       "      <th>max_val_epoch</th>\n",
       "      <th>val_photo_AUPRC</th>\n",
       "      <th>val_art_painting_AUPRC</th>\n",
       "      <th>val_cartoon_AUPRC</th>\n",
       "      <th>val_sketch_AUPRC</th>\n",
       "      <th>file_name</th>\n",
       "      <th>val_AUROC_mean</th>\n",
       "      <th>val_AUPRC_mean</th>\n",
       "    </tr>\n",
       "  </thead>\n",
       "  <tbody>\n",
       "    <tr>\n",
       "      <th>25</th>\n",
       "      <td>0.06</td>\n",
       "      <td>0.00005</td>\n",
       "      <td>40</td>\n",
       "      <td>1</td>\n",
       "      <td>1</td>\n",
       "      <td>0.855556</td>\n",
       "      <td>0.529218</td>\n",
       "      <td>0.683664</td>\n",
       "      <td>0.566365</td>\n",
       "      <td>method=16,backbone=DGAD15,domain_cnt=3,normal_...</td>\n",
       "      <td>0.901819</td>\n",
       "      <td>0.658701</td>\n",
       "    </tr>\n",
       "    <tr>\n",
       "      <th>40</th>\n",
       "      <td>0.06</td>\n",
       "      <td>0.00005</td>\n",
       "      <td>40</td>\n",
       "      <td>0</td>\n",
       "      <td>1</td>\n",
       "      <td>0.958333</td>\n",
       "      <td>0.484380</td>\n",
       "      <td>0.730556</td>\n",
       "      <td>0.588919</td>\n",
       "      <td>method=16,backbone=DGAD15,domain_cnt=3,normal_...</td>\n",
       "      <td>0.930222</td>\n",
       "      <td>0.690547</td>\n",
       "    </tr>\n",
       "    <tr>\n",
       "      <th>91</th>\n",
       "      <td>0.06</td>\n",
       "      <td>0.00005</td>\n",
       "      <td>40</td>\n",
       "      <td>2</td>\n",
       "      <td>1</td>\n",
       "      <td>0.915079</td>\n",
       "      <td>0.473108</td>\n",
       "      <td>0.688889</td>\n",
       "      <td>0.501431</td>\n",
       "      <td>method=16,backbone=DGAD15,domain_cnt=3,normal_...</td>\n",
       "      <td>0.894021</td>\n",
       "      <td>0.644627</td>\n",
       "    </tr>\n",
       "  </tbody>\n",
       "</table>\n",
       "</div>"
      ],
      "text/plain": [
       "    contamination_rate       lr  epochs  cnt  max_val_epoch  val_photo_AUPRC  \\\n",
       "25                0.06  0.00005      40    1              1         0.855556   \n",
       "40                0.06  0.00005      40    0              1         0.958333   \n",
       "91                0.06  0.00005      40    2              1         0.915079   \n",
       "\n",
       "    val_art_painting_AUPRC  val_cartoon_AUPRC  val_sketch_AUPRC  \\\n",
       "25                0.529218           0.683664          0.566365   \n",
       "40                0.484380           0.730556          0.588919   \n",
       "91                0.473108           0.688889          0.501431   \n",
       "\n",
       "                                            file_name  val_AUROC_mean  \\\n",
       "25  method=16,backbone=DGAD15,domain_cnt=3,normal_...        0.901819   \n",
       "40  method=16,backbone=DGAD15,domain_cnt=3,normal_...        0.930222   \n",
       "91  method=16,backbone=DGAD15,domain_cnt=3,normal_...        0.894021   \n",
       "\n",
       "    val_AUPRC_mean  \n",
       "25        0.658701  \n",
       "40        0.690547  \n",
       "91        0.644627  "
      ]
     },
     "execution_count": 38,
     "metadata": {},
     "output_type": "execute_result"
    }
   ],
   "source": [
    "filter = None\n",
    "for idx, item in enumerate(group_key):\n",
    "    if filter is None:\n",
    "        filter = selected_records[item] == selected_para[idx]\n",
    "    else:\n",
    "        filter = filter & (selected_records[item] == selected_para[idx])\n",
    "temp = selected_records[filter].agg([\"mean\", \"std\"]).T\n",
    "temp[\"res\"] = temp.apply(lambda x: f'{round(x[\"mean\"] *100, 2)}({round(x[\"std\"] *100, 2)})', axis=1)\n",
    "for key in [f'val_{item}_{metric}' for item in domain_list]:\n",
    "    print(temp.loc[key][\"res\"])\n",
    "print(f'{round(selected_records_anslysis.loc[selected_para][f\"val_{metric}_mean\"][\"mean\"] * 100, 2)}({round(selected_records_anslysis.loc[selected_para][f\"val_{metric}_mean\"][\"std\"] * 100, 2)})')\n",
    "selected_records[filter]"
   ]
  },
  {
   "cell_type": "code",
   "execution_count": 39,
   "metadata": {},
   "outputs": [
    {
     "data": {
      "text/plain": [
       "NpzFile '../results/DGAD/method16_contamination/method=16,backbone=DGAD15,domain_cnt=3,normal_class=[0],anomaly_class=[1, 2, 3, 4, 5, 6],batch_size=30,steps_per_epoch=20,epochs=40,lr=5e-05,contamination=0.06,reg_lambda=1.0,NCE_lambda=1.0,PL_lambda=1.0,class_lambda=1.0,cnt=1.npz' with keys: val_max_metric, train_results_loss, sub_train_results_loss, val_results_loss, val_AUROC_list..."
      ]
     },
     "execution_count": 39,
     "metadata": {},
     "output_type": "execute_result"
    }
   ],
   "source": [
    "file_name = selected_records[filter].file_name.iloc[0]\n",
    "data = np.load(f'{dir_path}/{file_name}', allow_pickle=True)\n",
    "data"
   ]
  },
  {
   "cell_type": "code",
   "execution_count": 40,
   "metadata": {},
   "outputs": [],
   "source": [
    "\n",
    "# # data = np.load(f'{dir_path}/{file_name}', allow_pickle=True)\n",
    "# file_name = 'results/DGAD/VAE_LPIPS/method=VAE_LPIPS,backbone=VAE,domain_cnt=3,normal_class=[0],anomaly_class=[1, 2, 3, 4, 5, 6],batch_size=30,steps_per_epoch=20,epochs=250,lr=0.0001,tau1=0.07,tau2=0.07,reg_lambda=1.0,NCE_lambda=1.0,PL_lambda=1.0,BalancedBatchSampler=1,cnt=2.npz'\n",
    "# data = np.load(f'../{file_name}', allow_pickle=True)\n",
    "# data\n",
    "# max_val_epoch = data[\"val_max_metric\"].item()[\"epoch\"]\n",
    "# plt.plot(data[\"train_results_loss\"].mean(axis=1)[0:], label = \"train\")\n",
    "# plt.axvline(x=max_val_epoch, color='r', linestyle='--')\n",
    "# plt.plot(data[\"val_results_loss\"].mean(axis=1), label = \"val\")\n",
    "# plt.legend()\n",
    "# data[\"train_results_loss\"].mean(axis=1)[-10:], data[\"val_results_loss\"].mean(axis=1)[-10:]"
   ]
  },
  {
   "cell_type": "code",
   "execution_count": 41,
   "metadata": {},
   "outputs": [],
   "source": [
    "# tmp_list = []\n",
    "# for file_name in selected_records[filter].file_name:\n",
    "#     data = np.load(f'{dir_path}/{file_name}', allow_pickle=True)\n",
    "#     domain_test_trends = dict()\n",
    "#     for domain in domain_list:\n",
    "#         domain_test_trends[domain]={\n",
    "#             \"test_loss_list\":[],\n",
    "#             \"AUROC\":[],\n",
    "#             \"AUPRC\":[],\n",
    "#         }\n",
    "\n",
    "#     for res in data[\"test_results_list\"]:\n",
    "#         if res is not None:\n",
    "#             for key in res:\n",
    "#                 domain_test_trends[key][\"test_loss_list\"].append(np.array(res[key][\"test_loss_list\"]).mean())\n",
    "#                 domain_test_trends[key][\"AUROC\"].append(res[key][\"AUROC\"])\n",
    "#                 domain_test_trends[key][\"AUPRC\"].append(res[key][\"AUPRC\"])\n",
    "#     tmp = []\n",
    "#     for domain in domain_list:\n",
    "#         tmp.append(domain_test_trends[domain][metric][-1]) \n",
    "#     tmp.append(np.mean(tmp))\n",
    "#     tmp_list.append(tmp)\n",
    "\n",
    "# pd.DataFrame(tmp_list, columns = domain_list + [metric]).agg([\"mean\", \"std\"])"
   ]
  },
  {
   "cell_type": "code",
   "execution_count": null,
   "metadata": {},
   "outputs": [],
   "source": []
  },
  {
   "cell_type": "code",
   "execution_count": 42,
   "metadata": {},
   "outputs": [],
   "source": [
    "domain_test_trends = dict()\n",
    "for domain in domain_list:\n",
    "    domain_test_trends[domain]={\n",
    "        \"test_loss_list\":[],\n",
    "        \"AUROC\":[],\n",
    "        \"AUPRC\":[],\n",
    "    }\n",
    "\n",
    "domain_test_trends\n",
    "for res in data[\"test_results_list\"]:\n",
    "    if res is not None:\n",
    "        for key in res:\n",
    "            domain_test_trends[key][\"test_loss_list\"].append(np.array(res[key][\"test_loss_list\"]).mean())\n",
    "            domain_test_trends[key][\"AUROC\"].append(res[key][\"AUROC\"])\n",
    "            domain_test_trends[key][\"AUPRC\"].append(res[key][\"AUPRC\"])"
   ]
  },
  {
   "cell_type": "markdown",
   "metadata": {},
   "source": [
    "### 训练过程中 模型在test上下降趋势"
   ]
  },
  {
   "cell_type": "code",
   "execution_count": 43,
   "metadata": {},
   "outputs": [
    {
     "data": {
      "text/plain": [
       "(40, 5)"
      ]
     },
     "execution_count": 43,
     "metadata": {},
     "output_type": "execute_result"
    }
   ],
   "source": [
    "data[\"args\"].item()[\"epochs\"], data[\"args\"].item()[\"test_epoch\"]"
   ]
  },
  {
   "cell_type": "code",
   "execution_count": 44,
   "metadata": {},
   "outputs": [
    {
     "data": {
      "text/plain": [
       "(40,)"
      ]
     },
     "execution_count": 44,
     "metadata": {},
     "output_type": "execute_result"
    }
   ],
   "source": [
    "data[\"test_results_list\"].shape"
   ]
  },
  {
   "cell_type": "code",
   "execution_count": 45,
   "metadata": {},
   "outputs": [
    {
     "name": "stdout",
     "output_type": "stream",
     "text": [
      "1\n",
      "photo [0.8964646464646464, 0.549404761904762, 0.6561868686868686, 0.5292027417027417, 0.514021164021164, 0.5537037037037037, 0.5026806526806527, 0.5425925925925926, 0.5335016835016835]\n",
      "art_painting [0.5321716453295401, 0.33810255724850746, 0.38665450676394586, 0.34174228201919066, 0.3767322178138117, 0.2791008111130062, 0.26348915834159486, 0.2651019547603988, 0.25959554143294744]\n",
      "cartoon [0.47911810411810407, 0.711111111111111, 0.5601045296167246, 0.582749766573296, 0.6336891078270388, 0.67999592999593, 0.6879432624113475, 0.6840277777777777, 0.7058248299319727]\n",
      "sketch [0.5385888084108149, 0.4945643939393939, 0.5405599647266314, 0.5515455082742317, 0.5601464930733222, 0.5591575091575091, 0.5597637504614248, 0.5604151984965938, 0.5605994152046784]\n"
     ]
    },
    {
     "data": {
      "image/png": "[encoded data removed]",
      "text/plain": [
       "<Figure size 2200x400 with 4 Axes>"
      ]
     },
     "metadata": {},
     "output_type": "display_data"
    },
    {
     "name": "stdout",
     "output_type": "stream",
     "text": [
      "1\n",
      "photo 0.8555555555555555\n",
      "art_painting 0.5292176870748299\n",
      "cartoon 0.6836640211640211\n",
      "sketch 0.5663654084706717\n"
     ]
    }
   ],
   "source": [
    "max_val_epoch = data[\"val_max_metric\"].item()['epoch']\n",
    "print(max_val_epoch)\n",
    "\n",
    "fig, ax = plt.subplots(1,4, figsize=(22, 4))\n",
    "\n",
    "for idx, domain in enumerate(domain_list):\n",
    "    ax[idx].plot(domain_test_trends[domain][metric], label = domain)\n",
    "    print(domain, domain_test_trends[domain][metric])\n",
    "\n",
    "    if \"metric\" in data[\"val_max_metric\"].item():\n",
    "        if \"test_epoch\" in data[\"args\"].item():\n",
    "            ax[idx].axvline(x=max_val_epoch / data[\"args\"].item()[\"test_epoch\"], color='r', linestyle='--')\n",
    "        else:\n",
    "            ax[idx].axvline(x=max_val_epoch / 5, color='r', linestyle='--')\n",
    "    else:\n",
    "        ax[idx].axvline(x=max_val_epoch, color='r', linestyle='--')\n",
    "\n",
    "    ax[idx].legend()\n",
    "plt.show()\n",
    "\n",
    "print(max_val_epoch)\n",
    "if \"metric\" in data[\"val_max_metric\"].item():\n",
    "    for domain in domain_list:\n",
    "        print(domain, data[\"val_max_metric\"].item()[\"metric\"][domain][metric])\n",
    "else:\n",
    "    for domain in domain_list:\n",
    "        print(domain, domain_test_trends[domain][metric][max_val_epoch])"
   ]
  },
  {
   "cell_type": "code",
   "execution_count": 55,
   "metadata": {},
   "outputs": [
    {
     "name": "stdout",
     "output_type": "stream",
     "text": [
      "0\n"
     ]
    },
    {
     "data": {
      "text/html": [
       "<div>\n",
       "<style scoped>\n",
       "    .dataframe tbody tr th:only-of-type {\n",
       "        vertical-align: middle;\n",
       "    }\n",
       "\n",
       "    .dataframe tbody tr th {\n",
       "        vertical-align: top;\n",
       "    }\n",
       "\n",
       "    .dataframe thead th {\n",
       "        text-align: right;\n",
       "    }\n",
       "</style>\n",
       "<table border=\"1\" class=\"dataframe\">\n",
       "  <thead>\n",
       "    <tr style=\"text-align: right;\">\n",
       "      <th></th>\n",
       "      <th>0</th>\n",
       "      <th>1</th>\n",
       "      <th>2</th>\n",
       "      <th>3</th>\n",
       "      <th>4</th>\n",
       "      <th>5</th>\n",
       "      <th>6</th>\n",
       "      <th>7</th>\n",
       "      <th>8</th>\n",
       "    </tr>\n",
       "  </thead>\n",
       "  <tbody>\n",
       "    <tr>\n",
       "      <th>photo</th>\n",
       "      <td>0.896465</td>\n",
       "      <td>0.549405</td>\n",
       "      <td>0.656187</td>\n",
       "      <td>0.529203</td>\n",
       "      <td>0.514021</td>\n",
       "      <td>0.553704</td>\n",
       "      <td>0.502681</td>\n",
       "      <td>0.542593</td>\n",
       "      <td>0.533502</td>\n",
       "    </tr>\n",
       "    <tr>\n",
       "      <th>art_painting</th>\n",
       "      <td>0.532172</td>\n",
       "      <td>0.338103</td>\n",
       "      <td>0.386655</td>\n",
       "      <td>0.341742</td>\n",
       "      <td>0.376732</td>\n",
       "      <td>0.279101</td>\n",
       "      <td>0.263489</td>\n",
       "      <td>0.265102</td>\n",
       "      <td>0.259596</td>\n",
       "    </tr>\n",
       "    <tr>\n",
       "      <th>cartoon</th>\n",
       "      <td>0.479118</td>\n",
       "      <td>0.711111</td>\n",
       "      <td>0.560105</td>\n",
       "      <td>0.582750</td>\n",
       "      <td>0.633689</td>\n",
       "      <td>0.679996</td>\n",
       "      <td>0.687943</td>\n",
       "      <td>0.684028</td>\n",
       "      <td>0.705825</td>\n",
       "    </tr>\n",
       "    <tr>\n",
       "      <th>sketch</th>\n",
       "      <td>0.538589</td>\n",
       "      <td>0.494564</td>\n",
       "      <td>0.540560</td>\n",
       "      <td>0.551546</td>\n",
       "      <td>0.560146</td>\n",
       "      <td>0.559158</td>\n",
       "      <td>0.559764</td>\n",
       "      <td>0.560415</td>\n",
       "      <td>0.560599</td>\n",
       "    </tr>\n",
       "    <tr>\n",
       "      <th>avg</th>\n",
       "      <td>0.611586</td>\n",
       "      <td>0.523296</td>\n",
       "      <td>0.535876</td>\n",
       "      <td>0.501310</td>\n",
       "      <td>0.521147</td>\n",
       "      <td>0.517989</td>\n",
       "      <td>0.503469</td>\n",
       "      <td>0.513034</td>\n",
       "      <td>0.514880</td>\n",
       "    </tr>\n",
       "  </tbody>\n",
       "</table>\n",
       "</div>"
      ],
      "text/plain": [
       "                     0         1         2         3         4         5  \\\n",
       "photo         0.896465  0.549405  0.656187  0.529203  0.514021  0.553704   \n",
       "art_painting  0.532172  0.338103  0.386655  0.341742  0.376732  0.279101   \n",
       "cartoon       0.479118  0.711111  0.560105  0.582750  0.633689  0.679996   \n",
       "sketch        0.538589  0.494564  0.540560  0.551546  0.560146  0.559158   \n",
       "avg           0.611586  0.523296  0.535876  0.501310  0.521147  0.517989   \n",
       "\n",
       "                     6         7         8  \n",
       "photo         0.502681  0.542593  0.533502  \n",
       "art_painting  0.263489  0.265102  0.259596  \n",
       "cartoon       0.687943  0.684028  0.705825  \n",
       "sketch        0.559764  0.560415  0.560599  \n",
       "avg           0.503469  0.513034  0.514880  "
      ]
     },
     "execution_count": 55,
     "metadata": {},
     "output_type": "execute_result"
    }
   ],
   "source": [
    "file_name = selected_records[filter].file_name.iloc[0]\n",
    "data = np.load(f'{dir_path}/{file_name}', allow_pickle=True)\n",
    "data\n",
    "\n",
    "domain_test_trends = dict()\n",
    "for domain in domain_list:\n",
    "    domain_test_trends[domain]={\n",
    "        \"test_loss_list\":[],\n",
    "        \"AUROC\":[],\n",
    "        \"AUPRC\":[],\n",
    "    }\n",
    "\n",
    "domain_test_trends\n",
    "for res in data[\"test_results_list\"]:\n",
    "    if res is not None:\n",
    "        for key in res:\n",
    "            domain_test_trends[key][\"test_loss_list\"].append(np.array(res[key][\"test_loss_list\"]).mean())\n",
    "            domain_test_trends[key][\"AUROC\"].append(res[key][\"AUROC\"])\n",
    "            domain_test_trends[key][\"AUPRC\"].append(res[key][\"AUPRC\"])\n",
    "\n",
    "tmp = []\n",
    "for idx, domain in enumerate(domain_list):\n",
    "    tmp.append(domain_test_trends[domain][metric])\n",
    "tmp = pd.DataFrame(tmp, index=domain_list)\n",
    "idx = tmp.mean(axis = 0).idxmax()\n",
    "print(idx)\n",
    "pd.concat([tmp, pd.DataFrame(tmp.mean(axis = 0), columns = [\"avg\"]).T])"
   ]
  },
  {
   "cell_type": "markdown",
   "metadata": {},
   "source": [
    "### 训练集loss下降趋势"
   ]
  },
  {
   "cell_type": "code",
   "execution_count": 46,
   "metadata": {},
   "outputs": [
    {
     "data": {
      "text/plain": [
       "(1,\n",
       " array([ 4.49361724,  2.7320657 ,  1.33791969,  1.07743545,  0.81816111,\n",
       "         0.58124918,  0.39723496,  0.09592353, -0.13179695, -0.19594597,\n",
       "        -0.21261798, -0.27970326, -0.29243749, -0.29290625, -0.32215511,\n",
       "        -0.31459201, -0.30277326, -0.32608777, -0.33092397, -0.32947692,\n",
       "        -0.35071737, -0.32655773, -0.3524598 , -0.33106032, -0.32339913,\n",
       "        -0.32180629, -0.34506397, -0.32005656, -0.33128182, -0.35978241,\n",
       "        -0.37946222, -0.33542406, -0.36103045, -0.36108707, -0.34819044,\n",
       "        -0.36491322, -0.3515028 , -0.36135359, -0.37386262, -0.36935985]))"
      ]
     },
     "execution_count": 46,
     "metadata": {},
     "output_type": "execute_result"
    },
    {
     "data": {
      "image/png": "[encoded data removed]",
      "text/plain": [
       "<Figure size 640x480 with 1 Axes>"
      ]
     },
     "metadata": {},
     "output_type": "display_data"
    }
   ],
   "source": [
    "plt.plot(data[\"train_results_loss\"].mean(axis=1))\n",
    "plt.axvline(x=max_val_epoch, color='r', linestyle='--')\n",
    "max_val_epoch, data[\"train_results_loss\"].mean(axis=1)"
   ]
  },
  {
   "cell_type": "markdown",
   "metadata": {},
   "source": [
    "### 训练过程中，模型在val 下降趋势"
   ]
  },
  {
   "cell_type": "markdown",
   "metadata": {},
   "source": [
    "#### 验证集loss下降趋势"
   ]
  },
  {
   "cell_type": "code",
   "execution_count": 47,
   "metadata": {},
   "outputs": [
    {
     "data": {
      "text/plain": [
       "array([0.50897641, 0.46558087, 0.46397342, 0.4761803 , 0.47444764,\n",
       "       0.47876026, 0.48137852, 0.49193625, 0.48420952, 0.50210404,\n",
       "       0.48945424, 0.489747  , 0.49294636, 0.49246119, 0.47154459,\n",
       "       0.46338223, 0.46948894, 0.47184187, 0.47530073, 0.46765275,\n",
       "       0.47537899, 0.477819  , 0.47273646, 0.47270007, 0.47218064,\n",
       "       0.47597517, 0.4778377 , 0.4740297 , 0.47693961, 0.47728454,\n",
       "       0.47747265, 0.47492834, 0.48083425, 0.47538785, 0.48396949,\n",
       "       0.47897227, 0.48196668, 0.47332364, 0.47815465, 0.47561639])"
      ]
     },
     "execution_count": 47,
     "metadata": {},
     "output_type": "execute_result"
    },
    {
     "data": {
      "image/png": "[encoded data removed]",
      "text/plain": [
       "<Figure size 640x480 with 1 Axes>"
      ]
     },
     "metadata": {},
     "output_type": "display_data"
    }
   ],
   "source": [
    "plt.plot(data[\"val_results_loss\"].mean(axis=1))\n",
    "plt.axvline(x=max_val_epoch, color='r', linestyle='--')\n",
    "data[\"val_results_loss\"].mean(axis=1)"
   ]
  },
  {
   "cell_type": "markdown",
   "metadata": {},
   "source": [
    "#### 验证集AUROC"
   ]
  },
  {
   "cell_type": "code",
   "execution_count": 48,
   "metadata": {},
   "outputs": [
    {
     "data": {
      "text/plain": [
       "array([0.8469666 , 0.86059986, 0.86128153, 0.85616905, 0.84628494,\n",
       "       0.84628494, 0.83674165, 0.82822086, 0.81117928, 0.81288344,\n",
       "       0.80436264, 0.79754601, 0.80163599, 0.79822768, 0.81424676,\n",
       "       0.81186094, 0.80913429, 0.8135651 , 0.8190184 , 0.80231766,\n",
       "       0.80129516, 0.79993183, 0.79720518, 0.80163599, 0.79447853,\n",
       "       0.8006135 , 0.79686435, 0.79686435, 0.78868439, 0.79481936,\n",
       "       0.78868439, 0.79038855, 0.78970688, 0.7931152 , 0.79481936,\n",
       "       0.78698023, 0.78698023, 0.79379686, 0.79209271, 0.79209271])"
      ]
     },
     "execution_count": 48,
     "metadata": {},
     "output_type": "execute_result"
    },
    {
     "data": {
      "image/png": "[encoded data removed]",
      "text/plain": [
       "<Figure size 640x480 with 1 Axes>"
      ]
     },
     "metadata": {},
     "output_type": "display_data"
    }
   ],
   "source": [
    "plt.plot(data[f\"val_AUROC_list\"])\n",
    "plt.axvline(x=max_val_epoch, color='r', linestyle='--')\n",
    "# plt.ylim(0.5,1)\n",
    "data[f\"val_AUROC_list\"]"
   ]
  },
  {
   "cell_type": "code",
   "execution_count": 49,
   "metadata": {},
   "outputs": [
    {
     "data": {
      "text/plain": [
       "array([0.42200864, 0.46308553, 0.45573623, 0.40229572, 0.36854211,\n",
       "       0.39124924, 0.34844472, 0.38253361, 0.38707055, 0.41356013,\n",
       "       0.41089594, 0.41693536, 0.44690729, 0.41759322, 0.41749231,\n",
       "       0.41291518, 0.39664345, 0.39699934, 0.40410491, 0.40116368,\n",
       "       0.39049283, 0.38813365, 0.38842125, 0.37858359, 0.36946101,\n",
       "       0.37381686, 0.37575654, 0.37691428, 0.36253328, 0.38450645,\n",
       "       0.36452166, 0.38020316, 0.37939597, 0.37648244, 0.37573152,\n",
       "       0.3791927 , 0.37189841, 0.37869327, 0.37774619, 0.37004846])"
      ]
     },
     "execution_count": 49,
     "metadata": {},
     "output_type": "execute_result"
    },
    {
     "data": {
      "image/png": "[encoded data removed]",
      "text/plain": [
       "<Figure size 640x480 with 1 Axes>"
      ]
     },
     "metadata": {},
     "output_type": "display_data"
    }
   ],
   "source": [
    "plt.plot(data[f\"val_{metric}_list\"])\n",
    "plt.axvline(x=max_val_epoch, color='r', linestyle='--')\n",
    "# plt.ylim(0.5,1)\n",
    "data[f\"val_{metric}_list\"]"
   ]
  },
  {
   "cell_type": "code",
   "execution_count": 50,
   "metadata": {},
   "outputs": [
    {
     "name": "stdout",
     "output_type": "stream",
     "text": [
      "[2.47806112 2.36705163 2.17900369 1.97704737 1.7406429  1.50325296\n",
      " 1.28699815 1.06352262 0.85219017 0.77163937 0.72367784 0.71173919\n",
      " 0.70584749 0.6806542  0.68741321 0.69242292 0.69144385 0.67007519\n",
      " 0.68372296 0.65818323 0.64396302 0.66847665 0.65796691 0.66608769\n",
      " 0.67936473 0.66399695 0.66096247 0.66674441 0.64227535 0.64073008\n",
      " 0.64432268 0.66097489 0.64951449 0.65220356 0.65658557 0.66483784\n",
      " 0.6580387  0.63178113 0.654575   0.65451176]\n"
     ]
    },
    {
     "data": {
      "image/png": "[encoded data removed]",
      "text/plain": [
       "<Figure size 1000x1250 with 5 Axes>"
      ]
     },
     "metadata": {},
     "output_type": "display_data"
    }
   ],
   "source": [
    "temp = data[\"sub_train_results_loss\"].mean(axis=1)\n",
    "fig,ax = plt.subplots(temp.shape[1],1,figsize=(10,2.5 * temp.shape[1]))\n",
    "if dir_path.__contains__(\"method13\"):\n",
    "    loss_name_list = [\"devnet_loss\", \"reg_loss\", \"NCE_loss\", \"PL_loss\", \"class_reg_loss\"]\n",
    "elif dir_path.__contains__(\"VAE_LPIPS_DEVNET\"):\n",
    "    loss_name_list = [\"rec_loss\", \"kl_loss\", \"devnet_loss\", \"reg_loss\", \"PL_loss\", \"class_reg_loss\"]\n",
    "else:\n",
    "    loss_name_list = [\"devnet_loss\", \"reg_loss\", \"NCE_loss\", \"PL_loss\", \"class_reg_loss\"]\n",
    "for idx, label in enumerate(loss_name_list):\n",
    "    ax[idx].plot(temp[0:,idx], label=label)\n",
    "    ax[idx].axvline(x=max_val_epoch, color='r', linestyle='--')\n",
    "    ax[idx].legend()\n",
    "\n",
    "# for i in range(5):\n",
    "#     print(temp[0:,i])\n",
    "print(temp[0:, 1])\n",
    "plt.show()"
   ]
  },
  {
   "cell_type": "code",
   "execution_count": 51,
   "metadata": {},
   "outputs": [
    {
     "data": {
      "text/plain": [
       "0.1119020568909309"
      ]
     },
     "execution_count": 51,
     "metadata": {},
     "output_type": "execute_result"
    }
   ],
   "source": [
    "import math\n",
    "-(1/3)*math.log(1/3)*3\n",
    "-(0.01)*math.log(0.01) * 2 + (-0.98*math.log(0.98))"
   ]
  },
  {
   "cell_type": "code",
   "execution_count": 52,
   "metadata": {},
   "outputs": [],
   "source": [
    "# data[\"sub_train_results_loss\"].mean(axis=1)"
   ]
  },
  {
   "cell_type": "markdown",
   "metadata": {},
   "source": []
  },
  {
   "cell_type": "code",
   "execution_count": 53,
   "metadata": {},
   "outputs": [],
   "source": [
    "if \"pre_epochs\" in para_name_list:\n",
    "    temp = []\n",
    "    for item in file_name.split(\",\"):\n",
    "        if re.match(\"epochs=|lr=|reg_lambda\", item):\n",
    "            pass\n",
    "        else:\n",
    "            temp.append(item)\n",
    "    data = np.load(f'../experiment/{\",\".join(temp)}', allow_pickle=True)"
   ]
  },
  {
   "cell_type": "code",
   "execution_count": 54,
   "metadata": {},
   "outputs": [
    {
     "ename": "KeyError",
     "evalue": "'pre_train_results_loss is not a file in the archive'",
     "output_type": "error",
     "traceback": [
      "\u001b[0;31m---------------------------------------------------------------------------\u001b[0m",
      "\u001b[0;31mKeyError\u001b[0m                                  Traceback (most recent call last)",
      "Cell \u001b[0;32mIn[54], line 1\u001b[0m\n\u001b[0;32m----> 1\u001b[0m plt\u001b[38;5;241m.\u001b[39mplot(\u001b[43mdata\u001b[49m\u001b[43m[\u001b[49m\u001b[38;5;124;43m\"\u001b[39;49m\u001b[38;5;124;43mpre_train_results_loss\u001b[39;49m\u001b[38;5;124;43m\"\u001b[39;49m\u001b[43m]\u001b[49m\u001b[38;5;241m.\u001b[39mmean(axis\u001b[38;5;241m=\u001b[39m\u001b[38;5;241m1\u001b[39m))\n",
      "File \u001b[0;32m~/anaconda3/envs/general_env/lib/python3.9/site-packages/numpy/lib/npyio.py:263\u001b[0m, in \u001b[0;36mNpzFile.__getitem__\u001b[0;34m(self, key)\u001b[0m\n\u001b[1;32m    261\u001b[0m         \u001b[38;5;28;01mreturn\u001b[39;00m \u001b[38;5;28mself\u001b[39m\u001b[38;5;241m.\u001b[39mzip\u001b[38;5;241m.\u001b[39mread(key)\n\u001b[1;32m    262\u001b[0m \u001b[38;5;28;01melse\u001b[39;00m:\n\u001b[0;32m--> 263\u001b[0m     \u001b[38;5;28;01mraise\u001b[39;00m \u001b[38;5;167;01mKeyError\u001b[39;00m(\u001b[38;5;124mf\u001b[39m\u001b[38;5;124m\"\u001b[39m\u001b[38;5;132;01m{\u001b[39;00mkey\u001b[38;5;132;01m}\u001b[39;00m\u001b[38;5;124m is not a file in the archive\u001b[39m\u001b[38;5;124m\"\u001b[39m)\n",
      "\u001b[0;31mKeyError\u001b[0m: 'pre_train_results_loss is not a file in the archive'"
     ]
    }
   ],
   "source": [
    "plt.plot(data[\"pre_train_results_loss\"].mean(axis=1))"
   ]
  },
  {
   "cell_type": "code",
   "execution_count": null,
   "metadata": {},
   "outputs": [
    {
     "ename": "",
     "evalue": "",
     "output_type": "error",
     "traceback": [
      "\u001b[1;31m运行具有“diad”的单元格需要ipykernel包。\n",
      "\u001b[1;31m运行以下命令，将 \"ipykernel\" 安装到 Python 环境中。\n",
      "\u001b[1;31m命令: \"conda install -n diad ipykernel --update-deps --force-reinstall\""
     ]
    }
   ],
   "source": [
    "temp = data[\"sub_pre_train_results_loss\"].mean(axis=1)\n",
    "fig,ax = plt.subplots(2,1,figsize=(6, 6))\n",
    "ax[0].plot(temp[0:,0], label=\"NCE_loss\")\n",
    "ax[1].plot(temp[0:,1], label=\"PL_loss\") \n",
    "ax[0].legend()\n",
    "ax[1].legend()\n",
    "plt.show()"
   ]
  },
  {
   "cell_type": "code",
   "execution_count": null,
   "metadata": {},
   "outputs": [
    {
     "ename": "",
     "evalue": "",
     "output_type": "error",
     "traceback": [
      "\u001b[1;31m运行具有“diad”的单元格需要ipykernel包。\n",
      "\u001b[1;31m运行以下命令，将 \"ipykernel\" 安装到 Python 环境中。\n",
      "\u001b[1;31m命令: \"conda install -n diad ipykernel --update-deps --force-reinstall\""
     ]
    }
   ],
   "source": [
    "temp[0:,0]"
   ]
  },
  {
   "cell_type": "code",
   "execution_count": null,
   "metadata": {},
   "outputs": [
    {
     "ename": "",
     "evalue": "",
     "output_type": "error",
     "traceback": [
      "\u001b[1;31m运行具有“diad”的单元格需要ipykernel包。\n",
      "\u001b[1;31m运行以下命令，将 \"ipykernel\" 安装到 Python 环境中。\n",
      "\u001b[1;31m命令: \"conda install -n diad ipykernel --update-deps --force-reinstall\""
     ]
    }
   ],
   "source": [
    "temp[0:,1]"
   ]
  }
 ],
 "metadata": {
  "kernelspec": {
   "display_name": "general_env",
   "language": "python",
   "name": "python3"
  },
  "language_info": {
   "codemirror_mode": {
    "name": "ipython",
    "version": 3
   },
   "file_extension": ".py",
   "mimetype": "text/x-python",
   "name": "python",
   "nbconvert_exporter": "python",
   "pygments_lexer": "ipython3",
   "version": "3.9.18"
  }
 },
 "nbformat": 4,
 "nbformat_minor": 2
}
