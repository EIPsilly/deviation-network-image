{
 "cells": [
  {
   "cell_type": "code",
   "execution_count": 1,
   "metadata": {},
   "outputs": [],
   "source": [
    "import numpy as np\n",
    "import pandas as pd\n",
    "import os\n",
    "from matplotlib import pyplot as plt\n",
    "import re"
   ]
  },
  {
   "cell_type": "code",
   "execution_count": 2,
   "metadata": {},
   "outputs": [],
   "source": [
    "domain_list = ['photo', 'art_painting', 'cartoon', 'sketch']\n",
    "metric = \"AUPRC\"\n",
    "\n",
    "# dir_path = \"../results/DGAD/method5/1\"\n",
    "dir_path = '../results/devnet/many_versus_many'\n",
    "dir_path = '../results/DGAD/method5/3'\n",
    "dir_path = \"../results/DGAD/method6_tau\"\n",
    "# dir_path = '../results/DGAD/method5/3'\n",
    "# dir_path = '../results/DGAD/method5_reg_lambda'\n",
    "# dir_path = '../results/DGAD/method8'\n",
    "dir_path = '../results/DGAD/method6_lambda'\n",
    "# dir_path = '../results/devnet/many_versus_many'\n",
    "# dir_path = '../results/DGAD/method7'\n",
    "# dir_path = '../results/DGAD/method7_tau_lambda'\n",
    "\n",
    "dir_path = '../results/DGAD/method6_revision'\n",
    "dir_path = '../results/DGAD/method5/3'\n",
    "dir_path = '../results/DGAD/method5_aug/3'\n",
    "dir_path = '../results/DGAD/method5_reg_lambda'\n",
    "dir_path = '../results/DGAD/method10'\n",
    "dir_path = '../results/DGAD/method9_beta_list'\n",
    "dir_path = '../results/DGAD/method10_prototype_norm'\n",
    "dir_path = '../results/DGAD/method9'\n",
    "dir_path = '../results/DGAD/method9_revision'\n",
    "dir_path = '../results/DGAD/method9_kmeans'\n",
    "dir_path = '../results/devnet/one_source_domain'\n",
    "dir_path = '../results/devnet/many_versus_many'\n",
    "# dir_path = '../results/DGAD/method6_lambda'\n",
    "dir_path = '../results/DGAD/method6_revision'\n",
    "# dir_path = '../results/DGAD/VAE_DEVNET'\n",
    "# dir_path = '../results/DGAD/method6_2devnet'\n",
    "# dir_path = '../results/devnet/many_versus_many'\n",
    "dir_path = '../results/devnet/3domain'\n",
    "dir_path = '../results/DGAD/method12'\n",
    "dir_path = '../results/DGAD/method13'\n",
    "dir_path = '../results/DGAD/method14'\n",
    "# dir_path = '../old_results/DGAD/method6_lambda'\n",
    "# dir_path = '../results/DGAD/method13_lambda'\n",
    "dir_path = '../results/DGAD/VAE_LPIPS'\n",
    "dir_path = '../results/DGAD/VAE_LPIPS_DEVNET'\n",
    "dir_path = '../results/DGAD/method13'\n",
    "dir_path = '../results/DGAD/VAE_LPIPS_DEVNET_rec_lambda'\n",
    "dir_path = '../results/DGAD/VAE_LPIPS_DEVNET_rec_lambda_no_balance_sample'\n",
    "# dir_path = '../results/DGAD/VAE_LPIPS_DEVNET_rec_lambda'\n",
    "dir_path = '../results/DGAD/V_L_D'\n",
    "dir_path = '../results/DGAD/20240908V_L_D'\n",
    "\n",
    "dir_path = '../results/devnet/3domain'\n",
    "# dir_path = '../old_results/devnet/many_versus_many'\n",
    "# dir_path = '../results/devnet/20240915'\n",
    "dir_path = '../results/DGAD/latent_dim_DGAD'\n",
    "\n",
    "dir_path = '../results/DGAD/latent_dim_devnet'\n",
    "\n",
    "# dir_path = '../results/DGAD/latent_dim_DGAD_lambda'\n",
    "\n",
    "\n",
    "dir_path = '../results/devnet/20240915'\n",
    "\n",
    "# dir_path = '../results/DGAD/method13_lambda'\n",
    "\n",
    "dir_path = '../results/DGAD/latent_dim_CVAE_Unet'\n",
    "dir_path = '../results/DGAD/latent_dim_CVAE_Unet'\n",
    "\n",
    "dir_path = '../results/DGAD/VAE_LPIPS_DEVNET_rec_lambda_no_balance_sample'\n",
    "\n",
    "# dir_path = '../results/DGAD/20240908V_L_D'\n",
    "dir_path = '../results/DGAD/CVAE_DEVNET_rec_N'\n",
    "\n",
    "dir_path = '../results/DGAD/method16'\n",
    "# dir_path = '../results/devnet/20240915'\n",
    "# dir_path = '../results/DGAD/method16_lambda'\n",
    "dir_path = '../results/DGAD/method16_contamination'\n",
    "# dir_path = '../results/devnet/PACS_contamination'\n",
    "\n",
    "# dir_path = '../results/DGAD/method16_contamination_lambda'"
   ]
  },
  {
   "cell_type": "code",
   "execution_count": 3,
   "metadata": {},
   "outputs": [
    {
     "name": "stdout",
     "output_type": "stream",
     "text": [
      "64\n"
     ]
    },
    {
     "data": {
      "text/plain": [
       "(1, 1, 1, 0)"
      ]
     },
     "execution_count": 3,
     "metadata": {},
     "output_type": "execute_result"
    }
   ],
   "source": [
    "import itertools\n",
    "# normal_class=[\"0\", \"1\", \"2\", \"3\", \"4\", \"5\", \"6\"]\n",
    "# normal_class=[\"0 1 2 3\", \"4 5 6\", \"0 2 4 6\", \"1 3 5\", \"0\", \"1\", \"2\", \"3\", \"4\", \"5\", \"6\"]\n",
    "# anomaly_class=[\"4 5 6\", \"0 1 2 3\", \"1 3 5\", \"0 2 4 6\", \"1 2 3 4 5 6\", \"0 2 3 4 5 6\", \"0 1 3 4 5 6\", \"0 1 2 4 5 6\", \"0 1 2 3 5 6\", \"0 1 2 3 4 6\", \"0 1 2 3 4 5\"]\n",
    "# epochs_list=[5, 10, 15, 20, 30]\n",
    "# lr_list=[0.01, 0.001, 0.0005, 0.0002, 0.00005, 0.00001]\n",
    "reg_lambda=[1,2,5,10]\n",
    "NCE_lambda=[1,2,5,10]\n",
    "PL_lambda=[1,2,5,10]\n",
    "# cnt=[0,1,2,3,4]\n",
    "cnt=[0]\n",
    "all_para_list = list(itertools.product(reg_lambda, NCE_lambda, PL_lambda, cnt))\n",
    "print(len(all_para_list))\n",
    "all_para_list[0]"
   ]
  },
  {
   "cell_type": "code",
   "execution_count": 4,
   "metadata": {},
   "outputs": [
    {
     "name": "stdout",
     "output_type": "stream",
     "text": [
      "400\n"
     ]
    },
    {
     "data": {
      "text/html": [
       "<div>\n",
       "<style scoped>\n",
       "    .dataframe tbody tr th:only-of-type {\n",
       "        vertical-align: middle;\n",
       "    }\n",
       "\n",
       "    .dataframe tbody tr th {\n",
       "        vertical-align: top;\n",
       "    }\n",
       "\n",
       "    .dataframe thead th {\n",
       "        text-align: right;\n",
       "    }\n",
       "</style>\n",
       "<table border=\"1\" class=\"dataframe\">\n",
       "  <thead>\n",
       "    <tr style=\"text-align: right;\">\n",
       "      <th></th>\n",
       "      <th>normal_class</th>\n",
       "      <th>anomaly_class</th>\n",
       "      <th>lr</th>\n",
       "      <th>epochs</th>\n",
       "      <th>cnt</th>\n",
       "      <th>contamination_rate</th>\n",
       "      <th>max_val_epoch</th>\n",
       "      <th>photo_AUROC</th>\n",
       "      <th>art_painting_AUROC</th>\n",
       "      <th>cartoon_AUROC</th>\n",
       "      <th>...</th>\n",
       "      <th>val_sketch_AUROC</th>\n",
       "      <th>val_photo_AUPRC</th>\n",
       "      <th>val_art_painting_AUPRC</th>\n",
       "      <th>val_cartoon_AUPRC</th>\n",
       "      <th>val_sketch_AUPRC</th>\n",
       "      <th>file_name</th>\n",
       "      <th>AUROC_mean</th>\n",
       "      <th>AUPRC_mean</th>\n",
       "      <th>val_AUROC_mean</th>\n",
       "      <th>val_AUPRC_mean</th>\n",
       "    </tr>\n",
       "  </thead>\n",
       "  <tbody>\n",
       "    <tr>\n",
       "      <th>0</th>\n",
       "      <td>0</td>\n",
       "      <td>1 2 3 4 5 6</td>\n",
       "      <td>0.00010</td>\n",
       "      <td>40</td>\n",
       "      <td>1</td>\n",
       "      <td>0.02</td>\n",
       "      <td>0</td>\n",
       "      <td>0</td>\n",
       "      <td>0</td>\n",
       "      <td>0</td>\n",
       "      <td>...</td>\n",
       "      <td>0.866883</td>\n",
       "      <td>0.930556</td>\n",
       "      <td>0.471811</td>\n",
       "      <td>0.550397</td>\n",
       "      <td>0.501984</td>\n",
       "      <td>method=16,backbone=DGAD15,domain_cnt=3,normal_...</td>\n",
       "      <td>0.0</td>\n",
       "      <td>0.0</td>\n",
       "      <td>0.883054</td>\n",
       "      <td>0.613687</td>\n",
       "    </tr>\n",
       "    <tr>\n",
       "      <th>1</th>\n",
       "      <td>0</td>\n",
       "      <td>1 2 3 4 5 6</td>\n",
       "      <td>0.00010</td>\n",
       "      <td>40</td>\n",
       "      <td>5</td>\n",
       "      <td>0.02</td>\n",
       "      <td>0</td>\n",
       "      <td>0</td>\n",
       "      <td>0</td>\n",
       "      <td>0</td>\n",
       "      <td>...</td>\n",
       "      <td>0.880952</td>\n",
       "      <td>0.897222</td>\n",
       "      <td>0.552490</td>\n",
       "      <td>0.747182</td>\n",
       "      <td>0.251617</td>\n",
       "      <td>method=16,backbone=DGAD15,domain_cnt=3,normal_...</td>\n",
       "      <td>0.0</td>\n",
       "      <td>0.0</td>\n",
       "      <td>0.913288</td>\n",
       "      <td>0.612128</td>\n",
       "    </tr>\n",
       "    <tr>\n",
       "      <th>2</th>\n",
       "      <td>0</td>\n",
       "      <td>1 2 3 4 5 6</td>\n",
       "      <td>0.00010</td>\n",
       "      <td>40</td>\n",
       "      <td>1</td>\n",
       "      <td>0.04</td>\n",
       "      <td>0</td>\n",
       "      <td>0</td>\n",
       "      <td>0</td>\n",
       "      <td>0</td>\n",
       "      <td>...</td>\n",
       "      <td>0.916667</td>\n",
       "      <td>0.873413</td>\n",
       "      <td>0.425773</td>\n",
       "      <td>0.610690</td>\n",
       "      <td>0.449946</td>\n",
       "      <td>method=16,backbone=DGAD15,domain_cnt=3,normal_...</td>\n",
       "      <td>0.0</td>\n",
       "      <td>0.0</td>\n",
       "      <td>0.895997</td>\n",
       "      <td>0.589956</td>\n",
       "    </tr>\n",
       "    <tr>\n",
       "      <th>3</th>\n",
       "      <td>0</td>\n",
       "      <td>1 2 3 4 5 6</td>\n",
       "      <td>0.00001</td>\n",
       "      <td>30</td>\n",
       "      <td>1</td>\n",
       "      <td>0.12</td>\n",
       "      <td>4</td>\n",
       "      <td>0</td>\n",
       "      <td>0</td>\n",
       "      <td>0</td>\n",
       "      <td>...</td>\n",
       "      <td>0.899351</td>\n",
       "      <td>0.835714</td>\n",
       "      <td>0.409415</td>\n",
       "      <td>0.555250</td>\n",
       "      <td>0.372584</td>\n",
       "      <td>method=16,backbone=DGAD15,domain_cnt=3,normal_...</td>\n",
       "      <td>0.0</td>\n",
       "      <td>0.0</td>\n",
       "      <td>0.887958</td>\n",
       "      <td>0.543241</td>\n",
       "    </tr>\n",
       "    <tr>\n",
       "      <th>4</th>\n",
       "      <td>0</td>\n",
       "      <td>1 2 3 4 5 6</td>\n",
       "      <td>0.00001</td>\n",
       "      <td>30</td>\n",
       "      <td>0</td>\n",
       "      <td>0.02</td>\n",
       "      <td>6</td>\n",
       "      <td>0</td>\n",
       "      <td>0</td>\n",
       "      <td>0</td>\n",
       "      <td>...</td>\n",
       "      <td>0.870130</td>\n",
       "      <td>0.744048</td>\n",
       "      <td>0.500349</td>\n",
       "      <td>0.653822</td>\n",
       "      <td>0.481517</td>\n",
       "      <td>method=16,backbone=DGAD15,domain_cnt=3,normal_...</td>\n",
       "      <td>0.0</td>\n",
       "      <td>0.0</td>\n",
       "      <td>0.887231</td>\n",
       "      <td>0.594934</td>\n",
       "    </tr>\n",
       "  </tbody>\n",
       "</table>\n",
       "<p>5 rows × 28 columns</p>\n",
       "</div>"
      ],
      "text/plain": [
       "  normal_class anomaly_class       lr  epochs  cnt  contamination_rate  \\\n",
       "0            0   1 2 3 4 5 6  0.00010      40    1                0.02   \n",
       "1            0   1 2 3 4 5 6  0.00010      40    5                0.02   \n",
       "2            0   1 2 3 4 5 6  0.00010      40    1                0.04   \n",
       "3            0   1 2 3 4 5 6  0.00001      30    1                0.12   \n",
       "4            0   1 2 3 4 5 6  0.00001      30    0                0.02   \n",
       "\n",
       "   max_val_epoch  photo_AUROC  art_painting_AUROC  cartoon_AUROC  ...  \\\n",
       "0              0            0                   0              0  ...   \n",
       "1              0            0                   0              0  ...   \n",
       "2              0            0                   0              0  ...   \n",
       "3              4            0                   0              0  ...   \n",
       "4              6            0                   0              0  ...   \n",
       "\n",
       "   val_sketch_AUROC  val_photo_AUPRC  val_art_painting_AUPRC  \\\n",
       "0          0.866883         0.930556                0.471811   \n",
       "1          0.880952         0.897222                0.552490   \n",
       "2          0.916667         0.873413                0.425773   \n",
       "3          0.899351         0.835714                0.409415   \n",
       "4          0.870130         0.744048                0.500349   \n",
       "\n",
       "   val_cartoon_AUPRC  val_sketch_AUPRC  \\\n",
       "0           0.550397          0.501984   \n",
       "1           0.747182          0.251617   \n",
       "2           0.610690          0.449946   \n",
       "3           0.555250          0.372584   \n",
       "4           0.653822          0.481517   \n",
       "\n",
       "                                           file_name  AUROC_mean  AUPRC_mean  \\\n",
       "0  method=16,backbone=DGAD15,domain_cnt=3,normal_...         0.0         0.0   \n",
       "1  method=16,backbone=DGAD15,domain_cnt=3,normal_...         0.0         0.0   \n",
       "2  method=16,backbone=DGAD15,domain_cnt=3,normal_...         0.0         0.0   \n",
       "3  method=16,backbone=DGAD15,domain_cnt=3,normal_...         0.0         0.0   \n",
       "4  method=16,backbone=DGAD15,domain_cnt=3,normal_...         0.0         0.0   \n",
       "\n",
       "   val_AUROC_mean  val_AUPRC_mean  \n",
       "0        0.883054        0.613687  \n",
       "1        0.913288        0.612128  \n",
       "2        0.895997        0.589956  \n",
       "3        0.887958        0.543241  \n",
       "4        0.887231        0.594934  \n",
       "\n",
       "[5 rows x 28 columns]"
      ]
     },
     "execution_count": 4,
     "metadata": {},
     "output_type": "execute_result"
    }
   ],
   "source": [
    "ans = []\n",
    "# para_name_list=[\"normal_class\", \"anomaly_class\", \"pre_lr\", \"pre_epochs\", \"lr\", \"epochs\", \"cnt\"]\n",
    "# para_name_list=[\"normal_class\", \"anomaly_class\", \"lr\", \"epochs\", \"cnt\", \"tau1\", \"tau2\"]\n",
    "para_name_list=[\"normal_class\", \"anomaly_class\", \"lr\", \"epochs\", \"cnt\",]\n",
    "# para_name_list=[\"normal_class\", \"anomaly_class\", \"lr\", \"epochs\", \"cnt\", \"reg_lambda\", \"BalancedBatchSampler\"]\n",
    "if dir_path.__contains__(\"lambda\"):\n",
    "    para_name_list += [\"reg_lambda\", \"NCE_lambda\", \"PL_lambda\", \"class_lambda\"]\n",
    "if dir_path.__contains__(\"contamination\"):\n",
    "    para_name_list += [\"contamination_rate\"]\n",
    "# para_name_list=[\"normal_class\", \"anomaly_class\", \"lr\", \"epochs\", \"cnt\", \"rec_lambda\",]\n",
    "# para_name_list=[\"normal_class\", \"anomaly_class\", \"lr\", \"epochs\", \"cnt\",\"reg_lambda\"]\n",
    "# para_name_list=[\"normal_class\", \"anomaly_class\", \"lr\", \"epochs\", \"cnt\", \"tau1\", \"tau2\", \"reg_lambda\", \"NCE_lambda\", \"PL_lambda\"]\n",
    "# para_name_list=[\"normal_class\", \"anomaly_class\", \"lr\", \"epochs\", \"cnt\", \"origin_svdd_lambda\", \"class_svdd_lambda\", \"align_lambda\", \"beta\"]\n",
    "print(len(os.listdir(dir_path)))\n",
    "for file_name in os.listdir(dir_path):\n",
    "    record = []\n",
    "    data = np.load(f'{dir_path}/{file_name}', allow_pickle=True)\n",
    "    max_epoch = data[\"val_max_metric\"].item()[\"epoch\"]\n",
    "    # max_epoch = [i for i, val in enumerate(data[f\"val_{metric}_list\"]) if (val == max(data[f\"val_{metric}_list\"]))][-1]\n",
    "    \n",
    "    for key in para_name_list:\n",
    "        if key in data[\"args\"].item():\n",
    "            record.append(data[\"args\"].item()[key])\n",
    "        else:\n",
    "            record.append(None)\n",
    "    \n",
    "    record.append(max_epoch)\n",
    "\n",
    "    if \"metric\" in data[\"val_max_metric\"].item():\n",
    "        for key in domain_list:\n",
    "            record.append(0)\n",
    "        for key in domain_list:\n",
    "            record.append(0)\n",
    "        for key in domain_list:\n",
    "            record.append(data[\"val_max_metric\"].item()[\"metric\"][key][\"AUROC\"])\n",
    "        for key in domain_list:\n",
    "            record.append(data[\"val_max_metric\"].item()[\"metric\"][key][\"AUPRC\"])\n",
    "    else:\n",
    "        for key in domain_list:\n",
    "            record.append(data[\"test_metric\"].item()[key][\"AUROC\"])\n",
    "        for key in domain_list:\n",
    "            record.append(data[\"test_metric\"].item()[key][\"AUPRC\"])\n",
    "        for key in domain_list:\n",
    "            record.append(data[\"test_results_list\"][max_epoch][key][\"AUROC\"])\n",
    "        for key in domain_list:\n",
    "            record.append(data[\"test_results_list\"][max_epoch][key][\"AUPRC\"])\n",
    "\n",
    "    record.append(file_name)\n",
    "    ans.append(record)\n",
    "\n",
    "ans = pd.DataFrame(ans,columns=para_name_list + [\"max_val_epoch\"] +\\\n",
    "             [f'{item}_AUROC' for item in domain_list] + \\\n",
    "                [f'{item}_AUPRC' for item in domain_list] +\\\n",
    "                    [f'val_{item}_AUROC' for item in domain_list] +\\\n",
    "                        [f'val_{item}_AUPRC' for item in domain_list] + [\"file_name\"])\n",
    "\n",
    "ans[\"normal_class\"] = ans[\"normal_class\"].astype(str)\n",
    "ans[\"anomaly_class\"] = ans[\"anomaly_class\"].astype(str)\n",
    "ans[\"AUROC_mean\"] = ans[[\"art_painting_AUROC\",\"cartoon_AUROC\",\"photo_AUROC\",\"sketch_AUROC\"]].mean(axis = 1)\n",
    "ans[\"AUPRC_mean\"] = ans[[\"art_painting_AUPRC\",\"cartoon_AUPRC\",\"photo_AUPRC\",\"sketch_AUPRC\"]].mean(axis = 1)\n",
    "ans[\"val_AUROC_mean\"] = ans[[\"val_art_painting_AUROC\",\"val_cartoon_AUROC\",\"val_photo_AUROC\",\"val_sketch_AUROC\"]].mean(axis = 1)\n",
    "ans[\"val_AUPRC_mean\"] = ans[[\"val_art_painting_AUPRC\",\"val_cartoon_AUPRC\",\"val_photo_AUPRC\",\"val_sketch_AUPRC\"]].mean(axis = 1)\n",
    "ans[\"normal_class\"] = ans[\"normal_class\"].apply(lambda x :re.sub(\"\\[|\\]|,\", \"\", x))\n",
    "ans[\"anomaly_class\"] = ans[\"anomaly_class\"].apply(lambda x :re.sub(\"\\[|\\]|,\", \"\", x))\n",
    "ans.head(5)"
   ]
  },
  {
   "cell_type": "code",
   "execution_count": 5,
   "metadata": {},
   "outputs": [],
   "source": [
    "# ans = ans[ans[\"epochs\"] != 2]\n",
    "# if dir_path.__contains__(\"devnet\"):\n",
    "#     ans = ans[ans[\"lr\"] != 0.00005]\n",
    "# ans = ans[ans[\"cnt\"] == 10]\n",
    "# ans = ans[ans[\"BalancedBatchSampler\"]==0]"
   ]
  },
  {
   "cell_type": "code",
   "execution_count": 6,
   "metadata": {},
   "outputs": [
    {
     "data": {
      "text/plain": [
       "0    400\n",
       "Name: normal_class, dtype: int64"
      ]
     },
     "execution_count": 6,
     "metadata": {},
     "output_type": "execute_result"
    }
   ],
   "source": [
    "ans[\"normal_class\"].value_counts()"
   ]
  },
  {
   "cell_type": "code",
   "execution_count": 7,
   "metadata": {},
   "outputs": [
    {
     "data": {
      "text/plain": [
       "0.02    96\n",
       "0.04    64\n",
       "0.12    60\n",
       "0.10    60\n",
       "0.06    60\n",
       "0.08    60\n",
       "Name: contamination_rate, dtype: int64"
      ]
     },
     "execution_count": 7,
     "metadata": {},
     "output_type": "execute_result"
    }
   ],
   "source": [
    "ans[\"contamination_rate\"].value_counts()"
   ]
  },
  {
   "cell_type": "code",
   "execution_count": 8,
   "metadata": {},
   "outputs": [
    {
     "data": {
      "text/plain": [
       "0    88\n",
       "1    84\n",
       "3    72\n",
       "2    72\n",
       "4    72\n",
       "5    12\n",
       "Name: cnt, dtype: int64"
      ]
     },
     "execution_count": 8,
     "metadata": {},
     "output_type": "execute_result"
    }
   ],
   "source": [
    "ans.cnt.value_counts()"
   ]
  },
  {
   "cell_type": "code",
   "execution_count": 9,
   "metadata": {},
   "outputs": [],
   "source": [
    "# pre_epochs_list = [10, 30, 50, 100]\n",
    "# pre_lr_list = [0.01, 0.001, 0.0001]\n",
    "# epochs_list = [10, 20, 30]\n",
    "# lr_list = [0.00001, 0.0001, 0.001]\n",
    "# cnt = [0, 1]\n",
    "# all_para_list = list(itertools.product(cnt, pre_epochs_list, pre_lr_list, epochs_list, lr_list))\n",
    "# remain_para = set(all_para_list) - set([tuple(item) for item in ans[[\"cnt\", \"pre_epochs\", \"pre_lr\", \"epochs\", \"lr\"]].values])\n",
    "# remain_para = pd.DataFrame(sorted(remain_para), columns=[\"cnt\", \"pre_epochs\", \"pre_lr\", \"epochs\", \"lr\"])\n",
    "# print(f\"./{dir_path.split('/')[-1]}_remain_para.csv\")\n",
    "# # remain_para.to_csv(f\"./{dir_path.split('/')[-1]}_remain_para.csv\",index=None, header=None)\n",
    "# remain_para"
   ]
  },
  {
   "cell_type": "code",
   "execution_count": 10,
   "metadata": {},
   "outputs": [],
   "source": [
    "# remain_para = set(all_para_list) - set([tuple(item) for item in ans[(ans[\"epochs\"]==30) & (ans[\"lr\"]==0.00005) & (ans[\"cnt\"] == 0)][[\"reg_lambda\", \"NCE_lambda\", \"PL_lambda\", \"cnt\"]].values])\n",
    "# remain_para = pd.DataFrame(remain_para, columns=[\"reg_lambda\", \"NCE_lambda\", \"PL_lambda\", \"cnt\"])\n",
    "# print(f\"./{dir_path.split('/')[-1]}_remain_para.csv\")\n",
    "# remain_para.to_csv(f\"./{dir_path.split('/')[-1]}_remain_para.csv\",index=None, header=None)\n",
    "# # remain_para\n",
    "# len(remain_para)"
   ]
  },
  {
   "cell_type": "code",
   "execution_count": 11,
   "metadata": {},
   "outputs": [],
   "source": [
    "# remain_para = set(all_para_list) - set([tuple(item) for item in ans[[\"normal_class\", \"epochs\", \"lr\", \"cnt\"]].values])\n",
    "# remain_para = pd.DataFrame(remain_para, columns=[\"normal_class\", \"epochs\", \"lr\", \"cnt\"])\n",
    "# remain_para.insert(1,\"anomaly_class\", remain_para.apply(lambda x: re.sub(\"\\{|,|\\}\",\"\", str(set([0,1,2,3,4,5,6]) - set(map(int, x[\"normal_class\"].split(\" \"))))), axis=1))\n",
    "# print(f\"./{dir_path.split('/')[-1]}_remain_para.csv\")\n",
    "# remain_para.to_csv(f\"./{dir_path.split('/')[-1]}_remain_para.csv\",index=None, header=None)\n",
    "# remain_para"
   ]
  },
  {
   "cell_type": "code",
   "execution_count": 12,
   "metadata": {},
   "outputs": [
    {
     "data": {
      "text/plain": [
       "['photo_AUROC',\n",
       " 'art_painting_AUROC',\n",
       " 'cartoon_AUROC',\n",
       " 'sketch_AUROC',\n",
       " 'val_photo_AUROC',\n",
       " 'val_art_painting_AUROC',\n",
       " 'val_cartoon_AUROC',\n",
       " 'val_sketch_AUROC',\n",
       " 'AUROC_mean',\n",
       " 'photo_AUPRC',\n",
       " 'art_painting_AUPRC',\n",
       " 'cartoon_AUPRC',\n",
       " 'sketch_AUPRC',\n",
       " 'AUPRC_mean']"
      ]
     },
     "execution_count": 12,
     "metadata": {},
     "output_type": "execute_result"
    }
   ],
   "source": [
    "if metric == \"AUPRC\":\n",
    "    columns_to_drop = ans.filter(like='AUROC').columns.to_list()\n",
    "    columns_to_drop.remove(\"val_AUROC_mean\")\n",
    "else:\n",
    "    columns_to_drop = ans.filter(like='AUPRC').columns.to_list()\n",
    "    columns_to_drop.remove(\"val_AUPRC_mean\")\n",
    "columns_to_drop = columns_to_drop + [f\"photo_{metric}\",f\"art_painting_{metric}\",f\"cartoon_{metric}\",f\"sketch_{metric}\",f\"{metric}_mean\"]\n",
    "ans = ans.drop(columns=columns_to_drop) \n",
    "columns_to_drop"
   ]
  },
  {
   "cell_type": "code",
   "execution_count": 13,
   "metadata": {},
   "outputs": [],
   "source": [
    "# agg_method = {\"cnt\":[\"count\"],\n",
    "#               \"max_val_epoch\":[\"mean\", \"std\"],\n",
    "#               f\"val_photo_{metric}\":[\"mean\", \"std\"],\n",
    "#               f\"val_art_painting_{metric}\":[\"mean\", \"std\"],\n",
    "#               f\"val_cartoon_{metric}\":[\"mean\", \"std\"],\n",
    "#               f\"val_sketch_{metric}\":[\"mean\", \"std\"],\n",
    "#               f\"val_{metric}_mean\":[\"mean\", \"std\"],\n",
    "#               f\"val_AUROC_mean\":[\"mean\", \"std\"],\n",
    "#               f\"val_AUPRC_mean\":[\"mean\", \"std\"],\n",
    "#               }\n",
    "\n",
    "# pd.set_option(\"display.max_columns\",None)\n",
    "# pd.set_option(\"display.max_rows\",None)\n",
    "\n",
    "# for normal_class in [\"0\", \"1\", \"2\", \"3\", \"4\", \"5\", \"6\"]:\n",
    "#     selected_records = ans[ans[\"normal_class\"] == normal_class].drop([\"normal_class\", \"anomaly_class\"],axis=1)\n",
    "#     # group_key = [\"pre_lr\", \"pre_epochs\", \"lr\", \"epochs\"]\n",
    "#     group_key = list(set(para_name_list) - set([\"normal_class\", \"anomaly_class\", \"cnt\"]))\n",
    "#     group_key.sort()\n",
    "#     # print(group_key)\n",
    "#     selected_records_anslysis = selected_records.groupby(group_key).agg(agg_method).sort_values(by=(f\"val_{metric}_mean\", \"mean\"), ascending=False)\n",
    "#     selected_para = selected_records_anslysis.index[0]\n",
    "#     # print(selected_para)\n",
    "#     selected_records_anslysis\n",
    "\n",
    "#     filter = None\n",
    "#     for idx, item in enumerate(group_key):\n",
    "#         if filter is None:\n",
    "#             filter = selected_records[item] == selected_para[idx]\n",
    "#         else:\n",
    "#             filter = filter & (selected_records[item] == selected_para[idx])\n",
    "#     temp = selected_records[filter].agg([\"mean\", \"std\"]).T\n",
    "#     temp[\"res\"] = temp.apply(lambda x: f'{round(x[\"mean\"] *100, 2)}({round(x[\"std\"] *100, 2)})', axis=1)\n",
    "#     for key in [f'val_{item}_{metric}' for item in domain_list]:\n",
    "#         print(temp.loc[key][\"res\"])\n",
    "#     print(f'{round(selected_records_anslysis.loc[selected_para][f\"val_{metric}_mean\"][\"mean\"] * 100, 2)}({round(selected_records_anslysis.loc[selected_para][f\"val_{metric}_mean\"][\"std\"] * 100, 2)})')\n",
    "#     selected_records[filter]"
   ]
  },
  {
   "cell_type": "code",
   "execution_count": 14,
   "metadata": {},
   "outputs": [
    {
     "name": "stdout",
     "output_type": "stream",
     "text": [
      "92.08(5.47)\n",
      "47.53(4.19)\n",
      "73.38(6.6)\n",
      "48.4(4.62)\n",
      "65.35(2.17)\n",
      "89.5(10.45)\n",
      "41.89(4.49)\n",
      "71.81(9.48)\n",
      "44.71(9.71)\n",
      "61.97(2.9)\n",
      "89.63(4.34)\n",
      "47.39(3.74)\n",
      "68.13(4.18)\n",
      "54.92(3.25)\n",
      "65.02(2.9)\n",
      "93.07(6.35)\n",
      "45.86(5.06)\n",
      "69.02(2.98)\n",
      "48.16(7.51)\n",
      "64.03(3.94)\n",
      "93.05(5.86)\n",
      "38.3(2.22)\n",
      "69.8(9.34)\n",
      "36.77(8.27)\n",
      "59.48(4.61)\n",
      "90.29(7.38)\n",
      "44.88(7.29)\n",
      "67.59(10.15)\n",
      "44.98(8.45)\n",
      "61.94(3.25)\n"
     ]
    },
    {
     "name": "stderr",
     "output_type": "stream",
     "text": [
      "/tmp/ipykernel_96653/4265299006.py:32: FutureWarning: ['file_name'] did not aggregate successfully. If any error is raised this will raise in a future version of pandas. Drop these columns/ops to avoid this warning.\n",
      "  temp = selected_records[filter].agg([\"mean\", \"std\"]).T\n",
      "/tmp/ipykernel_96653/4265299006.py:32: FutureWarning: ['file_name'] did not aggregate successfully. If any error is raised this will raise in a future version of pandas. Drop these columns/ops to avoid this warning.\n",
      "  temp = selected_records[filter].agg([\"mean\", \"std\"]).T\n",
      "/tmp/ipykernel_96653/4265299006.py:32: FutureWarning: ['file_name'] did not aggregate successfully. If any error is raised this will raise in a future version of pandas. Drop these columns/ops to avoid this warning.\n",
      "  temp = selected_records[filter].agg([\"mean\", \"std\"]).T\n",
      "/tmp/ipykernel_96653/4265299006.py:32: FutureWarning: ['file_name'] did not aggregate successfully. If any error is raised this will raise in a future version of pandas. Drop these columns/ops to avoid this warning.\n",
      "  temp = selected_records[filter].agg([\"mean\", \"std\"]).T\n",
      "/tmp/ipykernel_96653/4265299006.py:32: FutureWarning: ['file_name'] did not aggregate successfully. If any error is raised this will raise in a future version of pandas. Drop these columns/ops to avoid this warning.\n",
      "  temp = selected_records[filter].agg([\"mean\", \"std\"]).T\n",
      "/tmp/ipykernel_96653/4265299006.py:32: FutureWarning: ['file_name'] did not aggregate successfully. If any error is raised this will raise in a future version of pandas. Drop these columns/ops to avoid this warning.\n",
      "  temp = selected_records[filter].agg([\"mean\", \"std\"]).T\n"
     ]
    }
   ],
   "source": [
    "agg_method = {\"cnt\":[\"count\"],\n",
    "              \"max_val_epoch\":[\"mean\", \"std\"],\n",
    "              f\"val_photo_{metric}\":[\"mean\", \"std\"],\n",
    "              f\"val_art_painting_{metric}\":[\"mean\", \"std\"],\n",
    "              f\"val_cartoon_{metric}\":[\"mean\", \"std\"],\n",
    "              f\"val_sketch_{metric}\":[\"mean\", \"std\"],\n",
    "              f\"val_{metric}_mean\":[\"mean\", \"std\"],\n",
    "              f\"val_AUROC_mean\":[\"mean\", \"std\"],\n",
    "              f\"val_AUPRC_mean\":[\"mean\", \"std\"],\n",
    "              }\n",
    "\n",
    "pd.set_option(\"display.max_columns\",None)\n",
    "pd.set_option(\"display.max_rows\",None)\n",
    "\n",
    "for contamination_rate in [0.02, 0.04, 0.06, 0.08, 0.1, 0.12]:\n",
    "    selected_records = ans[ans[\"contamination_rate\"] == contamination_rate].drop([\"normal_class\", \"anomaly_class\"],axis=1)\n",
    "    # group_key = [\"pre_lr\", \"pre_epochs\", \"lr\", \"epochs\"]\n",
    "    group_key = list(set(para_name_list) - set([\"normal_class\", \"anomaly_class\", \"cnt\"]))\n",
    "    group_key.sort()\n",
    "    # print(group_key)\n",
    "    selected_records_anslysis = selected_records.groupby(group_key).agg(agg_method).sort_values(by=(f\"val_{metric}_mean\", \"mean\"), ascending=False)\n",
    "    selected_para = selected_records_anslysis.index[0]\n",
    "    # print(selected_para)\n",
    "    selected_records_anslysis\n",
    "\n",
    "    filter = None\n",
    "    for idx, item in enumerate(group_key):\n",
    "        if filter is None:\n",
    "            filter = selected_records[item] == selected_para[idx]\n",
    "        else:\n",
    "            filter = filter & (selected_records[item] == selected_para[idx])\n",
    "    temp = selected_records[filter].agg([\"mean\", \"std\"]).T\n",
    "    temp[\"res\"] = temp.apply(lambda x: f'{round(x[\"mean\"] *100, 2)}({round(x[\"std\"] *100, 2)})', axis=1)\n",
    "    for key in [f'val_{item}_{metric}' for item in domain_list]:\n",
    "        print(temp.loc[key][\"res\"])\n",
    "    print(f'{round(selected_records_anslysis.loc[selected_para][f\"val_{metric}_mean\"][\"mean\"] * 100, 2)}({round(selected_records_anslysis.loc[selected_para][f\"val_{metric}_mean\"][\"std\"] * 100, 2)})')\n",
    "    selected_records[filter]"
   ]
  },
  {
   "cell_type": "code",
   "execution_count": 15,
   "metadata": {},
   "outputs": [],
   "source": [
    "# remain_para = []\n",
    "# for item in selected_records_anslysis.index[:10]:\n",
    "#     remain_para.append(list(item))\n",
    "# remain_para = pd.DataFrame(remain_para)\n",
    "# remain_para.to_csv(f\"./{dir_path.split('/')[-1]}_remain_para.csv\",index=None, header=None)"
   ]
  },
  {
   "cell_type": "code",
   "execution_count": 16,
   "metadata": {},
   "outputs": [],
   "source": [
    "# remain_para = []\n",
    "# for item in selected_records_anslysis.index[:10]:\n",
    "#     remain_para.append([\"0\",\"1 2 3 4 5 6\",item[1],item[0],2])\n",
    "#     remain_para.append([\"0\",\"1 2 3 4 5 6\",item[1],item[0],3])\n",
    "#     remain_para.append([\"0\",\"1 2 3 4 5 6\",item[1],item[0],4])\n",
    "    \n",
    "# remain_para = pd.DataFrame(remain_para,columns=[\"normal_class\", \"anomaly_class\", \"epochs\", \"lr\", \"cnt\"])\n",
    "# # remain_para.to_csv(f\"./{dir_path.split('/')[-1]}_remain_para.csv\",index=None, header=None)\n",
    "# remain_para"
   ]
  },
  {
   "cell_type": "code",
   "execution_count": 17,
   "metadata": {},
   "outputs": [
    {
     "name": "stdout",
     "output_type": "stream",
     "text": [
      "['epochs', 'lr']\n",
      "(30, 0.0001)\n"
     ]
    },
    {
     "data": {
      "text/html": [
       "<div>\n",
       "<style scoped>\n",
       "    .dataframe tbody tr th:only-of-type {\n",
       "        vertical-align: middle;\n",
       "    }\n",
       "\n",
       "    .dataframe tbody tr th {\n",
       "        vertical-align: top;\n",
       "    }\n",
       "\n",
       "    .dataframe thead tr th {\n",
       "        text-align: left;\n",
       "    }\n",
       "\n",
       "    .dataframe thead tr:last-of-type th {\n",
       "        text-align: right;\n",
       "    }\n",
       "</style>\n",
       "<table border=\"1\" class=\"dataframe\">\n",
       "  <thead>\n",
       "    <tr>\n",
       "      <th></th>\n",
       "      <th></th>\n",
       "      <th>cnt</th>\n",
       "      <th colspan=\"2\" halign=\"left\">max_val_epoch</th>\n",
       "      <th colspan=\"2\" halign=\"left\">val_photo_AUPRC</th>\n",
       "      <th colspan=\"2\" halign=\"left\">val_art_painting_AUPRC</th>\n",
       "      <th colspan=\"2\" halign=\"left\">val_cartoon_AUPRC</th>\n",
       "      <th colspan=\"2\" halign=\"left\">val_sketch_AUPRC</th>\n",
       "      <th colspan=\"2\" halign=\"left\">val_AUPRC_mean</th>\n",
       "      <th colspan=\"2\" halign=\"left\">val_AUROC_mean</th>\n",
       "    </tr>\n",
       "    <tr>\n",
       "      <th></th>\n",
       "      <th></th>\n",
       "      <th>count</th>\n",
       "      <th>mean</th>\n",
       "      <th>std</th>\n",
       "      <th>mean</th>\n",
       "      <th>std</th>\n",
       "      <th>mean</th>\n",
       "      <th>std</th>\n",
       "      <th>mean</th>\n",
       "      <th>std</th>\n",
       "      <th>mean</th>\n",
       "      <th>std</th>\n",
       "      <th>mean</th>\n",
       "      <th>std</th>\n",
       "      <th>mean</th>\n",
       "      <th>std</th>\n",
       "    </tr>\n",
       "    <tr>\n",
       "      <th>epochs</th>\n",
       "      <th>lr</th>\n",
       "      <th></th>\n",
       "      <th></th>\n",
       "      <th></th>\n",
       "      <th></th>\n",
       "      <th></th>\n",
       "      <th></th>\n",
       "      <th></th>\n",
       "      <th></th>\n",
       "      <th></th>\n",
       "      <th></th>\n",
       "      <th></th>\n",
       "      <th></th>\n",
       "      <th></th>\n",
       "      <th></th>\n",
       "      <th></th>\n",
       "    </tr>\n",
       "  </thead>\n",
       "  <tbody>\n",
       "    <tr>\n",
       "      <th>30</th>\n",
       "      <th>0.00010</th>\n",
       "      <td>5</td>\n",
       "      <td>0.200000</td>\n",
       "      <td>0.447214</td>\n",
       "      <td>0.894960</td>\n",
       "      <td>0.104476</td>\n",
       "      <td>0.418854</td>\n",
       "      <td>0.044867</td>\n",
       "      <td>0.718057</td>\n",
       "      <td>0.094840</td>\n",
       "      <td>0.447096</td>\n",
       "      <td>0.097068</td>\n",
       "      <td>0.619742</td>\n",
       "      <td>0.029005</td>\n",
       "      <td>0.892358</td>\n",
       "      <td>0.033199</td>\n",
       "    </tr>\n",
       "    <tr>\n",
       "      <th>20</th>\n",
       "      <th>0.00010</th>\n",
       "      <td>6</td>\n",
       "      <td>0.666667</td>\n",
       "      <td>1.032796</td>\n",
       "      <td>0.932011</td>\n",
       "      <td>0.049319</td>\n",
       "      <td>0.378765</td>\n",
       "      <td>0.115592</td>\n",
       "      <td>0.710041</td>\n",
       "      <td>0.141011</td>\n",
       "      <td>0.452627</td>\n",
       "      <td>0.096651</td>\n",
       "      <td>0.618361</td>\n",
       "      <td>0.041416</td>\n",
       "      <td>0.882329</td>\n",
       "      <td>0.043673</td>\n",
       "    </tr>\n",
       "    <tr>\n",
       "      <th>40</th>\n",
       "      <th>0.00010</th>\n",
       "      <td>5</td>\n",
       "      <td>0.000000</td>\n",
       "      <td>0.000000</td>\n",
       "      <td>0.928730</td>\n",
       "      <td>0.054713</td>\n",
       "      <td>0.437689</td>\n",
       "      <td>0.048899</td>\n",
       "      <td>0.672829</td>\n",
       "      <td>0.079117</td>\n",
       "      <td>0.427688</td>\n",
       "      <td>0.058752</td>\n",
       "      <td>0.616734</td>\n",
       "      <td>0.024700</td>\n",
       "      <td>0.903131</td>\n",
       "      <td>0.012680</td>\n",
       "    </tr>\n",
       "    <tr>\n",
       "      <th>30</th>\n",
       "      <th>0.00005</th>\n",
       "      <td>5</td>\n",
       "      <td>0.800000</td>\n",
       "      <td>0.447214</td>\n",
       "      <td>0.888532</td>\n",
       "      <td>0.046922</td>\n",
       "      <td>0.413556</td>\n",
       "      <td>0.066217</td>\n",
       "      <td>0.660501</td>\n",
       "      <td>0.037933</td>\n",
       "      <td>0.466346</td>\n",
       "      <td>0.052928</td>\n",
       "      <td>0.607234</td>\n",
       "      <td>0.023386</td>\n",
       "      <td>0.893300</td>\n",
       "      <td>0.026079</td>\n",
       "    </tr>\n",
       "    <tr>\n",
       "      <th rowspan=\"2\" valign=\"top\">20</th>\n",
       "      <th>0.00005</th>\n",
       "      <td>6</td>\n",
       "      <td>4.166667</td>\n",
       "      <td>6.911343</td>\n",
       "      <td>0.873710</td>\n",
       "      <td>0.087863</td>\n",
       "      <td>0.425830</td>\n",
       "      <td>0.069785</td>\n",
       "      <td>0.667587</td>\n",
       "      <td>0.080365</td>\n",
       "      <td>0.439999</td>\n",
       "      <td>0.066460</td>\n",
       "      <td>0.601782</td>\n",
       "      <td>0.031112</td>\n",
       "      <td>0.879242</td>\n",
       "      <td>0.024073</td>\n",
       "    </tr>\n",
       "    <tr>\n",
       "      <th>0.00001</th>\n",
       "      <td>6</td>\n",
       "      <td>6.333333</td>\n",
       "      <td>2.065591</td>\n",
       "      <td>0.813823</td>\n",
       "      <td>0.038919</td>\n",
       "      <td>0.431683</td>\n",
       "      <td>0.047871</td>\n",
       "      <td>0.624498</td>\n",
       "      <td>0.013172</td>\n",
       "      <td>0.452881</td>\n",
       "      <td>0.056174</td>\n",
       "      <td>0.580721</td>\n",
       "      <td>0.017260</td>\n",
       "      <td>0.882759</td>\n",
       "      <td>0.015393</td>\n",
       "    </tr>\n",
       "    <tr>\n",
       "      <th>30</th>\n",
       "      <th>0.00001</th>\n",
       "      <td>5</td>\n",
       "      <td>8.600000</td>\n",
       "      <td>5.412947</td>\n",
       "      <td>0.814167</td>\n",
       "      <td>0.062936</td>\n",
       "      <td>0.375032</td>\n",
       "      <td>0.044154</td>\n",
       "      <td>0.640528</td>\n",
       "      <td>0.044043</td>\n",
       "      <td>0.492315</td>\n",
       "      <td>0.042632</td>\n",
       "      <td>0.580510</td>\n",
       "      <td>0.011484</td>\n",
       "      <td>0.878278</td>\n",
       "      <td>0.018795</td>\n",
       "    </tr>\n",
       "    <tr>\n",
       "      <th rowspan=\"2\" valign=\"top\">40</th>\n",
       "      <th>0.00005</th>\n",
       "      <td>5</td>\n",
       "      <td>8.800000</td>\n",
       "      <td>15.786070</td>\n",
       "      <td>0.834286</td>\n",
       "      <td>0.125173</td>\n",
       "      <td>0.373389</td>\n",
       "      <td>0.142259</td>\n",
       "      <td>0.687066</td>\n",
       "      <td>0.095742</td>\n",
       "      <td>0.424005</td>\n",
       "      <td>0.087444</td>\n",
       "      <td>0.579686</td>\n",
       "      <td>0.080750</td>\n",
       "      <td>0.880140</td>\n",
       "      <td>0.048905</td>\n",
       "    </tr>\n",
       "    <tr>\n",
       "      <th>0.00001</th>\n",
       "      <td>5</td>\n",
       "      <td>6.000000</td>\n",
       "      <td>0.707107</td>\n",
       "      <td>0.769167</td>\n",
       "      <td>0.038220</td>\n",
       "      <td>0.448607</td>\n",
       "      <td>0.022241</td>\n",
       "      <td>0.633175</td>\n",
       "      <td>0.055572</td>\n",
       "      <td>0.449562</td>\n",
       "      <td>0.093023</td>\n",
       "      <td>0.575128</td>\n",
       "      <td>0.033945</td>\n",
       "      <td>0.881219</td>\n",
       "      <td>0.010642</td>\n",
       "    </tr>\n",
       "    <tr>\n",
       "      <th>30</th>\n",
       "      <th>0.00050</th>\n",
       "      <td>5</td>\n",
       "      <td>2.000000</td>\n",
       "      <td>1.732051</td>\n",
       "      <td>0.512741</td>\n",
       "      <td>0.267528</td>\n",
       "      <td>0.234779</td>\n",
       "      <td>0.094485</td>\n",
       "      <td>0.388918</td>\n",
       "      <td>0.214114</td>\n",
       "      <td>0.205008</td>\n",
       "      <td>0.070891</td>\n",
       "      <td>0.335362</td>\n",
       "      <td>0.112168</td>\n",
       "      <td>0.705815</td>\n",
       "      <td>0.116298</td>\n",
       "    </tr>\n",
       "    <tr>\n",
       "      <th>20</th>\n",
       "      <th>0.00050</th>\n",
       "      <td>6</td>\n",
       "      <td>5.666667</td>\n",
       "      <td>3.881580</td>\n",
       "      <td>0.561802</td>\n",
       "      <td>0.153226</td>\n",
       "      <td>0.312007</td>\n",
       "      <td>0.177939</td>\n",
       "      <td>0.244333</td>\n",
       "      <td>0.131154</td>\n",
       "      <td>0.191688</td>\n",
       "      <td>0.179099</td>\n",
       "      <td>0.327458</td>\n",
       "      <td>0.045357</td>\n",
       "      <td>0.668809</td>\n",
       "      <td>0.056732</td>\n",
       "    </tr>\n",
       "    <tr>\n",
       "      <th>40</th>\n",
       "      <th>0.00050</th>\n",
       "      <td>5</td>\n",
       "      <td>10.000000</td>\n",
       "      <td>9.669540</td>\n",
       "      <td>0.595041</td>\n",
       "      <td>0.209335</td>\n",
       "      <td>0.181333</td>\n",
       "      <td>0.097772</td>\n",
       "      <td>0.324252</td>\n",
       "      <td>0.134190</td>\n",
       "      <td>0.140554</td>\n",
       "      <td>0.147902</td>\n",
       "      <td>0.310295</td>\n",
       "      <td>0.082024</td>\n",
       "      <td>0.724509</td>\n",
       "      <td>0.093660</td>\n",
       "    </tr>\n",
       "  </tbody>\n",
       "</table>\n",
       "</div>"
      ],
      "text/plain": [
       "                 cnt max_val_epoch            val_photo_AUPRC            \\\n",
       "               count          mean        std            mean       std   \n",
       "epochs lr                                                                 \n",
       "30     0.00010     5      0.200000   0.447214        0.894960  0.104476   \n",
       "20     0.00010     6      0.666667   1.032796        0.932011  0.049319   \n",
       "40     0.00010     5      0.000000   0.000000        0.928730  0.054713   \n",
       "30     0.00005     5      0.800000   0.447214        0.888532  0.046922   \n",
       "20     0.00005     6      4.166667   6.911343        0.873710  0.087863   \n",
       "       0.00001     6      6.333333   2.065591        0.813823  0.038919   \n",
       "30     0.00001     5      8.600000   5.412947        0.814167  0.062936   \n",
       "40     0.00005     5      8.800000  15.786070        0.834286  0.125173   \n",
       "       0.00001     5      6.000000   0.707107        0.769167  0.038220   \n",
       "30     0.00050     5      2.000000   1.732051        0.512741  0.267528   \n",
       "20     0.00050     6      5.666667   3.881580        0.561802  0.153226   \n",
       "40     0.00050     5     10.000000   9.669540        0.595041  0.209335   \n",
       "\n",
       "               val_art_painting_AUPRC           val_cartoon_AUPRC            \\\n",
       "                                 mean       std              mean       std   \n",
       "epochs lr                                                                     \n",
       "30     0.00010               0.418854  0.044867          0.718057  0.094840   \n",
       "20     0.00010               0.378765  0.115592          0.710041  0.141011   \n",
       "40     0.00010               0.437689  0.048899          0.672829  0.079117   \n",
       "30     0.00005               0.413556  0.066217          0.660501  0.037933   \n",
       "20     0.00005               0.425830  0.069785          0.667587  0.080365   \n",
       "       0.00001               0.431683  0.047871          0.624498  0.013172   \n",
       "30     0.00001               0.375032  0.044154          0.640528  0.044043   \n",
       "40     0.00005               0.373389  0.142259          0.687066  0.095742   \n",
       "       0.00001               0.448607  0.022241          0.633175  0.055572   \n",
       "30     0.00050               0.234779  0.094485          0.388918  0.214114   \n",
       "20     0.00050               0.312007  0.177939          0.244333  0.131154   \n",
       "40     0.00050               0.181333  0.097772          0.324252  0.134190   \n",
       "\n",
       "               val_sketch_AUPRC           val_AUPRC_mean            \\\n",
       "                           mean       std           mean       std   \n",
       "epochs lr                                                            \n",
       "30     0.00010         0.447096  0.097068       0.619742  0.029005   \n",
       "20     0.00010         0.452627  0.096651       0.618361  0.041416   \n",
       "40     0.00010         0.427688  0.058752       0.616734  0.024700   \n",
       "30     0.00005         0.466346  0.052928       0.607234  0.023386   \n",
       "20     0.00005         0.439999  0.066460       0.601782  0.031112   \n",
       "       0.00001         0.452881  0.056174       0.580721  0.017260   \n",
       "30     0.00001         0.492315  0.042632       0.580510  0.011484   \n",
       "40     0.00005         0.424005  0.087444       0.579686  0.080750   \n",
       "       0.00001         0.449562  0.093023       0.575128  0.033945   \n",
       "30     0.00050         0.205008  0.070891       0.335362  0.112168   \n",
       "20     0.00050         0.191688  0.179099       0.327458  0.045357   \n",
       "40     0.00050         0.140554  0.147902       0.310295  0.082024   \n",
       "\n",
       "               val_AUROC_mean            \n",
       "                         mean       std  \n",
       "epochs lr                                \n",
       "30     0.00010       0.892358  0.033199  \n",
       "20     0.00010       0.882329  0.043673  \n",
       "40     0.00010       0.903131  0.012680  \n",
       "30     0.00005       0.893300  0.026079  \n",
       "20     0.00005       0.879242  0.024073  \n",
       "       0.00001       0.882759  0.015393  \n",
       "30     0.00001       0.878278  0.018795  \n",
       "40     0.00005       0.880140  0.048905  \n",
       "       0.00001       0.881219  0.010642  \n",
       "30     0.00050       0.705815  0.116298  \n",
       "20     0.00050       0.668809  0.056732  \n",
       "40     0.00050       0.724509  0.093660  "
      ]
     },
     "execution_count": 17,
     "metadata": {},
     "output_type": "execute_result"
    }
   ],
   "source": [
    "agg_method = {\"cnt\":[\"count\"],\n",
    "              \"max_val_epoch\":[\"mean\", \"std\"],\n",
    "              f\"val_photo_{metric}\":[\"mean\", \"std\"],\n",
    "              f\"val_art_painting_{metric}\":[\"mean\", \"std\"],\n",
    "              f\"val_cartoon_{metric}\":[\"mean\", \"std\"],\n",
    "              f\"val_sketch_{metric}\":[\"mean\", \"std\"],\n",
    "              f\"val_{metric}_mean\":[\"mean\", \"std\"],\n",
    "              f\"val_AUROC_mean\":[\"mean\", \"std\"],\n",
    "              f\"val_AUPRC_mean\":[\"mean\", \"std\"],\n",
    "              }\n",
    "\n",
    "pd.set_option(\"display.max_columns\",None)\n",
    "pd.set_option(\"display.max_rows\",None)\n",
    "group_key = list(set(para_name_list) - set([\"normal_class\", \"anomaly_class\", \"cnt\"]))\n",
    "\n",
    "if dir_path.__contains__(\"contamination\"):\n",
    "    contamination_rate = 0.04\n",
    "    selected_records = ans[ans[\"contamination_rate\"] == contamination_rate].drop([\"normal_class\", \"anomaly_class\"],axis=1)\n",
    "    group_key = list(set(group_key) - set([\"contamination_rate\"]))\n",
    "else:\n",
    "    normal_class = '0'\n",
    "    selected_records = ans[ans[\"normal_class\"] == normal_class].drop([\"normal_class\", \"anomaly_class\"],axis=1)\n",
    "# group_key = [\"pre_lr\", \"pre_epochs\", \"lr\", \"epochs\"]\n",
    "group_key\n",
    "group_key.sort()\n",
    "print(group_key)\n",
    "selected_records_anslysis = selected_records.groupby(group_key).agg(agg_method).sort_values(by=(f\"val_{metric}_mean\", \"mean\"), ascending=False)\n",
    "selected_para = selected_records_anslysis.index[0]\n",
    "print(selected_para)\n",
    "selected_records_anslysis"
   ]
  },
  {
   "cell_type": "code",
   "execution_count": 19,
   "metadata": {},
   "outputs": [],
   "source": [
    "# tmp = pd.DataFrame([[\"0\",\"1\",\"1\",\"1\"],\n",
    "# [\"1\",\"1\",\"1\",\"0\"],\n",
    "# [\"1\",\"1\",\"0\",\"1\"],\n",
    "# [\"0\",\"1\",\"1\",\"0\"],\n",
    "# [\"0\",\"1\",\"0\",\"1\"],\n",
    "# [\"1\",\"1\",\"0\",\"0\"],\n",
    "# [\"1\",\"0\",\"0\",\"1\"],\n",
    "# [\"1\",\"0\",\"0\",\"0\"],\n",
    "# [\"0\",\"0\",\"0\",\"1\"],\n",
    "# [\"0\",\"0\",\"0\",\"0\"],], columns = [\"NCE_lambda\",\"PL_lambda\",\"class_lambda\",\"reg_lambda\"], dtype=float)\n",
    "\n",
    "# for item in list(map(tuple,tmp.to_numpy())):\n",
    "#     record = selected_records_anslysis.loc[item]\n",
    "#     for key in [f'val_{item}_{metric}' for item in domain_list]:\n",
    "#         print(f'{round(record.loc[key][\"mean\"] * 100, 2)}({round(record.loc[key][\"std\"] * 100, 2)})', end='\\t')\n",
    "#     print(f'{round(record[f\"val_{metric}_mean\"][\"mean\"] * 100, 2)}({round(record[f\"val_{metric}_mean\"][\"std\"] * 100, 2)})', end='\\t')\n",
    "#     print()"
   ]
  },
  {
   "cell_type": "code",
   "execution_count": 21,
   "metadata": {},
   "outputs": [
    {
     "name": "stdout",
     "output_type": "stream",
     "text": [
      "89.5(10.45)\n",
      "41.89(4.49)\n",
      "71.81(9.48)\n",
      "44.71(9.71)\n",
      "61.97(2.9)\n"
     ]
    },
    {
     "name": "stderr",
     "output_type": "stream",
     "text": [
      "/tmp/ipykernel_96653/1079342940.py:7: FutureWarning: ['file_name'] did not aggregate successfully. If any error is raised this will raise in a future version of pandas. Drop these columns/ops to avoid this warning.\n",
      "  temp = selected_records[filter].agg([\"mean\", \"std\"]).T\n"
     ]
    },
    {
     "data": {
      "text/html": [
       "<div>\n",
       "<style scoped>\n",
       "    .dataframe tbody tr th:only-of-type {\n",
       "        vertical-align: middle;\n",
       "    }\n",
       "\n",
       "    .dataframe tbody tr th {\n",
       "        vertical-align: top;\n",
       "    }\n",
       "\n",
       "    .dataframe thead th {\n",
       "        text-align: right;\n",
       "    }\n",
       "</style>\n",
       "<table border=\"1\" class=\"dataframe\">\n",
       "  <thead>\n",
       "    <tr style=\"text-align: right;\">\n",
       "      <th></th>\n",
       "      <th>lr</th>\n",
       "      <th>epochs</th>\n",
       "      <th>cnt</th>\n",
       "      <th>contamination_rate</th>\n",
       "      <th>max_val_epoch</th>\n",
       "      <th>val_photo_AUPRC</th>\n",
       "      <th>val_art_painting_AUPRC</th>\n",
       "      <th>val_cartoon_AUPRC</th>\n",
       "      <th>val_sketch_AUPRC</th>\n",
       "      <th>file_name</th>\n",
       "      <th>val_AUROC_mean</th>\n",
       "      <th>val_AUPRC_mean</th>\n",
       "    </tr>\n",
       "  </thead>\n",
       "  <tbody>\n",
       "    <tr>\n",
       "      <th>162</th>\n",
       "      <td>0.0001</td>\n",
       "      <td>30</td>\n",
       "      <td>1</td>\n",
       "      <td>0.04</td>\n",
       "      <td>1</td>\n",
       "      <td>1.000000</td>\n",
       "      <td>0.355304</td>\n",
       "      <td>0.688258</td>\n",
       "      <td>0.330475</td>\n",
       "      <td>method=16,backbone=DGAD15,domain_cnt=3,normal_...</td>\n",
       "      <td>0.843525</td>\n",
       "      <td>0.593509</td>\n",
       "    </tr>\n",
       "    <tr>\n",
       "      <th>233</th>\n",
       "      <td>0.0001</td>\n",
       "      <td>30</td>\n",
       "      <td>3</td>\n",
       "      <td>0.04</td>\n",
       "      <td>0</td>\n",
       "      <td>0.759722</td>\n",
       "      <td>0.463708</td>\n",
       "      <td>0.583225</td>\n",
       "      <td>0.531040</td>\n",
       "      <td>method=16,backbone=DGAD15,domain_cnt=3,normal_...</td>\n",
       "      <td>0.883133</td>\n",
       "      <td>0.584424</td>\n",
       "    </tr>\n",
       "    <tr>\n",
       "      <th>254</th>\n",
       "      <td>0.0001</td>\n",
       "      <td>30</td>\n",
       "      <td>4</td>\n",
       "      <td>0.04</td>\n",
       "      <td>0</td>\n",
       "      <td>0.841667</td>\n",
       "      <td>0.434232</td>\n",
       "      <td>0.841667</td>\n",
       "      <td>0.429048</td>\n",
       "      <td>method=16,backbone=DGAD15,domain_cnt=3,normal_...</td>\n",
       "      <td>0.889048</td>\n",
       "      <td>0.636653</td>\n",
       "    </tr>\n",
       "    <tr>\n",
       "      <th>265</th>\n",
       "      <td>0.0001</td>\n",
       "      <td>30</td>\n",
       "      <td>2</td>\n",
       "      <td>0.04</td>\n",
       "      <td>0</td>\n",
       "      <td>1.000000</td>\n",
       "      <td>0.390849</td>\n",
       "      <td>0.758449</td>\n",
       "      <td>0.384623</td>\n",
       "      <td>method=16,backbone=DGAD15,domain_cnt=3,normal_...</td>\n",
       "      <td>0.918301</td>\n",
       "      <td>0.633480</td>\n",
       "    </tr>\n",
       "    <tr>\n",
       "      <th>311</th>\n",
       "      <td>0.0001</td>\n",
       "      <td>30</td>\n",
       "      <td>0</td>\n",
       "      <td>0.04</td>\n",
       "      <td>0</td>\n",
       "      <td>0.873413</td>\n",
       "      <td>0.450178</td>\n",
       "      <td>0.718687</td>\n",
       "      <td>0.560293</td>\n",
       "      <td>method=16,backbone=DGAD15,domain_cnt=3,normal_...</td>\n",
       "      <td>0.927783</td>\n",
       "      <td>0.650643</td>\n",
       "    </tr>\n",
       "  </tbody>\n",
       "</table>\n",
       "</div>"
      ],
      "text/plain": [
       "         lr  epochs  cnt  contamination_rate  max_val_epoch  val_photo_AUPRC  \\\n",
       "162  0.0001      30    1                0.04              1         1.000000   \n",
       "233  0.0001      30    3                0.04              0         0.759722   \n",
       "254  0.0001      30    4                0.04              0         0.841667   \n",
       "265  0.0001      30    2                0.04              0         1.000000   \n",
       "311  0.0001      30    0                0.04              0         0.873413   \n",
       "\n",
       "     val_art_painting_AUPRC  val_cartoon_AUPRC  val_sketch_AUPRC  \\\n",
       "162                0.355304           0.688258          0.330475   \n",
       "233                0.463708           0.583225          0.531040   \n",
       "254                0.434232           0.841667          0.429048   \n",
       "265                0.390849           0.758449          0.384623   \n",
       "311                0.450178           0.718687          0.560293   \n",
       "\n",
       "                                             file_name  val_AUROC_mean  \\\n",
       "162  method=16,backbone=DGAD15,domain_cnt=3,normal_...        0.843525   \n",
       "233  method=16,backbone=DGAD15,domain_cnt=3,normal_...        0.883133   \n",
       "254  method=16,backbone=DGAD15,domain_cnt=3,normal_...        0.889048   \n",
       "265  method=16,backbone=DGAD15,domain_cnt=3,normal_...        0.918301   \n",
       "311  method=16,backbone=DGAD15,domain_cnt=3,normal_...        0.927783   \n",
       "\n",
       "     val_AUPRC_mean  \n",
       "162        0.593509  \n",
       "233        0.584424  \n",
       "254        0.636653  \n",
       "265        0.633480  \n",
       "311        0.650643  "
      ]
     },
     "execution_count": 21,
     "metadata": {},
     "output_type": "execute_result"
    }
   ],
   "source": [
    "filter = None\n",
    "for idx, item in enumerate(group_key):\n",
    "    if filter is None:\n",
    "        filter = selected_records[item] == selected_para[idx]\n",
    "    else:\n",
    "        filter = filter & (selected_records[item] == selected_para[idx])\n",
    "temp = selected_records[filter].agg([\"mean\", \"std\"]).T\n",
    "temp[\"res\"] = temp.apply(lambda x: f'{round(x[\"mean\"] *100, 2)}({round(x[\"std\"] *100, 2)})', axis=1)\n",
    "for key in [f'val_{item}_{metric}' for item in domain_list]:\n",
    "    print(temp.loc[key][\"res\"])\n",
    "print(f'{round(selected_records_anslysis.loc[selected_para][f\"val_{metric}_mean\"][\"mean\"] * 100, 2)}({round(selected_records_anslysis.loc[selected_para][f\"val_{metric}_mean\"][\"std\"] * 100, 2)})')\n",
    "selected_records[filter]"
   ]
  },
  {
   "cell_type": "code",
   "execution_count": 22,
   "metadata": {},
   "outputs": [
    {
     "data": {
      "text/plain": [
       "NpzFile '../results/DGAD/method16_contamination/method=16,backbone=DGAD15,domain_cnt=3,normal_class=[0],anomaly_class=[1, 2, 3, 4, 5, 6],batch_size=30,steps_per_epoch=20,epochs=30,lr=0.0001,contamination=0.04,reg_lambda=1.0,NCE_lambda=1.0,PL_lambda=1.0,class_lambda=1.0,cnt=1.npz' with keys: val_max_metric, train_results_loss, sub_train_results_loss, val_results_loss, val_AUROC_list..."
      ]
     },
     "execution_count": 22,
     "metadata": {},
     "output_type": "execute_result"
    }
   ],
   "source": [
    "file_name = selected_records[filter].file_name.iloc[0]\n",
    "data = np.load(f'{dir_path}/{file_name}', allow_pickle=True)\n",
    "data"
   ]
  },
  {
   "cell_type": "code",
   "execution_count": 23,
   "metadata": {},
   "outputs": [],
   "source": [
    "\n",
    "# # data = np.load(f'{dir_path}/{file_name}', allow_pickle=True)\n",
    "# file_name = 'results/DGAD/VAE_LPIPS/method=VAE_LPIPS,backbone=VAE,domain_cnt=3,normal_class=[0],anomaly_class=[1, 2, 3, 4, 5, 6],batch_size=30,steps_per_epoch=20,epochs=250,lr=0.0001,tau1=0.07,tau2=0.07,reg_lambda=1.0,NCE_lambda=1.0,PL_lambda=1.0,BalancedBatchSampler=1,cnt=2.npz'\n",
    "# data = np.load(f'../{file_name}', allow_pickle=True)\n",
    "# data\n",
    "# max_val_epoch = data[\"val_max_metric\"].item()[\"epoch\"]\n",
    "# plt.plot(data[\"train_results_loss\"].mean(axis=1)[0:], label = \"train\")\n",
    "# plt.axvline(x=max_val_epoch, color='r', linestyle='--')\n",
    "# plt.plot(data[\"val_results_loss\"].mean(axis=1), label = \"val\")\n",
    "# plt.legend()\n",
    "# data[\"train_results_loss\"].mean(axis=1)[-10:], data[\"val_results_loss\"].mean(axis=1)[-10:]"
   ]
  },
  {
   "cell_type": "code",
   "execution_count": 24,
   "metadata": {},
   "outputs": [],
   "source": [
    "# tmp_list = []\n",
    "# for file_name in selected_records[filter].file_name:\n",
    "#     data = np.load(f'{dir_path}/{file_name}', allow_pickle=True)\n",
    "#     domain_test_trends = dict()\n",
    "#     for domain in domain_list:\n",
    "#         domain_test_trends[domain]={\n",
    "#             \"test_loss_list\":[],\n",
    "#             \"AUROC\":[],\n",
    "#             \"AUPRC\":[],\n",
    "#         }\n",
    "\n",
    "#     for res in data[\"test_results_list\"]:\n",
    "#         if res is not None:\n",
    "#             for key in res:\n",
    "#                 domain_test_trends[key][\"test_loss_list\"].append(np.array(res[key][\"test_loss_list\"]).mean())\n",
    "#                 domain_test_trends[key][\"AUROC\"].append(res[key][\"AUROC\"])\n",
    "#                 domain_test_trends[key][\"AUPRC\"].append(res[key][\"AUPRC\"])\n",
    "#     tmp = []\n",
    "#     for domain in domain_list:\n",
    "#         tmp.append(domain_test_trends[domain][metric][-1]) \n",
    "#     tmp.append(np.mean(tmp))\n",
    "#     tmp_list.append(tmp)\n",
    "\n",
    "# pd.DataFrame(tmp_list, columns = domain_list + [metric]).agg([\"mean\", \"std\"])"
   ]
  },
  {
   "cell_type": "code",
   "execution_count": null,
   "metadata": {},
   "outputs": [],
   "source": []
  },
  {
   "cell_type": "code",
   "execution_count": 25,
   "metadata": {},
   "outputs": [],
   "source": [
    "domain_test_trends = dict()\n",
    "for domain in domain_list:\n",
    "    domain_test_trends[domain]={\n",
    "        \"test_loss_list\":[],\n",
    "        \"AUROC\":[],\n",
    "        \"AUPRC\":[],\n",
    "    }\n",
    "\n",
    "domain_test_trends\n",
    "for res in data[\"test_results_list\"]:\n",
    "    if res is not None:\n",
    "        for key in res:\n",
    "            domain_test_trends[key][\"test_loss_list\"].append(np.array(res[key][\"test_loss_list\"]).mean())\n",
    "            domain_test_trends[key][\"AUROC\"].append(res[key][\"AUROC\"])\n",
    "            domain_test_trends[key][\"AUPRC\"].append(res[key][\"AUPRC\"])"
   ]
  },
  {
   "cell_type": "markdown",
   "metadata": {},
   "source": [
    "### 训练过程中 模型在test上下降趋势"
   ]
  },
  {
   "cell_type": "code",
   "execution_count": 26,
   "metadata": {},
   "outputs": [
    {
     "data": {
      "text/plain": [
       "(30, 5)"
      ]
     },
     "execution_count": 26,
     "metadata": {},
     "output_type": "execute_result"
    }
   ],
   "source": [
    "data[\"args\"].item()[\"epochs\"], data[\"args\"].item()[\"test_epoch\"]"
   ]
  },
  {
   "cell_type": "code",
   "execution_count": 27,
   "metadata": {},
   "outputs": [
    {
     "data": {
      "text/plain": [
       "(30,)"
      ]
     },
     "execution_count": 27,
     "metadata": {},
     "output_type": "execute_result"
    }
   ],
   "source": [
    "data[\"test_results_list\"].shape"
   ]
  },
  {
   "cell_type": "code",
   "execution_count": 28,
   "metadata": {},
   "outputs": [
    {
     "name": "stdout",
     "output_type": "stream",
     "text": [
      "1\n",
      "photo [0.9107142857142856, 0.7884920634920635, 0.44246031746031744, 0.8305555555555555, 0.7165616246498598, 0.7551587301587301, 0.6952380952380952]\n",
      "art_painting [0.5088340891912321, 0.3592151675485009, 0.1464726631393298, 0.28467302230842995, 0.30952985269693223, 0.30244173307536193, 0.3057660054829866]\n",
      "cartoon [0.642361111111111, 0.7170893719806762, 0.4702889702889703, 0.6452241715399609, 0.6220412141464773, 0.6104497354497355, 0.6119047619047618]\n",
      "sketch [0.482627348756381, 0.40689187355854023, 0.2929974141295863, 0.43525655101742056, 0.35768969418844265, 0.40186046511627904, 0.3636090995538]\n"
     ]
    },
    {
     "data": {
      "image/png": "[encoded data removed]",
      "text/plain": [
       "<Figure size 2200x400 with 4 Axes>"
      ]
     },
     "metadata": {},
     "output_type": "display_data"
    },
    {
     "name": "stdout",
     "output_type": "stream",
     "text": [
      "1\n",
      "photo 1.0\n",
      "art_painting 0.35530441400304413\n",
      "cartoon 0.6882575757575757\n",
      "sketch 0.33047527730652354\n"
     ]
    }
   ],
   "source": [
    "max_val_epoch = data[\"val_max_metric\"].item()['epoch']\n",
    "print(max_val_epoch)\n",
    "\n",
    "fig, ax = plt.subplots(1,4, figsize=(22, 4))\n",
    "\n",
    "for idx, domain in enumerate(domain_list):\n",
    "    ax[idx].plot(domain_test_trends[domain][metric], label = domain)\n",
    "    print(domain, domain_test_trends[domain][metric])\n",
    "\n",
    "    if \"metric\" in data[\"val_max_metric\"].item():\n",
    "        if \"test_epoch\" in data[\"args\"].item():\n",
    "            ax[idx].axvline(x=max_val_epoch / data[\"args\"].item()[\"test_epoch\"], color='r', linestyle='--')\n",
    "        else:\n",
    "            ax[idx].axvline(x=max_val_epoch / 5, color='r', linestyle='--')\n",
    "    else:\n",
    "        ax[idx].axvline(x=max_val_epoch, color='r', linestyle='--')\n",
    "\n",
    "    ax[idx].legend()\n",
    "plt.show()\n",
    "\n",
    "print(max_val_epoch)\n",
    "if \"metric\" in data[\"val_max_metric\"].item():\n",
    "    for domain in domain_list:\n",
    "        print(domain, data[\"val_max_metric\"].item()[\"metric\"][domain][metric])\n",
    "else:\n",
    "    for domain in domain_list:\n",
    "        print(domain, domain_test_trends[domain][metric][max_val_epoch])"
   ]
  },
  {
   "cell_type": "code",
   "execution_count": 29,
   "metadata": {},
   "outputs": [
    {
     "name": "stdout",
     "output_type": "stream",
     "text": [
      "0\n"
     ]
    },
    {
     "data": {
      "text/html": [
       "<div>\n",
       "<style scoped>\n",
       "    .dataframe tbody tr th:only-of-type {\n",
       "        vertical-align: middle;\n",
       "    }\n",
       "\n",
       "    .dataframe tbody tr th {\n",
       "        vertical-align: top;\n",
       "    }\n",
       "\n",
       "    .dataframe thead th {\n",
       "        text-align: right;\n",
       "    }\n",
       "</style>\n",
       "<table border=\"1\" class=\"dataframe\">\n",
       "  <thead>\n",
       "    <tr style=\"text-align: right;\">\n",
       "      <th></th>\n",
       "      <th>0</th>\n",
       "      <th>1</th>\n",
       "      <th>2</th>\n",
       "      <th>3</th>\n",
       "      <th>4</th>\n",
       "      <th>5</th>\n",
       "      <th>6</th>\n",
       "    </tr>\n",
       "  </thead>\n",
       "  <tbody>\n",
       "    <tr>\n",
       "      <th>photo</th>\n",
       "      <td>0.910714</td>\n",
       "      <td>0.788492</td>\n",
       "      <td>0.442460</td>\n",
       "      <td>0.830556</td>\n",
       "      <td>0.716562</td>\n",
       "      <td>0.755159</td>\n",
       "      <td>0.695238</td>\n",
       "    </tr>\n",
       "    <tr>\n",
       "      <th>art_painting</th>\n",
       "      <td>0.508834</td>\n",
       "      <td>0.359215</td>\n",
       "      <td>0.146473</td>\n",
       "      <td>0.284673</td>\n",
       "      <td>0.309530</td>\n",
       "      <td>0.302442</td>\n",
       "      <td>0.305766</td>\n",
       "    </tr>\n",
       "    <tr>\n",
       "      <th>cartoon</th>\n",
       "      <td>0.642361</td>\n",
       "      <td>0.717089</td>\n",
       "      <td>0.470289</td>\n",
       "      <td>0.645224</td>\n",
       "      <td>0.622041</td>\n",
       "      <td>0.610450</td>\n",
       "      <td>0.611905</td>\n",
       "    </tr>\n",
       "    <tr>\n",
       "      <th>sketch</th>\n",
       "      <td>0.482627</td>\n",
       "      <td>0.406892</td>\n",
       "      <td>0.292997</td>\n",
       "      <td>0.435257</td>\n",
       "      <td>0.357690</td>\n",
       "      <td>0.401860</td>\n",
       "      <td>0.363609</td>\n",
       "    </tr>\n",
       "    <tr>\n",
       "      <th>avg</th>\n",
       "      <td>0.636134</td>\n",
       "      <td>0.567922</td>\n",
       "      <td>0.338055</td>\n",
       "      <td>0.548927</td>\n",
       "      <td>0.501456</td>\n",
       "      <td>0.517478</td>\n",
       "      <td>0.494129</td>\n",
       "    </tr>\n",
       "  </tbody>\n",
       "</table>\n",
       "</div>"
      ],
      "text/plain": [
       "                     0         1         2         3         4         5  \\\n",
       "photo         0.910714  0.788492  0.442460  0.830556  0.716562  0.755159   \n",
       "art_painting  0.508834  0.359215  0.146473  0.284673  0.309530  0.302442   \n",
       "cartoon       0.642361  0.717089  0.470289  0.645224  0.622041  0.610450   \n",
       "sketch        0.482627  0.406892  0.292997  0.435257  0.357690  0.401860   \n",
       "avg           0.636134  0.567922  0.338055  0.548927  0.501456  0.517478   \n",
       "\n",
       "                     6  \n",
       "photo         0.695238  \n",
       "art_painting  0.305766  \n",
       "cartoon       0.611905  \n",
       "sketch        0.363609  \n",
       "avg           0.494129  "
      ]
     },
     "execution_count": 29,
     "metadata": {},
     "output_type": "execute_result"
    }
   ],
   "source": [
    "file_name = selected_records[filter].file_name.iloc[0]\n",
    "data = np.load(f'{dir_path}/{file_name}', allow_pickle=True)\n",
    "data\n",
    "\n",
    "domain_test_trends = dict()\n",
    "for domain in domain_list:\n",
    "    domain_test_trends[domain]={\n",
    "        \"test_loss_list\":[],\n",
    "        \"AUROC\":[],\n",
    "        \"AUPRC\":[],\n",
    "    }\n",
    "\n",
    "domain_test_trends\n",
    "for res in data[\"test_results_list\"]:\n",
    "    if res is not None:\n",
    "        for key in res:\n",
    "            domain_test_trends[key][\"test_loss_list\"].append(np.array(res[key][\"test_loss_list\"]).mean())\n",
    "            domain_test_trends[key][\"AUROC\"].append(res[key][\"AUROC\"])\n",
    "            domain_test_trends[key][\"AUPRC\"].append(res[key][\"AUPRC\"])\n",
    "\n",
    "tmp = []\n",
    "for idx, domain in enumerate(domain_list):\n",
    "    tmp.append(domain_test_trends[domain][metric])\n",
    "tmp = pd.DataFrame(tmp, index=domain_list)\n",
    "idx = tmp.mean(axis = 0).idxmax()\n",
    "print(idx)\n",
    "pd.concat([tmp, pd.DataFrame(tmp.mean(axis = 0), columns = [\"avg\"]).T])"
   ]
  },
  {
   "cell_type": "markdown",
   "metadata": {},
   "source": [
    "### 训练集loss下降趋势"
   ]
  },
  {
   "cell_type": "code",
   "execution_count": 30,
   "metadata": {},
   "outputs": [
    {
     "data": {
      "text/plain": [
       "(1,\n",
       " array([ 4.43270503,  1.94069437,  1.06297517,  0.64207036,  0.30314641,\n",
       "         0.15822047, -0.06418298, -0.12156045, -0.18992866, -0.22369486,\n",
       "        -0.25666951, -0.29750523, -0.29461029, -0.30312846, -0.29493188,\n",
       "        -0.33723219, -0.31987438, -0.33388218, -0.37105348, -0.31303685,\n",
       "        -0.33335132, -0.35913808, -0.35565913, -0.36057189, -0.356898  ,\n",
       "        -0.34983748, -0.36226701, -0.3536203 , -0.31523573, -0.3560797 ]))"
      ]
     },
     "execution_count": 30,
     "metadata": {},
     "output_type": "execute_result"
    },
    {
     "data": {
      "image/png": "[encoded data removed]",
      "text/plain": [
       "<Figure size 640x480 with 1 Axes>"
      ]
     },
     "metadata": {},
     "output_type": "display_data"
    }
   ],
   "source": [
    "plt.plot(data[\"train_results_loss\"].mean(axis=1))\n",
    "plt.axvline(x=max_val_epoch, color='r', linestyle='--')\n",
    "max_val_epoch, data[\"train_results_loss\"].mean(axis=1)"
   ]
  },
  {
   "cell_type": "markdown",
   "metadata": {},
   "source": [
    "### 训练过程中，模型在val 下降趋势"
   ]
  },
  {
   "cell_type": "markdown",
   "metadata": {},
   "source": [
    "#### 验证集loss下降趋势"
   ]
  },
  {
   "cell_type": "code",
   "execution_count": 31,
   "metadata": {},
   "outputs": [
    {
     "data": {
      "text/plain": [
       "array([0.61950458, 0.50872565, 0.5070708 , 0.48388567, 0.48535166,\n",
       "       0.50787712, 0.52344929, 0.53049337, 0.51849209, 0.52129201,\n",
       "       0.52913974, 0.52609297, 0.53073438, 0.52849511, 0.52542867,\n",
       "       0.53231965, 0.53193019, 0.52250096, 0.52878572, 0.52054452,\n",
       "       0.5244824 , 0.53274983, 0.5234514 , 0.52375208, 0.52208828,\n",
       "       0.52454216, 0.52232276, 0.51499459, 0.52333493, 0.52654669])"
      ]
     },
     "execution_count": 31,
     "metadata": {},
     "output_type": "execute_result"
    },
    {
     "data": {
      "image/png": "[encoded data removed]",
      "text/plain": [
       "<Figure size 640x480 with 1 Axes>"
      ]
     },
     "metadata": {},
     "output_type": "display_data"
    }
   ],
   "source": [
    "plt.plot(data[\"val_results_loss\"].mean(axis=1))\n",
    "plt.axvline(x=max_val_epoch, color='r', linestyle='--')\n",
    "data[\"val_results_loss\"].mean(axis=1)"
   ]
  },
  {
   "cell_type": "markdown",
   "metadata": {},
   "source": [
    "#### 验证集AUROC"
   ]
  },
  {
   "cell_type": "code",
   "execution_count": 32,
   "metadata": {},
   "outputs": [
    {
     "data": {
      "text/plain": [
       "array([0.89305556, 0.90798611, 0.80138889, 0.76631944, 0.77951389,\n",
       "       0.71423611, 0.73125   , 0.725     , 0.67951389, 0.65243056,\n",
       "       0.73125   , 0.69513889, 0.70729167, 0.73020833, 0.74340278,\n",
       "       0.72361111, 0.72951389, 0.72847222, 0.70416667, 0.73680556,\n",
       "       0.72256944, 0.71805556, 0.7375    , 0.709375  , 0.73611111,\n",
       "       0.72361111, 0.72395833, 0.71076389, 0.715625  , 0.72430556])"
      ]
     },
     "execution_count": 32,
     "metadata": {},
     "output_type": "execute_result"
    },
    {
     "data": {
      "image/png": "[encoded data removed]",
      "text/plain": [
       "<Figure size 640x480 with 1 Axes>"
      ]
     },
     "metadata": {},
     "output_type": "display_data"
    }
   ],
   "source": [
    "plt.plot(data[f\"val_AUROC_list\"])\n",
    "plt.axvline(x=max_val_epoch, color='r', linestyle='--')\n",
    "# plt.ylim(0.5,1)\n",
    "data[f\"val_AUROC_list\"]"
   ]
  },
  {
   "cell_type": "code",
   "execution_count": 33,
   "metadata": {},
   "outputs": [
    {
     "data": {
      "text/plain": [
       "array([0.5228045 , 0.53492544, 0.53145929, 0.47382401, 0.48863228,\n",
       "       0.44044189, 0.36537911, 0.35168171, 0.29046512, 0.21392116,\n",
       "       0.34947308, 0.32765786, 0.30245315, 0.3271984 , 0.37894433,\n",
       "       0.35001135, 0.36818967, 0.35874481, 0.28709951, 0.34864484,\n",
       "       0.3308117 , 0.31078523, 0.364804  , 0.2800772 , 0.33982676,\n",
       "       0.30406516, 0.32801428, 0.29943304, 0.29228922, 0.32139945])"
      ]
     },
     "execution_count": 33,
     "metadata": {},
     "output_type": "execute_result"
    },
    {
     "data": {
      "image/png": "[encoded data removed]",
      "text/plain": [
       "<Figure size 640x480 with 1 Axes>"
      ]
     },
     "metadata": {},
     "output_type": "display_data"
    }
   ],
   "source": [
    "plt.plot(data[f\"val_{metric}_list\"])\n",
    "plt.axvline(x=max_val_epoch, color='r', linestyle='--')\n",
    "# plt.ylim(0.5,1)\n",
    "data[f\"val_{metric}_list\"]"
   ]
  },
  {
   "cell_type": "code",
   "execution_count": 34,
   "metadata": {},
   "outputs": [
    {
     "name": "stdout",
     "output_type": "stream",
     "text": [
      "[2.46358762 2.24265742 1.89363351 1.52490392 1.18155251 1.03590154\n",
      " 0.82816101 0.8072269  0.71526536 0.73132223 0.70203169 0.69337894\n",
      " 0.69873792 0.68691612 0.72866256 0.67384129 0.68398934 0.67918087\n",
      " 0.6543367  0.68562803 0.67245759 0.651471   0.64766657 0.64586892\n",
      " 0.65565749 0.6581372  0.65751788 0.65237945 0.68864031 0.65490297]\n"
     ]
    },
    {
     "data": {
      "image/png": "[encoded data removed]",
      "text/plain": [
       "<Figure size 1000x1250 with 5 Axes>"
      ]
     },
     "metadata": {},
     "output_type": "display_data"
    }
   ],
   "source": [
    "temp = data[\"sub_train_results_loss\"].mean(axis=1)\n",
    "fig,ax = plt.subplots(temp.shape[1],1,figsize=(10,2.5 * temp.shape[1]))\n",
    "if dir_path.__contains__(\"method13\"):\n",
    "    loss_name_list = [\"devnet_loss\", \"reg_loss\", \"NCE_loss\", \"PL_loss\", \"class_reg_loss\"]\n",
    "elif dir_path.__contains__(\"VAE_LPIPS_DEVNET\"):\n",
    "    loss_name_list = [\"rec_loss\", \"kl_loss\", \"devnet_loss\", \"reg_loss\", \"PL_loss\", \"class_reg_loss\"]\n",
    "else:\n",
    "    loss_name_list = [\"devnet_loss\", \"reg_loss\", \"NCE_loss\", \"PL_loss\", \"class_reg_loss\"]\n",
    "for idx, label in enumerate(loss_name_list):\n",
    "    ax[idx].plot(temp[0:,idx], label=label)\n",
    "    ax[idx].axvline(x=max_val_epoch, color='r', linestyle='--')\n",
    "    ax[idx].legend()\n",
    "\n",
    "# for i in range(5):\n",
    "#     print(temp[0:,i])\n",
    "print(temp[0:, 1])\n",
    "plt.show()"
   ]
  },
  {
   "cell_type": "code",
   "execution_count": 35,
   "metadata": {},
   "outputs": [
    {
     "data": {
      "text/plain": [
       "0.1119020568909309"
      ]
     },
     "execution_count": 35,
     "metadata": {},
     "output_type": "execute_result"
    }
   ],
   "source": [
    "import math\n",
    "-(1/3)*math.log(1/3)*3\n",
    "-(0.01)*math.log(0.01) * 2 + (-0.98*math.log(0.98))"
   ]
  },
  {
   "cell_type": "code",
   "execution_count": 36,
   "metadata": {},
   "outputs": [],
   "source": [
    "# data[\"sub_train_results_loss\"].mean(axis=1)"
   ]
  },
  {
   "cell_type": "markdown",
   "metadata": {},
   "source": []
  },
  {
   "cell_type": "code",
   "execution_count": 37,
   "metadata": {},
   "outputs": [],
   "source": [
    "if \"pre_epochs\" in para_name_list:\n",
    "    temp = []\n",
    "    for item in file_name.split(\",\"):\n",
    "        if re.match(\"epochs=|lr=|reg_lambda\", item):\n",
    "            pass\n",
    "        else:\n",
    "            temp.append(item)\n",
    "    data = np.load(f'../experiment/{\",\".join(temp)}', allow_pickle=True)"
   ]
  },
  {
   "cell_type": "code",
   "execution_count": 38,
   "metadata": {},
   "outputs": [
    {
     "ename": "KeyError",
     "evalue": "'pre_train_results_loss is not a file in the archive'",
     "output_type": "error",
     "traceback": [
      "\u001b[0;31m---------------------------------------------------------------------------\u001b[0m",
      "\u001b[0;31mKeyError\u001b[0m                                  Traceback (most recent call last)",
      "Cell \u001b[0;32mIn[38], line 1\u001b[0m\n\u001b[0;32m----> 1\u001b[0m plt\u001b[38;5;241m.\u001b[39mplot(\u001b[43mdata\u001b[49m\u001b[43m[\u001b[49m\u001b[38;5;124;43m\"\u001b[39;49m\u001b[38;5;124;43mpre_train_results_loss\u001b[39;49m\u001b[38;5;124;43m\"\u001b[39;49m\u001b[43m]\u001b[49m\u001b[38;5;241m.\u001b[39mmean(axis\u001b[38;5;241m=\u001b[39m\u001b[38;5;241m1\u001b[39m))\n",
      "File \u001b[0;32m~/anaconda3/envs/general_env/lib/python3.9/site-packages/numpy/lib/npyio.py:263\u001b[0m, in \u001b[0;36mNpzFile.__getitem__\u001b[0;34m(self, key)\u001b[0m\n\u001b[1;32m    261\u001b[0m         \u001b[38;5;28;01mreturn\u001b[39;00m \u001b[38;5;28mself\u001b[39m\u001b[38;5;241m.\u001b[39mzip\u001b[38;5;241m.\u001b[39mread(key)\n\u001b[1;32m    262\u001b[0m \u001b[38;5;28;01melse\u001b[39;00m:\n\u001b[0;32m--> 263\u001b[0m     \u001b[38;5;28;01mraise\u001b[39;00m \u001b[38;5;167;01mKeyError\u001b[39;00m(\u001b[38;5;124mf\u001b[39m\u001b[38;5;124m\"\u001b[39m\u001b[38;5;132;01m{\u001b[39;00mkey\u001b[38;5;132;01m}\u001b[39;00m\u001b[38;5;124m is not a file in the archive\u001b[39m\u001b[38;5;124m\"\u001b[39m)\n",
      "\u001b[0;31mKeyError\u001b[0m: 'pre_train_results_loss is not a file in the archive'"
     ]
    }
   ],
   "source": [
    "plt.plot(data[\"pre_train_results_loss\"].mean(axis=1))"
   ]
  },
  {
   "cell_type": "code",
   "execution_count": null,
   "metadata": {},
   "outputs": [
    {
     "ename": "",
     "evalue": "",
     "output_type": "error",
     "traceback": [
      "\u001b[1;31m运行具有“diad”的单元格需要ipykernel包。\n",
      "\u001b[1;31m运行以下命令，将 \"ipykernel\" 安装到 Python 环境中。\n",
      "\u001b[1;31m命令: \"conda install -n diad ipykernel --update-deps --force-reinstall\""
     ]
    }
   ],
   "source": [
    "temp = data[\"sub_pre_train_results_loss\"].mean(axis=1)\n",
    "fig,ax = plt.subplots(2,1,figsize=(6, 6))\n",
    "ax[0].plot(temp[0:,0], label=\"NCE_loss\")\n",
    "ax[1].plot(temp[0:,1], label=\"PL_loss\") \n",
    "ax[0].legend()\n",
    "ax[1].legend()\n",
    "plt.show()"
   ]
  },
  {
   "cell_type": "code",
   "execution_count": null,
   "metadata": {},
   "outputs": [
    {
     "ename": "",
     "evalue": "",
     "output_type": "error",
     "traceback": [
      "\u001b[1;31m运行具有“diad”的单元格需要ipykernel包。\n",
      "\u001b[1;31m运行以下命令，将 \"ipykernel\" 安装到 Python 环境中。\n",
      "\u001b[1;31m命令: \"conda install -n diad ipykernel --update-deps --force-reinstall\""
     ]
    }
   ],
   "source": [
    "temp[0:,0]"
   ]
  },
  {
   "cell_type": "code",
   "execution_count": null,
   "metadata": {},
   "outputs": [
    {
     "ename": "",
     "evalue": "",
     "output_type": "error",
     "traceback": [
      "\u001b[1;31m运行具有“diad”的单元格需要ipykernel包。\n",
      "\u001b[1;31m运行以下命令，将 \"ipykernel\" 安装到 Python 环境中。\n",
      "\u001b[1;31m命令: \"conda install -n diad ipykernel --update-deps --force-reinstall\""
     ]
    }
   ],
   "source": [
    "temp[0:,1]"
   ]
  }
 ],
 "metadata": {
  "kernelspec": {
   "display_name": "general_env",
   "language": "python",
   "name": "python3"
  },
  "language_info": {
   "codemirror_mode": {
    "name": "ipython",
    "version": 3
   },
   "file_extension": ".py",
   "mimetype": "text/x-python",
   "name": "python",
   "nbconvert_exporter": "python",
   "pygments_lexer": "ipython3",
   "version": "3.9.18"
  }
 },
 "nbformat": 4,
 "nbformat_minor": 2
}
