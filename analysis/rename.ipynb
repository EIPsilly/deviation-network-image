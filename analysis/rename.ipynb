{
 "cells": [
  {
   "cell_type": "code",
   "execution_count": 1,
   "metadata": {},
   "outputs": [],
   "source": [
    "import numpy as np\n",
    "import pandas as pd\n",
    "import os\n",
    "from matplotlib import pyplot as plt\n",
    "import re"
   ]
  },
  {
   "cell_type": "code",
   "execution_count": 2,
   "metadata": {},
   "outputs": [],
   "source": [
    "domain_list = ['photo', 'art_painting', 'cartoon', 'sketch']\n",
    "# dir_path = \"../results/DGAD/method5/1\"\n",
    "dir_path = '../results/devnet/many_versus_many'\n",
    "dir_path = '../results/DGAD/method5/1'\n",
    "dir_path = \"../results/DGAD/method6\""
   ]
  },
  {
   "cell_type": "code",
   "execution_count": 37,
   "metadata": {},
   "outputs": [],
   "source": [
    "for file_name in os.listdir(dir_path):\n",
    "    temp = file_name.split(\",\")\n",
    "    temp.insert(14,\"tau2=1.0\")\n",
    "    temp.insert(14,\"tau1=1.0\")\n",
    "    temp[0] = \"method=6\"\n",
    "    new_file_name = \",\".join(temp)\n",
    "    os.rename(dir_path + \"/\" + file_name, dir_path + \"/\" + new_file_name)"
   ]
  }
 ],
 "metadata": {
  "kernelspec": {
   "display_name": "general_env",
   "language": "python",
   "name": "python3"
  },
  "language_info": {
   "codemirror_mode": {
    "name": "ipython",
    "version": 3
   },
   "file_extension": ".py",
   "mimetype": "text/x-python",
   "name": "python",
   "nbconvert_exporter": "python",
   "pygments_lexer": "ipython3",
   "version": "3.9.18"
  }
 },
 "nbformat": 4,
 "nbformat_minor": 2
}
