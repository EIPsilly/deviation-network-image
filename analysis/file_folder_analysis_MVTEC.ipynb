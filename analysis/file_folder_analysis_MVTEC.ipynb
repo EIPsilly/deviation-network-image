{
 "cells": [
  {
   "cell_type": "code",
   "execution_count": 1,
   "metadata": {},
   "outputs": [],
   "source": [
    "import numpy as np\n",
    "import pandas as pd\n",
    "import os\n",
    "from matplotlib import pyplot as plt\n",
    "import re"
   ]
  },
  {
   "cell_type": "code",
   "execution_count": 2,
   "metadata": {},
   "outputs": [],
   "source": [
    "domain_list = [\"origin\", \"brightness\", \"contrast\", \"defocus_blur\", \"gaussian_noise\", ]\n",
    "checkitew_list = [\"bottle\", \"cable\", \"capsule\", \"carpet\", \"grid\", \"hazelnut\", \"leather\", \"metal_nut\", \"pill\", \"screw\", \"tile\", \"toothbrush\", \"transistor\", \"wood\", \"zipper\", ]\n",
    "metric = \"AUPRC\"\n",
    "\n",
    "dir_path = '../results/MVTEC/devnet/4domain'\n",
    "dir_path = '../results/MVTEC/DGAD/method13_MVTEC'\n",
    "\n",
    "dir_path = '../results/MVTEC/DGAD/method16'\n",
    "# dir_path = '../results/MVTEC/DGAD/method16_severity5'\n",
    "# dir_path = '../results/MVTEC/devnet/4domain_s5'\n",
    "dir_path = '../results/MVTEC/devnet/4domain'\n",
    "\n",
    "# dir_path = '../results/MVTEC/DGAD/method16_transistor'\n",
    "dir_path = '../results/MVTEC/DGAD/method16_transistor_lambda'"
   ]
  },
  {
   "cell_type": "code",
   "execution_count": 3,
   "metadata": {},
   "outputs": [
    {
     "name": "stdout",
     "output_type": "stream",
     "text": [
      "64\n"
     ]
    },
    {
     "data": {
      "text/plain": [
       "(1, 1, 1, 0)"
      ]
     },
     "execution_count": 3,
     "metadata": {},
     "output_type": "execute_result"
    }
   ],
   "source": [
    "import itertools\n",
    "# normal_class=[\"0\", \"1\", \"2\", \"3\", \"4\", \"5\", \"6\"]\n",
    "# normal_class=[\"0 1 2 3\", \"4 5 6\", \"0 2 4 6\", \"1 3 5\", \"0\", \"1\", \"2\", \"3\", \"4\", \"5\", \"6\"]\n",
    "# anomaly_class=[\"4 5 6\", \"0 1 2 3\", \"1 3 5\", \"0 2 4 6\", \"1 2 3 4 5 6\", \"0 2 3 4 5 6\", \"0 1 3 4 5 6\", \"0 1 2 4 5 6\", \"0 1 2 3 5 6\", \"0 1 2 3 4 6\", \"0 1 2 3 4 5\"]\n",
    "# epochs_list=[5, 10, 15, 20, 30]\n",
    "# lr_list=[0.01, 0.001, 0.0005, 0.0002, 0.00005, 0.00001]\n",
    "reg_lambda=[1,2,5,10]\n",
    "NCE_lambda=[1,2,5,10]\n",
    "PL_lambda=[1,2,5,10]\n",
    "# cnt=[0,1,2,3,4]\n",
    "cnt=[0]\n",
    "all_para_list = list(itertools.product(reg_lambda, NCE_lambda, PL_lambda, cnt))\n",
    "print(len(all_para_list))\n",
    "all_para_list[0]"
   ]
  },
  {
   "cell_type": "code",
   "execution_count": 4,
   "metadata": {},
   "outputs": [
    {
     "name": "stdout",
     "output_type": "stream",
     "text": [
      "8\n"
     ]
    },
    {
     "data": {
      "text/html": [
       "<div>\n",
       "<style scoped>\n",
       "    .dataframe tbody tr th:only-of-type {\n",
       "        vertical-align: middle;\n",
       "    }\n",
       "\n",
       "    .dataframe tbody tr th {\n",
       "        vertical-align: top;\n",
       "    }\n",
       "\n",
       "    .dataframe thead th {\n",
       "        text-align: right;\n",
       "    }\n",
       "</style>\n",
       "<table border=\"1\" class=\"dataframe\">\n",
       "  <thead>\n",
       "    <tr style=\"text-align: right;\">\n",
       "      <th></th>\n",
       "      <th>checkitew</th>\n",
       "      <th>lr</th>\n",
       "      <th>epochs</th>\n",
       "      <th>cnt</th>\n",
       "      <th>reg_lambda</th>\n",
       "      <th>NCE_lambda</th>\n",
       "      <th>PL_lambda</th>\n",
       "      <th>class_lambda</th>\n",
       "      <th>max_val_epoch</th>\n",
       "      <th>origin_AUROC</th>\n",
       "      <th>...</th>\n",
       "      <th>val_origin_AUPRC</th>\n",
       "      <th>val_brightness_AUPRC</th>\n",
       "      <th>val_contrast_AUPRC</th>\n",
       "      <th>val_defocus_blur_AUPRC</th>\n",
       "      <th>val_gaussian_noise_AUPRC</th>\n",
       "      <th>file_name</th>\n",
       "      <th>AUROC_mean</th>\n",
       "      <th>AUPRC_mean</th>\n",
       "      <th>val_AUROC_mean</th>\n",
       "      <th>val_AUPRC_mean</th>\n",
       "    </tr>\n",
       "  </thead>\n",
       "  <tbody>\n",
       "    <tr>\n",
       "      <th>0</th>\n",
       "      <td>transistor</td>\n",
       "      <td>0.00010</td>\n",
       "      <td>20</td>\n",
       "      <td>0</td>\n",
       "      <td>0.0</td>\n",
       "      <td>1.0</td>\n",
       "      <td>1.0</td>\n",
       "      <td>1.0</td>\n",
       "      <td>4</td>\n",
       "      <td>0</td>\n",
       "      <td>...</td>\n",
       "      <td>0.684501</td>\n",
       "      <td>0.766275</td>\n",
       "      <td>0.765476</td>\n",
       "      <td>0.722673</td>\n",
       "      <td>0.783153</td>\n",
       "      <td>method=16,backbone=DGAD15,domain_cnt=4,checkit...</td>\n",
       "      <td>0.0</td>\n",
       "      <td>0.0</td>\n",
       "      <td>0.782694</td>\n",
       "      <td>0.744416</td>\n",
       "    </tr>\n",
       "    <tr>\n",
       "      <th>1</th>\n",
       "      <td>transistor</td>\n",
       "      <td>0.00005</td>\n",
       "      <td>20</td>\n",
       "      <td>0</td>\n",
       "      <td>1.0</td>\n",
       "      <td>0.0</td>\n",
       "      <td>1.0</td>\n",
       "      <td>1.0</td>\n",
       "      <td>1</td>\n",
       "      <td>0</td>\n",
       "      <td>...</td>\n",
       "      <td>0.749595</td>\n",
       "      <td>0.852899</td>\n",
       "      <td>0.786999</td>\n",
       "      <td>0.714096</td>\n",
       "      <td>0.771965</td>\n",
       "      <td>method=16,backbone=DGAD15,domain_cnt=4,checkit...</td>\n",
       "      <td>0.0</td>\n",
       "      <td>0.0</td>\n",
       "      <td>0.812306</td>\n",
       "      <td>0.775111</td>\n",
       "    </tr>\n",
       "    <tr>\n",
       "      <th>2</th>\n",
       "      <td>transistor</td>\n",
       "      <td>0.00010</td>\n",
       "      <td>20</td>\n",
       "      <td>0</td>\n",
       "      <td>1.0</td>\n",
       "      <td>0.0</td>\n",
       "      <td>1.0</td>\n",
       "      <td>1.0</td>\n",
       "      <td>2</td>\n",
       "      <td>0</td>\n",
       "      <td>...</td>\n",
       "      <td>0.810607</td>\n",
       "      <td>0.892149</td>\n",
       "      <td>0.868168</td>\n",
       "      <td>0.816682</td>\n",
       "      <td>0.838014</td>\n",
       "      <td>method=16,backbone=DGAD15,domain_cnt=4,checkit...</td>\n",
       "      <td>0.0</td>\n",
       "      <td>0.0</td>\n",
       "      <td>0.868250</td>\n",
       "      <td>0.845124</td>\n",
       "    </tr>\n",
       "    <tr>\n",
       "      <th>3</th>\n",
       "      <td>transistor</td>\n",
       "      <td>0.00005</td>\n",
       "      <td>10</td>\n",
       "      <td>0</td>\n",
       "      <td>1.0</td>\n",
       "      <td>0.0</td>\n",
       "      <td>1.0</td>\n",
       "      <td>1.0</td>\n",
       "      <td>7</td>\n",
       "      <td>0</td>\n",
       "      <td>...</td>\n",
       "      <td>0.811549</td>\n",
       "      <td>0.879705</td>\n",
       "      <td>0.868423</td>\n",
       "      <td>0.826166</td>\n",
       "      <td>0.821233</td>\n",
       "      <td>method=16,backbone=DGAD15,domain_cnt=4,checkit...</td>\n",
       "      <td>0.0</td>\n",
       "      <td>0.0</td>\n",
       "      <td>0.871361</td>\n",
       "      <td>0.841415</td>\n",
       "    </tr>\n",
       "    <tr>\n",
       "      <th>4</th>\n",
       "      <td>transistor</td>\n",
       "      <td>0.00005</td>\n",
       "      <td>20</td>\n",
       "      <td>0</td>\n",
       "      <td>0.0</td>\n",
       "      <td>1.0</td>\n",
       "      <td>1.0</td>\n",
       "      <td>1.0</td>\n",
       "      <td>0</td>\n",
       "      <td>0</td>\n",
       "      <td>...</td>\n",
       "      <td>0.847915</td>\n",
       "      <td>0.804531</td>\n",
       "      <td>0.758260</td>\n",
       "      <td>0.763450</td>\n",
       "      <td>0.793426</td>\n",
       "      <td>method=16,backbone=DGAD15,domain_cnt=4,checkit...</td>\n",
       "      <td>0.0</td>\n",
       "      <td>0.0</td>\n",
       "      <td>0.829861</td>\n",
       "      <td>0.793516</td>\n",
       "    </tr>\n",
       "  </tbody>\n",
       "</table>\n",
       "<p>5 rows × 34 columns</p>\n",
       "</div>"
      ],
      "text/plain": [
       "    checkitew       lr  epochs  cnt  reg_lambda  NCE_lambda  PL_lambda  \\\n",
       "0  transistor  0.00010      20    0         0.0         1.0        1.0   \n",
       "1  transistor  0.00005      20    0         1.0         0.0        1.0   \n",
       "2  transistor  0.00010      20    0         1.0         0.0        1.0   \n",
       "3  transistor  0.00005      10    0         1.0         0.0        1.0   \n",
       "4  transistor  0.00005      20    0         0.0         1.0        1.0   \n",
       "\n",
       "   class_lambda  max_val_epoch  origin_AUROC  ...  val_origin_AUPRC  \\\n",
       "0           1.0              4             0  ...          0.684501   \n",
       "1           1.0              1             0  ...          0.749595   \n",
       "2           1.0              2             0  ...          0.810607   \n",
       "3           1.0              7             0  ...          0.811549   \n",
       "4           1.0              0             0  ...          0.847915   \n",
       "\n",
       "   val_brightness_AUPRC  val_contrast_AUPRC  val_defocus_blur_AUPRC  \\\n",
       "0              0.766275            0.765476                0.722673   \n",
       "1              0.852899            0.786999                0.714096   \n",
       "2              0.892149            0.868168                0.816682   \n",
       "3              0.879705            0.868423                0.826166   \n",
       "4              0.804531            0.758260                0.763450   \n",
       "\n",
       "   val_gaussian_noise_AUPRC  \\\n",
       "0                  0.783153   \n",
       "1                  0.771965   \n",
       "2                  0.838014   \n",
       "3                  0.821233   \n",
       "4                  0.793426   \n",
       "\n",
       "                                           file_name  AUROC_mean  AUPRC_mean  \\\n",
       "0  method=16,backbone=DGAD15,domain_cnt=4,checkit...         0.0         0.0   \n",
       "1  method=16,backbone=DGAD15,domain_cnt=4,checkit...         0.0         0.0   \n",
       "2  method=16,backbone=DGAD15,domain_cnt=4,checkit...         0.0         0.0   \n",
       "3  method=16,backbone=DGAD15,domain_cnt=4,checkit...         0.0         0.0   \n",
       "4  method=16,backbone=DGAD15,domain_cnt=4,checkit...         0.0         0.0   \n",
       "\n",
       "   val_AUROC_mean  val_AUPRC_mean  \n",
       "0        0.782694        0.744416  \n",
       "1        0.812306        0.775111  \n",
       "2        0.868250        0.845124  \n",
       "3        0.871361        0.841415  \n",
       "4        0.829861        0.793516  \n",
       "\n",
       "[5 rows x 34 columns]"
      ]
     },
     "execution_count": 4,
     "metadata": {},
     "output_type": "execute_result"
    }
   ],
   "source": [
    "ans = []\n",
    "# para_name_list=[\"checkitew\", \"pre_lr\", \"pre_epochs\", \"lr\", \"epochs\", \"cnt\"]\n",
    "# para_name_list=[\"checkitew\", \"lr\", \"epochs\", \"cnt\", \"tau1\", \"tau2\"]\n",
    "para_name_list=[\"checkitew\", \"lr\", \"epochs\", \"cnt\",]\n",
    "if dir_path.__contains__(\"lambda\"):\n",
    "    para_name_list=[\"checkitew\", \"lr\", \"epochs\", \"cnt\", \"reg_lambda\", \"NCE_lambda\", \"PL_lambda\", \"class_lambda\"]\n",
    "# para_name_list=[\"checkitew\", \"lr\", \"epochs\", \"cnt\",\"reg_lambda\"]\n",
    "# para_name_list=[\"checkitew\", \"lr\", \"epochs\", \"cnt\", \"tau1\", \"tau2\", \"reg_lambda\", \"NCE_lambda\", \"PL_lambda\"]\n",
    "# para_name_list=[\"checkitew\", \"lr\", \"epochs\", \"cnt\", \"origin_svdd_lambda\", \"class_svdd_lambda\", \"align_lambda\", \"beta\"]\n",
    "print(len(os.listdir(dir_path)))\n",
    "for file_name in os.listdir(dir_path):\n",
    "    record = []\n",
    "    data = np.load(f'{dir_path}/{file_name}', allow_pickle=True)\n",
    "    max_epoch = data[\"val_max_metric\"].item()[\"epoch\"]\n",
    "    # max_epoch = [i for i, val in enumerate(data[f\"val_{metric}_list\"]) if (val == max(data[f\"val_{metric}_list\"]))][-1]\n",
    "    \n",
    "    for key in para_name_list:\n",
    "        if key in data[\"args\"].item():\n",
    "            record.append(data[\"args\"].item()[key])\n",
    "        else:\n",
    "            record.append(1.0)\n",
    "    \n",
    "    record.append(max_epoch)\n",
    "\n",
    "    if \"metric\" in data[\"val_max_metric\"].item():\n",
    "        for key in domain_list:\n",
    "            record.append(0)\n",
    "        for key in domain_list:\n",
    "            record.append(0)\n",
    "        for key in domain_list:\n",
    "            record.append(data[\"val_max_metric\"].item()[\"metric\"][key][\"AUROC\"])\n",
    "        for key in domain_list:\n",
    "            record.append(data[\"val_max_metric\"].item()[\"metric\"][key][\"AUPRC\"])\n",
    "    else:\n",
    "        for key in domain_list:\n",
    "            record.append(data[\"test_metric\"].item()[key][\"AUROC\"])\n",
    "        for key in domain_list:\n",
    "            record.append(data[\"test_metric\"].item()[key][\"AUPRC\"])\n",
    "        for key in domain_list:\n",
    "            record.append(data[\"test_results_list\"][max_epoch][key][\"AUROC\"])\n",
    "        for key in domain_list:\n",
    "            record.append(data[\"test_results_list\"][max_epoch][key][\"AUPRC\"])\n",
    "\n",
    "    record.append(file_name)\n",
    "    ans.append(record)\n",
    "\n",
    "ans = pd.DataFrame(ans,columns=para_name_list + [\"max_val_epoch\"] +\\\n",
    "             [f'{item}_AUROC' for item in domain_list] + \\\n",
    "                [f'{item}_AUPRC' for item in domain_list] +\\\n",
    "                    [f'val_{item}_AUROC' for item in domain_list] +\\\n",
    "                        [f'val_{item}_AUPRC' for item in domain_list] + [\"file_name\"])\n",
    "\n",
    "ans[\"checkitew\"] = ans[\"checkitew\"].astype(str)\n",
    "ans[\"AUROC_mean\"] = ans[[f'{item}_AUROC' for item in domain_list]].mean(axis = 1)\n",
    "ans[\"AUPRC_mean\"] = ans[[f'{item}_AUPRC' for item in domain_list]].mean(axis = 1)\n",
    "ans[\"val_AUROC_mean\"] = ans[[f'val_{item}_AUROC' for item in domain_list]].mean(axis = 1)\n",
    "ans[\"val_AUPRC_mean\"] = ans[[f'val_{item}_AUPRC' for item in domain_list]].mean(axis = 1)\n",
    "ans[\"checkitew\"] = ans[\"checkitew\"].apply(lambda x :re.sub(\"\\[|\\]|,\", \"\", x))\n",
    "ans.head(5)"
   ]
  },
  {
   "cell_type": "code",
   "execution_count": 5,
   "metadata": {},
   "outputs": [
    {
     "data": {
      "text/plain": [
       "transistor    8\n",
       "Name: checkitew, dtype: int64"
      ]
     },
     "execution_count": 5,
     "metadata": {},
     "output_type": "execute_result"
    }
   ],
   "source": [
    "ans[\"checkitew\"].value_counts()"
   ]
  },
  {
   "cell_type": "code",
   "execution_count": 6,
   "metadata": {},
   "outputs": [],
   "source": [
    "ans = ans[ans[\"epochs\"] != 2]\n",
    "# if dir_path.__contains__(\"devnet\"):\n",
    "#     ans = ans[ans[\"lr\"] != 0.00005]"
   ]
  },
  {
   "cell_type": "code",
   "execution_count": 7,
   "metadata": {},
   "outputs": [
    {
     "data": {
      "text/plain": [
       "0    8\n",
       "Name: cnt, dtype: int64"
      ]
     },
     "execution_count": 7,
     "metadata": {},
     "output_type": "execute_result"
    }
   ],
   "source": [
    "ans.cnt.value_counts()"
   ]
  },
  {
   "cell_type": "code",
   "execution_count": 8,
   "metadata": {},
   "outputs": [],
   "source": [
    "# pre_epochs_list = [10, 30, 50, 100]\n",
    "# pre_lr_list = [0.01, 0.001, 0.0001]\n",
    "# epochs_list = [10, 20, 30]\n",
    "# lr_list = [0.00001, 0.0001, 0.001]\n",
    "# cnt = [0, 1]\n",
    "# all_para_list = list(itertools.product(cnt, pre_epochs_list, pre_lr_list, epochs_list, lr_list))\n",
    "# remain_para = set(all_para_list) - set([tuple(item) for item in ans[[\"cnt\", \"pre_epochs\", \"pre_lr\", \"epochs\", \"lr\"]].values])\n",
    "# remain_para = pd.DataFrame(sorted(remain_para), columns=[\"cnt\", \"pre_epochs\", \"pre_lr\", \"epochs\", \"lr\"])\n",
    "# print(f\"./{dir_path.split('/')[-1]}_remain_para.csv\")\n",
    "# # remain_para.to_csv(f\"./{dir_path.split('/')[-1]}_remain_para.csv\",index=None, header=None)\n",
    "# remain_para"
   ]
  },
  {
   "cell_type": "code",
   "execution_count": 9,
   "metadata": {},
   "outputs": [],
   "source": [
    "# remain_para = set(all_para_list) - set([tuple(item) for item in ans[(ans[\"epochs\"]==30) & (ans[\"lr\"]==0.00005) & (ans[\"cnt\"] == 0)][[\"reg_lambda\", \"NCE_lambda\", \"PL_lambda\", \"cnt\"]].values])\n",
    "# remain_para = pd.DataFrame(remain_para, columns=[\"reg_lambda\", \"NCE_lambda\", \"PL_lambda\", \"cnt\"])\n",
    "# print(f\"./{dir_path.split('/')[-1]}_remain_para.csv\")\n",
    "# remain_para.to_csv(f\"./{dir_path.split('/')[-1]}_remain_para.csv\",index=None, header=None)\n",
    "# # remain_para\n",
    "# len(remain_para)"
   ]
  },
  {
   "cell_type": "code",
   "execution_count": 10,
   "metadata": {},
   "outputs": [],
   "source": [
    "# remain_para = set(all_para_list) - set([tuple(item) for item in ans[[\"normal_class\", \"epochs\", \"lr\", \"cnt\"]].values])\n",
    "# remain_para = pd.DataFrame(remain_para, columns=[\"normal_class\", \"epochs\", \"lr\", \"cnt\"])\n",
    "# remain_para.insert(1,\"anomaly_class\", remain_para.apply(lambda x: re.sub(\"\\{|,|\\}\",\"\", str(set([0,1,2,3,4,5,6]) - set(map(int, x[\"normal_class\"].split(\" \"))))), axis=1))\n",
    "# print(f\"./{dir_path.split('/')[-1]}_remain_para.csv\")\n",
    "# remain_para.to_csv(f\"./{dir_path.split('/')[-1]}_remain_para.csv\",index=None, header=None)\n",
    "# remain_para"
   ]
  },
  {
   "cell_type": "code",
   "execution_count": null,
   "metadata": {},
   "outputs": [],
   "source": []
  },
  {
   "cell_type": "code",
   "execution_count": null,
   "metadata": {},
   "outputs": [],
   "source": []
  },
  {
   "cell_type": "code",
   "execution_count": 11,
   "metadata": {},
   "outputs": [
    {
     "data": {
      "text/plain": [
       "['origin_AUROC',\n",
       " 'brightness_AUROC',\n",
       " 'contrast_AUROC',\n",
       " 'defocus_blur_AUROC',\n",
       " 'gaussian_noise_AUROC',\n",
       " 'val_origin_AUROC',\n",
       " 'val_brightness_AUROC',\n",
       " 'val_contrast_AUROC',\n",
       " 'val_defocus_blur_AUROC',\n",
       " 'val_gaussian_noise_AUROC',\n",
       " 'AUROC_mean',\n",
       " 'origin_AUPRC',\n",
       " 'brightness_AUPRC',\n",
       " 'contrast_AUPRC',\n",
       " 'defocus_blur_AUPRC',\n",
       " 'gaussian_noise_AUPRC',\n",
       " 'AUPRC_mean']"
      ]
     },
     "execution_count": 11,
     "metadata": {},
     "output_type": "execute_result"
    }
   ],
   "source": [
    "if metric == \"AUPRC\":\n",
    "    columns_to_drop = ans.filter(like='AUROC').columns.to_list()\n",
    "    columns_to_drop.remove(\"val_AUROC_mean\")\n",
    "else:\n",
    "    columns_to_drop = ans.filter(like='AUPRC').columns.to_list()\n",
    "    columns_to_drop.remove(\"val_AUPRC_mean\")\n",
    "columns_to_drop = columns_to_drop + [f'{item}_{metric}' for item in domain_list] + [f\"{metric}_mean\"]\n",
    "ans = ans.drop(columns=columns_to_drop) \n",
    "columns_to_drop"
   ]
  },
  {
   "cell_type": "code",
   "execution_count": 12,
   "metadata": {},
   "outputs": [],
   "source": [
    "# agg_method = {\"cnt\":[\"count\"],\n",
    "#               \"max_val_epoch\":[\"mean\", \"std\"],\n",
    "#               f\"val_{metric}_mean\":[\"mean\", \"std\"],}\n",
    "# for item in domain_list:\n",
    "#     agg_method[f\"val_{item}_{metric}\"] = [\"mean\", \"std\"]\n",
    "\n",
    "# pd.set_option(\"display.max_columns\",None)\n",
    "# pd.set_option(\"display.max_rows\",None)\n",
    "# total_avg = dict()\n",
    "# for checkitew in checkitew_list:\n",
    "#     checkitew = str(checkitew)\n",
    "#     selected_records = ans[ans[\"checkitew\"] == checkitew].drop([\"checkitew\"],axis=1)\n",
    "#     # group_key = [\"pre_lr\", \"pre_epochs\", \"lr\", \"epochs\"]\n",
    "#     group_key = list(set(para_name_list) - set([\"checkitew\", \"cnt\"]))\n",
    "#     group_key.sort()\n",
    "#     # print(group_key)\n",
    "#     selected_records_anslysis = selected_records.groupby(group_key).agg(agg_method).sort_values(by=(f\"val_{metric}_mean\", \"mean\"), ascending=False)\n",
    "#     selected_para = selected_records_anslysis.index[0]\n",
    "#     # print(selected_para)\n",
    "#     selected_records_anslysis\n",
    "\n",
    "#     filter = None\n",
    "#     for idx, item in enumerate(group_key):\n",
    "#         if filter is None:\n",
    "#             filter = selected_records[item] == selected_para[idx]\n",
    "#         else:\n",
    "#             filter = filter & (selected_records[item] == selected_para[idx])\n",
    "#     temp = selected_records[filter].agg([\"mean\", \"std\"]).T\n",
    "#     temp[\"res\"] = temp.apply(lambda x: f'{round(x[\"mean\"] *100, 2)}({round(x[\"std\"] *100, 2)})', axis=1)\n",
    "#     for key in [f'val_{item}_{metric}' for item in domain_list]:\n",
    "#         print(temp.loc[key][\"res\"])\n",
    "#         if key not in total_avg:\n",
    "#             total_avg[key] = []\n",
    "#         total_avg[key].append(temp.loc[key][\"res\"])\n",
    "#     print(f'{round(selected_records_anslysis.loc[selected_para][f\"val_{metric}_mean\"][\"mean\"] * 100, 2)}({round(selected_records_anslysis.loc[selected_para][f\"val_{metric}_mean\"][\"std\"] * 100, 2)})')\n",
    "#     selected_records[filter]\n",
    "\n",
    "# total_domain_avg = []\n",
    "# for key in [f'val_{item}_{metric}' for item in domain_list]:\n",
    "#     value = total_avg[key]\n",
    "#     total_domain_avg.append(round(np.array(list(map(lambda x: float(x.split(\"(\")[0]), value))).mean(), 2))\n",
    "#     print(total_domain_avg[-1])\n",
    "# print(round(np.mean(total_domain_avg), 2))"
   ]
  },
  {
   "cell_type": "code",
   "execution_count": 13,
   "metadata": {},
   "outputs": [],
   "source": [
    "# ans[(ans[\"normal_class\"] == normal_class)].sort_values(by=\"val_AUROC_mean\",ascending=False)"
   ]
  },
  {
   "cell_type": "code",
   "execution_count": 14,
   "metadata": {},
   "outputs": [],
   "source": [
    "# remain_para = []\n",
    "# for item in selected_records_anslysis.index[:10]:\n",
    "#     remain_para.append(list(item))\n",
    "# remain_para = pd.DataFrame(remain_para)\n",
    "# remain_para.to_csv(f\"./{dir_path.split('/')[-1]}_remain_para.csv\",index=None, header=None)"
   ]
  },
  {
   "cell_type": "code",
   "execution_count": 15,
   "metadata": {},
   "outputs": [],
   "source": [
    "# remain_para = []\n",
    "# for item in selected_records_anslysis.index[:10]:\n",
    "#     remain_para.append([\"0\",\"1 2 3 4 5 6\",item[1],item[0],2])\n",
    "#     remain_para.append([\"0\",\"1 2 3 4 5 6\",item[1],item[0],3])\n",
    "#     remain_para.append([\"0\",\"1 2 3 4 5 6\",item[1],item[0],4])\n",
    "    \n",
    "# remain_para = pd.DataFrame(remain_para,columns=[\"normal_class\", \"anomaly_class\", \"epochs\", \"lr\", \"cnt\"])\n",
    "# # remain_para.to_csv(f\"./{dir_path.split('/')[-1]}_remain_para.csv\",index=None, header=None)\n",
    "# remain_para"
   ]
  },
  {
   "cell_type": "code",
   "execution_count": 16,
   "metadata": {},
   "outputs": [
    {
     "name": "stdout",
     "output_type": "stream",
     "text": [
      "['NCE_lambda', 'PL_lambda', 'class_lambda', 'epochs', 'lr', 'reg_lambda']\n",
      "(0.0, 1.0, 1.0, 20, 0.0001, 1.0)\n"
     ]
    },
    {
     "data": {
      "text/html": [
       "<div>\n",
       "<style scoped>\n",
       "    .dataframe tbody tr th:only-of-type {\n",
       "        vertical-align: middle;\n",
       "    }\n",
       "\n",
       "    .dataframe tbody tr th {\n",
       "        vertical-align: top;\n",
       "    }\n",
       "\n",
       "    .dataframe thead tr th {\n",
       "        text-align: left;\n",
       "    }\n",
       "\n",
       "    .dataframe thead tr:last-of-type th {\n",
       "        text-align: right;\n",
       "    }\n",
       "</style>\n",
       "<table border=\"1\" class=\"dataframe\">\n",
       "  <thead>\n",
       "    <tr>\n",
       "      <th></th>\n",
       "      <th></th>\n",
       "      <th></th>\n",
       "      <th></th>\n",
       "      <th></th>\n",
       "      <th></th>\n",
       "      <th>cnt</th>\n",
       "      <th colspan=\"2\" halign=\"left\">max_val_epoch</th>\n",
       "      <th colspan=\"2\" halign=\"left\">val_origin_AUPRC</th>\n",
       "      <th colspan=\"2\" halign=\"left\">val_brightness_AUPRC</th>\n",
       "      <th colspan=\"2\" halign=\"left\">val_contrast_AUPRC</th>\n",
       "      <th colspan=\"2\" halign=\"left\">val_defocus_blur_AUPRC</th>\n",
       "      <th colspan=\"2\" halign=\"left\">val_gaussian_noise_AUPRC</th>\n",
       "      <th colspan=\"2\" halign=\"left\">val_AUPRC_mean</th>\n",
       "    </tr>\n",
       "    <tr>\n",
       "      <th></th>\n",
       "      <th></th>\n",
       "      <th></th>\n",
       "      <th></th>\n",
       "      <th></th>\n",
       "      <th></th>\n",
       "      <th>count</th>\n",
       "      <th>mean</th>\n",
       "      <th>std</th>\n",
       "      <th>mean</th>\n",
       "      <th>std</th>\n",
       "      <th>mean</th>\n",
       "      <th>std</th>\n",
       "      <th>mean</th>\n",
       "      <th>std</th>\n",
       "      <th>mean</th>\n",
       "      <th>std</th>\n",
       "      <th>mean</th>\n",
       "      <th>std</th>\n",
       "      <th>mean</th>\n",
       "      <th>std</th>\n",
       "    </tr>\n",
       "    <tr>\n",
       "      <th>NCE_lambda</th>\n",
       "      <th>PL_lambda</th>\n",
       "      <th>class_lambda</th>\n",
       "      <th>epochs</th>\n",
       "      <th>lr</th>\n",
       "      <th>reg_lambda</th>\n",
       "      <th></th>\n",
       "      <th></th>\n",
       "      <th></th>\n",
       "      <th></th>\n",
       "      <th></th>\n",
       "      <th></th>\n",
       "      <th></th>\n",
       "      <th></th>\n",
       "      <th></th>\n",
       "      <th></th>\n",
       "      <th></th>\n",
       "      <th></th>\n",
       "      <th></th>\n",
       "      <th></th>\n",
       "      <th></th>\n",
       "    </tr>\n",
       "  </thead>\n",
       "  <tbody>\n",
       "    <tr>\n",
       "      <th rowspan=\"3\" valign=\"top\">0.0</th>\n",
       "      <th rowspan=\"3\" valign=\"top\">1.0</th>\n",
       "      <th rowspan=\"3\" valign=\"top\">1.0</th>\n",
       "      <th>20</th>\n",
       "      <th>0.00010</th>\n",
       "      <th>1.0</th>\n",
       "      <td>1</td>\n",
       "      <td>2.0</td>\n",
       "      <td>NaN</td>\n",
       "      <td>0.810607</td>\n",
       "      <td>NaN</td>\n",
       "      <td>0.892149</td>\n",
       "      <td>NaN</td>\n",
       "      <td>0.868168</td>\n",
       "      <td>NaN</td>\n",
       "      <td>0.816682</td>\n",
       "      <td>NaN</td>\n",
       "      <td>0.838014</td>\n",
       "      <td>NaN</td>\n",
       "      <td>0.845124</td>\n",
       "      <td>NaN</td>\n",
       "    </tr>\n",
       "    <tr>\n",
       "      <th rowspan=\"2\" valign=\"top\">10</th>\n",
       "      <th>0.00010</th>\n",
       "      <th>1.0</th>\n",
       "      <td>1</td>\n",
       "      <td>3.0</td>\n",
       "      <td>NaN</td>\n",
       "      <td>0.821315</td>\n",
       "      <td>NaN</td>\n",
       "      <td>0.834156</td>\n",
       "      <td>NaN</td>\n",
       "      <td>0.839893</td>\n",
       "      <td>NaN</td>\n",
       "      <td>0.884793</td>\n",
       "      <td>NaN</td>\n",
       "      <td>0.843714</td>\n",
       "      <td>NaN</td>\n",
       "      <td>0.844774</td>\n",
       "      <td>NaN</td>\n",
       "    </tr>\n",
       "    <tr>\n",
       "      <th>0.00005</th>\n",
       "      <th>1.0</th>\n",
       "      <td>1</td>\n",
       "      <td>7.0</td>\n",
       "      <td>NaN</td>\n",
       "      <td>0.811549</td>\n",
       "      <td>NaN</td>\n",
       "      <td>0.879705</td>\n",
       "      <td>NaN</td>\n",
       "      <td>0.868423</td>\n",
       "      <td>NaN</td>\n",
       "      <td>0.826166</td>\n",
       "      <td>NaN</td>\n",
       "      <td>0.821233</td>\n",
       "      <td>NaN</td>\n",
       "      <td>0.841415</td>\n",
       "      <td>NaN</td>\n",
       "    </tr>\n",
       "    <tr>\n",
       "      <th rowspan=\"2\" valign=\"top\">1.0</th>\n",
       "      <th rowspan=\"2\" valign=\"top\">1.0</th>\n",
       "      <th rowspan=\"2\" valign=\"top\">1.0</th>\n",
       "      <th>20</th>\n",
       "      <th>0.00005</th>\n",
       "      <th>0.0</th>\n",
       "      <td>1</td>\n",
       "      <td>0.0</td>\n",
       "      <td>NaN</td>\n",
       "      <td>0.847915</td>\n",
       "      <td>NaN</td>\n",
       "      <td>0.804531</td>\n",
       "      <td>NaN</td>\n",
       "      <td>0.758260</td>\n",
       "      <td>NaN</td>\n",
       "      <td>0.763450</td>\n",
       "      <td>NaN</td>\n",
       "      <td>0.793426</td>\n",
       "      <td>NaN</td>\n",
       "      <td>0.793516</td>\n",
       "      <td>NaN</td>\n",
       "    </tr>\n",
       "    <tr>\n",
       "      <th>10</th>\n",
       "      <th>0.00005</th>\n",
       "      <th>0.0</th>\n",
       "      <td>1</td>\n",
       "      <td>0.0</td>\n",
       "      <td>NaN</td>\n",
       "      <td>0.781760</td>\n",
       "      <td>NaN</td>\n",
       "      <td>0.807978</td>\n",
       "      <td>NaN</td>\n",
       "      <td>0.763546</td>\n",
       "      <td>NaN</td>\n",
       "      <td>0.802998</td>\n",
       "      <td>NaN</td>\n",
       "      <td>0.780624</td>\n",
       "      <td>NaN</td>\n",
       "      <td>0.787381</td>\n",
       "      <td>NaN</td>\n",
       "    </tr>\n",
       "    <tr>\n",
       "      <th>0.0</th>\n",
       "      <th>1.0</th>\n",
       "      <th>1.0</th>\n",
       "      <th>20</th>\n",
       "      <th>0.00005</th>\n",
       "      <th>1.0</th>\n",
       "      <td>1</td>\n",
       "      <td>1.0</td>\n",
       "      <td>NaN</td>\n",
       "      <td>0.749595</td>\n",
       "      <td>NaN</td>\n",
       "      <td>0.852899</td>\n",
       "      <td>NaN</td>\n",
       "      <td>0.786999</td>\n",
       "      <td>NaN</td>\n",
       "      <td>0.714096</td>\n",
       "      <td>NaN</td>\n",
       "      <td>0.771965</td>\n",
       "      <td>NaN</td>\n",
       "      <td>0.775111</td>\n",
       "      <td>NaN</td>\n",
       "    </tr>\n",
       "    <tr>\n",
       "      <th rowspan=\"2\" valign=\"top\">1.0</th>\n",
       "      <th rowspan=\"2\" valign=\"top\">1.0</th>\n",
       "      <th rowspan=\"2\" valign=\"top\">1.0</th>\n",
       "      <th>20</th>\n",
       "      <th>0.00010</th>\n",
       "      <th>0.0</th>\n",
       "      <td>1</td>\n",
       "      <td>4.0</td>\n",
       "      <td>NaN</td>\n",
       "      <td>0.684501</td>\n",
       "      <td>NaN</td>\n",
       "      <td>0.766275</td>\n",
       "      <td>NaN</td>\n",
       "      <td>0.765476</td>\n",
       "      <td>NaN</td>\n",
       "      <td>0.722673</td>\n",
       "      <td>NaN</td>\n",
       "      <td>0.783153</td>\n",
       "      <td>NaN</td>\n",
       "      <td>0.744416</td>\n",
       "      <td>NaN</td>\n",
       "    </tr>\n",
       "    <tr>\n",
       "      <th>10</th>\n",
       "      <th>0.00010</th>\n",
       "      <th>0.0</th>\n",
       "      <td>1</td>\n",
       "      <td>5.0</td>\n",
       "      <td>NaN</td>\n",
       "      <td>0.603487</td>\n",
       "      <td>NaN</td>\n",
       "      <td>0.809007</td>\n",
       "      <td>NaN</td>\n",
       "      <td>0.661652</td>\n",
       "      <td>NaN</td>\n",
       "      <td>0.649591</td>\n",
       "      <td>NaN</td>\n",
       "      <td>0.764316</td>\n",
       "      <td>NaN</td>\n",
       "      <td>0.697611</td>\n",
       "      <td>NaN</td>\n",
       "    </tr>\n",
       "  </tbody>\n",
       "</table>\n",
       "</div>"
      ],
      "text/plain": [
       "                                                              cnt  \\\n",
       "                                                            count   \n",
       "NCE_lambda PL_lambda class_lambda epochs lr      reg_lambda         \n",
       "0.0        1.0       1.0          20     0.00010 1.0            1   \n",
       "                                  10     0.00010 1.0            1   \n",
       "                                         0.00005 1.0            1   \n",
       "1.0        1.0       1.0          20     0.00005 0.0            1   \n",
       "                                  10     0.00005 0.0            1   \n",
       "0.0        1.0       1.0          20     0.00005 1.0            1   \n",
       "1.0        1.0       1.0          20     0.00010 0.0            1   \n",
       "                                  10     0.00010 0.0            1   \n",
       "\n",
       "                                                            max_val_epoch      \\\n",
       "                                                                     mean std   \n",
       "NCE_lambda PL_lambda class_lambda epochs lr      reg_lambda                     \n",
       "0.0        1.0       1.0          20     0.00010 1.0                  2.0 NaN   \n",
       "                                  10     0.00010 1.0                  3.0 NaN   \n",
       "                                         0.00005 1.0                  7.0 NaN   \n",
       "1.0        1.0       1.0          20     0.00005 0.0                  0.0 NaN   \n",
       "                                  10     0.00005 0.0                  0.0 NaN   \n",
       "0.0        1.0       1.0          20     0.00005 1.0                  1.0 NaN   \n",
       "1.0        1.0       1.0          20     0.00010 0.0                  4.0 NaN   \n",
       "                                  10     0.00010 0.0                  5.0 NaN   \n",
       "\n",
       "                                                            val_origin_AUPRC  \\\n",
       "                                                                        mean   \n",
       "NCE_lambda PL_lambda class_lambda epochs lr      reg_lambda                    \n",
       "0.0        1.0       1.0          20     0.00010 1.0                0.810607   \n",
       "                                  10     0.00010 1.0                0.821315   \n",
       "                                         0.00005 1.0                0.811549   \n",
       "1.0        1.0       1.0          20     0.00005 0.0                0.847915   \n",
       "                                  10     0.00005 0.0                0.781760   \n",
       "0.0        1.0       1.0          20     0.00005 1.0                0.749595   \n",
       "1.0        1.0       1.0          20     0.00010 0.0                0.684501   \n",
       "                                  10     0.00010 0.0                0.603487   \n",
       "\n",
       "                                                                 \\\n",
       "                                                            std   \n",
       "NCE_lambda PL_lambda class_lambda epochs lr      reg_lambda       \n",
       "0.0        1.0       1.0          20     0.00010 1.0        NaN   \n",
       "                                  10     0.00010 1.0        NaN   \n",
       "                                         0.00005 1.0        NaN   \n",
       "1.0        1.0       1.0          20     0.00005 0.0        NaN   \n",
       "                                  10     0.00005 0.0        NaN   \n",
       "0.0        1.0       1.0          20     0.00005 1.0        NaN   \n",
       "1.0        1.0       1.0          20     0.00010 0.0        NaN   \n",
       "                                  10     0.00010 0.0        NaN   \n",
       "\n",
       "                                                            val_brightness_AUPRC  \\\n",
       "                                                                            mean   \n",
       "NCE_lambda PL_lambda class_lambda epochs lr      reg_lambda                        \n",
       "0.0        1.0       1.0          20     0.00010 1.0                    0.892149   \n",
       "                                  10     0.00010 1.0                    0.834156   \n",
       "                                         0.00005 1.0                    0.879705   \n",
       "1.0        1.0       1.0          20     0.00005 0.0                    0.804531   \n",
       "                                  10     0.00005 0.0                    0.807978   \n",
       "0.0        1.0       1.0          20     0.00005 1.0                    0.852899   \n",
       "1.0        1.0       1.0          20     0.00010 0.0                    0.766275   \n",
       "                                  10     0.00010 0.0                    0.809007   \n",
       "\n",
       "                                                                 \\\n",
       "                                                            std   \n",
       "NCE_lambda PL_lambda class_lambda epochs lr      reg_lambda       \n",
       "0.0        1.0       1.0          20     0.00010 1.0        NaN   \n",
       "                                  10     0.00010 1.0        NaN   \n",
       "                                         0.00005 1.0        NaN   \n",
       "1.0        1.0       1.0          20     0.00005 0.0        NaN   \n",
       "                                  10     0.00005 0.0        NaN   \n",
       "0.0        1.0       1.0          20     0.00005 1.0        NaN   \n",
       "1.0        1.0       1.0          20     0.00010 0.0        NaN   \n",
       "                                  10     0.00010 0.0        NaN   \n",
       "\n",
       "                                                            val_contrast_AUPRC  \\\n",
       "                                                                          mean   \n",
       "NCE_lambda PL_lambda class_lambda epochs lr      reg_lambda                      \n",
       "0.0        1.0       1.0          20     0.00010 1.0                  0.868168   \n",
       "                                  10     0.00010 1.0                  0.839893   \n",
       "                                         0.00005 1.0                  0.868423   \n",
       "1.0        1.0       1.0          20     0.00005 0.0                  0.758260   \n",
       "                                  10     0.00005 0.0                  0.763546   \n",
       "0.0        1.0       1.0          20     0.00005 1.0                  0.786999   \n",
       "1.0        1.0       1.0          20     0.00010 0.0                  0.765476   \n",
       "                                  10     0.00010 0.0                  0.661652   \n",
       "\n",
       "                                                                 \\\n",
       "                                                            std   \n",
       "NCE_lambda PL_lambda class_lambda epochs lr      reg_lambda       \n",
       "0.0        1.0       1.0          20     0.00010 1.0        NaN   \n",
       "                                  10     0.00010 1.0        NaN   \n",
       "                                         0.00005 1.0        NaN   \n",
       "1.0        1.0       1.0          20     0.00005 0.0        NaN   \n",
       "                                  10     0.00005 0.0        NaN   \n",
       "0.0        1.0       1.0          20     0.00005 1.0        NaN   \n",
       "1.0        1.0       1.0          20     0.00010 0.0        NaN   \n",
       "                                  10     0.00010 0.0        NaN   \n",
       "\n",
       "                                                            val_defocus_blur_AUPRC  \\\n",
       "                                                                              mean   \n",
       "NCE_lambda PL_lambda class_lambda epochs lr      reg_lambda                          \n",
       "0.0        1.0       1.0          20     0.00010 1.0                      0.816682   \n",
       "                                  10     0.00010 1.0                      0.884793   \n",
       "                                         0.00005 1.0                      0.826166   \n",
       "1.0        1.0       1.0          20     0.00005 0.0                      0.763450   \n",
       "                                  10     0.00005 0.0                      0.802998   \n",
       "0.0        1.0       1.0          20     0.00005 1.0                      0.714096   \n",
       "1.0        1.0       1.0          20     0.00010 0.0                      0.722673   \n",
       "                                  10     0.00010 0.0                      0.649591   \n",
       "\n",
       "                                                                 \\\n",
       "                                                            std   \n",
       "NCE_lambda PL_lambda class_lambda epochs lr      reg_lambda       \n",
       "0.0        1.0       1.0          20     0.00010 1.0        NaN   \n",
       "                                  10     0.00010 1.0        NaN   \n",
       "                                         0.00005 1.0        NaN   \n",
       "1.0        1.0       1.0          20     0.00005 0.0        NaN   \n",
       "                                  10     0.00005 0.0        NaN   \n",
       "0.0        1.0       1.0          20     0.00005 1.0        NaN   \n",
       "1.0        1.0       1.0          20     0.00010 0.0        NaN   \n",
       "                                  10     0.00010 0.0        NaN   \n",
       "\n",
       "                                                            val_gaussian_noise_AUPRC  \\\n",
       "                                                                                mean   \n",
       "NCE_lambda PL_lambda class_lambda epochs lr      reg_lambda                            \n",
       "0.0        1.0       1.0          20     0.00010 1.0                        0.838014   \n",
       "                                  10     0.00010 1.0                        0.843714   \n",
       "                                         0.00005 1.0                        0.821233   \n",
       "1.0        1.0       1.0          20     0.00005 0.0                        0.793426   \n",
       "                                  10     0.00005 0.0                        0.780624   \n",
       "0.0        1.0       1.0          20     0.00005 1.0                        0.771965   \n",
       "1.0        1.0       1.0          20     0.00010 0.0                        0.783153   \n",
       "                                  10     0.00010 0.0                        0.764316   \n",
       "\n",
       "                                                                 \\\n",
       "                                                            std   \n",
       "NCE_lambda PL_lambda class_lambda epochs lr      reg_lambda       \n",
       "0.0        1.0       1.0          20     0.00010 1.0        NaN   \n",
       "                                  10     0.00010 1.0        NaN   \n",
       "                                         0.00005 1.0        NaN   \n",
       "1.0        1.0       1.0          20     0.00005 0.0        NaN   \n",
       "                                  10     0.00005 0.0        NaN   \n",
       "0.0        1.0       1.0          20     0.00005 1.0        NaN   \n",
       "1.0        1.0       1.0          20     0.00010 0.0        NaN   \n",
       "                                  10     0.00010 0.0        NaN   \n",
       "\n",
       "                                                            val_AUPRC_mean      \n",
       "                                                                      mean std  \n",
       "NCE_lambda PL_lambda class_lambda epochs lr      reg_lambda                     \n",
       "0.0        1.0       1.0          20     0.00010 1.0              0.845124 NaN  \n",
       "                                  10     0.00010 1.0              0.844774 NaN  \n",
       "                                         0.00005 1.0              0.841415 NaN  \n",
       "1.0        1.0       1.0          20     0.00005 0.0              0.793516 NaN  \n",
       "                                  10     0.00005 0.0              0.787381 NaN  \n",
       "0.0        1.0       1.0          20     0.00005 1.0              0.775111 NaN  \n",
       "1.0        1.0       1.0          20     0.00010 0.0              0.744416 NaN  \n",
       "                                  10     0.00010 0.0              0.697611 NaN  "
      ]
     },
     "execution_count": 16,
     "metadata": {},
     "output_type": "execute_result"
    }
   ],
   "source": [
    "agg_method = {\"cnt\":[\"count\"],\n",
    "              \"max_val_epoch\":[\"mean\", \"std\"]}\n",
    "for item in domain_list:\n",
    "    agg_method[f\"val_{item}_{metric}\"] = [\"mean\", \"std\"]\n",
    "\n",
    "agg_method[f\"val_{metric}_mean\"] = [\"mean\", \"std\"]\n",
    "agg_method[f\"val_{metric}_mean\"] = [\"mean\", \"std\"]\n",
    "\n",
    "pd.set_option(\"display.max_columns\",None)\n",
    "pd.set_option(\"display.max_rows\",None)\n",
    "checkitew = 'transistor'\n",
    "selected_records = ans[ans[\"checkitew\"] == checkitew].drop([\"checkitew\"],axis=1)\n",
    "# group_key = [\"pre_lr\", \"pre_epochs\", \"lr\", \"epochs\"]\n",
    "group_key = list(set(para_name_list) - set([\"checkitew\", \"cnt\"]))\n",
    "group_key.sort()\n",
    "print(group_key)\n",
    "selected_records_anslysis = selected_records.groupby(group_key).agg(agg_method).sort_values(by=(f\"val_{metric}_mean\", \"mean\"), ascending=False)\n",
    "selected_para = selected_records_anslysis.index[0]\n",
    "print(selected_para)\n",
    "selected_records_anslysis"
   ]
  },
  {
   "cell_type": "code",
   "execution_count": 17,
   "metadata": {},
   "outputs": [
    {
     "name": "stdout",
     "output_type": "stream",
     "text": [
      "81.06(nan)\n",
      "89.21(nan)\n",
      "86.82(nan)\n",
      "81.67(nan)\n",
      "83.8(nan)\n",
      "84.51(nan)\n"
     ]
    },
    {
     "name": "stderr",
     "output_type": "stream",
     "text": [
      "/tmp/ipykernel_104996/1079342940.py:7: FutureWarning: ['file_name'] did not aggregate successfully. If any error is raised this will raise in a future version of pandas. Drop these columns/ops to avoid this warning.\n",
      "  temp = selected_records[filter].agg([\"mean\", \"std\"]).T\n"
     ]
    },
    {
     "data": {
      "text/html": [
       "<div>\n",
       "<style scoped>\n",
       "    .dataframe tbody tr th:only-of-type {\n",
       "        vertical-align: middle;\n",
       "    }\n",
       "\n",
       "    .dataframe tbody tr th {\n",
       "        vertical-align: top;\n",
       "    }\n",
       "\n",
       "    .dataframe thead th {\n",
       "        text-align: right;\n",
       "    }\n",
       "</style>\n",
       "<table border=\"1\" class=\"dataframe\">\n",
       "  <thead>\n",
       "    <tr style=\"text-align: right;\">\n",
       "      <th></th>\n",
       "      <th>lr</th>\n",
       "      <th>epochs</th>\n",
       "      <th>cnt</th>\n",
       "      <th>reg_lambda</th>\n",
       "      <th>NCE_lambda</th>\n",
       "      <th>PL_lambda</th>\n",
       "      <th>class_lambda</th>\n",
       "      <th>max_val_epoch</th>\n",
       "      <th>val_origin_AUPRC</th>\n",
       "      <th>val_brightness_AUPRC</th>\n",
       "      <th>val_contrast_AUPRC</th>\n",
       "      <th>val_defocus_blur_AUPRC</th>\n",
       "      <th>val_gaussian_noise_AUPRC</th>\n",
       "      <th>file_name</th>\n",
       "      <th>val_AUROC_mean</th>\n",
       "      <th>val_AUPRC_mean</th>\n",
       "    </tr>\n",
       "  </thead>\n",
       "  <tbody>\n",
       "    <tr>\n",
       "      <th>2</th>\n",
       "      <td>0.0001</td>\n",
       "      <td>20</td>\n",
       "      <td>0</td>\n",
       "      <td>1.0</td>\n",
       "      <td>0.0</td>\n",
       "      <td>1.0</td>\n",
       "      <td>1.0</td>\n",
       "      <td>2</td>\n",
       "      <td>0.810607</td>\n",
       "      <td>0.892149</td>\n",
       "      <td>0.868168</td>\n",
       "      <td>0.816682</td>\n",
       "      <td>0.838014</td>\n",
       "      <td>method=16,backbone=DGAD15,domain_cnt=4,checkit...</td>\n",
       "      <td>0.86825</td>\n",
       "      <td>0.845124</td>\n",
       "    </tr>\n",
       "  </tbody>\n",
       "</table>\n",
       "</div>"
      ],
      "text/plain": [
       "       lr  epochs  cnt  reg_lambda  NCE_lambda  PL_lambda  class_lambda  \\\n",
       "2  0.0001      20    0         1.0         0.0        1.0           1.0   \n",
       "\n",
       "   max_val_epoch  val_origin_AUPRC  val_brightness_AUPRC  val_contrast_AUPRC  \\\n",
       "2              2          0.810607              0.892149            0.868168   \n",
       "\n",
       "   val_defocus_blur_AUPRC  val_gaussian_noise_AUPRC  \\\n",
       "2                0.816682                  0.838014   \n",
       "\n",
       "                                           file_name  val_AUROC_mean  \\\n",
       "2  method=16,backbone=DGAD15,domain_cnt=4,checkit...         0.86825   \n",
       "\n",
       "   val_AUPRC_mean  \n",
       "2        0.845124  "
      ]
     },
     "execution_count": 17,
     "metadata": {},
     "output_type": "execute_result"
    }
   ],
   "source": [
    "filter = None\n",
    "for idx, item in enumerate(group_key):\n",
    "    if filter is None:\n",
    "        filter = selected_records[item] == selected_para[idx]\n",
    "    else:\n",
    "        filter = filter & (selected_records[item] == selected_para[idx])\n",
    "temp = selected_records[filter].agg([\"mean\", \"std\"]).T\n",
    "temp[\"res\"] = temp.apply(lambda x: f'{round(x[\"mean\"] *100, 2)}({round(x[\"std\"] *100, 2)})', axis=1)\n",
    "for key in [f'val_{item}_{metric}' for item in domain_list]:\n",
    "    print(temp.loc[key][\"res\"])\n",
    "print(f'{round(selected_records_anslysis.loc[selected_para][f\"val_{metric}_mean\"][\"mean\"] * 100, 2)}({round(selected_records_anslysis.loc[selected_para][f\"val_{metric}_mean\"][\"std\"] * 100, 2)})')\n",
    "selected_records[filter]"
   ]
  },
  {
   "cell_type": "code",
   "execution_count": 18,
   "metadata": {},
   "outputs": [
    {
     "data": {
      "text/plain": [
       "NpzFile '../results/MVTEC/DGAD/method16_transistor_lambda/method=16,backbone=DGAD15,domain_cnt=4,checkitew=transistor,batch_size=30,steps_per_epoch=20,epochs=20,lr=0.0001,reg_lambda=1.0,NCE_lambda=0.0,PL_lambda=1.0,cnt=0.npz' with keys: val_max_metric, train_results_loss, sub_train_results_loss, val_results_loss, val_AUROC_list..."
      ]
     },
     "execution_count": 18,
     "metadata": {},
     "output_type": "execute_result"
    }
   ],
   "source": [
    "file_name = selected_records[filter].file_name.iloc[0]\n",
    "data = np.load(f'{dir_path}/{file_name}', allow_pickle=True)\n",
    "data"
   ]
  },
  {
   "cell_type": "code",
   "execution_count": 19,
   "metadata": {},
   "outputs": [],
   "source": [
    "# # data = np.load(f'{dir_path}/{file_name}', allow_pickle=True)\n",
    "# file_name = 'results/DEBUG/method=10,backbone=DGAD9,domain_cnt=3,normal_class=[0],anomaly_class=[1, 2, 3, 4, 5, 6],batch_size=30,steps_per_epoch=20,epochs=40,lr=5e-05,tau1=0.07,tau2=0.07,origin_svdd_lambda=1.0,class_svdd_lambda=1.0,align_lambda=1.0,beta=0.9,cnt=0.npz'\n",
    "# data = np.load(f'../{file_name}', allow_pickle=True)\n",
    "# data"
   ]
  },
  {
   "cell_type": "code",
   "execution_count": null,
   "metadata": {},
   "outputs": [],
   "source": []
  },
  {
   "cell_type": "code",
   "execution_count": 20,
   "metadata": {},
   "outputs": [],
   "source": [
    "domain_test_trends = dict()\n",
    "for domain in domain_list:\n",
    "    domain_test_trends[domain]={\n",
    "        \"test_loss_list\":[],\n",
    "        \"AUROC\":[],\n",
    "        \"AUPRC\":[],\n",
    "    }\n",
    "\n",
    "domain_test_trends\n",
    "for res in data[\"test_results_list\"]:\n",
    "    if res is not None:\n",
    "        for key in res:\n",
    "            domain_test_trends[key][\"test_loss_list\"].append(np.array(res[key][\"test_loss_list\"]).mean())\n",
    "            domain_test_trends[key][\"AUROC\"].append(res[key][\"AUROC\"])\n",
    "            domain_test_trends[key][\"AUPRC\"].append(res[key][\"AUPRC\"])"
   ]
  },
  {
   "cell_type": "markdown",
   "metadata": {},
   "source": [
    "### 训练过程中 模型在test上下降趋势"
   ]
  },
  {
   "cell_type": "code",
   "execution_count": 21,
   "metadata": {},
   "outputs": [
    {
     "name": "stdout",
     "output_type": "stream",
     "text": [
      "2\n",
      "origin [0.7681679626023072, 0.5178291245711792, 0.4840221065359166, 0.45953687928811704, 0.47880922777345913]\n",
      "brightness [0.8807189875453, 0.48468285880456696, 0.5201935010731127, 0.444903580023689, 0.48503953194411836]\n",
      "contrast [0.7362880015438557, 0.7510558987858886, 0.816113764221476, 0.7462675799076621, 0.811479724934146]\n",
      "defocus_blur [0.693829018541658, 0.5862032665883208, 0.5070014211642393, 0.49598673155837225, 0.4998186254331529]\n",
      "gaussian_noise [0.8116051390564445, 0.8481074287891185, 0.8624334428836595, 0.864774020763608, 0.8634635738899343]\n"
     ]
    },
    {
     "data": {
      "image/png": "[encoded data removed]",
      "text/plain": [
       "<Figure size 2400x400 with 5 Axes>"
      ]
     },
     "metadata": {},
     "output_type": "display_data"
    },
    {
     "name": "stdout",
     "output_type": "stream",
     "text": [
      "2\n",
      "origin 0.8106071931642014\n",
      "brightness 0.8921487899219664\n",
      "contrast 0.868168042624154\n",
      "defocus_blur 0.8166815581875697\n",
      "gaussian_noise 0.838014433990634\n"
     ]
    }
   ],
   "source": [
    "max_val_epoch = data[\"val_max_metric\"].item()['epoch']\n",
    "print(max_val_epoch)\n",
    "\n",
    "fig, ax = plt.subplots(1,5, figsize=(24, 4))\n",
    "\n",
    "for idx, domain in enumerate(domain_list):\n",
    "    ax[idx].plot(domain_test_trends[domain][metric], label = domain)\n",
    "    print(domain, domain_test_trends[domain][metric])\n",
    "\n",
    "    if \"metric\" in data[\"val_max_metric\"].item():\n",
    "        if \"test_epoch\" in data[\"args\"].item():\n",
    "            ax[idx].axvline(x=max_val_epoch / data[\"args\"].item()[\"test_epoch\"], color='r', linestyle='--')\n",
    "        else:\n",
    "            ax[idx].axvline(x=max_val_epoch / 5, color='r', linestyle='--')\n",
    "    else:\n",
    "        ax[idx].axvline(x=max_val_epoch, color='r', linestyle='--')\n",
    "\n",
    "    ax[idx].legend()\n",
    "plt.show()\n",
    "\n",
    "print(max_val_epoch)\n",
    "if \"metric\" in data[\"val_max_metric\"].item():\n",
    "    for domain in domain_list:\n",
    "        print(domain, data[\"val_max_metric\"].item()[\"metric\"][domain][metric])\n",
    "else:\n",
    "    for domain in domain_list:\n",
    "        print(domain, domain_test_trends[domain][metric][max_val_epoch])"
   ]
  },
  {
   "cell_type": "code",
   "execution_count": 22,
   "metadata": {},
   "outputs": [
    {
     "name": "stdout",
     "output_type": "stream",
     "text": [
      "0\n"
     ]
    },
    {
     "data": {
      "text/html": [
       "<div>\n",
       "<style scoped>\n",
       "    .dataframe tbody tr th:only-of-type {\n",
       "        vertical-align: middle;\n",
       "    }\n",
       "\n",
       "    .dataframe tbody tr th {\n",
       "        vertical-align: top;\n",
       "    }\n",
       "\n",
       "    .dataframe thead th {\n",
       "        text-align: right;\n",
       "    }\n",
       "</style>\n",
       "<table border=\"1\" class=\"dataframe\">\n",
       "  <thead>\n",
       "    <tr style=\"text-align: right;\">\n",
       "      <th></th>\n",
       "      <th>0</th>\n",
       "      <th>1</th>\n",
       "      <th>2</th>\n",
       "      <th>3</th>\n",
       "      <th>4</th>\n",
       "    </tr>\n",
       "  </thead>\n",
       "  <tbody>\n",
       "    <tr>\n",
       "      <th>origin</th>\n",
       "      <td>0.768168</td>\n",
       "      <td>0.517829</td>\n",
       "      <td>0.484022</td>\n",
       "      <td>0.459537</td>\n",
       "      <td>0.478809</td>\n",
       "    </tr>\n",
       "    <tr>\n",
       "      <th>brightness</th>\n",
       "      <td>0.880719</td>\n",
       "      <td>0.484683</td>\n",
       "      <td>0.520194</td>\n",
       "      <td>0.444904</td>\n",
       "      <td>0.485040</td>\n",
       "    </tr>\n",
       "    <tr>\n",
       "      <th>contrast</th>\n",
       "      <td>0.736288</td>\n",
       "      <td>0.751056</td>\n",
       "      <td>0.816114</td>\n",
       "      <td>0.746268</td>\n",
       "      <td>0.811480</td>\n",
       "    </tr>\n",
       "    <tr>\n",
       "      <th>defocus_blur</th>\n",
       "      <td>0.693829</td>\n",
       "      <td>0.586203</td>\n",
       "      <td>0.507001</td>\n",
       "      <td>0.495987</td>\n",
       "      <td>0.499819</td>\n",
       "    </tr>\n",
       "    <tr>\n",
       "      <th>gaussian_noise</th>\n",
       "      <td>0.811605</td>\n",
       "      <td>0.848107</td>\n",
       "      <td>0.862433</td>\n",
       "      <td>0.864774</td>\n",
       "      <td>0.863464</td>\n",
       "    </tr>\n",
       "    <tr>\n",
       "      <th>avg</th>\n",
       "      <td>0.778122</td>\n",
       "      <td>0.637576</td>\n",
       "      <td>0.637953</td>\n",
       "      <td>0.602294</td>\n",
       "      <td>0.627722</td>\n",
       "    </tr>\n",
       "  </tbody>\n",
       "</table>\n",
       "</div>"
      ],
      "text/plain": [
       "                       0         1         2         3         4\n",
       "origin          0.768168  0.517829  0.484022  0.459537  0.478809\n",
       "brightness      0.880719  0.484683  0.520194  0.444904  0.485040\n",
       "contrast        0.736288  0.751056  0.816114  0.746268  0.811480\n",
       "defocus_blur    0.693829  0.586203  0.507001  0.495987  0.499819\n",
       "gaussian_noise  0.811605  0.848107  0.862433  0.864774  0.863464\n",
       "avg             0.778122  0.637576  0.637953  0.602294  0.627722"
      ]
     },
     "execution_count": 22,
     "metadata": {},
     "output_type": "execute_result"
    }
   ],
   "source": [
    "file_name = selected_records[filter].file_name.iloc[0]\n",
    "data = np.load(f'{dir_path}/{file_name}', allow_pickle=True)\n",
    "data\n",
    "\n",
    "domain_test_trends = dict()\n",
    "for domain in domain_list:\n",
    "    domain_test_trends[domain]={\n",
    "        \"test_loss_list\":[],\n",
    "        \"AUROC\":[],\n",
    "        \"AUPRC\":[],\n",
    "    }\n",
    "\n",
    "domain_test_trends\n",
    "for res in data[\"test_results_list\"]:\n",
    "    if res is not None:\n",
    "        for key in res:\n",
    "            domain_test_trends[key][\"test_loss_list\"].append(np.array(res[key][\"test_loss_list\"]).mean())\n",
    "            domain_test_trends[key][\"AUROC\"].append(res[key][\"AUROC\"])\n",
    "            domain_test_trends[key][\"AUPRC\"].append(res[key][\"AUPRC\"])\n",
    "\n",
    "tmp = []\n",
    "for idx, domain in enumerate(domain_list):\n",
    "    tmp.append(domain_test_trends[domain][metric])\n",
    "tmp = pd.DataFrame(tmp, index=domain_list)\n",
    "idx = tmp.mean(axis = 0).idxmax()\n",
    "print(idx)\n",
    "pd.concat([tmp, pd.DataFrame(tmp.mean(axis = 0), columns = [\"avg\"]).T])"
   ]
  },
  {
   "cell_type": "markdown",
   "metadata": {},
   "source": [
    "### 训练集loss下降趋势"
   ]
  },
  {
   "cell_type": "code",
   "execution_count": 23,
   "metadata": {},
   "outputs": [
    {
     "data": {
      "text/plain": [
       "array([ 3.03295059,  0.69035599,  0.11147275, -0.41497855, -0.62666917,\n",
       "       -0.63131337, -0.68612428, -0.66001956, -0.67916248, -0.72237633,\n",
       "       -0.69631459, -0.70562918, -0.71980367, -0.71196533, -0.72739562,\n",
       "       -0.7190778 , -0.71828075, -0.71691096, -0.72010431, -0.71497692])"
      ]
     },
     "execution_count": 23,
     "metadata": {},
     "output_type": "execute_result"
    },
    {
     "data": {
      "image/png": "[encoded data removed]",
      "text/plain": [
       "<Figure size 640x480 with 1 Axes>"
      ]
     },
     "metadata": {},
     "output_type": "display_data"
    }
   ],
   "source": [
    "plt.plot(data[\"train_results_loss\"].mean(axis=1)[0:])\n",
    "plt.axvline(x=max_val_epoch, color='r', linestyle='--')\n",
    "data[\"train_results_loss\"].mean(axis=1)"
   ]
  },
  {
   "cell_type": "markdown",
   "metadata": {},
   "source": [
    "### 训练过程中，模型在val 下降趋势"
   ]
  },
  {
   "cell_type": "markdown",
   "metadata": {},
   "source": [
    "#### 验证集loss下降趋势"
   ]
  },
  {
   "cell_type": "code",
   "execution_count": 24,
   "metadata": {},
   "outputs": [
    {
     "data": {
      "text/plain": [
       "array([0.20467364, 0.14719966, 0.1527872 , 0.14928192, 0.14223654,\n",
       "       0.14581763, 0.14657867, 0.13947357, 0.1414294 , 0.14444585,\n",
       "       0.14732058, 0.1447689 , 0.1445562 , 0.14538712, 0.14193772,\n",
       "       0.14261937, 0.14544506, 0.14074127, 0.14029451, 0.14127666])"
      ]
     },
     "execution_count": 24,
     "metadata": {},
     "output_type": "execute_result"
    },
    {
     "data": {
      "image/png": "[encoded data removed]",
      "text/plain": [
       "<Figure size 640x480 with 1 Axes>"
      ]
     },
     "metadata": {},
     "output_type": "display_data"
    }
   ],
   "source": [
    "plt.plot(data[\"val_results_loss\"].mean(axis=1))\n",
    "plt.axvline(x=max_val_epoch, color='r', linestyle='--')\n",
    "data[\"val_results_loss\"].mean(axis=1)"
   ]
  },
  {
   "cell_type": "markdown",
   "metadata": {},
   "source": [
    "#### 验证集AUROC"
   ]
  },
  {
   "cell_type": "code",
   "execution_count": 25,
   "metadata": {},
   "outputs": [
    {
     "data": {
      "text/plain": [
       "array([0.60380117, 0.60672515, 0.86988304, 0.21491228, 0.21052632,\n",
       "       0.24707602, 0.15643275, 0.20906433, 0.27923977, 0.28508772,\n",
       "       0.2997076 , 0.31140351, 0.28947368, 0.26023392, 0.25292398,\n",
       "       0.25877193, 0.2748538 , 0.26754386, 0.26608187, 0.27339181])"
      ]
     },
     "execution_count": 25,
     "metadata": {},
     "output_type": "execute_result"
    },
    {
     "data": {
      "image/png": "[encoded data removed]",
      "text/plain": [
       "<Figure size 640x480 with 1 Axes>"
      ]
     },
     "metadata": {},
     "output_type": "display_data"
    }
   ],
   "source": [
    "plt.plot(data[f\"val_AUROC_list\"])\n",
    "plt.axvline(x=max_val_epoch, color='r', linestyle='--')\n",
    "# plt.ylim(0.5,1)\n",
    "data[f\"val_AUROC_list\"]"
   ]
  },
  {
   "cell_type": "code",
   "execution_count": 26,
   "metadata": {},
   "outputs": [
    {
     "data": {
      "text/plain": [
       "array([0.03370464, 0.0728755 , 0.09566084, 0.01769935, 0.01742521,\n",
       "       0.01835743, 0.01651215, 0.01735632, 0.01903458, 0.01916181,\n",
       "       0.01945607, 0.01970929, 0.01921887, 0.01863942, 0.01845504,\n",
       "       0.01853026, 0.01892619, 0.01882028, 0.01871015, 0.01891213])"
      ]
     },
     "execution_count": 26,
     "metadata": {},
     "output_type": "execute_result"
    },
    {
     "data": {
      "image/png": "[encoded data removed]",
      "text/plain": [
       "<Figure size 640x480 with 1 Axes>"
      ]
     },
     "metadata": {},
     "output_type": "display_data"
    }
   ],
   "source": [
    "plt.plot(data[f\"val_{metric}_list\"])\n",
    "plt.axvline(x=max_val_epoch, color='r', linestyle='--')\n",
    "# plt.ylim(0.5,1)\n",
    "data[f\"val_{metric}_list\"]"
   ]
  },
  {
   "cell_type": "code",
   "execution_count": 27,
   "metadata": {},
   "outputs": [
    {
     "name": "stdout",
     "output_type": "stream",
     "text": [
      "[2.40850277 2.01422026 1.43487723 0.86789859 0.69945551 0.69432644\n",
      " 0.6741238  0.69537359 0.67611547 0.63629352 0.66271604 0.66774109\n",
      " 0.65448838 0.65929018 0.64228403 0.65498919 0.64816275 0.6624862\n",
      " 0.65310729 0.66122993]\n"
     ]
    },
    {
     "data": {
      "image/png": "[encoded data removed]",
      "text/plain": [
       "<Figure size 1000x1250 with 5 Axes>"
      ]
     },
     "metadata": {},
     "output_type": "display_data"
    }
   ],
   "source": [
    "temp = data[\"sub_train_results_loss\"].mean(axis=1)\n",
    "fig,ax = plt.subplots(temp.shape[1],1,figsize=(10,2.5 * temp.shape[1]))\n",
    "if dir_path.__contains__(\"method13\"):\n",
    "    loss_name_list = [\"devnet_loss\", \"reg_loss\", \"NCE_loss\", \"PL_loss\", \"class_reg_loss\"]\n",
    "elif dir_path.__contains__(\"VAE_LPIPS_DEVNET\"):\n",
    "    loss_name_list = [\"rec_loss\", \"kl_loss\", \"devnet_loss\", \"reg_loss\", \"PL_loss\", \"class_reg_loss\"]\n",
    "else:\n",
    "    loss_name_list = [\"devnet_loss\", \"reg_loss\", \"NCE_loss\", \"PL_loss\", \"class_reg_loss\"]\n",
    "for idx, label in enumerate(loss_name_list):\n",
    "    ax[idx].plot(temp[0:,idx], label=label)\n",
    "    ax[idx].axvline(x=max_val_epoch, color='r', linestyle='--')\n",
    "    ax[idx].legend()\n",
    "\n",
    "# for i in range(5):\n",
    "#     print(temp[0:,i])\n",
    "print(temp[0:, 1])\n",
    "plt.show()"
   ]
  },
  {
   "cell_type": "code",
   "execution_count": 28,
   "metadata": {},
   "outputs": [
    {
     "data": {
      "text/plain": [
       "0.0065028224023990335"
      ]
     },
     "execution_count": 28,
     "metadata": {},
     "output_type": "execute_result"
    }
   ],
   "source": [
    "temp[0:, 0][-5]"
   ]
  },
  {
   "cell_type": "code",
   "execution_count": 29,
   "metadata": {},
   "outputs": [],
   "source": [
    "# data[\"sub_train_results_loss\"].mean(axis=1)"
   ]
  },
  {
   "cell_type": "markdown",
   "metadata": {},
   "source": []
  },
  {
   "cell_type": "code",
   "execution_count": 30,
   "metadata": {},
   "outputs": [],
   "source": [
    "if \"pre_epochs\" in para_name_list:\n",
    "    temp = []\n",
    "    for item in file_name.split(\",\"):\n",
    "        if re.match(\"epochs=|lr=|reg_lambda\", item):\n",
    "            pass\n",
    "        else:\n",
    "            temp.append(item)\n",
    "    data = np.load(f'../experiment/{\",\".join(temp)}', allow_pickle=True)"
   ]
  },
  {
   "cell_type": "code",
   "execution_count": 31,
   "metadata": {},
   "outputs": [
    {
     "ename": "KeyError",
     "evalue": "'pre_train_results_loss is not a file in the archive'",
     "output_type": "error",
     "traceback": [
      "\u001b[0;31m---------------------------------------------------------------------------\u001b[0m",
      "\u001b[0;31mKeyError\u001b[0m                                  Traceback (most recent call last)",
      "Cell \u001b[0;32mIn[31], line 1\u001b[0m\n\u001b[0;32m----> 1\u001b[0m plt\u001b[38;5;241m.\u001b[39mplot(\u001b[43mdata\u001b[49m\u001b[43m[\u001b[49m\u001b[38;5;124;43m\"\u001b[39;49m\u001b[38;5;124;43mpre_train_results_loss\u001b[39;49m\u001b[38;5;124;43m\"\u001b[39;49m\u001b[43m]\u001b[49m\u001b[38;5;241m.\u001b[39mmean(axis\u001b[38;5;241m=\u001b[39m\u001b[38;5;241m1\u001b[39m))\n",
      "File \u001b[0;32m~/anaconda3/envs/general_env/lib/python3.9/site-packages/numpy/lib/npyio.py:263\u001b[0m, in \u001b[0;36mNpzFile.__getitem__\u001b[0;34m(self, key)\u001b[0m\n\u001b[1;32m    261\u001b[0m         \u001b[38;5;28;01mreturn\u001b[39;00m \u001b[38;5;28mself\u001b[39m\u001b[38;5;241m.\u001b[39mzip\u001b[38;5;241m.\u001b[39mread(key)\n\u001b[1;32m    262\u001b[0m \u001b[38;5;28;01melse\u001b[39;00m:\n\u001b[0;32m--> 263\u001b[0m     \u001b[38;5;28;01mraise\u001b[39;00m \u001b[38;5;167;01mKeyError\u001b[39;00m(\u001b[38;5;124mf\u001b[39m\u001b[38;5;124m\"\u001b[39m\u001b[38;5;132;01m{\u001b[39;00mkey\u001b[38;5;132;01m}\u001b[39;00m\u001b[38;5;124m is not a file in the archive\u001b[39m\u001b[38;5;124m\"\u001b[39m)\n",
      "\u001b[0;31mKeyError\u001b[0m: 'pre_train_results_loss is not a file in the archive'"
     ]
    }
   ],
   "source": [
    "plt.plot(data[\"pre_train_results_loss\"].mean(axis=1))"
   ]
  },
  {
   "cell_type": "code",
   "execution_count": null,
   "metadata": {},
   "outputs": [
    {
     "ename": "KeyError",
     "evalue": "'sub_pre_train_results_loss is not a file in the archive'",
     "output_type": "error",
     "traceback": [
      "\u001b[0;31m---------------------------------------------------------------------------\u001b[0m",
      "\u001b[0;31mKeyError\u001b[0m                                  Traceback (most recent call last)",
      "Cell \u001b[0;32mIn[80], line 1\u001b[0m\n\u001b[0;32m----> 1\u001b[0m temp \u001b[38;5;241m=\u001b[39m \u001b[43mdata\u001b[49m\u001b[43m[\u001b[49m\u001b[38;5;124;43m\"\u001b[39;49m\u001b[38;5;124;43msub_pre_train_results_loss\u001b[39;49m\u001b[38;5;124;43m\"\u001b[39;49m\u001b[43m]\u001b[49m\u001b[38;5;241m.\u001b[39mmean(axis\u001b[38;5;241m=\u001b[39m\u001b[38;5;241m1\u001b[39m)\n\u001b[1;32m      2\u001b[0m fig,ax \u001b[38;5;241m=\u001b[39m plt\u001b[38;5;241m.\u001b[39msubplots(\u001b[38;5;241m2\u001b[39m,\u001b[38;5;241m1\u001b[39m,figsize\u001b[38;5;241m=\u001b[39m(\u001b[38;5;241m6\u001b[39m, \u001b[38;5;241m6\u001b[39m))\n\u001b[1;32m      3\u001b[0m ax[\u001b[38;5;241m0\u001b[39m]\u001b[38;5;241m.\u001b[39mplot(temp[\u001b[38;5;241m0\u001b[39m:,\u001b[38;5;241m0\u001b[39m], label\u001b[38;5;241m=\u001b[39m\u001b[38;5;124m\"\u001b[39m\u001b[38;5;124mNCE_loss\u001b[39m\u001b[38;5;124m\"\u001b[39m)\n",
      "File \u001b[0;32m~/anaconda3/envs/general_env/lib/python3.9/site-packages/numpy/lib/npyio.py:263\u001b[0m, in \u001b[0;36mNpzFile.__getitem__\u001b[0;34m(self, key)\u001b[0m\n\u001b[1;32m    261\u001b[0m         \u001b[38;5;28;01mreturn\u001b[39;00m \u001b[38;5;28mself\u001b[39m\u001b[38;5;241m.\u001b[39mzip\u001b[38;5;241m.\u001b[39mread(key)\n\u001b[1;32m    262\u001b[0m \u001b[38;5;28;01melse\u001b[39;00m:\n\u001b[0;32m--> 263\u001b[0m     \u001b[38;5;28;01mraise\u001b[39;00m \u001b[38;5;167;01mKeyError\u001b[39;00m(\u001b[38;5;124mf\u001b[39m\u001b[38;5;124m\"\u001b[39m\u001b[38;5;132;01m{\u001b[39;00mkey\u001b[38;5;132;01m}\u001b[39;00m\u001b[38;5;124m is not a file in the archive\u001b[39m\u001b[38;5;124m\"\u001b[39m)\n",
      "\u001b[0;31mKeyError\u001b[0m: 'sub_pre_train_results_loss is not a file in the archive'"
     ]
    }
   ],
   "source": [
    "temp = data[\"sub_pre_train_results_loss\"].mean(axis=1)\n",
    "fig,ax = plt.subplots(2,1,figsize=(6, 6))\n",
    "ax[0].plot(temp[0:,0], label=\"NCE_loss\")\n",
    "ax[1].plot(temp[0:,1], label=\"PL_loss\") \n",
    "ax[0].legend()\n",
    "ax[1].legend()\n",
    "plt.show()"
   ]
  },
  {
   "cell_type": "code",
   "execution_count": null,
   "metadata": {},
   "outputs": [
    {
     "data": {
      "text/plain": [
       "array([5.12366613e-02, 7.52512779e-04, 2.38156579e-04, 1.11763124e-04,\n",
       "       9.64891620e-05, 7.81198205e-05, 7.47454518e-05, 6.63250018e-05,\n",
       "       5.95974552e-05, 5.38587965e-05, 5.10202187e-05, 4.65418390e-05,\n",
       "       4.23788977e-05, 4.13187449e-05, 4.01404671e-05, 3.87827890e-05,\n",
       "       3.81627700e-05, 3.65760899e-05, 3.56698465e-05, 3.59697684e-05,\n",
       "       3.47524817e-05, 3.46994501e-05, 3.51303973e-05, 3.37718926e-05,\n",
       "       3.41283220e-05, 3.38422307e-05, 3.38356650e-05, 3.35584650e-05,\n",
       "       3.30837758e-05, 3.34783733e-05])"
      ]
     },
     "execution_count": 30,
     "metadata": {},
     "output_type": "execute_result"
    }
   ],
   "source": [
    "temp[0:,0]"
   ]
  },
  {
   "cell_type": "code",
   "execution_count": null,
   "metadata": {},
   "outputs": [
    {
     "data": {
      "text/plain": [
       "array([4.97540535e-01, 1.41077568e-01, 2.41149376e-02, 4.21630200e-02,\n",
       "       5.27702281e-02, 4.10839084e-02, 4.46073550e-02, 3.27919084e-03,\n",
       "       1.01064351e-03, 1.06021749e-04, 5.06643846e-05, 2.74663981e-05,\n",
       "       2.02918835e-05, 1.68948272e-05, 1.48062682e-05, 1.33578818e-05,\n",
       "       1.22908901e-05, 1.14740167e-05, 1.08376776e-05, 1.03394184e-05,\n",
       "       9.94086144e-06, 9.62827937e-06, 9.38167218e-06, 9.19360803e-06,\n",
       "       9.04976189e-06, 8.94778285e-06, 8.87626526e-06, 8.83177576e-06,\n",
       "       8.80642324e-06, 8.79488158e-06])"
      ]
     },
     "execution_count": 31,
     "metadata": {},
     "output_type": "execute_result"
    }
   ],
   "source": [
    "temp[0:,1]"
   ]
  }
 ],
 "metadata": {
  "kernelspec": {
   "display_name": "general_env",
   "language": "python",
   "name": "python3"
  },
  "language_info": {
   "codemirror_mode": {
    "name": "ipython",
    "version": 3
   },
   "file_extension": ".py",
   "mimetype": "text/x-python",
   "name": "python",
   "nbconvert_exporter": "python",
   "pygments_lexer": "ipython3",
   "version": "3.9.18"
  }
 },
 "nbformat": 4,
 "nbformat_minor": 2
}
