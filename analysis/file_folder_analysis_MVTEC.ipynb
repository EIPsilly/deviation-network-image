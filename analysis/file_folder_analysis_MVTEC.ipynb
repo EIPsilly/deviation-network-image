{
 "cells": [
  {
   "cell_type": "code",
   "execution_count": 1,
   "metadata": {},
   "outputs": [],
   "source": [
    "import numpy as np\n",
    "import pandas as pd\n",
    "import os\n",
    "from matplotlib import pyplot as plt\n",
    "import re\n",
    "from copy import deepcopy"
   ]
  },
  {
   "cell_type": "code",
   "execution_count": 2,
   "metadata": {},
   "outputs": [],
   "source": [
    "domain_list = [\"origin\", \"brightness\", \"contrast\", \"defocus_blur\", \"gaussian_noise\", ]\n",
    "checkitew_list = [\"bottle\", \"cable\", \"capsule\", \"carpet\", \"grid\", \"hazelnut\", \"leather\", \"metal_nut\", \"pill\", \"screw\", \"tile\", \"toothbrush\", \"transistor\", \"wood\", \"zipper\", ]\n",
    "metric = \"AUPRC\"\n",
    "\n",
    "dir_path = '../results/MVTEC/devnet/4domain'\n",
    "dir_path = '../results/MVTEC/DGAD/method13_MVTEC'\n",
    "\n",
    "dir_path = '../results/MVTEC/DGAD/method16'\n",
    "# dir_path = '../results/MVTEC/DGAD/method16_severity5'\n",
    "# dir_path = '../results/MVTEC/devnet/4domain_s5'\n",
    "# dir_path = '../results/MVTEC/devnet/4domain'\n",
    "\n",
    "# dir_path = '../results/MVTEC/DGAD/method16_transistor'\n",
    "# dir_path = '../results/MVTEC/DGAD/method16_transistor_lambda'\n",
    "# dir_path = '../results/MVTEC/DGAD/method16_toothbrush_lambda'\n",
    "# dir_path = '../results/MVTEC/DGAD/method16_transistor_tau'\n",
    "dir_path = '../results/MVTEC/DGAD/method16_toothbrush_tau'\n",
    "\n",
    "# dir_path = '../results/MVTEC/DGAD/method16_transistor_tau_lambda'\n",
    "dir_path = '../results/MVTEC/devnet/1domain'"
   ]
  },
  {
   "cell_type": "code",
   "execution_count": 3,
   "metadata": {},
   "outputs": [
    {
     "name": "stdout",
     "output_type": "stream",
     "text": [
      "64\n"
     ]
    },
    {
     "data": {
      "text/plain": [
       "(1, 1, 1, 0)"
      ]
     },
     "execution_count": 3,
     "metadata": {},
     "output_type": "execute_result"
    }
   ],
   "source": [
    "import itertools\n",
    "# normal_class=[\"0\", \"1\", \"2\", \"3\", \"4\", \"5\", \"6\"]\n",
    "# normal_class=[\"0 1 2 3\", \"4 5 6\", \"0 2 4 6\", \"1 3 5\", \"0\", \"1\", \"2\", \"3\", \"4\", \"5\", \"6\"]\n",
    "# anomaly_class=[\"4 5 6\", \"0 1 2 3\", \"1 3 5\", \"0 2 4 6\", \"1 2 3 4 5 6\", \"0 2 3 4 5 6\", \"0 1 3 4 5 6\", \"0 1 2 4 5 6\", \"0 1 2 3 5 6\", \"0 1 2 3 4 6\", \"0 1 2 3 4 5\"]\n",
    "# epochs_list=[5, 10, 15, 20, 30]\n",
    "# lr_list=[0.01, 0.001, 0.0005, 0.0002, 0.00005, 0.00001]\n",
    "reg_lambda=[1,2,5,10]\n",
    "NCE_lambda=[1,2,5,10]\n",
    "PL_lambda=[1,2,5,10]\n",
    "# cnt=[0,1,2,3,4]\n",
    "cnt=[0]\n",
    "all_para_list = list(itertools.product(reg_lambda, NCE_lambda, PL_lambda, cnt))\n",
    "print(len(all_para_list))\n",
    "all_para_list[0]"
   ]
  },
  {
   "cell_type": "code",
   "execution_count": 4,
   "metadata": {},
   "outputs": [
    {
     "name": "stdout",
     "output_type": "stream",
     "text": [
      "540\n"
     ]
    },
    {
     "data": {
      "text/html": [
       "<div>\n",
       "<style scoped>\n",
       "    .dataframe tbody tr th:only-of-type {\n",
       "        vertical-align: middle;\n",
       "    }\n",
       "\n",
       "    .dataframe tbody tr th {\n",
       "        vertical-align: top;\n",
       "    }\n",
       "\n",
       "    .dataframe thead th {\n",
       "        text-align: right;\n",
       "    }\n",
       "</style>\n",
       "<table border=\"1\" class=\"dataframe\">\n",
       "  <thead>\n",
       "    <tr style=\"text-align: right;\">\n",
       "      <th></th>\n",
       "      <th>checkitew</th>\n",
       "      <th>lr</th>\n",
       "      <th>epochs</th>\n",
       "      <th>cnt</th>\n",
       "      <th>max_val_epoch</th>\n",
       "      <th>origin_AUROC</th>\n",
       "      <th>brightness_AUROC</th>\n",
       "      <th>contrast_AUROC</th>\n",
       "      <th>defocus_blur_AUROC</th>\n",
       "      <th>gaussian_noise_AUROC</th>\n",
       "      <th>...</th>\n",
       "      <th>val_origin_AUPRC</th>\n",
       "      <th>val_brightness_AUPRC</th>\n",
       "      <th>val_contrast_AUPRC</th>\n",
       "      <th>val_defocus_blur_AUPRC</th>\n",
       "      <th>val_gaussian_noise_AUPRC</th>\n",
       "      <th>file_name</th>\n",
       "      <th>AUROC_mean</th>\n",
       "      <th>AUPRC_mean</th>\n",
       "      <th>val_AUROC_mean</th>\n",
       "      <th>val_AUPRC_mean</th>\n",
       "    </tr>\n",
       "  </thead>\n",
       "  <tbody>\n",
       "    <tr>\n",
       "      <th>0</th>\n",
       "      <td>zipper</td>\n",
       "      <td>0.00001</td>\n",
       "      <td>10</td>\n",
       "      <td>0</td>\n",
       "      <td>1</td>\n",
       "      <td>0</td>\n",
       "      <td>0</td>\n",
       "      <td>0</td>\n",
       "      <td>0</td>\n",
       "      <td>0</td>\n",
       "      <td>...</td>\n",
       "      <td>0.905045</td>\n",
       "      <td>0.783027</td>\n",
       "      <td>0.821764</td>\n",
       "      <td>0.803846</td>\n",
       "      <td>0.850169</td>\n",
       "      <td>data_name=MVTEC_with_domain_label,backbone=wid...</td>\n",
       "      <td>0.0</td>\n",
       "      <td>0.0</td>\n",
       "      <td>0.573212</td>\n",
       "      <td>0.832770</td>\n",
       "    </tr>\n",
       "    <tr>\n",
       "      <th>1</th>\n",
       "      <td>capsule</td>\n",
       "      <td>0.00001</td>\n",
       "      <td>10</td>\n",
       "      <td>1</td>\n",
       "      <td>8</td>\n",
       "      <td>0</td>\n",
       "      <td>0</td>\n",
       "      <td>0</td>\n",
       "      <td>0</td>\n",
       "      <td>0</td>\n",
       "      <td>...</td>\n",
       "      <td>0.921851</td>\n",
       "      <td>0.918389</td>\n",
       "      <td>0.881890</td>\n",
       "      <td>0.864134</td>\n",
       "      <td>0.837160</td>\n",
       "      <td>data_name=MVTEC_with_domain_label,backbone=wid...</td>\n",
       "      <td>0.0</td>\n",
       "      <td>0.0</td>\n",
       "      <td>0.621902</td>\n",
       "      <td>0.884685</td>\n",
       "    </tr>\n",
       "    <tr>\n",
       "      <th>2</th>\n",
       "      <td>capsule</td>\n",
       "      <td>0.00001</td>\n",
       "      <td>30</td>\n",
       "      <td>0</td>\n",
       "      <td>20</td>\n",
       "      <td>0</td>\n",
       "      <td>0</td>\n",
       "      <td>0</td>\n",
       "      <td>0</td>\n",
       "      <td>0</td>\n",
       "      <td>...</td>\n",
       "      <td>0.912977</td>\n",
       "      <td>0.911917</td>\n",
       "      <td>0.845160</td>\n",
       "      <td>0.776160</td>\n",
       "      <td>0.881578</td>\n",
       "      <td>data_name=MVTEC_with_domain_label,backbone=wid...</td>\n",
       "      <td>0.0</td>\n",
       "      <td>0.0</td>\n",
       "      <td>0.587664</td>\n",
       "      <td>0.865558</td>\n",
       "    </tr>\n",
       "    <tr>\n",
       "      <th>3</th>\n",
       "      <td>capsule</td>\n",
       "      <td>0.00005</td>\n",
       "      <td>20</td>\n",
       "      <td>0</td>\n",
       "      <td>3</td>\n",
       "      <td>0</td>\n",
       "      <td>0</td>\n",
       "      <td>0</td>\n",
       "      <td>0</td>\n",
       "      <td>0</td>\n",
       "      <td>...</td>\n",
       "      <td>0.950492</td>\n",
       "      <td>0.914446</td>\n",
       "      <td>0.915255</td>\n",
       "      <td>0.919504</td>\n",
       "      <td>0.889216</td>\n",
       "      <td>data_name=MVTEC_with_domain_label,backbone=wid...</td>\n",
       "      <td>0.0</td>\n",
       "      <td>0.0</td>\n",
       "      <td>0.711743</td>\n",
       "      <td>0.917783</td>\n",
       "    </tr>\n",
       "    <tr>\n",
       "      <th>4</th>\n",
       "      <td>leather</td>\n",
       "      <td>0.00050</td>\n",
       "      <td>20</td>\n",
       "      <td>0</td>\n",
       "      <td>0</td>\n",
       "      <td>0</td>\n",
       "      <td>0</td>\n",
       "      <td>0</td>\n",
       "      <td>0</td>\n",
       "      <td>0</td>\n",
       "      <td>...</td>\n",
       "      <td>0.890340</td>\n",
       "      <td>0.775178</td>\n",
       "      <td>0.718877</td>\n",
       "      <td>0.849627</td>\n",
       "      <td>0.874086</td>\n",
       "      <td>data_name=MVTEC_with_domain_label,backbone=wid...</td>\n",
       "      <td>0.0</td>\n",
       "      <td>0.0</td>\n",
       "      <td>0.539957</td>\n",
       "      <td>0.821622</td>\n",
       "    </tr>\n",
       "  </tbody>\n",
       "</table>\n",
       "<p>5 rows × 30 columns</p>\n",
       "</div>"
      ],
      "text/plain": [
       "  checkitew       lr  epochs  cnt  max_val_epoch  origin_AUROC  \\\n",
       "0    zipper  0.00001      10    0              1             0   \n",
       "1   capsule  0.00001      10    1              8             0   \n",
       "2   capsule  0.00001      30    0             20             0   \n",
       "3   capsule  0.00005      20    0              3             0   \n",
       "4   leather  0.00050      20    0              0             0   \n",
       "\n",
       "   brightness_AUROC  contrast_AUROC  defocus_blur_AUROC  gaussian_noise_AUROC  \\\n",
       "0                 0               0                   0                     0   \n",
       "1                 0               0                   0                     0   \n",
       "2                 0               0                   0                     0   \n",
       "3                 0               0                   0                     0   \n",
       "4                 0               0                   0                     0   \n",
       "\n",
       "   ...  val_origin_AUPRC  val_brightness_AUPRC  val_contrast_AUPRC  \\\n",
       "0  ...          0.905045              0.783027            0.821764   \n",
       "1  ...          0.921851              0.918389            0.881890   \n",
       "2  ...          0.912977              0.911917            0.845160   \n",
       "3  ...          0.950492              0.914446            0.915255   \n",
       "4  ...          0.890340              0.775178            0.718877   \n",
       "\n",
       "   val_defocus_blur_AUPRC  val_gaussian_noise_AUPRC  \\\n",
       "0                0.803846                  0.850169   \n",
       "1                0.864134                  0.837160   \n",
       "2                0.776160                  0.881578   \n",
       "3                0.919504                  0.889216   \n",
       "4                0.849627                  0.874086   \n",
       "\n",
       "                                           file_name  AUROC_mean  AUPRC_mean  \\\n",
       "0  data_name=MVTEC_with_domain_label,backbone=wid...         0.0         0.0   \n",
       "1  data_name=MVTEC_with_domain_label,backbone=wid...         0.0         0.0   \n",
       "2  data_name=MVTEC_with_domain_label,backbone=wid...         0.0         0.0   \n",
       "3  data_name=MVTEC_with_domain_label,backbone=wid...         0.0         0.0   \n",
       "4  data_name=MVTEC_with_domain_label,backbone=wid...         0.0         0.0   \n",
       "\n",
       "   val_AUROC_mean  val_AUPRC_mean  \n",
       "0        0.573212        0.832770  \n",
       "1        0.621902        0.884685  \n",
       "2        0.587664        0.865558  \n",
       "3        0.711743        0.917783  \n",
       "4        0.539957        0.821622  \n",
       "\n",
       "[5 rows x 30 columns]"
      ]
     },
     "execution_count": 4,
     "metadata": {},
     "output_type": "execute_result"
    }
   ],
   "source": [
    "ans = []\n",
    "# para_name_list=[\"checkitew\", \"pre_lr\", \"pre_epochs\", \"lr\", \"epochs\", \"cnt\"]\n",
    "# para_name_list=[\"checkitew\", \"lr\", \"epochs\", \"cnt\", \"tau1\", \"tau2\"]\n",
    "para_name_list=[\"checkitew\", \"lr\", \"epochs\", \"cnt\",]\n",
    "if dir_path.__contains__(\"lambda\"):\n",
    "    para_name_list=[\"checkitew\", \"lr\", \"epochs\", \"cnt\", \"reg_lambda\", \"NCE_lambda\", \"PL_lambda\", \"class_lambda\"]\n",
    "if dir_path.__contains__(\"tau\"):\n",
    "    para_name_list=[\"checkitew\", \"lr\", \"epochs\", \"cnt\", \"tau1\", \"tau2\", \"batch_size\"]\n",
    "# para_name_list=[\"checkitew\", \"lr\", \"epochs\", \"cnt\",\"reg_lambda\"]\n",
    "# para_name_list=[\"checkitew\", \"lr\", \"epochs\", \"cnt\", \"tau1\", \"tau2\", \"reg_lambda\", \"NCE_lambda\", \"PL_lambda\"]\n",
    "# para_name_list=[\"checkitew\", \"lr\", \"epochs\", \"cnt\", \"origin_svdd_lambda\", \"class_svdd_lambda\", \"align_lambda\", \"beta\"]\n",
    "print(len(os.listdir(dir_path)))\n",
    "for file_name in os.listdir(dir_path):\n",
    "    record = []\n",
    "    data = np.load(f'{dir_path}/{file_name}', allow_pickle=True)\n",
    "    max_epoch = data[\"val_max_metric\"].item()[\"epoch\"]\n",
    "    # max_epoch = [i for i, val in enumerate(data[f\"val_{metric}_list\"]) if (val == max(data[f\"val_{metric}_list\"]))][-1]\n",
    "    \n",
    "    for key in para_name_list:\n",
    "        if key in data[\"args\"].item():\n",
    "            record.append(data[\"args\"].item()[key])\n",
    "        else:\n",
    "            record.append(1.0)\n",
    "    \n",
    "    record.append(max_epoch)\n",
    "\n",
    "    if \"metric\" in data[\"val_max_metric\"].item():\n",
    "        for key in domain_list:\n",
    "            record.append(0)\n",
    "        for key in domain_list:\n",
    "            record.append(0)\n",
    "        for key in domain_list:\n",
    "            record.append(data[\"val_max_metric\"].item()[\"metric\"][key][\"AUROC\"])\n",
    "        for key in domain_list:\n",
    "            record.append(data[\"val_max_metric\"].item()[\"metric\"][key][\"AUPRC\"])\n",
    "    else:\n",
    "        for key in domain_list:\n",
    "            record.append(data[\"test_metric\"].item()[key][\"AUROC\"])\n",
    "        for key in domain_list:\n",
    "            record.append(data[\"test_metric\"].item()[key][\"AUPRC\"])\n",
    "        for key in domain_list:\n",
    "            record.append(data[\"test_results_list\"][max_epoch][key][\"AUROC\"])\n",
    "        for key in domain_list:\n",
    "            record.append(data[\"test_results_list\"][max_epoch][key][\"AUPRC\"])\n",
    "\n",
    "    record.append(file_name)\n",
    "    ans.append(record)\n",
    "\n",
    "ans = pd.DataFrame(ans,columns=para_name_list + [\"max_val_epoch\"] +\\\n",
    "             [f'{item}_AUROC' for item in domain_list] + \\\n",
    "                [f'{item}_AUPRC' for item in domain_list] +\\\n",
    "                    [f'val_{item}_AUROC' for item in domain_list] +\\\n",
    "                        [f'val_{item}_AUPRC' for item in domain_list] + [\"file_name\"])\n",
    "\n",
    "ans[\"checkitew\"] = ans[\"checkitew\"].astype(str)\n",
    "ans[\"AUROC_mean\"] = ans[[f'{item}_AUROC' for item in domain_list]].mean(axis = 1)\n",
    "ans[\"AUPRC_mean\"] = ans[[f'{item}_AUPRC' for item in domain_list]].mean(axis = 1)\n",
    "ans[\"val_AUROC_mean\"] = ans[[f'val_{item}_AUROC' for item in domain_list]].mean(axis = 1)\n",
    "ans[\"val_AUPRC_mean\"] = ans[[f'val_{item}_AUPRC' for item in domain_list]].mean(axis = 1)\n",
    "ans[\"checkitew\"] = ans[\"checkitew\"].apply(lambda x :re.sub(\"\\[|\\]|,\", \"\", x))\n",
    "ans.head(5)"
   ]
  },
  {
   "cell_type": "code",
   "execution_count": 5,
   "metadata": {},
   "outputs": [
    {
     "data": {
      "text/plain": [
       "zipper        36\n",
       "capsule       36\n",
       "leather       36\n",
       "transistor    36\n",
       "metal_nut     36\n",
       "pill          36\n",
       "tile          36\n",
       "carpet        36\n",
       "cable         36\n",
       "wood          36\n",
       "grid          36\n",
       "hazelnut      36\n",
       "screw         36\n",
       "toothbrush    36\n",
       "bottle        36\n",
       "Name: checkitew, dtype: int64"
      ]
     },
     "execution_count": 5,
     "metadata": {},
     "output_type": "execute_result"
    }
   ],
   "source": [
    "ans[\"checkitew\"].value_counts()"
   ]
  },
  {
   "cell_type": "code",
   "execution_count": 6,
   "metadata": {},
   "outputs": [],
   "source": [
    "# ans = ans[ans[\"epochs\"] != 2]\n",
    "# if dir_path.__contains__(\"devnet\"):\n",
    "#     ans = ans[ans[\"lr\"] != 0.00005]"
   ]
  },
  {
   "cell_type": "code",
   "execution_count": 7,
   "metadata": {},
   "outputs": [
    {
     "data": {
      "text/plain": [
       "0    180\n",
       "1    180\n",
       "2    180\n",
       "Name: cnt, dtype: int64"
      ]
     },
     "execution_count": 7,
     "metadata": {},
     "output_type": "execute_result"
    }
   ],
   "source": [
    "ans.cnt.value_counts()"
   ]
  },
  {
   "cell_type": "code",
   "execution_count": 8,
   "metadata": {},
   "outputs": [],
   "source": [
    "# pre_epochs_list = [10, 30, 50, 100]\n",
    "# pre_lr_list = [0.01, 0.001, 0.0001]\n",
    "# epochs_list = [10, 20, 30]\n",
    "# lr_list = [0.00001, 0.0001, 0.001]\n",
    "# cnt = [0, 1]\n",
    "# all_para_list = list(itertools.product(cnt, pre_epochs_list, pre_lr_list, epochs_list, lr_list))\n",
    "# remain_para = set(all_para_list) - set([tuple(item) for item in ans[[\"cnt\", \"pre_epochs\", \"pre_lr\", \"epochs\", \"lr\"]].values])\n",
    "# remain_para = pd.DataFrame(sorted(remain_para), columns=[\"cnt\", \"pre_epochs\", \"pre_lr\", \"epochs\", \"lr\"])\n",
    "# print(f\"./{dir_path.split('/')[-1]}_remain_para.csv\")\n",
    "# # remain_para.to_csv(f\"./{dir_path.split('/')[-1]}_remain_para.csv\",index=None, header=None)\n",
    "# remain_para"
   ]
  },
  {
   "cell_type": "code",
   "execution_count": 9,
   "metadata": {},
   "outputs": [],
   "source": [
    "# remain_para = set(all_para_list) - set([tuple(item) for item in ans[(ans[\"epochs\"]==30) & (ans[\"lr\"]==0.00005) & (ans[\"cnt\"] == 0)][[\"reg_lambda\", \"NCE_lambda\", \"PL_lambda\", \"cnt\"]].values])\n",
    "# remain_para = pd.DataFrame(remain_para, columns=[\"reg_lambda\", \"NCE_lambda\", \"PL_lambda\", \"cnt\"])\n",
    "# print(f\"./{dir_path.split('/')[-1]}_remain_para.csv\")\n",
    "# remain_para.to_csv(f\"./{dir_path.split('/')[-1]}_remain_para.csv\",index=None, header=None)\n",
    "# # remain_para\n",
    "# len(remain_para)"
   ]
  },
  {
   "cell_type": "code",
   "execution_count": 10,
   "metadata": {},
   "outputs": [],
   "source": [
    "# remain_para = set(all_para_list) - set([tuple(item) for item in ans[[\"normal_class\", \"epochs\", \"lr\", \"cnt\"]].values])\n",
    "# remain_para = pd.DataFrame(remain_para, columns=[\"normal_class\", \"epochs\", \"lr\", \"cnt\"])\n",
    "# remain_para.insert(1,\"anomaly_class\", remain_para.apply(lambda x: re.sub(\"\\{|,|\\}\",\"\", str(set([0,1,2,3,4,5,6]) - set(map(int, x[\"normal_class\"].split(\" \"))))), axis=1))\n",
    "# print(f\"./{dir_path.split('/')[-1]}_remain_para.csv\")\n",
    "# remain_para.to_csv(f\"./{dir_path.split('/')[-1]}_remain_para.csv\",index=None, header=None)\n",
    "# remain_para"
   ]
  },
  {
   "cell_type": "code",
   "execution_count": null,
   "metadata": {},
   "outputs": [],
   "source": []
  },
  {
   "cell_type": "code",
   "execution_count": null,
   "metadata": {},
   "outputs": [],
   "source": []
  },
  {
   "cell_type": "code",
   "execution_count": 11,
   "metadata": {},
   "outputs": [
    {
     "data": {
      "text/plain": [
       "['origin_AUROC',\n",
       " 'brightness_AUROC',\n",
       " 'contrast_AUROC',\n",
       " 'defocus_blur_AUROC',\n",
       " 'gaussian_noise_AUROC',\n",
       " 'val_origin_AUROC',\n",
       " 'val_brightness_AUROC',\n",
       " 'val_contrast_AUROC',\n",
       " 'val_defocus_blur_AUROC',\n",
       " 'val_gaussian_noise_AUROC',\n",
       " 'AUROC_mean',\n",
       " 'origin_AUPRC',\n",
       " 'brightness_AUPRC',\n",
       " 'contrast_AUPRC',\n",
       " 'defocus_blur_AUPRC',\n",
       " 'gaussian_noise_AUPRC',\n",
       " 'AUPRC_mean']"
      ]
     },
     "execution_count": 11,
     "metadata": {},
     "output_type": "execute_result"
    }
   ],
   "source": [
    "if metric == \"AUPRC\":\n",
    "    columns_to_drop = ans.filter(like='AUROC').columns.to_list()\n",
    "    columns_to_drop.remove(\"val_AUROC_mean\")\n",
    "else:\n",
    "    columns_to_drop = ans.filter(like='AUPRC').columns.to_list()\n",
    "    columns_to_drop.remove(\"val_AUPRC_mean\")\n",
    "columns_to_drop = columns_to_drop + [f'{item}_{metric}' for item in domain_list] + [f\"{metric}_mean\"]\n",
    "ans = ans.drop(columns=columns_to_drop) \n",
    "columns_to_drop"
   ]
  },
  {
   "cell_type": "code",
   "execution_count": 32,
   "metadata": {},
   "outputs": [
    {
     "name": "stderr",
     "output_type": "stream",
     "text": [
      "/tmp/ipykernel_88177/315919129.py:28: FutureWarning: ['file_name'] did not aggregate successfully. If any error is raised this will raise in a future version of pandas. Drop these columns/ops to avoid this warning.\n",
      "  temp = selected_records[filter].agg([\"mean\", \"std\"]).T\n",
      "/tmp/ipykernel_88177/315919129.py:28: FutureWarning: ['file_name'] did not aggregate successfully. If any error is raised this will raise in a future version of pandas. Drop these columns/ops to avoid this warning.\n",
      "  temp = selected_records[filter].agg([\"mean\", \"std\"]).T\n",
      "/tmp/ipykernel_88177/315919129.py:28: FutureWarning: ['file_name'] did not aggregate successfully. If any error is raised this will raise in a future version of pandas. Drop these columns/ops to avoid this warning.\n",
      "  temp = selected_records[filter].agg([\"mean\", \"std\"]).T\n",
      "/tmp/ipykernel_88177/315919129.py:28: FutureWarning: ['file_name'] did not aggregate successfully. If any error is raised this will raise in a future version of pandas. Drop these columns/ops to avoid this warning.\n",
      "  temp = selected_records[filter].agg([\"mean\", \"std\"]).T\n",
      "/tmp/ipykernel_88177/315919129.py:28: FutureWarning: ['file_name'] did not aggregate successfully. If any error is raised this will raise in a future version of pandas. Drop these columns/ops to avoid this warning.\n",
      "  temp = selected_records[filter].agg([\"mean\", \"std\"]).T\n",
      "/tmp/ipykernel_88177/315919129.py:28: FutureWarning: ['file_name'] did not aggregate successfully. If any error is raised this will raise in a future version of pandas. Drop these columns/ops to avoid this warning.\n",
      "  temp = selected_records[filter].agg([\"mean\", \"std\"]).T\n",
      "/tmp/ipykernel_88177/315919129.py:28: FutureWarning: ['file_name'] did not aggregate successfully. If any error is raised this will raise in a future version of pandas. Drop these columns/ops to avoid this warning.\n",
      "  temp = selected_records[filter].agg([\"mean\", \"std\"]).T\n",
      "/tmp/ipykernel_88177/315919129.py:28: FutureWarning: ['file_name'] did not aggregate successfully. If any error is raised this will raise in a future version of pandas. Drop these columns/ops to avoid this warning.\n",
      "  temp = selected_records[filter].agg([\"mean\", \"std\"]).T\n",
      "/tmp/ipykernel_88177/315919129.py:28: FutureWarning: ['file_name'] did not aggregate successfully. If any error is raised this will raise in a future version of pandas. Drop these columns/ops to avoid this warning.\n",
      "  temp = selected_records[filter].agg([\"mean\", \"std\"]).T\n",
      "/tmp/ipykernel_88177/315919129.py:28: FutureWarning: ['file_name'] did not aggregate successfully. If any error is raised this will raise in a future version of pandas. Drop these columns/ops to avoid this warning.\n",
      "  temp = selected_records[filter].agg([\"mean\", \"std\"]).T\n",
      "/tmp/ipykernel_88177/315919129.py:28: FutureWarning: ['file_name'] did not aggregate successfully. If any error is raised this will raise in a future version of pandas. Drop these columns/ops to avoid this warning.\n",
      "  temp = selected_records[filter].agg([\"mean\", \"std\"]).T\n"
     ]
    },
    {
     "name": "stdout",
     "output_type": "stream",
     "text": [
      "99.27(0.58)\n",
      "99.43(0.5)\n",
      "98.98(0.38)\n",
      "98.54(0.98)\n",
      "99.1(0.97)\n",
      "99.07(0.46)\n",
      "90.47(1.03)\n",
      "89.48(2.85)\n",
      "81.05(6.55)\n",
      "88.73(3.11)\n",
      "93.13(1.51)\n",
      "88.57(1.98)\n",
      "92.97(3.08)\n",
      "95.18(0.69)\n",
      "94.02(0.01)\n",
      "89.92(3.86)\n",
      "91.47(2.15)\n",
      "92.71(1.63)\n",
      "92.96(4.43)\n",
      "71.89(4.93)\n",
      "88.84(3.77)\n",
      "93.84(4.64)\n",
      "94.73(2.81)\n",
      "88.45(3.97)\n",
      "83.05(4.74)\n",
      "75.31(17.86)\n",
      "90.38(8.98)\n",
      "88.56(4.5)\n",
      "72.13(1.04)\n",
      "81.89(5.1)\n",
      "97.46(1.0)\n",
      "88.71(3.74)\n",
      "97.63(0.57)\n",
      "96.88(0.58)\n",
      "97.79(0.15)\n",
      "95.69(0.74)\n",
      "91.27(4.91)\n",
      "82.21(4.92)\n",
      "83.64(6.98)\n",
      "97.88(1.34)\n",
      "94.08(4.28)\n",
      "89.82(2.13)\n",
      "98.17(0.68)\n",
      "96.62(0.09)\n",
      "96.42(1.96)\n",
      "95.15(1.07)\n",
      "96.09(0.62)\n",
      "96.49(0.58)\n",
      "95.48(1.97)\n",
      "91.06(2.87)\n",
      "91.91(1.5)\n",
      "95.49(1.06)\n",
      "93.11(0.51)\n",
      "93.41(1.12)\n",
      "94.97(2.85)\n",
      "83.17(9.64)\n",
      "88.03(8.81)\n",
      "94.26(4.3)\n",
      "89.94(6.71)\n",
      "90.08(3.67)\n",
      "96.44(1.48)\n",
      "82.1(6.08)\n",
      "92.45(2.74)\n",
      "95.6(2.11)\n",
      "95.64(1.04)\n",
      "92.45(2.1)\n",
      "84.69(4.78)\n",
      "82.52(2.77)\n",
      "79.79(1.66)\n",
      "79.06(3.43)\n",
      "81.23(3.29)\n",
      "81.46(1.9)\n",
      "88.5(3.54)\n",
      "75.01(15.14)\n",
      "68.86(5.88)\n",
      "75.0(10.77)\n",
      "84.52(0.95)\n",
      "78.38(3.87)\n",
      "98.0(1.16)\n",
      "92.64(1.25)\n",
      "78.48(12.81)\n",
      "95.59(1.87)\n",
      "97.3(1.03)\n",
      "92.4(3.17)\n",
      "99.14(0.71)\n",
      "98.03(0.58)\n",
      "91.09(2.64)\n",
      "95.06(1.65)\n",
      "87.27(3.14)\n",
      "94.12(1.68)\n",
      "93.52\n",
      "86.89\n",
      "88.1\n",
      "91.97\n",
      "91.17\n",
      "90.33\n"
     ]
    },
    {
     "name": "stderr",
     "output_type": "stream",
     "text": [
      "/tmp/ipykernel_88177/315919129.py:28: FutureWarning: ['file_name'] did not aggregate successfully. If any error is raised this will raise in a future version of pandas. Drop these columns/ops to avoid this warning.\n",
      "  temp = selected_records[filter].agg([\"mean\", \"std\"]).T\n",
      "/tmp/ipykernel_88177/315919129.py:28: FutureWarning: ['file_name'] did not aggregate successfully. If any error is raised this will raise in a future version of pandas. Drop these columns/ops to avoid this warning.\n",
      "  temp = selected_records[filter].agg([\"mean\", \"std\"]).T\n",
      "/tmp/ipykernel_88177/315919129.py:28: FutureWarning: ['file_name'] did not aggregate successfully. If any error is raised this will raise in a future version of pandas. Drop these columns/ops to avoid this warning.\n",
      "  temp = selected_records[filter].agg([\"mean\", \"std\"]).T\n",
      "/tmp/ipykernel_88177/315919129.py:28: FutureWarning: ['file_name'] did not aggregate successfully. If any error is raised this will raise in a future version of pandas. Drop these columns/ops to avoid this warning.\n",
      "  temp = selected_records[filter].agg([\"mean\", \"std\"]).T\n"
     ]
    }
   ],
   "source": [
    "agg_method = {\"cnt\":[\"count\"],\n",
    "              \"max_val_epoch\":[\"mean\", \"std\"],\n",
    "              f\"val_{metric}_mean\":[\"mean\", \"std\"],}\n",
    "for item in domain_list:\n",
    "    agg_method[f\"val_{item}_{metric}\"] = [\"mean\", \"std\"]\n",
    "\n",
    "pd.set_option(\"display.max_columns\",None)\n",
    "pd.set_option(\"display.max_rows\",None)\n",
    "total_avg = dict()\n",
    "for checkitew in checkitew_list:\n",
    "    checkitew = str(checkitew)\n",
    "    selected_records = ans[ans[\"checkitew\"] == checkitew].drop([\"checkitew\"],axis=1)\n",
    "    # group_key = [\"pre_lr\", \"pre_epochs\", \"lr\", \"epochs\"]\n",
    "    group_key = list(set(para_name_list) - set([\"checkitew\", \"cnt\"]))\n",
    "    group_key.sort()\n",
    "    # print(group_key)\n",
    "    selected_records_anslysis = selected_records.groupby(group_key).agg(agg_method).sort_values(by=(f\"val_{metric}_mean\", \"mean\"), ascending=False)\n",
    "    selected_para = selected_records_anslysis.index[0]\n",
    "    # print(selected_para)\n",
    "    selected_records_anslysis\n",
    "\n",
    "    filter = None\n",
    "    for idx, item in enumerate(group_key):\n",
    "        if filter is None:\n",
    "            filter = selected_records[item] == selected_para[idx]\n",
    "        else:\n",
    "            filter = filter & (selected_records[item] == selected_para[idx])\n",
    "    temp = selected_records[filter].agg([\"mean\", \"std\"]).T\n",
    "    temp[\"res\"] = temp.apply(lambda x: f'{round(x[\"mean\"] *100, 2)}({round(x[\"std\"] *100, 2)})', axis=1)\n",
    "    for key in [f'val_{item}_{metric}' for item in domain_list]:\n",
    "        print(temp.loc[key][\"res\"])\n",
    "        if key not in total_avg:\n",
    "            total_avg[key] = []\n",
    "        total_avg[key].append(temp.loc[key][\"res\"])\n",
    "    print(f'{round(selected_records_anslysis.loc[selected_para][f\"val_{metric}_mean\"][\"mean\"] * 100, 2)}({round(selected_records_anslysis.loc[selected_para][f\"val_{metric}_mean\"][\"std\"] * 100, 2)})')\n",
    "    selected_records[filter]\n",
    "\n",
    "total_domain_avg = []\n",
    "for key in [f'val_{item}_{metric}' for item in domain_list]:\n",
    "    value = total_avg[key]\n",
    "    total_domain_avg.append(round(np.array(list(map(lambda x: float(x.split(\"(\")[0]), value))).mean(), 2))\n",
    "    print(total_domain_avg[-1])\n",
    "print(round(np.mean(total_domain_avg), 2))"
   ]
  },
  {
   "cell_type": "code",
   "execution_count": 13,
   "metadata": {},
   "outputs": [],
   "source": [
    "# ans[(ans[\"normal_class\"] == normal_class)].sort_values(by=\"val_AUROC_mean\",ascending=False)"
   ]
  },
  {
   "cell_type": "code",
   "execution_count": 14,
   "metadata": {},
   "outputs": [],
   "source": [
    "# remain_para = []\n",
    "# for item in selected_records_anslysis.index[:10]:\n",
    "#     remain_para.append(list(item))\n",
    "# remain_para = pd.DataFrame(remain_para)\n",
    "# remain_para.to_csv(f\"./{dir_path.split('/')[-1]}_remain_para.csv\",index=None, header=None)"
   ]
  },
  {
   "cell_type": "code",
   "execution_count": 15,
   "metadata": {},
   "outputs": [],
   "source": [
    "# remain_para = []\n",
    "# for item in selected_records_anslysis.index[:10]:\n",
    "#     remain_para.append([\"0\",\"1 2 3 4 5 6\",item[1],item[0],2])\n",
    "#     remain_para.append([\"0\",\"1 2 3 4 5 6\",item[1],item[0],3])\n",
    "#     remain_para.append([\"0\",\"1 2 3 4 5 6\",item[1],item[0],4])\n",
    "    \n",
    "# remain_para = pd.DataFrame(remain_para,columns=[\"normal_class\", \"anomaly_class\", \"epochs\", \"lr\", \"cnt\"])\n",
    "# # remain_para.to_csv(f\"./{dir_path.split('/')[-1]}_remain_para.csv\",index=None, header=None)\n",
    "# remain_para"
   ]
  },
  {
   "cell_type": "code",
   "execution_count": 16,
   "metadata": {},
   "outputs": [],
   "source": [
    "# selected_records_anslysis.sort_index().loc[(slice(None), slice(None), 1, 1, 1, 0),:]"
   ]
  },
  {
   "cell_type": "code",
   "execution_count": 17,
   "metadata": {},
   "outputs": [],
   "source": [
    "# selected_records_anslysis.sort_index().loc[(slice(None), slice(None), 1, 0, 1, 0),:]"
   ]
  },
  {
   "cell_type": "code",
   "execution_count": 18,
   "metadata": {},
   "outputs": [],
   "source": [
    "# selected_records_anslysis.sort_index().loc[(slice(None), slice(None), 1, 0, 0, 0),:]"
   ]
  },
  {
   "cell_type": "code",
   "execution_count": 19,
   "metadata": {},
   "outputs": [],
   "source": [
    "# selected_records_anslysis.sort_index().loc[(slice(None), slice(None), 0, 0, 0, 0),:]"
   ]
  },
  {
   "cell_type": "code",
   "execution_count": 20,
   "metadata": {},
   "outputs": [
    {
     "name": "stdout",
     "output_type": "stream",
     "text": [
      "['lr', 'epochs']\n",
      "(0.0001, 30)\n"
     ]
    },
    {
     "data": {
      "text/html": [
       "<div>\n",
       "<style scoped>\n",
       "    .dataframe tbody tr th:only-of-type {\n",
       "        vertical-align: middle;\n",
       "    }\n",
       "\n",
       "    .dataframe tbody tr th {\n",
       "        vertical-align: top;\n",
       "    }\n",
       "\n",
       "    .dataframe thead tr th {\n",
       "        text-align: left;\n",
       "    }\n",
       "\n",
       "    .dataframe thead tr:last-of-type th {\n",
       "        text-align: right;\n",
       "    }\n",
       "</style>\n",
       "<table border=\"1\" class=\"dataframe\">\n",
       "  <thead>\n",
       "    <tr>\n",
       "      <th></th>\n",
       "      <th></th>\n",
       "      <th>cnt</th>\n",
       "      <th colspan=\"2\" halign=\"left\">max_val_epoch</th>\n",
       "      <th colspan=\"2\" halign=\"left\">val_origin_AUPRC</th>\n",
       "      <th colspan=\"2\" halign=\"left\">val_brightness_AUPRC</th>\n",
       "      <th colspan=\"2\" halign=\"left\">val_contrast_AUPRC</th>\n",
       "      <th colspan=\"2\" halign=\"left\">val_defocus_blur_AUPRC</th>\n",
       "      <th colspan=\"2\" halign=\"left\">val_gaussian_noise_AUPRC</th>\n",
       "      <th colspan=\"2\" halign=\"left\">val_AUPRC_mean</th>\n",
       "    </tr>\n",
       "    <tr>\n",
       "      <th></th>\n",
       "      <th></th>\n",
       "      <th>count</th>\n",
       "      <th>mean</th>\n",
       "      <th>std</th>\n",
       "      <th>mean</th>\n",
       "      <th>std</th>\n",
       "      <th>mean</th>\n",
       "      <th>std</th>\n",
       "      <th>mean</th>\n",
       "      <th>std</th>\n",
       "      <th>mean</th>\n",
       "      <th>std</th>\n",
       "      <th>mean</th>\n",
       "      <th>std</th>\n",
       "      <th>mean</th>\n",
       "      <th>std</th>\n",
       "    </tr>\n",
       "    <tr>\n",
       "      <th>lr</th>\n",
       "      <th>epochs</th>\n",
       "      <th></th>\n",
       "      <th></th>\n",
       "      <th></th>\n",
       "      <th></th>\n",
       "      <th></th>\n",
       "      <th></th>\n",
       "      <th></th>\n",
       "      <th></th>\n",
       "      <th></th>\n",
       "      <th></th>\n",
       "      <th></th>\n",
       "      <th></th>\n",
       "      <th></th>\n",
       "      <th></th>\n",
       "      <th></th>\n",
       "    </tr>\n",
       "  </thead>\n",
       "  <tbody>\n",
       "    <tr>\n",
       "      <th rowspan=\"3\" valign=\"top\">0.00010</th>\n",
       "      <th>30</th>\n",
       "      <td>3</td>\n",
       "      <td>1.000000</td>\n",
       "      <td>1.000000</td>\n",
       "      <td>0.954765</td>\n",
       "      <td>0.019735</td>\n",
       "      <td>0.910579</td>\n",
       "      <td>0.028701</td>\n",
       "      <td>0.919120</td>\n",
       "      <td>0.014986</td>\n",
       "      <td>0.954866</td>\n",
       "      <td>0.010608</td>\n",
       "      <td>0.931128</td>\n",
       "      <td>0.005071</td>\n",
       "      <td>0.934092</td>\n",
       "      <td>0.011222</td>\n",
       "    </tr>\n",
       "    <tr>\n",
       "      <th>20</th>\n",
       "      <td>3</td>\n",
       "      <td>1.000000</td>\n",
       "      <td>0.000000</td>\n",
       "      <td>0.973030</td>\n",
       "      <td>0.005808</td>\n",
       "      <td>0.877247</td>\n",
       "      <td>0.053083</td>\n",
       "      <td>0.931553</td>\n",
       "      <td>0.023897</td>\n",
       "      <td>0.936728</td>\n",
       "      <td>0.036911</td>\n",
       "      <td>0.907019</td>\n",
       "      <td>0.019464</td>\n",
       "      <td>0.925115</td>\n",
       "      <td>0.018036</td>\n",
       "    </tr>\n",
       "    <tr>\n",
       "      <th>10</th>\n",
       "      <td>3</td>\n",
       "      <td>0.333333</td>\n",
       "      <td>0.577350</td>\n",
       "      <td>0.931259</td>\n",
       "      <td>0.028383</td>\n",
       "      <td>0.892362</td>\n",
       "      <td>0.021750</td>\n",
       "      <td>0.920836</td>\n",
       "      <td>0.031153</td>\n",
       "      <td>0.916932</td>\n",
       "      <td>0.019276</td>\n",
       "      <td>0.917402</td>\n",
       "      <td>0.011947</td>\n",
       "      <td>0.915758</td>\n",
       "      <td>0.004275</td>\n",
       "    </tr>\n",
       "    <tr>\n",
       "      <th rowspan=\"3\" valign=\"top\">0.00050</th>\n",
       "      <th>10</th>\n",
       "      <td>3</td>\n",
       "      <td>2.666667</td>\n",
       "      <td>1.527525</td>\n",
       "      <td>0.951419</td>\n",
       "      <td>0.009263</td>\n",
       "      <td>0.867405</td>\n",
       "      <td>0.071972</td>\n",
       "      <td>0.898970</td>\n",
       "      <td>0.010705</td>\n",
       "      <td>0.935531</td>\n",
       "      <td>0.011917</td>\n",
       "      <td>0.892260</td>\n",
       "      <td>0.019487</td>\n",
       "      <td>0.909117</td>\n",
       "      <td>0.021267</td>\n",
       "    </tr>\n",
       "    <tr>\n",
       "      <th>20</th>\n",
       "      <td>3</td>\n",
       "      <td>2.333333</td>\n",
       "      <td>1.527525</td>\n",
       "      <td>0.940444</td>\n",
       "      <td>0.013054</td>\n",
       "      <td>0.904874</td>\n",
       "      <td>0.008454</td>\n",
       "      <td>0.873702</td>\n",
       "      <td>0.021264</td>\n",
       "      <td>0.910693</td>\n",
       "      <td>0.009767</td>\n",
       "      <td>0.912236</td>\n",
       "      <td>0.019417</td>\n",
       "      <td>0.908390</td>\n",
       "      <td>0.005066</td>\n",
       "    </tr>\n",
       "    <tr>\n",
       "      <th>30</th>\n",
       "      <td>3</td>\n",
       "      <td>5.333333</td>\n",
       "      <td>4.041452</td>\n",
       "      <td>0.914416</td>\n",
       "      <td>0.051415</td>\n",
       "      <td>0.909183</td>\n",
       "      <td>0.021823</td>\n",
       "      <td>0.851581</td>\n",
       "      <td>0.047962</td>\n",
       "      <td>0.915358</td>\n",
       "      <td>0.010443</td>\n",
       "      <td>0.928318</td>\n",
       "      <td>0.011535</td>\n",
       "      <td>0.903771</td>\n",
       "      <td>0.017691</td>\n",
       "    </tr>\n",
       "    <tr>\n",
       "      <th rowspan=\"3\" valign=\"top\">0.00005</th>\n",
       "      <th>10</th>\n",
       "      <td>3</td>\n",
       "      <td>0.333333</td>\n",
       "      <td>0.577350</td>\n",
       "      <td>0.929776</td>\n",
       "      <td>0.040159</td>\n",
       "      <td>0.884751</td>\n",
       "      <td>0.031139</td>\n",
       "      <td>0.875030</td>\n",
       "      <td>0.042619</td>\n",
       "      <td>0.903684</td>\n",
       "      <td>0.047998</td>\n",
       "      <td>0.904076</td>\n",
       "      <td>0.012196</td>\n",
       "      <td>0.899463</td>\n",
       "      <td>0.025934</td>\n",
       "    </tr>\n",
       "    <tr>\n",
       "      <th>30</th>\n",
       "      <td>3</td>\n",
       "      <td>0.000000</td>\n",
       "      <td>0.000000</td>\n",
       "      <td>0.936642</td>\n",
       "      <td>0.010659</td>\n",
       "      <td>0.881803</td>\n",
       "      <td>0.013748</td>\n",
       "      <td>0.843815</td>\n",
       "      <td>0.025120</td>\n",
       "      <td>0.927743</td>\n",
       "      <td>0.019186</td>\n",
       "      <td>0.901945</td>\n",
       "      <td>0.021177</td>\n",
       "      <td>0.898390</td>\n",
       "      <td>0.006319</td>\n",
       "    </tr>\n",
       "    <tr>\n",
       "      <th>20</th>\n",
       "      <td>3</td>\n",
       "      <td>0.000000</td>\n",
       "      <td>0.000000</td>\n",
       "      <td>0.947477</td>\n",
       "      <td>0.007473</td>\n",
       "      <td>0.854317</td>\n",
       "      <td>0.016452</td>\n",
       "      <td>0.868425</td>\n",
       "      <td>0.017956</td>\n",
       "      <td>0.896710</td>\n",
       "      <td>0.016080</td>\n",
       "      <td>0.910981</td>\n",
       "      <td>0.024538</td>\n",
       "      <td>0.895582</td>\n",
       "      <td>0.011001</td>\n",
       "    </tr>\n",
       "    <tr>\n",
       "      <th rowspan=\"3\" valign=\"top\">0.00001</th>\n",
       "      <th>10</th>\n",
       "      <td>3</td>\n",
       "      <td>1.666667</td>\n",
       "      <td>1.154701</td>\n",
       "      <td>0.949750</td>\n",
       "      <td>0.012295</td>\n",
       "      <td>0.876934</td>\n",
       "      <td>0.004686</td>\n",
       "      <td>0.853249</td>\n",
       "      <td>0.019518</td>\n",
       "      <td>0.874333</td>\n",
       "      <td>0.022712</td>\n",
       "      <td>0.887605</td>\n",
       "      <td>0.008745</td>\n",
       "      <td>0.888374</td>\n",
       "      <td>0.001753</td>\n",
       "    </tr>\n",
       "    <tr>\n",
       "      <th>20</th>\n",
       "      <td>3</td>\n",
       "      <td>1.000000</td>\n",
       "      <td>1.000000</td>\n",
       "      <td>0.945087</td>\n",
       "      <td>0.008421</td>\n",
       "      <td>0.825231</td>\n",
       "      <td>0.025571</td>\n",
       "      <td>0.868006</td>\n",
       "      <td>0.046362</td>\n",
       "      <td>0.882502</td>\n",
       "      <td>0.004096</td>\n",
       "      <td>0.886119</td>\n",
       "      <td>0.008602</td>\n",
       "      <td>0.881389</td>\n",
       "      <td>0.011146</td>\n",
       "    </tr>\n",
       "    <tr>\n",
       "      <th>30</th>\n",
       "      <td>3</td>\n",
       "      <td>0.666667</td>\n",
       "      <td>0.577350</td>\n",
       "      <td>0.932809</td>\n",
       "      <td>0.011332</td>\n",
       "      <td>0.818982</td>\n",
       "      <td>0.030494</td>\n",
       "      <td>0.843149</td>\n",
       "      <td>0.028745</td>\n",
       "      <td>0.899880</td>\n",
       "      <td>0.043172</td>\n",
       "      <td>0.879618</td>\n",
       "      <td>0.007680</td>\n",
       "      <td>0.874887</td>\n",
       "      <td>0.001383</td>\n",
       "    </tr>\n",
       "  </tbody>\n",
       "</table>\n",
       "</div>"
      ],
      "text/plain": [
       "                 cnt max_val_epoch           val_origin_AUPRC            \\\n",
       "               count          mean       std             mean       std   \n",
       "lr      epochs                                                            \n",
       "0.00010 30         3      1.000000  1.000000         0.954765  0.019735   \n",
       "        20         3      1.000000  0.000000         0.973030  0.005808   \n",
       "        10         3      0.333333  0.577350         0.931259  0.028383   \n",
       "0.00050 10         3      2.666667  1.527525         0.951419  0.009263   \n",
       "        20         3      2.333333  1.527525         0.940444  0.013054   \n",
       "        30         3      5.333333  4.041452         0.914416  0.051415   \n",
       "0.00005 10         3      0.333333  0.577350         0.929776  0.040159   \n",
       "        30         3      0.000000  0.000000         0.936642  0.010659   \n",
       "        20         3      0.000000  0.000000         0.947477  0.007473   \n",
       "0.00001 10         3      1.666667  1.154701         0.949750  0.012295   \n",
       "        20         3      1.000000  1.000000         0.945087  0.008421   \n",
       "        30         3      0.666667  0.577350         0.932809  0.011332   \n",
       "\n",
       "               val_brightness_AUPRC           val_contrast_AUPRC            \\\n",
       "                               mean       std               mean       std   \n",
       "lr      epochs                                                               \n",
       "0.00010 30                 0.910579  0.028701           0.919120  0.014986   \n",
       "        20                 0.877247  0.053083           0.931553  0.023897   \n",
       "        10                 0.892362  0.021750           0.920836  0.031153   \n",
       "0.00050 10                 0.867405  0.071972           0.898970  0.010705   \n",
       "        20                 0.904874  0.008454           0.873702  0.021264   \n",
       "        30                 0.909183  0.021823           0.851581  0.047962   \n",
       "0.00005 10                 0.884751  0.031139           0.875030  0.042619   \n",
       "        30                 0.881803  0.013748           0.843815  0.025120   \n",
       "        20                 0.854317  0.016452           0.868425  0.017956   \n",
       "0.00001 10                 0.876934  0.004686           0.853249  0.019518   \n",
       "        20                 0.825231  0.025571           0.868006  0.046362   \n",
       "        30                 0.818982  0.030494           0.843149  0.028745   \n",
       "\n",
       "               val_defocus_blur_AUPRC           val_gaussian_noise_AUPRC  \\\n",
       "                                 mean       std                     mean   \n",
       "lr      epochs                                                             \n",
       "0.00010 30                   0.954866  0.010608                 0.931128   \n",
       "        20                   0.936728  0.036911                 0.907019   \n",
       "        10                   0.916932  0.019276                 0.917402   \n",
       "0.00050 10                   0.935531  0.011917                 0.892260   \n",
       "        20                   0.910693  0.009767                 0.912236   \n",
       "        30                   0.915358  0.010443                 0.928318   \n",
       "0.00005 10                   0.903684  0.047998                 0.904076   \n",
       "        30                   0.927743  0.019186                 0.901945   \n",
       "        20                   0.896710  0.016080                 0.910981   \n",
       "0.00001 10                   0.874333  0.022712                 0.887605   \n",
       "        20                   0.882502  0.004096                 0.886119   \n",
       "        30                   0.899880  0.043172                 0.879618   \n",
       "\n",
       "                         val_AUPRC_mean            \n",
       "                     std           mean       std  \n",
       "lr      epochs                                     \n",
       "0.00010 30      0.005071       0.934092  0.011222  \n",
       "        20      0.019464       0.925115  0.018036  \n",
       "        10      0.011947       0.915758  0.004275  \n",
       "0.00050 10      0.019487       0.909117  0.021267  \n",
       "        20      0.019417       0.908390  0.005066  \n",
       "        30      0.011535       0.903771  0.017691  \n",
       "0.00005 10      0.012196       0.899463  0.025934  \n",
       "        30      0.021177       0.898390  0.006319  \n",
       "        20      0.024538       0.895582  0.011001  \n",
       "0.00001 10      0.008745       0.888374  0.001753  \n",
       "        20      0.008602       0.881389  0.011146  \n",
       "        30      0.007680       0.874887  0.001383  "
      ]
     },
     "execution_count": 20,
     "metadata": {},
     "output_type": "execute_result"
    }
   ],
   "source": [
    "agg_method = {\"cnt\":[\"count\"],\n",
    "              \"max_val_epoch\":[\"mean\", \"std\"]}\n",
    "for item in domain_list:\n",
    "    agg_method[f\"val_{item}_{metric}\"] = [\"mean\", \"std\"]\n",
    "\n",
    "agg_method[f\"val_{metric}_mean\"] = [\"mean\", \"std\"]\n",
    "agg_method[f\"val_{metric}_mean\"] = [\"mean\", \"std\"]\n",
    "\n",
    "pd.set_option(\"display.max_columns\",None)\n",
    "pd.set_option(\"display.max_rows\",None)\n",
    "checkitew = 'pill'\n",
    "if dir_path.__contains__(\"transistor\"):\n",
    "    checkitew = 'transistor'\n",
    "if dir_path.__contains__(\"toothbrush\"):\n",
    "    checkitew = 'toothbrush'\n",
    "\n",
    "selected_records = ans[ans[\"checkitew\"] == checkitew].drop([\"checkitew\"],axis=1)\n",
    "# group_key = [\"pre_lr\", \"pre_epochs\", \"lr\", \"epochs\"]\n",
    "group_key = deepcopy(para_name_list)\n",
    "group_key.remove(\"checkitew\")\n",
    "group_key.remove(\"cnt\")\n",
    "print(group_key)\n",
    "selected_records_anslysis = selected_records.groupby(group_key).agg(agg_method).sort_values(by=(f\"val_{metric}_mean\", \"mean\"), ascending=False)\n",
    "selected_para = selected_records_anslysis.index[0]\n",
    "print(selected_para)\n",
    "selected_records_anslysis"
   ]
  },
  {
   "cell_type": "code",
   "execution_count": 21,
   "metadata": {},
   "outputs": [
    {
     "name": "stdout",
     "output_type": "stream",
     "text": [
      "95.48(1.97)\n",
      "91.06(2.87)\n",
      "91.91(1.5)\n",
      "95.49(1.06)\n",
      "93.11(0.51)\n",
      "93.41(1.12)\n"
     ]
    },
    {
     "name": "stderr",
     "output_type": "stream",
     "text": [
      "/tmp/ipykernel_88177/1079342940.py:7: FutureWarning: ['file_name'] did not aggregate successfully. If any error is raised this will raise in a future version of pandas. Drop these columns/ops to avoid this warning.\n",
      "  temp = selected_records[filter].agg([\"mean\", \"std\"]).T\n"
     ]
    },
    {
     "data": {
      "text/html": [
       "<div>\n",
       "<style scoped>\n",
       "    .dataframe tbody tr th:only-of-type {\n",
       "        vertical-align: middle;\n",
       "    }\n",
       "\n",
       "    .dataframe tbody tr th {\n",
       "        vertical-align: top;\n",
       "    }\n",
       "\n",
       "    .dataframe thead th {\n",
       "        text-align: right;\n",
       "    }\n",
       "</style>\n",
       "<table border=\"1\" class=\"dataframe\">\n",
       "  <thead>\n",
       "    <tr style=\"text-align: right;\">\n",
       "      <th></th>\n",
       "      <th>lr</th>\n",
       "      <th>epochs</th>\n",
       "      <th>cnt</th>\n",
       "      <th>max_val_epoch</th>\n",
       "      <th>val_origin_AUPRC</th>\n",
       "      <th>val_brightness_AUPRC</th>\n",
       "      <th>val_contrast_AUPRC</th>\n",
       "      <th>val_defocus_blur_AUPRC</th>\n",
       "      <th>val_gaussian_noise_AUPRC</th>\n",
       "      <th>file_name</th>\n",
       "      <th>val_AUROC_mean</th>\n",
       "      <th>val_AUPRC_mean</th>\n",
       "    </tr>\n",
       "  </thead>\n",
       "  <tbody>\n",
       "    <tr>\n",
       "      <th>106</th>\n",
       "      <td>0.0001</td>\n",
       "      <td>30</td>\n",
       "      <td>0</td>\n",
       "      <td>0</td>\n",
       "      <td>0.935672</td>\n",
       "      <td>0.877441</td>\n",
       "      <td>0.929383</td>\n",
       "      <td>0.945597</td>\n",
       "      <td>0.925791</td>\n",
       "      <td>data_name=MVTEC_with_domain_label,backbone=wid...</td>\n",
       "      <td>0.699034</td>\n",
       "      <td>0.922777</td>\n",
       "    </tr>\n",
       "    <tr>\n",
       "      <th>345</th>\n",
       "      <td>0.0001</td>\n",
       "      <td>30</td>\n",
       "      <td>1</td>\n",
       "      <td>2</td>\n",
       "      <td>0.975085</td>\n",
       "      <td>0.926811</td>\n",
       "      <td>0.926055</td>\n",
       "      <td>0.966436</td>\n",
       "      <td>0.931710</td>\n",
       "      <td>data_name=MVTEC_with_domain_label,backbone=wid...</td>\n",
       "      <td>0.764683</td>\n",
       "      <td>0.945219</td>\n",
       "    </tr>\n",
       "    <tr>\n",
       "      <th>382</th>\n",
       "      <td>0.0001</td>\n",
       "      <td>30</td>\n",
       "      <td>2</td>\n",
       "      <td>1</td>\n",
       "      <td>0.953538</td>\n",
       "      <td>0.927487</td>\n",
       "      <td>0.901923</td>\n",
       "      <td>0.952564</td>\n",
       "      <td>0.935882</td>\n",
       "      <td>data_name=MVTEC_with_domain_label,backbone=wid...</td>\n",
       "      <td>0.714289</td>\n",
       "      <td>0.934279</td>\n",
       "    </tr>\n",
       "  </tbody>\n",
       "</table>\n",
       "</div>"
      ],
      "text/plain": [
       "         lr  epochs  cnt  max_val_epoch  val_origin_AUPRC  \\\n",
       "106  0.0001      30    0              0          0.935672   \n",
       "345  0.0001      30    1              2          0.975085   \n",
       "382  0.0001      30    2              1          0.953538   \n",
       "\n",
       "     val_brightness_AUPRC  val_contrast_AUPRC  val_defocus_blur_AUPRC  \\\n",
       "106              0.877441            0.929383                0.945597   \n",
       "345              0.926811            0.926055                0.966436   \n",
       "382              0.927487            0.901923                0.952564   \n",
       "\n",
       "     val_gaussian_noise_AUPRC  \\\n",
       "106                  0.925791   \n",
       "345                  0.931710   \n",
       "382                  0.935882   \n",
       "\n",
       "                                             file_name  val_AUROC_mean  \\\n",
       "106  data_name=MVTEC_with_domain_label,backbone=wid...        0.699034   \n",
       "345  data_name=MVTEC_with_domain_label,backbone=wid...        0.764683   \n",
       "382  data_name=MVTEC_with_domain_label,backbone=wid...        0.714289   \n",
       "\n",
       "     val_AUPRC_mean  \n",
       "106        0.922777  \n",
       "345        0.945219  \n",
       "382        0.934279  "
      ]
     },
     "execution_count": 21,
     "metadata": {},
     "output_type": "execute_result"
    }
   ],
   "source": [
    "filter = None\n",
    "for idx, item in enumerate(group_key):\n",
    "    if filter is None:\n",
    "        filter = selected_records[item] == selected_para[idx]\n",
    "    else:\n",
    "        filter = filter & (selected_records[item] == selected_para[idx])\n",
    "temp = selected_records[filter].agg([\"mean\", \"std\"]).T\n",
    "temp[\"res\"] = temp.apply(lambda x: f'{round(x[\"mean\"] *100, 2)}({round(x[\"std\"] *100, 2)})', axis=1)\n",
    "for key in [f'val_{item}_{metric}' for item in domain_list]:\n",
    "    print(temp.loc[key][\"res\"])\n",
    "print(f'{round(selected_records_anslysis.loc[selected_para][f\"val_{metric}_mean\"][\"mean\"] * 100, 2)}({round(selected_records_anslysis.loc[selected_para][f\"val_{metric}_mean\"][\"std\"] * 100, 2)})')\n",
    "selected_records[filter]"
   ]
  },
  {
   "cell_type": "code",
   "execution_count": 22,
   "metadata": {},
   "outputs": [
    {
     "data": {
      "text/plain": [
       "NpzFile '../results/MVTEC/devnet/1domain/data_name=MVTEC_with_domain_label,backbone=wide_resnet50_2,domain_cnt=1,checkitew=pill,batch_size=48,steps_per_epoch=20,epochs=30,lr=0.0001,cnt=0.npz' with keys: val_max_metric, train_results_loss, val_results_loss, val_AUROC_list, val_AUPRC_list..."
      ]
     },
     "execution_count": 22,
     "metadata": {},
     "output_type": "execute_result"
    }
   ],
   "source": [
    "file_name = selected_records[filter].file_name.iloc[0]\n",
    "data = np.load(f'{dir_path}/{file_name}', allow_pickle=True)\n",
    "data"
   ]
  },
  {
   "cell_type": "code",
   "execution_count": 23,
   "metadata": {},
   "outputs": [],
   "source": [
    "# # data = np.load(f'{dir_path}/{file_name}', allow_pickle=True)\n",
    "# file_name = 'results/DEBUG/method=10,backbone=DGAD9,domain_cnt=3,normal_class=[0],anomaly_class=[1, 2, 3, 4, 5, 6],batch_size=30,steps_per_epoch=20,epochs=40,lr=5e-05,tau1=0.07,tau2=0.07,origin_svdd_lambda=1.0,class_svdd_lambda=1.0,align_lambda=1.0,beta=0.9,cnt=0.npz'\n",
    "# data = np.load(f'../{file_name}', allow_pickle=True)\n",
    "# data"
   ]
  },
  {
   "cell_type": "code",
   "execution_count": null,
   "metadata": {},
   "outputs": [],
   "source": []
  },
  {
   "cell_type": "code",
   "execution_count": 24,
   "metadata": {},
   "outputs": [],
   "source": [
    "domain_test_trends = dict()\n",
    "for domain in domain_list:\n",
    "    domain_test_trends[domain]={\n",
    "        \"test_loss_list\":[],\n",
    "        \"AUROC\":[],\n",
    "        \"AUPRC\":[],\n",
    "    }\n",
    "\n",
    "domain_test_trends\n",
    "for res in data[\"test_results_list\"]:\n",
    "    if res is not None:\n",
    "        for key in res:\n",
    "            domain_test_trends[key][\"test_loss_list\"].append(np.array(res[key][\"test_loss_list\"]).mean())\n",
    "            domain_test_trends[key][\"AUROC\"].append(res[key][\"AUROC\"])\n",
    "            domain_test_trends[key][\"AUPRC\"].append(res[key][\"AUPRC\"])"
   ]
  },
  {
   "cell_type": "markdown",
   "metadata": {},
   "source": [
    "### 训练过程中 模型在test上下降趋势"
   ]
  },
  {
   "cell_type": "code",
   "execution_count": 25,
   "metadata": {},
   "outputs": [
    {
     "name": "stdout",
     "output_type": "stream",
     "text": [
      "0\n",
      "origin [0.9356720692261036, 0.9773385396132189, 0.9804258292045097, 0.9820171006721005, 0.9731919575088086, 0.9828257622076491, 0.9824121146884754]\n",
      "brightness [0.8774405874482522, 0.917592109476811, 0.9353456821534833, 0.9362636184979709, 0.9368260743318095, 0.9362969692325267, 0.9364173922608534]\n",
      "contrast [0.9293829916894114, 0.9322334347300181, 0.9155045740741066, 0.9258675523521867, 0.910521137519321, 0.9328807530211252, 0.9298212022401211]\n",
      "defocus_blur [0.9455973756831126, 0.9590973643239185, 0.9698232198400831, 0.9717202920959808, 0.9528988083176057, 0.9751273978164781, 0.9735872327854822]\n",
      "gaussian_noise [0.9257909272551621, 0.9378428190356642, 0.9436976464732166, 0.9457185441447705, 0.9454583966713186, 0.9458151483518813, 0.9455048461226199]\n"
     ]
    },
    {
     "data": {
      "image/png": "[encoded data removed]",
      "text/plain": [
       "<Figure size 2400x400 with 5 Axes>"
      ]
     },
     "metadata": {},
     "output_type": "display_data"
    },
    {
     "name": "stdout",
     "output_type": "stream",
     "text": [
      "0\n",
      "origin 0.9356720692261036\n",
      "brightness 0.8774405874482522\n",
      "contrast 0.9293829916894114\n",
      "defocus_blur 0.9455973756831126\n",
      "gaussian_noise 0.9257909272551621\n"
     ]
    }
   ],
   "source": [
    "max_val_epoch = data[\"val_max_metric\"].item()['epoch']\n",
    "print(max_val_epoch)\n",
    "\n",
    "fig, ax = plt.subplots(1,5, figsize=(24, 4))\n",
    "\n",
    "for idx, domain in enumerate(domain_list):\n",
    "    ax[idx].plot(domain_test_trends[domain][metric], label = domain)\n",
    "    print(domain, domain_test_trends[domain][metric])\n",
    "\n",
    "    if \"metric\" in data[\"val_max_metric\"].item():\n",
    "        if \"test_epoch\" in data[\"args\"].item():\n",
    "            ax[idx].axvline(x=max_val_epoch / data[\"args\"].item()[\"test_epoch\"], color='r', linestyle='--')\n",
    "        else:\n",
    "            ax[idx].axvline(x=max_val_epoch / 5, color='r', linestyle='--')\n",
    "    else:\n",
    "        ax[idx].axvline(x=max_val_epoch, color='r', linestyle='--')\n",
    "\n",
    "    ax[idx].legend()\n",
    "plt.show()\n",
    "\n",
    "print(max_val_epoch)\n",
    "if \"metric\" in data[\"val_max_metric\"].item():\n",
    "    for domain in domain_list:\n",
    "        print(domain, data[\"val_max_metric\"].item()[\"metric\"][domain][metric])\n",
    "else:\n",
    "    for domain in domain_list:\n",
    "        print(domain, domain_test_trends[domain][metric][max_val_epoch])"
   ]
  },
  {
   "cell_type": "code",
   "execution_count": 26,
   "metadata": {},
   "outputs": [
    {
     "name": "stdout",
     "output_type": "stream",
     "text": [
      "5\n"
     ]
    },
    {
     "data": {
      "text/html": [
       "<div>\n",
       "<style scoped>\n",
       "    .dataframe tbody tr th:only-of-type {\n",
       "        vertical-align: middle;\n",
       "    }\n",
       "\n",
       "    .dataframe tbody tr th {\n",
       "        vertical-align: top;\n",
       "    }\n",
       "\n",
       "    .dataframe thead th {\n",
       "        text-align: right;\n",
       "    }\n",
       "</style>\n",
       "<table border=\"1\" class=\"dataframe\">\n",
       "  <thead>\n",
       "    <tr style=\"text-align: right;\">\n",
       "      <th></th>\n",
       "      <th>0</th>\n",
       "      <th>1</th>\n",
       "      <th>2</th>\n",
       "      <th>3</th>\n",
       "      <th>4</th>\n",
       "      <th>5</th>\n",
       "      <th>6</th>\n",
       "    </tr>\n",
       "  </thead>\n",
       "  <tbody>\n",
       "    <tr>\n",
       "      <th>origin</th>\n",
       "      <td>0.935672</td>\n",
       "      <td>0.977339</td>\n",
       "      <td>0.980426</td>\n",
       "      <td>0.982017</td>\n",
       "      <td>0.973192</td>\n",
       "      <td>0.982826</td>\n",
       "      <td>0.982412</td>\n",
       "    </tr>\n",
       "    <tr>\n",
       "      <th>brightness</th>\n",
       "      <td>0.877441</td>\n",
       "      <td>0.917592</td>\n",
       "      <td>0.935346</td>\n",
       "      <td>0.936264</td>\n",
       "      <td>0.936826</td>\n",
       "      <td>0.936297</td>\n",
       "      <td>0.936417</td>\n",
       "    </tr>\n",
       "    <tr>\n",
       "      <th>contrast</th>\n",
       "      <td>0.929383</td>\n",
       "      <td>0.932233</td>\n",
       "      <td>0.915505</td>\n",
       "      <td>0.925868</td>\n",
       "      <td>0.910521</td>\n",
       "      <td>0.932881</td>\n",
       "      <td>0.929821</td>\n",
       "    </tr>\n",
       "    <tr>\n",
       "      <th>defocus_blur</th>\n",
       "      <td>0.945597</td>\n",
       "      <td>0.959097</td>\n",
       "      <td>0.969823</td>\n",
       "      <td>0.971720</td>\n",
       "      <td>0.952899</td>\n",
       "      <td>0.975127</td>\n",
       "      <td>0.973587</td>\n",
       "    </tr>\n",
       "    <tr>\n",
       "      <th>gaussian_noise</th>\n",
       "      <td>0.925791</td>\n",
       "      <td>0.937843</td>\n",
       "      <td>0.943698</td>\n",
       "      <td>0.945719</td>\n",
       "      <td>0.945458</td>\n",
       "      <td>0.945815</td>\n",
       "      <td>0.945505</td>\n",
       "    </tr>\n",
       "    <tr>\n",
       "      <th>avg</th>\n",
       "      <td>0.922777</td>\n",
       "      <td>0.944821</td>\n",
       "      <td>0.948959</td>\n",
       "      <td>0.952317</td>\n",
       "      <td>0.943779</td>\n",
       "      <td>0.954589</td>\n",
       "      <td>0.953549</td>\n",
       "    </tr>\n",
       "  </tbody>\n",
       "</table>\n",
       "</div>"
      ],
      "text/plain": [
       "                       0         1         2         3         4         5  \\\n",
       "origin          0.935672  0.977339  0.980426  0.982017  0.973192  0.982826   \n",
       "brightness      0.877441  0.917592  0.935346  0.936264  0.936826  0.936297   \n",
       "contrast        0.929383  0.932233  0.915505  0.925868  0.910521  0.932881   \n",
       "defocus_blur    0.945597  0.959097  0.969823  0.971720  0.952899  0.975127   \n",
       "gaussian_noise  0.925791  0.937843  0.943698  0.945719  0.945458  0.945815   \n",
       "avg             0.922777  0.944821  0.948959  0.952317  0.943779  0.954589   \n",
       "\n",
       "                       6  \n",
       "origin          0.982412  \n",
       "brightness      0.936417  \n",
       "contrast        0.929821  \n",
       "defocus_blur    0.973587  \n",
       "gaussian_noise  0.945505  \n",
       "avg             0.953549  "
      ]
     },
     "execution_count": 26,
     "metadata": {},
     "output_type": "execute_result"
    }
   ],
   "source": [
    "file_name = selected_records[filter].file_name.iloc[0]\n",
    "data = np.load(f'{dir_path}/{file_name}', allow_pickle=True)\n",
    "data\n",
    "\n",
    "domain_test_trends = dict()\n",
    "for domain in domain_list:\n",
    "    domain_test_trends[domain]={\n",
    "        \"test_loss_list\":[],\n",
    "        \"AUROC\":[],\n",
    "        \"AUPRC\":[],\n",
    "    }\n",
    "\n",
    "domain_test_trends\n",
    "for res in data[\"test_results_list\"]:\n",
    "    if res is not None:\n",
    "        for key in res:\n",
    "            domain_test_trends[key][\"test_loss_list\"].append(np.array(res[key][\"test_loss_list\"]).mean())\n",
    "            domain_test_trends[key][\"AUROC\"].append(res[key][\"AUROC\"])\n",
    "            domain_test_trends[key][\"AUPRC\"].append(res[key][\"AUPRC\"])\n",
    "\n",
    "tmp = []\n",
    "for idx, domain in enumerate(domain_list):\n",
    "    tmp.append(domain_test_trends[domain][metric])\n",
    "tmp = pd.DataFrame(tmp, index=domain_list)\n",
    "idx = tmp.mean(axis = 0).idxmax()\n",
    "print(idx)\n",
    "pd.concat([tmp, pd.DataFrame(tmp.mean(axis = 0), columns = [\"avg\"]).T])"
   ]
  },
  {
   "cell_type": "markdown",
   "metadata": {},
   "source": [
    "### 训练集loss下降趋势"
   ]
  },
  {
   "cell_type": "code",
   "execution_count": 27,
   "metadata": {},
   "outputs": [
    {
     "data": {
      "text/plain": [
       "array([0.3078806 , 0.0249231 , 0.0154458 , 0.01978648, 0.00678063,\n",
       "       0.00776855, 0.00641918, 0.00664057, 0.00453317, 0.00490452,\n",
       "       0.00475537, 0.00579317, 0.00515443, 0.00765688, 0.00563728,\n",
       "       0.00535512, 0.00438434, 0.00509735, 0.00537366, 0.00579707,\n",
       "       0.00624491, 0.00713355, 0.00497581, 0.0051272 , 0.00784133,\n",
       "       0.00702606, 0.00825979, 0.00609345, 0.00519303, 0.00470865])"
      ]
     },
     "execution_count": 27,
     "metadata": {},
     "output_type": "execute_result"
    },
    {
     "data": {
      "image/png": "[encoded data removed]",
      "text/plain": [
       "<Figure size 640x480 with 1 Axes>"
      ]
     },
     "metadata": {},
     "output_type": "display_data"
    }
   ],
   "source": [
    "plt.plot(data[\"train_results_loss\"].mean(axis=1)[0:])\n",
    "plt.axvline(x=max_val_epoch, color='r', linestyle='--')\n",
    "data[\"train_results_loss\"].mean(axis=1)"
   ]
  },
  {
   "cell_type": "markdown",
   "metadata": {},
   "source": [
    "### 训练过程中，模型在val 下降趋势"
   ]
  },
  {
   "cell_type": "markdown",
   "metadata": {},
   "source": [
    "#### 验证集loss下降趋势"
   ]
  },
  {
   "cell_type": "code",
   "execution_count": 28,
   "metadata": {},
   "outputs": [
    {
     "data": {
      "text/plain": [
       "array([0.40077296, 0.39304902, 0.36202637, 0.35828861, 0.37151008,\n",
       "       0.36822703, 0.36265752, 0.36634841, 0.36491869, 0.37832299,\n",
       "       0.37130524, 0.379047  , 0.36304888, 0.36456069, 0.36632443,\n",
       "       0.36332525, 0.37357731, 0.36146944, 0.37062916, 0.37150768,\n",
       "       0.36288325, 0.37891633, 0.37703157, 0.3764821 , 0.36533321,\n",
       "       0.36441465, 0.36906654, 0.36948086, 0.36337511, 0.36869036])"
      ]
     },
     "execution_count": 28,
     "metadata": {},
     "output_type": "execute_result"
    },
    {
     "data": {
      "image/png": "[encoded data removed]",
      "text/plain": [
       "<Figure size 640x480 with 1 Axes>"
      ]
     },
     "metadata": {},
     "output_type": "display_data"
    }
   ],
   "source": [
    "plt.plot(data[\"val_results_loss\"].mean(axis=1))\n",
    "plt.axvline(x=max_val_epoch, color='r', linestyle='--')\n",
    "data[\"val_results_loss\"].mean(axis=1)"
   ]
  },
  {
   "cell_type": "markdown",
   "metadata": {},
   "source": [
    "#### 验证集AUROC"
   ]
  },
  {
   "cell_type": "code",
   "execution_count": 29,
   "metadata": {},
   "outputs": [
    {
     "data": {
      "text/plain": [
       "array([1.        , 1.        , 1.        , 1.        , 1.        ,\n",
       "       1.        , 1.        , 1.        , 1.        , 1.        ,\n",
       "       1.        , 1.        , 1.        , 1.        , 1.        ,\n",
       "       1.        , 1.        , 1.        , 0.98148148, 1.        ,\n",
       "       1.        , 1.        , 1.        , 1.        , 1.        ,\n",
       "       1.        , 1.        , 1.        , 1.        , 1.        ])"
      ]
     },
     "execution_count": 29,
     "metadata": {},
     "output_type": "execute_result"
    },
    {
     "data": {
      "image/png": "[encoded data removed]",
      "text/plain": [
       "<Figure size 640x480 with 1 Axes>"
      ]
     },
     "metadata": {},
     "output_type": "display_data"
    }
   ],
   "source": [
    "plt.plot(data[f\"val_AUROC_list\"])\n",
    "plt.axvline(x=max_val_epoch, color='r', linestyle='--')\n",
    "# plt.ylim(0.5,1)\n",
    "data[f\"val_AUROC_list\"]"
   ]
  },
  {
   "cell_type": "code",
   "execution_count": 30,
   "metadata": {},
   "outputs": [
    {
     "data": {
      "text/plain": [
       "array([1. , 1. , 1. , 1. , 1. , 1. , 1. , 1. , 1. , 1. , 1. , 1. , 1. ,\n",
       "       1. , 1. , 1. , 1. , 1. , 0.5, 1. , 1. , 1. , 1. , 1. , 1. , 1. ,\n",
       "       1. , 1. , 1. , 1. ])"
      ]
     },
     "execution_count": 30,
     "metadata": {},
     "output_type": "execute_result"
    },
    {
     "data": {
      "image/png": "[encoded data removed]",
      "text/plain": [
       "<Figure size 640x480 with 1 Axes>"
      ]
     },
     "metadata": {},
     "output_type": "display_data"
    }
   ],
   "source": [
    "plt.plot(data[f\"val_{metric}_list\"])\n",
    "plt.axvline(x=max_val_epoch, color='r', linestyle='--')\n",
    "# plt.ylim(0.5,1)\n",
    "data[f\"val_{metric}_list\"]"
   ]
  },
  {
   "cell_type": "code",
   "execution_count": 31,
   "metadata": {},
   "outputs": [
    {
     "ename": "KeyError",
     "evalue": "'sub_train_results_loss is not a file in the archive'",
     "output_type": "error",
     "traceback": [
      "\u001b[0;31m---------------------------------------------------------------------------\u001b[0m",
      "\u001b[0;31mKeyError\u001b[0m                                  Traceback (most recent call last)",
      "Cell \u001b[0;32mIn[31], line 1\u001b[0m\n\u001b[0;32m----> 1\u001b[0m temp \u001b[38;5;241m=\u001b[39m \u001b[43mdata\u001b[49m\u001b[43m[\u001b[49m\u001b[38;5;124;43m\"\u001b[39;49m\u001b[38;5;124;43msub_train_results_loss\u001b[39;49m\u001b[38;5;124;43m\"\u001b[39;49m\u001b[43m]\u001b[49m\u001b[38;5;241m.\u001b[39mmean(axis\u001b[38;5;241m=\u001b[39m\u001b[38;5;241m1\u001b[39m)\n\u001b[1;32m      2\u001b[0m fig,ax \u001b[38;5;241m=\u001b[39m plt\u001b[38;5;241m.\u001b[39msubplots(temp\u001b[38;5;241m.\u001b[39mshape[\u001b[38;5;241m1\u001b[39m],\u001b[38;5;241m1\u001b[39m,figsize\u001b[38;5;241m=\u001b[39m(\u001b[38;5;241m10\u001b[39m,\u001b[38;5;241m2.5\u001b[39m \u001b[38;5;241m*\u001b[39m temp\u001b[38;5;241m.\u001b[39mshape[\u001b[38;5;241m1\u001b[39m]))\n\u001b[1;32m      3\u001b[0m \u001b[38;5;28;01mif\u001b[39;00m dir_path\u001b[38;5;241m.\u001b[39m\u001b[38;5;21m__contains__\u001b[39m(\u001b[38;5;124m\"\u001b[39m\u001b[38;5;124mmethod13\u001b[39m\u001b[38;5;124m\"\u001b[39m):\n",
      "File \u001b[0;32m~/anaconda3/envs/general_env/lib/python3.9/site-packages/numpy/lib/npyio.py:263\u001b[0m, in \u001b[0;36mNpzFile.__getitem__\u001b[0;34m(self, key)\u001b[0m\n\u001b[1;32m    261\u001b[0m         \u001b[38;5;28;01mreturn\u001b[39;00m \u001b[38;5;28mself\u001b[39m\u001b[38;5;241m.\u001b[39mzip\u001b[38;5;241m.\u001b[39mread(key)\n\u001b[1;32m    262\u001b[0m \u001b[38;5;28;01melse\u001b[39;00m:\n\u001b[0;32m--> 263\u001b[0m     \u001b[38;5;28;01mraise\u001b[39;00m \u001b[38;5;167;01mKeyError\u001b[39;00m(\u001b[38;5;124mf\u001b[39m\u001b[38;5;124m\"\u001b[39m\u001b[38;5;132;01m{\u001b[39;00mkey\u001b[38;5;132;01m}\u001b[39;00m\u001b[38;5;124m is not a file in the archive\u001b[39m\u001b[38;5;124m\"\u001b[39m)\n",
      "\u001b[0;31mKeyError\u001b[0m: 'sub_train_results_loss is not a file in the archive'"
     ]
    }
   ],
   "source": [
    "temp = data[\"sub_train_results_loss\"].mean(axis=1)\n",
    "fig,ax = plt.subplots(temp.shape[1],1,figsize=(10,2.5 * temp.shape[1]))\n",
    "if dir_path.__contains__(\"method13\"):\n",
    "    loss_name_list = [\"devnet_loss\", \"reg_loss\", \"NCE_loss\", \"PL_loss\", \"class_reg_loss\"]\n",
    "elif dir_path.__contains__(\"VAE_LPIPS_DEVNET\"):\n",
    "    loss_name_list = [\"rec_loss\", \"kl_loss\", \"devnet_loss\", \"reg_loss\", \"PL_loss\", \"class_reg_loss\"]\n",
    "else:\n",
    "    loss_name_list = [\"devnet_loss\", \"reg_loss\", \"NCE_loss\", \"PL_loss\", \"class_reg_loss\"]\n",
    "for idx, label in enumerate(loss_name_list):\n",
    "    ax[idx].plot(temp[0:,idx], label=label)\n",
    "    ax[idx].axvline(x=max_val_epoch, color='r', linestyle='--')\n",
    "    ax[idx].legend()\n",
    "\n",
    "# for i in range(5):\n",
    "#     print(temp[0:,i])\n",
    "print(temp[0:, 1])\n",
    "plt.show()"
   ]
  },
  {
   "cell_type": "code",
   "execution_count": null,
   "metadata": {},
   "outputs": [
    {
     "data": {
      "text/plain": [
       "0.005567425514163915"
      ]
     },
     "execution_count": 32,
     "metadata": {},
     "output_type": "execute_result"
    }
   ],
   "source": [
    "temp[0:, 0][-5]"
   ]
  },
  {
   "cell_type": "code",
   "execution_count": null,
   "metadata": {},
   "outputs": [],
   "source": [
    "# data[\"sub_train_results_loss\"].mean(axis=1)"
   ]
  },
  {
   "cell_type": "markdown",
   "metadata": {},
   "source": []
  },
  {
   "cell_type": "code",
   "execution_count": null,
   "metadata": {},
   "outputs": [],
   "source": [
    "if \"pre_epochs\" in para_name_list:\n",
    "    temp = []\n",
    "    for item in file_name.split(\",\"):\n",
    "        if re.match(\"epochs=|lr=|reg_lambda\", item):\n",
    "            pass\n",
    "        else:\n",
    "            temp.append(item)\n",
    "    data = np.load(f'../experiment/{\",\".join(temp)}', allow_pickle=True)"
   ]
  },
  {
   "cell_type": "code",
   "execution_count": null,
   "metadata": {},
   "outputs": [
    {
     "ename": "KeyError",
     "evalue": "'pre_train_results_loss is not a file in the archive'",
     "output_type": "error",
     "traceback": [
      "\u001b[0;31m---------------------------------------------------------------------------\u001b[0m",
      "\u001b[0;31mKeyError\u001b[0m                                  Traceback (most recent call last)",
      "Cell \u001b[0;32mIn[35], line 1\u001b[0m\n\u001b[0;32m----> 1\u001b[0m plt\u001b[38;5;241m.\u001b[39mplot(\u001b[43mdata\u001b[49m\u001b[43m[\u001b[49m\u001b[38;5;124;43m\"\u001b[39;49m\u001b[38;5;124;43mpre_train_results_loss\u001b[39;49m\u001b[38;5;124;43m\"\u001b[39;49m\u001b[43m]\u001b[49m\u001b[38;5;241m.\u001b[39mmean(axis\u001b[38;5;241m=\u001b[39m\u001b[38;5;241m1\u001b[39m))\n",
      "File \u001b[0;32m~/anaconda3/envs/general_env/lib/python3.9/site-packages/numpy/lib/npyio.py:263\u001b[0m, in \u001b[0;36mNpzFile.__getitem__\u001b[0;34m(self, key)\u001b[0m\n\u001b[1;32m    261\u001b[0m         \u001b[38;5;28;01mreturn\u001b[39;00m \u001b[38;5;28mself\u001b[39m\u001b[38;5;241m.\u001b[39mzip\u001b[38;5;241m.\u001b[39mread(key)\n\u001b[1;32m    262\u001b[0m \u001b[38;5;28;01melse\u001b[39;00m:\n\u001b[0;32m--> 263\u001b[0m     \u001b[38;5;28;01mraise\u001b[39;00m \u001b[38;5;167;01mKeyError\u001b[39;00m(\u001b[38;5;124mf\u001b[39m\u001b[38;5;124m\"\u001b[39m\u001b[38;5;132;01m{\u001b[39;00mkey\u001b[38;5;132;01m}\u001b[39;00m\u001b[38;5;124m is not a file in the archive\u001b[39m\u001b[38;5;124m\"\u001b[39m)\n",
      "\u001b[0;31mKeyError\u001b[0m: 'pre_train_results_loss is not a file in the archive'"
     ]
    }
   ],
   "source": [
    "plt.plot(data[\"pre_train_results_loss\"].mean(axis=1))"
   ]
  },
  {
   "cell_type": "code",
   "execution_count": null,
   "metadata": {},
   "outputs": [
    {
     "ename": "KeyError",
     "evalue": "'sub_pre_train_results_loss is not a file in the archive'",
     "output_type": "error",
     "traceback": [
      "\u001b[0;31m---------------------------------------------------------------------------\u001b[0m",
      "\u001b[0;31mKeyError\u001b[0m                                  Traceback (most recent call last)",
      "Cell \u001b[0;32mIn[80], line 1\u001b[0m\n\u001b[0;32m----> 1\u001b[0m temp \u001b[38;5;241m=\u001b[39m \u001b[43mdata\u001b[49m\u001b[43m[\u001b[49m\u001b[38;5;124;43m\"\u001b[39;49m\u001b[38;5;124;43msub_pre_train_results_loss\u001b[39;49m\u001b[38;5;124;43m\"\u001b[39;49m\u001b[43m]\u001b[49m\u001b[38;5;241m.\u001b[39mmean(axis\u001b[38;5;241m=\u001b[39m\u001b[38;5;241m1\u001b[39m)\n\u001b[1;32m      2\u001b[0m fig,ax \u001b[38;5;241m=\u001b[39m plt\u001b[38;5;241m.\u001b[39msubplots(\u001b[38;5;241m2\u001b[39m,\u001b[38;5;241m1\u001b[39m,figsize\u001b[38;5;241m=\u001b[39m(\u001b[38;5;241m6\u001b[39m, \u001b[38;5;241m6\u001b[39m))\n\u001b[1;32m      3\u001b[0m ax[\u001b[38;5;241m0\u001b[39m]\u001b[38;5;241m.\u001b[39mplot(temp[\u001b[38;5;241m0\u001b[39m:,\u001b[38;5;241m0\u001b[39m], label\u001b[38;5;241m=\u001b[39m\u001b[38;5;124m\"\u001b[39m\u001b[38;5;124mNCE_loss\u001b[39m\u001b[38;5;124m\"\u001b[39m)\n",
      "File \u001b[0;32m~/anaconda3/envs/general_env/lib/python3.9/site-packages/numpy/lib/npyio.py:263\u001b[0m, in \u001b[0;36mNpzFile.__getitem__\u001b[0;34m(self, key)\u001b[0m\n\u001b[1;32m    261\u001b[0m         \u001b[38;5;28;01mreturn\u001b[39;00m \u001b[38;5;28mself\u001b[39m\u001b[38;5;241m.\u001b[39mzip\u001b[38;5;241m.\u001b[39mread(key)\n\u001b[1;32m    262\u001b[0m \u001b[38;5;28;01melse\u001b[39;00m:\n\u001b[0;32m--> 263\u001b[0m     \u001b[38;5;28;01mraise\u001b[39;00m \u001b[38;5;167;01mKeyError\u001b[39;00m(\u001b[38;5;124mf\u001b[39m\u001b[38;5;124m\"\u001b[39m\u001b[38;5;132;01m{\u001b[39;00mkey\u001b[38;5;132;01m}\u001b[39;00m\u001b[38;5;124m is not a file in the archive\u001b[39m\u001b[38;5;124m\"\u001b[39m)\n",
      "\u001b[0;31mKeyError\u001b[0m: 'sub_pre_train_results_loss is not a file in the archive'"
     ]
    }
   ],
   "source": [
    "temp = data[\"sub_pre_train_results_loss\"].mean(axis=1)\n",
    "fig,ax = plt.subplots(2,1,figsize=(6, 6))\n",
    "ax[0].plot(temp[0:,0], label=\"NCE_loss\")\n",
    "ax[1].plot(temp[0:,1], label=\"PL_loss\") \n",
    "ax[0].legend()\n",
    "ax[1].legend()\n",
    "plt.show()"
   ]
  },
  {
   "cell_type": "code",
   "execution_count": null,
   "metadata": {},
   "outputs": [
    {
     "data": {
      "text/plain": [
       "array([5.12366613e-02, 7.52512779e-04, 2.38156579e-04, 1.11763124e-04,\n",
       "       9.64891620e-05, 7.81198205e-05, 7.47454518e-05, 6.63250018e-05,\n",
       "       5.95974552e-05, 5.38587965e-05, 5.10202187e-05, 4.65418390e-05,\n",
       "       4.23788977e-05, 4.13187449e-05, 4.01404671e-05, 3.87827890e-05,\n",
       "       3.81627700e-05, 3.65760899e-05, 3.56698465e-05, 3.59697684e-05,\n",
       "       3.47524817e-05, 3.46994501e-05, 3.51303973e-05, 3.37718926e-05,\n",
       "       3.41283220e-05, 3.38422307e-05, 3.38356650e-05, 3.35584650e-05,\n",
       "       3.30837758e-05, 3.34783733e-05])"
      ]
     },
     "execution_count": 30,
     "metadata": {},
     "output_type": "execute_result"
    }
   ],
   "source": [
    "temp[0:,0]"
   ]
  },
  {
   "cell_type": "code",
   "execution_count": null,
   "metadata": {},
   "outputs": [
    {
     "data": {
      "text/plain": [
       "array([4.97540535e-01, 1.41077568e-01, 2.41149376e-02, 4.21630200e-02,\n",
       "       5.27702281e-02, 4.10839084e-02, 4.46073550e-02, 3.27919084e-03,\n",
       "       1.01064351e-03, 1.06021749e-04, 5.06643846e-05, 2.74663981e-05,\n",
       "       2.02918835e-05, 1.68948272e-05, 1.48062682e-05, 1.33578818e-05,\n",
       "       1.22908901e-05, 1.14740167e-05, 1.08376776e-05, 1.03394184e-05,\n",
       "       9.94086144e-06, 9.62827937e-06, 9.38167218e-06, 9.19360803e-06,\n",
       "       9.04976189e-06, 8.94778285e-06, 8.87626526e-06, 8.83177576e-06,\n",
       "       8.80642324e-06, 8.79488158e-06])"
      ]
     },
     "execution_count": 31,
     "metadata": {},
     "output_type": "execute_result"
    }
   ],
   "source": [
    "temp[0:,1]"
   ]
  }
 ],
 "metadata": {
  "kernelspec": {
   "display_name": "general_env",
   "language": "python",
   "name": "python3"
  },
  "language_info": {
   "codemirror_mode": {
    "name": "ipython",
    "version": 3
   },
   "file_extension": ".py",
   "mimetype": "text/x-python",
   "name": "python",
   "nbconvert_exporter": "python",
   "pygments_lexer": "ipython3",
   "version": "3.9.18"
  }
 },
 "nbformat": 4,
 "nbformat_minor": 2
}
