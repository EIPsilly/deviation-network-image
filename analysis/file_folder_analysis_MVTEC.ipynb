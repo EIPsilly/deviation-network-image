{
 "cells": [
  {
   "cell_type": "code",
   "execution_count": 1,
   "metadata": {},
   "outputs": [],
   "source": [
    "import numpy as np\n",
    "import pandas as pd\n",
    "import os\n",
    "from matplotlib import pyplot as plt\n",
    "import re\n",
    "from copy import deepcopy"
   ]
  },
  {
   "cell_type": "code",
   "execution_count": 2,
   "metadata": {},
   "outputs": [],
   "source": [
    "domain_list = [\"origin\", \"brightness\", \"contrast\", \"defocus_blur\", \"gaussian_noise\", ]\n",
    "checkitew_list = [\"bottle\", \"cable\", \"capsule\", \"carpet\", \"grid\", \"hazelnut\", \"leather\", \"metal_nut\", \"pill\", \"screw\", \"tile\", \"toothbrush\", \"transistor\", \"wood\", \"zipper\", ]\n",
    "metric = \"AUPRC\"\n",
    "\n",
    "dir_path = '../results/MVTEC/devnet/4domain'\n",
    "dir_path = '../results/MVTEC/DGAD/method13_MVTEC'\n",
    "\n",
    "dir_path = '../results/MVTEC/DGAD/method16'\n",
    "# dir_path = '../results/MVTEC/DGAD/method16_severity5'\n",
    "# dir_path = '../results/MVTEC/devnet/4domain_s5'\n",
    "# dir_path = '../results/MVTEC/devnet/4domain'\n",
    "\n",
    "# dir_path = '../results/MVTEC/DGAD/method16_transistor'\n",
    "# dir_path = '../results/MVTEC/DGAD/method16_transistor_lambda'\n",
    "# dir_path = '../results/MVTEC/DGAD/method16_toothbrush_lambda'\n",
    "# dir_path = '../results/MVTEC/DGAD/method16_transistor_tau'"
   ]
  },
  {
   "cell_type": "code",
   "execution_count": 3,
   "metadata": {},
   "outputs": [
    {
     "name": "stdout",
     "output_type": "stream",
     "text": [
      "64\n"
     ]
    },
    {
     "data": {
      "text/plain": [
       "(1, 1, 1, 0)"
      ]
     },
     "execution_count": 3,
     "metadata": {},
     "output_type": "execute_result"
    }
   ],
   "source": [
    "import itertools\n",
    "# normal_class=[\"0\", \"1\", \"2\", \"3\", \"4\", \"5\", \"6\"]\n",
    "# normal_class=[\"0 1 2 3\", \"4 5 6\", \"0 2 4 6\", \"1 3 5\", \"0\", \"1\", \"2\", \"3\", \"4\", \"5\", \"6\"]\n",
    "# anomaly_class=[\"4 5 6\", \"0 1 2 3\", \"1 3 5\", \"0 2 4 6\", \"1 2 3 4 5 6\", \"0 2 3 4 5 6\", \"0 1 3 4 5 6\", \"0 1 2 4 5 6\", \"0 1 2 3 5 6\", \"0 1 2 3 4 6\", \"0 1 2 3 4 5\"]\n",
    "# epochs_list=[5, 10, 15, 20, 30]\n",
    "# lr_list=[0.01, 0.001, 0.0005, 0.0002, 0.00005, 0.00001]\n",
    "reg_lambda=[1,2,5,10]\n",
    "NCE_lambda=[1,2,5,10]\n",
    "PL_lambda=[1,2,5,10]\n",
    "# cnt=[0,1,2,3,4]\n",
    "cnt=[0]\n",
    "all_para_list = list(itertools.product(reg_lambda, NCE_lambda, PL_lambda, cnt))\n",
    "print(len(all_para_list))\n",
    "all_para_list[0]"
   ]
  },
  {
   "cell_type": "code",
   "execution_count": 4,
   "metadata": {},
   "outputs": [
    {
     "name": "stdout",
     "output_type": "stream",
     "text": [
      "416\n"
     ]
    },
    {
     "data": {
      "text/html": [
       "<div>\n",
       "<style scoped>\n",
       "    .dataframe tbody tr th:only-of-type {\n",
       "        vertical-align: middle;\n",
       "    }\n",
       "\n",
       "    .dataframe tbody tr th {\n",
       "        vertical-align: top;\n",
       "    }\n",
       "\n",
       "    .dataframe thead th {\n",
       "        text-align: right;\n",
       "    }\n",
       "</style>\n",
       "<table border=\"1\" class=\"dataframe\">\n",
       "  <thead>\n",
       "    <tr style=\"text-align: right;\">\n",
       "      <th></th>\n",
       "      <th>checkitew</th>\n",
       "      <th>lr</th>\n",
       "      <th>epochs</th>\n",
       "      <th>cnt</th>\n",
       "      <th>max_val_epoch</th>\n",
       "      <th>origin_AUROC</th>\n",
       "      <th>brightness_AUROC</th>\n",
       "      <th>contrast_AUROC</th>\n",
       "      <th>defocus_blur_AUROC</th>\n",
       "      <th>gaussian_noise_AUROC</th>\n",
       "      <th>...</th>\n",
       "      <th>val_origin_AUPRC</th>\n",
       "      <th>val_brightness_AUPRC</th>\n",
       "      <th>val_contrast_AUPRC</th>\n",
       "      <th>val_defocus_blur_AUPRC</th>\n",
       "      <th>val_gaussian_noise_AUPRC</th>\n",
       "      <th>file_name</th>\n",
       "      <th>AUROC_mean</th>\n",
       "      <th>AUPRC_mean</th>\n",
       "      <th>val_AUROC_mean</th>\n",
       "      <th>val_AUPRC_mean</th>\n",
       "    </tr>\n",
       "  </thead>\n",
       "  <tbody>\n",
       "    <tr>\n",
       "      <th>0</th>\n",
       "      <td>transistor</td>\n",
       "      <td>0.00010</td>\n",
       "      <td>40</td>\n",
       "      <td>0</td>\n",
       "      <td>16</td>\n",
       "      <td>0</td>\n",
       "      <td>0</td>\n",
       "      <td>0</td>\n",
       "      <td>0</td>\n",
       "      <td>0</td>\n",
       "      <td>...</td>\n",
       "      <td>0.531157</td>\n",
       "      <td>0.584570</td>\n",
       "      <td>0.536747</td>\n",
       "      <td>0.571515</td>\n",
       "      <td>0.734316</td>\n",
       "      <td>method=16,backbone=DGAD15,domain_cnt=4,checkit...</td>\n",
       "      <td>0.0</td>\n",
       "      <td>0.0</td>\n",
       "      <td>0.587454</td>\n",
       "      <td>0.591661</td>\n",
       "    </tr>\n",
       "    <tr>\n",
       "      <th>1</th>\n",
       "      <td>bottle</td>\n",
       "      <td>0.00005</td>\n",
       "      <td>20</td>\n",
       "      <td>2</td>\n",
       "      <td>6</td>\n",
       "      <td>0</td>\n",
       "      <td>0</td>\n",
       "      <td>0</td>\n",
       "      <td>0</td>\n",
       "      <td>0</td>\n",
       "      <td>...</td>\n",
       "      <td>0.990720</td>\n",
       "      <td>0.992115</td>\n",
       "      <td>0.999180</td>\n",
       "      <td>0.992849</td>\n",
       "      <td>0.994277</td>\n",
       "      <td>method=16,backbone=DGAD15,domain_cnt=4,checkit...</td>\n",
       "      <td>0.0</td>\n",
       "      <td>0.0</td>\n",
       "      <td>0.979104</td>\n",
       "      <td>0.993828</td>\n",
       "    </tr>\n",
       "    <tr>\n",
       "      <th>2</th>\n",
       "      <td>zipper</td>\n",
       "      <td>0.00050</td>\n",
       "      <td>10</td>\n",
       "      <td>0</td>\n",
       "      <td>3</td>\n",
       "      <td>0</td>\n",
       "      <td>0</td>\n",
       "      <td>0</td>\n",
       "      <td>0</td>\n",
       "      <td>0</td>\n",
       "      <td>...</td>\n",
       "      <td>0.859144</td>\n",
       "      <td>0.859487</td>\n",
       "      <td>0.850264</td>\n",
       "      <td>0.873681</td>\n",
       "      <td>0.836830</td>\n",
       "      <td>method=16,backbone=DGAD15,domain_cnt=4,checkit...</td>\n",
       "      <td>0.0</td>\n",
       "      <td>0.0</td>\n",
       "      <td>0.568186</td>\n",
       "      <td>0.855881</td>\n",
       "    </tr>\n",
       "    <tr>\n",
       "      <th>3</th>\n",
       "      <td>bottle</td>\n",
       "      <td>0.00010</td>\n",
       "      <td>20</td>\n",
       "      <td>0</td>\n",
       "      <td>2</td>\n",
       "      <td>0</td>\n",
       "      <td>0</td>\n",
       "      <td>0</td>\n",
       "      <td>0</td>\n",
       "      <td>0</td>\n",
       "      <td>...</td>\n",
       "      <td>0.995778</td>\n",
       "      <td>0.990655</td>\n",
       "      <td>0.997842</td>\n",
       "      <td>0.987234</td>\n",
       "      <td>0.997960</td>\n",
       "      <td>method=16,backbone=DGAD15,domain_cnt=4,checkit...</td>\n",
       "      <td>0.0</td>\n",
       "      <td>0.0</td>\n",
       "      <td>0.979758</td>\n",
       "      <td>0.993894</td>\n",
       "    </tr>\n",
       "    <tr>\n",
       "      <th>4</th>\n",
       "      <td>metal_nut</td>\n",
       "      <td>0.00001</td>\n",
       "      <td>40</td>\n",
       "      <td>0</td>\n",
       "      <td>39</td>\n",
       "      <td>0</td>\n",
       "      <td>0</td>\n",
       "      <td>0</td>\n",
       "      <td>0</td>\n",
       "      <td>0</td>\n",
       "      <td>...</td>\n",
       "      <td>0.979762</td>\n",
       "      <td>0.977047</td>\n",
       "      <td>0.975039</td>\n",
       "      <td>0.977930</td>\n",
       "      <td>0.961893</td>\n",
       "      <td>method=16,backbone=DGAD15,domain_cnt=4,checkit...</td>\n",
       "      <td>0.0</td>\n",
       "      <td>0.0</td>\n",
       "      <td>0.894861</td>\n",
       "      <td>0.974334</td>\n",
       "    </tr>\n",
       "  </tbody>\n",
       "</table>\n",
       "<p>5 rows × 30 columns</p>\n",
       "</div>"
      ],
      "text/plain": [
       "    checkitew       lr  epochs  cnt  max_val_epoch  origin_AUROC  \\\n",
       "0  transistor  0.00010      40    0             16             0   \n",
       "1      bottle  0.00005      20    2              6             0   \n",
       "2      zipper  0.00050      10    0              3             0   \n",
       "3      bottle  0.00010      20    0              2             0   \n",
       "4   metal_nut  0.00001      40    0             39             0   \n",
       "\n",
       "   brightness_AUROC  contrast_AUROC  defocus_blur_AUROC  gaussian_noise_AUROC  \\\n",
       "0                 0               0                   0                     0   \n",
       "1                 0               0                   0                     0   \n",
       "2                 0               0                   0                     0   \n",
       "3                 0               0                   0                     0   \n",
       "4                 0               0                   0                     0   \n",
       "\n",
       "   ...  val_origin_AUPRC  val_brightness_AUPRC  val_contrast_AUPRC  \\\n",
       "0  ...          0.531157              0.584570            0.536747   \n",
       "1  ...          0.990720              0.992115            0.999180   \n",
       "2  ...          0.859144              0.859487            0.850264   \n",
       "3  ...          0.995778              0.990655            0.997842   \n",
       "4  ...          0.979762              0.977047            0.975039   \n",
       "\n",
       "   val_defocus_blur_AUPRC  val_gaussian_noise_AUPRC  \\\n",
       "0                0.571515                  0.734316   \n",
       "1                0.992849                  0.994277   \n",
       "2                0.873681                  0.836830   \n",
       "3                0.987234                  0.997960   \n",
       "4                0.977930                  0.961893   \n",
       "\n",
       "                                           file_name  AUROC_mean  AUPRC_mean  \\\n",
       "0  method=16,backbone=DGAD15,domain_cnt=4,checkit...         0.0         0.0   \n",
       "1  method=16,backbone=DGAD15,domain_cnt=4,checkit...         0.0         0.0   \n",
       "2  method=16,backbone=DGAD15,domain_cnt=4,checkit...         0.0         0.0   \n",
       "3  method=16,backbone=DGAD15,domain_cnt=4,checkit...         0.0         0.0   \n",
       "4  method=16,backbone=DGAD15,domain_cnt=4,checkit...         0.0         0.0   \n",
       "\n",
       "   val_AUROC_mean  val_AUPRC_mean  \n",
       "0        0.587454        0.591661  \n",
       "1        0.979104        0.993828  \n",
       "2        0.568186        0.855881  \n",
       "3        0.979758        0.993894  \n",
       "4        0.894861        0.974334  \n",
       "\n",
       "[5 rows x 30 columns]"
      ]
     },
     "execution_count": 4,
     "metadata": {},
     "output_type": "execute_result"
    }
   ],
   "source": [
    "ans = []\n",
    "# para_name_list=[\"checkitew\", \"pre_lr\", \"pre_epochs\", \"lr\", \"epochs\", \"cnt\"]\n",
    "# para_name_list=[\"checkitew\", \"lr\", \"epochs\", \"cnt\", \"tau1\", \"tau2\"]\n",
    "para_name_list=[\"checkitew\", \"lr\", \"epochs\", \"cnt\",]\n",
    "if dir_path.__contains__(\"lambda\"):\n",
    "    para_name_list=[\"checkitew\", \"lr\", \"epochs\", \"cnt\", \"reg_lambda\", \"NCE_lambda\", \"PL_lambda\", \"class_lambda\"]\n",
    "if dir_path.__contains__(\"tau\"):\n",
    "    para_name_list=[\"checkitew\", \"lr\", \"epochs\", \"cnt\", \"tau1\", \"tau2\",]\n",
    "# para_name_list=[\"checkitew\", \"lr\", \"epochs\", \"cnt\",\"reg_lambda\"]\n",
    "# para_name_list=[\"checkitew\", \"lr\", \"epochs\", \"cnt\", \"tau1\", \"tau2\", \"reg_lambda\", \"NCE_lambda\", \"PL_lambda\"]\n",
    "# para_name_list=[\"checkitew\", \"lr\", \"epochs\", \"cnt\", \"origin_svdd_lambda\", \"class_svdd_lambda\", \"align_lambda\", \"beta\"]\n",
    "print(len(os.listdir(dir_path)))\n",
    "for file_name in os.listdir(dir_path):\n",
    "    record = []\n",
    "    data = np.load(f'{dir_path}/{file_name}', allow_pickle=True)\n",
    "    max_epoch = data[\"val_max_metric\"].item()[\"epoch\"]\n",
    "    # max_epoch = [i for i, val in enumerate(data[f\"val_{metric}_list\"]) if (val == max(data[f\"val_{metric}_list\"]))][-1]\n",
    "    \n",
    "    for key in para_name_list:\n",
    "        if key in data[\"args\"].item():\n",
    "            record.append(data[\"args\"].item()[key])\n",
    "        else:\n",
    "            record.append(1.0)\n",
    "    \n",
    "    record.append(max_epoch)\n",
    "\n",
    "    if \"metric\" in data[\"val_max_metric\"].item():\n",
    "        for key in domain_list:\n",
    "            record.append(0)\n",
    "        for key in domain_list:\n",
    "            record.append(0)\n",
    "        for key in domain_list:\n",
    "            record.append(data[\"val_max_metric\"].item()[\"metric\"][key][\"AUROC\"])\n",
    "        for key in domain_list:\n",
    "            record.append(data[\"val_max_metric\"].item()[\"metric\"][key][\"AUPRC\"])\n",
    "    else:\n",
    "        for key in domain_list:\n",
    "            record.append(data[\"test_metric\"].item()[key][\"AUROC\"])\n",
    "        for key in domain_list:\n",
    "            record.append(data[\"test_metric\"].item()[key][\"AUPRC\"])\n",
    "        for key in domain_list:\n",
    "            record.append(data[\"test_results_list\"][max_epoch][key][\"AUROC\"])\n",
    "        for key in domain_list:\n",
    "            record.append(data[\"test_results_list\"][max_epoch][key][\"AUPRC\"])\n",
    "\n",
    "    record.append(file_name)\n",
    "    ans.append(record)\n",
    "\n",
    "ans = pd.DataFrame(ans,columns=para_name_list + [\"max_val_epoch\"] +\\\n",
    "             [f'{item}_AUROC' for item in domain_list] + \\\n",
    "                [f'{item}_AUPRC' for item in domain_list] +\\\n",
    "                    [f'val_{item}_AUROC' for item in domain_list] +\\\n",
    "                        [f'val_{item}_AUPRC' for item in domain_list] + [\"file_name\"])\n",
    "\n",
    "ans[\"checkitew\"] = ans[\"checkitew\"].astype(str)\n",
    "ans[\"AUROC_mean\"] = ans[[f'{item}_AUROC' for item in domain_list]].mean(axis = 1)\n",
    "ans[\"AUPRC_mean\"] = ans[[f'{item}_AUPRC' for item in domain_list]].mean(axis = 1)\n",
    "ans[\"val_AUROC_mean\"] = ans[[f'val_{item}_AUROC' for item in domain_list]].mean(axis = 1)\n",
    "ans[\"val_AUPRC_mean\"] = ans[[f'val_{item}_AUPRC' for item in domain_list]].mean(axis = 1)\n",
    "ans[\"checkitew\"] = ans[\"checkitew\"].apply(lambda x :re.sub(\"\\[|\\]|,\", \"\", x))\n",
    "ans.head(5)"
   ]
  },
  {
   "cell_type": "code",
   "execution_count": 5,
   "metadata": {},
   "outputs": [
    {
     "data": {
      "text/plain": [
       "bottle        48\n",
       "cable         48\n",
       "capsule       32\n",
       "metal_nut     24\n",
       "hazelnut      24\n",
       "transistor    24\n",
       "zipper        24\n",
       "screw         24\n",
       "wood          24\n",
       "carpet        24\n",
       "tile          24\n",
       "toothbrush    24\n",
       "grid          24\n",
       "leather       24\n",
       "pill          24\n",
       "Name: checkitew, dtype: int64"
      ]
     },
     "execution_count": 5,
     "metadata": {},
     "output_type": "execute_result"
    }
   ],
   "source": [
    "ans[\"checkitew\"].value_counts()"
   ]
  },
  {
   "cell_type": "code",
   "execution_count": 6,
   "metadata": {},
   "outputs": [],
   "source": [
    "# ans = ans[ans[\"epochs\"] != 2]\n",
    "# if dir_path.__contains__(\"devnet\"):\n",
    "#     ans = ans[ans[\"lr\"] != 0.00005]"
   ]
  },
  {
   "cell_type": "code",
   "execution_count": 7,
   "metadata": {},
   "outputs": [
    {
     "data": {
      "text/plain": [
       "0    180\n",
       "1    180\n",
       "2     56\n",
       "Name: cnt, dtype: int64"
      ]
     },
     "execution_count": 7,
     "metadata": {},
     "output_type": "execute_result"
    }
   ],
   "source": [
    "ans.cnt.value_counts()"
   ]
  },
  {
   "cell_type": "code",
   "execution_count": 8,
   "metadata": {},
   "outputs": [],
   "source": [
    "# pre_epochs_list = [10, 30, 50, 100]\n",
    "# pre_lr_list = [0.01, 0.001, 0.0001]\n",
    "# epochs_list = [10, 20, 30]\n",
    "# lr_list = [0.00001, 0.0001, 0.001]\n",
    "# cnt = [0, 1]\n",
    "# all_para_list = list(itertools.product(cnt, pre_epochs_list, pre_lr_list, epochs_list, lr_list))\n",
    "# remain_para = set(all_para_list) - set([tuple(item) for item in ans[[\"cnt\", \"pre_epochs\", \"pre_lr\", \"epochs\", \"lr\"]].values])\n",
    "# remain_para = pd.DataFrame(sorted(remain_para), columns=[\"cnt\", \"pre_epochs\", \"pre_lr\", \"epochs\", \"lr\"])\n",
    "# print(f\"./{dir_path.split('/')[-1]}_remain_para.csv\")\n",
    "# # remain_para.to_csv(f\"./{dir_path.split('/')[-1]}_remain_para.csv\",index=None, header=None)\n",
    "# remain_para"
   ]
  },
  {
   "cell_type": "code",
   "execution_count": 9,
   "metadata": {},
   "outputs": [],
   "source": [
    "# remain_para = set(all_para_list) - set([tuple(item) for item in ans[(ans[\"epochs\"]==30) & (ans[\"lr\"]==0.00005) & (ans[\"cnt\"] == 0)][[\"reg_lambda\", \"NCE_lambda\", \"PL_lambda\", \"cnt\"]].values])\n",
    "# remain_para = pd.DataFrame(remain_para, columns=[\"reg_lambda\", \"NCE_lambda\", \"PL_lambda\", \"cnt\"])\n",
    "# print(f\"./{dir_path.split('/')[-1]}_remain_para.csv\")\n",
    "# remain_para.to_csv(f\"./{dir_path.split('/')[-1]}_remain_para.csv\",index=None, header=None)\n",
    "# # remain_para\n",
    "# len(remain_para)"
   ]
  },
  {
   "cell_type": "code",
   "execution_count": 10,
   "metadata": {},
   "outputs": [],
   "source": [
    "# remain_para = set(all_para_list) - set([tuple(item) for item in ans[[\"normal_class\", \"epochs\", \"lr\", \"cnt\"]].values])\n",
    "# remain_para = pd.DataFrame(remain_para, columns=[\"normal_class\", \"epochs\", \"lr\", \"cnt\"])\n",
    "# remain_para.insert(1,\"anomaly_class\", remain_para.apply(lambda x: re.sub(\"\\{|,|\\}\",\"\", str(set([0,1,2,3,4,5,6]) - set(map(int, x[\"normal_class\"].split(\" \"))))), axis=1))\n",
    "# print(f\"./{dir_path.split('/')[-1]}_remain_para.csv\")\n",
    "# remain_para.to_csv(f\"./{dir_path.split('/')[-1]}_remain_para.csv\",index=None, header=None)\n",
    "# remain_para"
   ]
  },
  {
   "cell_type": "code",
   "execution_count": null,
   "metadata": {},
   "outputs": [],
   "source": []
  },
  {
   "cell_type": "code",
   "execution_count": null,
   "metadata": {},
   "outputs": [],
   "source": []
  },
  {
   "cell_type": "code",
   "execution_count": 11,
   "metadata": {},
   "outputs": [
    {
     "data": {
      "text/plain": [
       "['origin_AUROC',\n",
       " 'brightness_AUROC',\n",
       " 'contrast_AUROC',\n",
       " 'defocus_blur_AUROC',\n",
       " 'gaussian_noise_AUROC',\n",
       " 'val_origin_AUROC',\n",
       " 'val_brightness_AUROC',\n",
       " 'val_contrast_AUROC',\n",
       " 'val_defocus_blur_AUROC',\n",
       " 'val_gaussian_noise_AUROC',\n",
       " 'AUROC_mean',\n",
       " 'origin_AUPRC',\n",
       " 'brightness_AUPRC',\n",
       " 'contrast_AUPRC',\n",
       " 'defocus_blur_AUPRC',\n",
       " 'gaussian_noise_AUPRC',\n",
       " 'AUPRC_mean']"
      ]
     },
     "execution_count": 11,
     "metadata": {},
     "output_type": "execute_result"
    }
   ],
   "source": [
    "if metric == \"AUPRC\":\n",
    "    columns_to_drop = ans.filter(like='AUROC').columns.to_list()\n",
    "    columns_to_drop.remove(\"val_AUROC_mean\")\n",
    "else:\n",
    "    columns_to_drop = ans.filter(like='AUPRC').columns.to_list()\n",
    "    columns_to_drop.remove(\"val_AUPRC_mean\")\n",
    "columns_to_drop = columns_to_drop + [f'{item}_{metric}' for item in domain_list] + [f\"{metric}_mean\"]\n",
    "ans = ans.drop(columns=columns_to_drop) \n",
    "columns_to_drop"
   ]
  },
  {
   "cell_type": "code",
   "execution_count": 12,
   "metadata": {},
   "outputs": [
    {
     "name": "stderr",
     "output_type": "stream",
     "text": [
      "/tmp/ipykernel_80991/315919129.py:28: FutureWarning: ['file_name'] did not aggregate successfully. If any error is raised this will raise in a future version of pandas. Drop these columns/ops to avoid this warning.\n",
      "  temp = selected_records[filter].agg([\"mean\", \"std\"]).T\n",
      "/tmp/ipykernel_80991/315919129.py:28: FutureWarning: ['file_name'] did not aggregate successfully. If any error is raised this will raise in a future version of pandas. Drop these columns/ops to avoid this warning.\n",
      "  temp = selected_records[filter].agg([\"mean\", \"std\"]).T\n",
      "/tmp/ipykernel_80991/315919129.py:28: FutureWarning: ['file_name'] did not aggregate successfully. If any error is raised this will raise in a future version of pandas. Drop these columns/ops to avoid this warning.\n",
      "  temp = selected_records[filter].agg([\"mean\", \"std\"]).T\n",
      "/tmp/ipykernel_80991/315919129.py:28: FutureWarning: ['file_name'] did not aggregate successfully. If any error is raised this will raise in a future version of pandas. Drop these columns/ops to avoid this warning.\n",
      "  temp = selected_records[filter].agg([\"mean\", \"std\"]).T\n",
      "/tmp/ipykernel_80991/315919129.py:28: FutureWarning: ['file_name'] did not aggregate successfully. If any error is raised this will raise in a future version of pandas. Drop these columns/ops to avoid this warning.\n",
      "  temp = selected_records[filter].agg([\"mean\", \"std\"]).T\n",
      "/tmp/ipykernel_80991/315919129.py:28: FutureWarning: ['file_name'] did not aggregate successfully. If any error is raised this will raise in a future version of pandas. Drop these columns/ops to avoid this warning.\n",
      "  temp = selected_records[filter].agg([\"mean\", \"std\"]).T\n",
      "/tmp/ipykernel_80991/315919129.py:28: FutureWarning: ['file_name'] did not aggregate successfully. If any error is raised this will raise in a future version of pandas. Drop these columns/ops to avoid this warning.\n",
      "  temp = selected_records[filter].agg([\"mean\", \"std\"]).T\n",
      "/tmp/ipykernel_80991/315919129.py:28: FutureWarning: ['file_name'] did not aggregate successfully. If any error is raised this will raise in a future version of pandas. Drop these columns/ops to avoid this warning.\n",
      "  temp = selected_records[filter].agg([\"mean\", \"std\"]).T\n",
      "/tmp/ipykernel_80991/315919129.py:28: FutureWarning: ['file_name'] did not aggregate successfully. If any error is raised this will raise in a future version of pandas. Drop these columns/ops to avoid this warning.\n",
      "  temp = selected_records[filter].agg([\"mean\", \"std\"]).T\n",
      "/tmp/ipykernel_80991/315919129.py:28: FutureWarning: ['file_name'] did not aggregate successfully. If any error is raised this will raise in a future version of pandas. Drop these columns/ops to avoid this warning.\n",
      "  temp = selected_records[filter].agg([\"mean\", \"std\"]).T\n",
      "/tmp/ipykernel_80991/315919129.py:28: FutureWarning: ['file_name'] did not aggregate successfully. If any error is raised this will raise in a future version of pandas. Drop these columns/ops to avoid this warning.\n",
      "  temp = selected_records[filter].agg([\"mean\", \"std\"]).T\n",
      "/tmp/ipykernel_80991/315919129.py:28: FutureWarning: ['file_name'] did not aggregate successfully. If any error is raised this will raise in a future version of pandas. Drop these columns/ops to avoid this warning.\n",
      "  temp = selected_records[filter].agg([\"mean\", \"std\"]).T\n"
     ]
    },
    {
     "name": "stdout",
     "output_type": "stream",
     "text": [
      "99.43(0.32)\n",
      "99.41(0.4)\n",
      "99.7(0.23)\n",
      "99.53(0.17)\n",
      "99.62(0.17)\n",
      "99.54(0.17)\n",
      "85.66(0.48)\n",
      "91.16(0.27)\n",
      "89.49(1.05)\n",
      "85.38(0.65)\n",
      "92.1(0.51)\n",
      "88.76(0.28)\n",
      "96.1(0.62)\n",
      "94.05(0.38)\n",
      "94.83(1.28)\n",
      "95.82(0.28)\n",
      "92.06(1.02)\n",
      "94.57(0.19)\n",
      "96.89(0.63)\n",
      "95.19(0.05)\n",
      "95.29(0.61)\n",
      "95.33(0.53)\n",
      "96.84(0.5)\n",
      "95.91(0.22)\n",
      "80.32(2.23)\n",
      "85.11(1.53)\n",
      "84.46(2.13)\n",
      "78.07(1.1)\n",
      "86.52(1.95)\n",
      "82.9(1.18)\n",
      "99.32(0.22)\n",
      "99.12(0.53)\n",
      "98.91(0.43)\n",
      "99.17(0.01)\n",
      "98.63(0.41)\n",
      "99.03(0.23)\n",
      "99.25(0.12)\n",
      "98.89(0.15)\n",
      "98.94(0.45)\n",
      "98.15(1.03)\n",
      "97.26(0.56)\n",
      "98.5(0.17)\n",
      "97.84(0.06)\n",
      "98.14(0.32)\n",
      "97.39(0.05)\n",
      "97.81(0.02)\n",
      "96.08(0.04)\n",
      "97.45(0.05)\n",
      "94.37(0.48)\n",
      "94.43(1.05)\n",
      "90.64(0.35)\n",
      "94.46(0.75)\n",
      "91.92(0.04)\n",
      "93.16(0.39)\n",
      "92.88(1.94)\n",
      "91.01(0.11)\n",
      "86.84(2.21)\n",
      "93.07(0.11)\n",
      "73.33(5.67)\n",
      "87.43(1.96)\n",
      "98.71(0.02)\n",
      "98.34(0.35)\n",
      "98.19(0.53)\n",
      "96.6(0.72)\n",
      "97.64(0.76)\n",
      "97.89(0.25)\n",
      "78.48(1.1)\n",
      "81.46(1.57)\n",
      "83.78(5.49)\n",
      "88.01(2.54)\n",
      "79.83(0.61)\n",
      "82.31(1.82)\n",
      "76.69(2.14)\n",
      "81.84(11.64)\n",
      "78.01(6.72)\n",
      "74.85(4.4)\n",
      "79.93(1.25)\n",
      "78.26(2.11)\n",
      "95.95(1.9)\n",
      "97.05(0.23)\n",
      "97.31(0.02)\n",
      "92.52(4.54)\n",
      "95.16(0.71)\n",
      "95.6(1.38)\n",
      "98.42(0.2)\n",
      "98.19(0.83)\n",
      "98.57(0.33)\n",
      "99.52(0.44)\n",
      "87.62(2.19)\n",
      "96.46(0.41)\n",
      "92.69\n",
      "93.56\n",
      "92.82\n",
      "92.55\n",
      "90.97\n",
      "92.52\n"
     ]
    },
    {
     "name": "stderr",
     "output_type": "stream",
     "text": [
      "/tmp/ipykernel_80991/315919129.py:28: FutureWarning: ['file_name'] did not aggregate successfully. If any error is raised this will raise in a future version of pandas. Drop these columns/ops to avoid this warning.\n",
      "  temp = selected_records[filter].agg([\"mean\", \"std\"]).T\n",
      "/tmp/ipykernel_80991/315919129.py:28: FutureWarning: ['file_name'] did not aggregate successfully. If any error is raised this will raise in a future version of pandas. Drop these columns/ops to avoid this warning.\n",
      "  temp = selected_records[filter].agg([\"mean\", \"std\"]).T\n",
      "/tmp/ipykernel_80991/315919129.py:28: FutureWarning: ['file_name'] did not aggregate successfully. If any error is raised this will raise in a future version of pandas. Drop these columns/ops to avoid this warning.\n",
      "  temp = selected_records[filter].agg([\"mean\", \"std\"]).T\n"
     ]
    }
   ],
   "source": [
    "agg_method = {\"cnt\":[\"count\"],\n",
    "              \"max_val_epoch\":[\"mean\", \"std\"],\n",
    "              f\"val_{metric}_mean\":[\"mean\", \"std\"],}\n",
    "for item in domain_list:\n",
    "    agg_method[f\"val_{item}_{metric}\"] = [\"mean\", \"std\"]\n",
    "\n",
    "pd.set_option(\"display.max_columns\",None)\n",
    "pd.set_option(\"display.max_rows\",None)\n",
    "total_avg = dict()\n",
    "for checkitew in checkitew_list:\n",
    "    checkitew = str(checkitew)\n",
    "    selected_records = ans[ans[\"checkitew\"] == checkitew].drop([\"checkitew\"],axis=1)\n",
    "    # group_key = [\"pre_lr\", \"pre_epochs\", \"lr\", \"epochs\"]\n",
    "    group_key = list(set(para_name_list) - set([\"checkitew\", \"cnt\"]))\n",
    "    group_key.sort()\n",
    "    # print(group_key)\n",
    "    selected_records_anslysis = selected_records.groupby(group_key).agg(agg_method).sort_values(by=(f\"val_{metric}_mean\", \"mean\"), ascending=False)\n",
    "    selected_para = selected_records_anslysis.index[0]\n",
    "    # print(selected_para)\n",
    "    selected_records_anslysis\n",
    "\n",
    "    filter = None\n",
    "    for idx, item in enumerate(group_key):\n",
    "        if filter is None:\n",
    "            filter = selected_records[item] == selected_para[idx]\n",
    "        else:\n",
    "            filter = filter & (selected_records[item] == selected_para[idx])\n",
    "    temp = selected_records[filter].agg([\"mean\", \"std\"]).T\n",
    "    temp[\"res\"] = temp.apply(lambda x: f'{round(x[\"mean\"] *100, 2)}({round(x[\"std\"] *100, 2)})', axis=1)\n",
    "    for key in [f'val_{item}_{metric}' for item in domain_list]:\n",
    "        print(temp.loc[key][\"res\"])\n",
    "        if key not in total_avg:\n",
    "            total_avg[key] = []\n",
    "        total_avg[key].append(temp.loc[key][\"res\"])\n",
    "    print(f'{round(selected_records_anslysis.loc[selected_para][f\"val_{metric}_mean\"][\"mean\"] * 100, 2)}({round(selected_records_anslysis.loc[selected_para][f\"val_{metric}_mean\"][\"std\"] * 100, 2)})')\n",
    "    selected_records[filter]\n",
    "\n",
    "total_domain_avg = []\n",
    "for key in [f'val_{item}_{metric}' for item in domain_list]:\n",
    "    value = total_avg[key]\n",
    "    total_domain_avg.append(round(np.array(list(map(lambda x: float(x.split(\"(\")[0]), value))).mean(), 2))\n",
    "    print(total_domain_avg[-1])\n",
    "print(round(np.mean(total_domain_avg), 2))"
   ]
  },
  {
   "cell_type": "code",
   "execution_count": 13,
   "metadata": {},
   "outputs": [],
   "source": [
    "# ans[(ans[\"normal_class\"] == normal_class)].sort_values(by=\"val_AUROC_mean\",ascending=False)"
   ]
  },
  {
   "cell_type": "code",
   "execution_count": 14,
   "metadata": {},
   "outputs": [],
   "source": [
    "# remain_para = []\n",
    "# for item in selected_records_anslysis.index[:10]:\n",
    "#     remain_para.append(list(item))\n",
    "# remain_para = pd.DataFrame(remain_para)\n",
    "# remain_para.to_csv(f\"./{dir_path.split('/')[-1]}_remain_para.csv\",index=None, header=None)"
   ]
  },
  {
   "cell_type": "code",
   "execution_count": 15,
   "metadata": {},
   "outputs": [],
   "source": [
    "# remain_para = []\n",
    "# for item in selected_records_anslysis.index[:10]:\n",
    "#     remain_para.append([\"0\",\"1 2 3 4 5 6\",item[1],item[0],2])\n",
    "#     remain_para.append([\"0\",\"1 2 3 4 5 6\",item[1],item[0],3])\n",
    "#     remain_para.append([\"0\",\"1 2 3 4 5 6\",item[1],item[0],4])\n",
    "    \n",
    "# remain_para = pd.DataFrame(remain_para,columns=[\"normal_class\", \"anomaly_class\", \"epochs\", \"lr\", \"cnt\"])\n",
    "# # remain_para.to_csv(f\"./{dir_path.split('/')[-1]}_remain_para.csv\",index=None, header=None)\n",
    "# remain_para"
   ]
  },
  {
   "cell_type": "code",
   "execution_count": 16,
   "metadata": {},
   "outputs": [],
   "source": [
    "# selected_records_anslysis.sort_index().loc[(slice(None), slice(None), 1, 1, 1, 0),:]"
   ]
  },
  {
   "cell_type": "code",
   "execution_count": 17,
   "metadata": {},
   "outputs": [],
   "source": [
    "# selected_records_anslysis.sort_index().loc[(slice(None), slice(None), 1, 0, 1, 0),:]"
   ]
  },
  {
   "cell_type": "code",
   "execution_count": 18,
   "metadata": {},
   "outputs": [],
   "source": [
    "# selected_records_anslysis.sort_index().loc[(slice(None), slice(None), 1, 0, 0, 0),:]"
   ]
  },
  {
   "cell_type": "code",
   "execution_count": 19,
   "metadata": {},
   "outputs": [],
   "source": [
    "# selected_records_anslysis.sort_index().loc[(slice(None), slice(None), 0, 0, 0, 0),:]"
   ]
  },
  {
   "cell_type": "code",
   "execution_count": 20,
   "metadata": {},
   "outputs": [
    {
     "name": "stdout",
     "output_type": "stream",
     "text": [
      "['lr', 'epochs']\n",
      "(5e-05, 20)\n"
     ]
    },
    {
     "data": {
      "text/html": [
       "<div>\n",
       "<style scoped>\n",
       "    .dataframe tbody tr th:only-of-type {\n",
       "        vertical-align: middle;\n",
       "    }\n",
       "\n",
       "    .dataframe tbody tr th {\n",
       "        vertical-align: top;\n",
       "    }\n",
       "\n",
       "    .dataframe thead tr th {\n",
       "        text-align: left;\n",
       "    }\n",
       "\n",
       "    .dataframe thead tr:last-of-type th {\n",
       "        text-align: right;\n",
       "    }\n",
       "</style>\n",
       "<table border=\"1\" class=\"dataframe\">\n",
       "  <thead>\n",
       "    <tr>\n",
       "      <th></th>\n",
       "      <th></th>\n",
       "      <th>cnt</th>\n",
       "      <th colspan=\"2\" halign=\"left\">max_val_epoch</th>\n",
       "      <th colspan=\"2\" halign=\"left\">val_origin_AUPRC</th>\n",
       "      <th colspan=\"2\" halign=\"left\">val_brightness_AUPRC</th>\n",
       "      <th colspan=\"2\" halign=\"left\">val_contrast_AUPRC</th>\n",
       "      <th colspan=\"2\" halign=\"left\">val_defocus_blur_AUPRC</th>\n",
       "      <th colspan=\"2\" halign=\"left\">val_gaussian_noise_AUPRC</th>\n",
       "      <th colspan=\"2\" halign=\"left\">val_AUPRC_mean</th>\n",
       "    </tr>\n",
       "    <tr>\n",
       "      <th></th>\n",
       "      <th></th>\n",
       "      <th>count</th>\n",
       "      <th>mean</th>\n",
       "      <th>std</th>\n",
       "      <th>mean</th>\n",
       "      <th>std</th>\n",
       "      <th>mean</th>\n",
       "      <th>std</th>\n",
       "      <th>mean</th>\n",
       "      <th>std</th>\n",
       "      <th>mean</th>\n",
       "      <th>std</th>\n",
       "      <th>mean</th>\n",
       "      <th>std</th>\n",
       "      <th>mean</th>\n",
       "      <th>std</th>\n",
       "    </tr>\n",
       "    <tr>\n",
       "      <th>lr</th>\n",
       "      <th>epochs</th>\n",
       "      <th></th>\n",
       "      <th></th>\n",
       "      <th></th>\n",
       "      <th></th>\n",
       "      <th></th>\n",
       "      <th></th>\n",
       "      <th></th>\n",
       "      <th></th>\n",
       "      <th></th>\n",
       "      <th></th>\n",
       "      <th></th>\n",
       "      <th></th>\n",
       "      <th></th>\n",
       "      <th></th>\n",
       "      <th></th>\n",
       "    </tr>\n",
       "  </thead>\n",
       "  <tbody>\n",
       "    <tr>\n",
       "      <th>0.00005</th>\n",
       "      <th>20</th>\n",
       "      <td>2</td>\n",
       "      <td>3.5</td>\n",
       "      <td>4.949747</td>\n",
       "      <td>0.766854</td>\n",
       "      <td>0.021381</td>\n",
       "      <td>0.818382</td>\n",
       "      <td>0.116392</td>\n",
       "      <td>0.780110</td>\n",
       "      <td>0.067174</td>\n",
       "      <td>0.748472</td>\n",
       "      <td>0.044020</td>\n",
       "      <td>0.799259</td>\n",
       "      <td>0.012467</td>\n",
       "      <td>0.782615</td>\n",
       "      <td>0.021139</td>\n",
       "    </tr>\n",
       "    <tr>\n",
       "      <th rowspan=\"2\" valign=\"top\">0.00010</th>\n",
       "      <th>10</th>\n",
       "      <td>2</td>\n",
       "      <td>1.5</td>\n",
       "      <td>0.707107</td>\n",
       "      <td>0.770997</td>\n",
       "      <td>0.065845</td>\n",
       "      <td>0.841281</td>\n",
       "      <td>0.077572</td>\n",
       "      <td>0.794960</td>\n",
       "      <td>0.002390</td>\n",
       "      <td>0.710143</td>\n",
       "      <td>0.006424</td>\n",
       "      <td>0.744865</td>\n",
       "      <td>0.014615</td>\n",
       "      <td>0.772449</td>\n",
       "      <td>0.032413</td>\n",
       "    </tr>\n",
       "    <tr>\n",
       "      <th>20</th>\n",
       "      <td>2</td>\n",
       "      <td>1.0</td>\n",
       "      <td>0.000000</td>\n",
       "      <td>0.734473</td>\n",
       "      <td>0.038423</td>\n",
       "      <td>0.788732</td>\n",
       "      <td>0.042282</td>\n",
       "      <td>0.749666</td>\n",
       "      <td>0.015610</td>\n",
       "      <td>0.716655</td>\n",
       "      <td>0.001354</td>\n",
       "      <td>0.818393</td>\n",
       "      <td>0.040376</td>\n",
       "      <td>0.761584</td>\n",
       "      <td>0.004452</td>\n",
       "    </tr>\n",
       "    <tr>\n",
       "      <th rowspan=\"2\" valign=\"top\">0.00005</th>\n",
       "      <th>10</th>\n",
       "      <td>2</td>\n",
       "      <td>0.0</td>\n",
       "      <td>0.000000</td>\n",
       "      <td>0.763122</td>\n",
       "      <td>0.025948</td>\n",
       "      <td>0.768418</td>\n",
       "      <td>0.038804</td>\n",
       "      <td>0.746709</td>\n",
       "      <td>0.056391</td>\n",
       "      <td>0.733881</td>\n",
       "      <td>0.008953</td>\n",
       "      <td>0.782028</td>\n",
       "      <td>0.034828</td>\n",
       "      <td>0.758832</td>\n",
       "      <td>0.029404</td>\n",
       "    </tr>\n",
       "    <tr>\n",
       "      <th>40</th>\n",
       "      <td>2</td>\n",
       "      <td>13.5</td>\n",
       "      <td>2.121320</td>\n",
       "      <td>0.684890</td>\n",
       "      <td>0.086782</td>\n",
       "      <td>0.833579</td>\n",
       "      <td>0.029973</td>\n",
       "      <td>0.748073</td>\n",
       "      <td>0.022496</td>\n",
       "      <td>0.687366</td>\n",
       "      <td>0.002530</td>\n",
       "      <td>0.757725</td>\n",
       "      <td>0.018657</td>\n",
       "      <td>0.742327</td>\n",
       "      <td>0.024625</td>\n",
       "    </tr>\n",
       "    <tr>\n",
       "      <th>0.00001</th>\n",
       "      <th>40</th>\n",
       "      <td>2</td>\n",
       "      <td>17.5</td>\n",
       "      <td>24.748737</td>\n",
       "      <td>0.745704</td>\n",
       "      <td>0.105518</td>\n",
       "      <td>0.802514</td>\n",
       "      <td>0.099033</td>\n",
       "      <td>0.744097</td>\n",
       "      <td>0.151868</td>\n",
       "      <td>0.717923</td>\n",
       "      <td>0.078000</td>\n",
       "      <td>0.692060</td>\n",
       "      <td>0.120659</td>\n",
       "      <td>0.740459</td>\n",
       "      <td>0.111016</td>\n",
       "    </tr>\n",
       "    <tr>\n",
       "      <th>0.00050</th>\n",
       "      <th>20</th>\n",
       "      <td>2</td>\n",
       "      <td>2.5</td>\n",
       "      <td>0.707107</td>\n",
       "      <td>0.726668</td>\n",
       "      <td>0.003920</td>\n",
       "      <td>0.756397</td>\n",
       "      <td>0.064049</td>\n",
       "      <td>0.706216</td>\n",
       "      <td>0.000285</td>\n",
       "      <td>0.667506</td>\n",
       "      <td>0.101543</td>\n",
       "      <td>0.760875</td>\n",
       "      <td>0.067370</td>\n",
       "      <td>0.723532</td>\n",
       "      <td>0.047320</td>\n",
       "    </tr>\n",
       "    <tr>\n",
       "      <th>0.00001</th>\n",
       "      <th>20</th>\n",
       "      <td>2</td>\n",
       "      <td>1.0</td>\n",
       "      <td>0.000000</td>\n",
       "      <td>0.740214</td>\n",
       "      <td>0.029951</td>\n",
       "      <td>0.703795</td>\n",
       "      <td>0.019732</td>\n",
       "      <td>0.700026</td>\n",
       "      <td>0.073930</td>\n",
       "      <td>0.661971</td>\n",
       "      <td>0.023152</td>\n",
       "      <td>0.707467</td>\n",
       "      <td>0.002023</td>\n",
       "      <td>0.702695</td>\n",
       "      <td>0.011795</td>\n",
       "    </tr>\n",
       "    <tr>\n",
       "      <th>0.00050</th>\n",
       "      <th>10</th>\n",
       "      <td>2</td>\n",
       "      <td>5.0</td>\n",
       "      <td>2.828427</td>\n",
       "      <td>0.701932</td>\n",
       "      <td>0.018652</td>\n",
       "      <td>0.704817</td>\n",
       "      <td>0.043923</td>\n",
       "      <td>0.650756</td>\n",
       "      <td>0.102753</td>\n",
       "      <td>0.635045</td>\n",
       "      <td>0.099266</td>\n",
       "      <td>0.679339</td>\n",
       "      <td>0.046734</td>\n",
       "      <td>0.674378</td>\n",
       "      <td>0.062266</td>\n",
       "    </tr>\n",
       "    <tr>\n",
       "      <th>0.00010</th>\n",
       "      <th>40</th>\n",
       "      <td>2</td>\n",
       "      <td>20.0</td>\n",
       "      <td>5.656854</td>\n",
       "      <td>0.574628</td>\n",
       "      <td>0.061478</td>\n",
       "      <td>0.619215</td>\n",
       "      <td>0.048996</td>\n",
       "      <td>0.608880</td>\n",
       "      <td>0.102010</td>\n",
       "      <td>0.596510</td>\n",
       "      <td>0.035349</td>\n",
       "      <td>0.748348</td>\n",
       "      <td>0.019845</td>\n",
       "      <td>0.629516</td>\n",
       "      <td>0.053535</td>\n",
       "    </tr>\n",
       "    <tr>\n",
       "      <th>0.00050</th>\n",
       "      <th>40</th>\n",
       "      <td>2</td>\n",
       "      <td>1.0</td>\n",
       "      <td>1.414214</td>\n",
       "      <td>0.633479</td>\n",
       "      <td>0.050356</td>\n",
       "      <td>0.561147</td>\n",
       "      <td>0.105314</td>\n",
       "      <td>0.584094</td>\n",
       "      <td>0.064007</td>\n",
       "      <td>0.643129</td>\n",
       "      <td>0.128762</td>\n",
       "      <td>0.682946</td>\n",
       "      <td>0.034981</td>\n",
       "      <td>0.620959</td>\n",
       "      <td>0.076684</td>\n",
       "    </tr>\n",
       "    <tr>\n",
       "      <th>0.00001</th>\n",
       "      <th>10</th>\n",
       "      <td>2</td>\n",
       "      <td>0.0</td>\n",
       "      <td>0.000000</td>\n",
       "      <td>0.617787</td>\n",
       "      <td>0.051562</td>\n",
       "      <td>0.607803</td>\n",
       "      <td>0.009346</td>\n",
       "      <td>0.577812</td>\n",
       "      <td>0.142034</td>\n",
       "      <td>0.617461</td>\n",
       "      <td>0.025243</td>\n",
       "      <td>0.599553</td>\n",
       "      <td>0.078613</td>\n",
       "      <td>0.604083</td>\n",
       "      <td>0.029914</td>\n",
       "    </tr>\n",
       "  </tbody>\n",
       "</table>\n",
       "</div>"
      ],
      "text/plain": [
       "                 cnt max_val_epoch            val_origin_AUPRC            \\\n",
       "               count          mean        std             mean       std   \n",
       "lr      epochs                                                             \n",
       "0.00005 20         2           3.5   4.949747         0.766854  0.021381   \n",
       "0.00010 10         2           1.5   0.707107         0.770997  0.065845   \n",
       "        20         2           1.0   0.000000         0.734473  0.038423   \n",
       "0.00005 10         2           0.0   0.000000         0.763122  0.025948   \n",
       "        40         2          13.5   2.121320         0.684890  0.086782   \n",
       "0.00001 40         2          17.5  24.748737         0.745704  0.105518   \n",
       "0.00050 20         2           2.5   0.707107         0.726668  0.003920   \n",
       "0.00001 20         2           1.0   0.000000         0.740214  0.029951   \n",
       "0.00050 10         2           5.0   2.828427         0.701932  0.018652   \n",
       "0.00010 40         2          20.0   5.656854         0.574628  0.061478   \n",
       "0.00050 40         2           1.0   1.414214         0.633479  0.050356   \n",
       "0.00001 10         2           0.0   0.000000         0.617787  0.051562   \n",
       "\n",
       "               val_brightness_AUPRC           val_contrast_AUPRC            \\\n",
       "                               mean       std               mean       std   \n",
       "lr      epochs                                                               \n",
       "0.00005 20                 0.818382  0.116392           0.780110  0.067174   \n",
       "0.00010 10                 0.841281  0.077572           0.794960  0.002390   \n",
       "        20                 0.788732  0.042282           0.749666  0.015610   \n",
       "0.00005 10                 0.768418  0.038804           0.746709  0.056391   \n",
       "        40                 0.833579  0.029973           0.748073  0.022496   \n",
       "0.00001 40                 0.802514  0.099033           0.744097  0.151868   \n",
       "0.00050 20                 0.756397  0.064049           0.706216  0.000285   \n",
       "0.00001 20                 0.703795  0.019732           0.700026  0.073930   \n",
       "0.00050 10                 0.704817  0.043923           0.650756  0.102753   \n",
       "0.00010 40                 0.619215  0.048996           0.608880  0.102010   \n",
       "0.00050 40                 0.561147  0.105314           0.584094  0.064007   \n",
       "0.00001 10                 0.607803  0.009346           0.577812  0.142034   \n",
       "\n",
       "               val_defocus_blur_AUPRC           val_gaussian_noise_AUPRC  \\\n",
       "                                 mean       std                     mean   \n",
       "lr      epochs                                                             \n",
       "0.00005 20                   0.748472  0.044020                 0.799259   \n",
       "0.00010 10                   0.710143  0.006424                 0.744865   \n",
       "        20                   0.716655  0.001354                 0.818393   \n",
       "0.00005 10                   0.733881  0.008953                 0.782028   \n",
       "        40                   0.687366  0.002530                 0.757725   \n",
       "0.00001 40                   0.717923  0.078000                 0.692060   \n",
       "0.00050 20                   0.667506  0.101543                 0.760875   \n",
       "0.00001 20                   0.661971  0.023152                 0.707467   \n",
       "0.00050 10                   0.635045  0.099266                 0.679339   \n",
       "0.00010 40                   0.596510  0.035349                 0.748348   \n",
       "0.00050 40                   0.643129  0.128762                 0.682946   \n",
       "0.00001 10                   0.617461  0.025243                 0.599553   \n",
       "\n",
       "                         val_AUPRC_mean            \n",
       "                     std           mean       std  \n",
       "lr      epochs                                     \n",
       "0.00005 20      0.012467       0.782615  0.021139  \n",
       "0.00010 10      0.014615       0.772449  0.032413  \n",
       "        20      0.040376       0.761584  0.004452  \n",
       "0.00005 10      0.034828       0.758832  0.029404  \n",
       "        40      0.018657       0.742327  0.024625  \n",
       "0.00001 40      0.120659       0.740459  0.111016  \n",
       "0.00050 20      0.067370       0.723532  0.047320  \n",
       "0.00001 20      0.002023       0.702695  0.011795  \n",
       "0.00050 10      0.046734       0.674378  0.062266  \n",
       "0.00010 40      0.019845       0.629516  0.053535  \n",
       "0.00050 40      0.034981       0.620959  0.076684  \n",
       "0.00001 10      0.078613       0.604083  0.029914  "
      ]
     },
     "execution_count": 20,
     "metadata": {},
     "output_type": "execute_result"
    }
   ],
   "source": [
    "agg_method = {\"cnt\":[\"count\"],\n",
    "              \"max_val_epoch\":[\"mean\", \"std\"]}\n",
    "for item in domain_list:\n",
    "    agg_method[f\"val_{item}_{metric}\"] = [\"mean\", \"std\"]\n",
    "\n",
    "agg_method[f\"val_{metric}_mean\"] = [\"mean\", \"std\"]\n",
    "agg_method[f\"val_{metric}_mean\"] = [\"mean\", \"std\"]\n",
    "\n",
    "pd.set_option(\"display.max_columns\",None)\n",
    "pd.set_option(\"display.max_rows\",None)\n",
    "checkitew = 'transistor'\n",
    "selected_records = ans[ans[\"checkitew\"] == checkitew].drop([\"checkitew\"],axis=1)\n",
    "# group_key = [\"pre_lr\", \"pre_epochs\", \"lr\", \"epochs\"]\n",
    "group_key = deepcopy(para_name_list)\n",
    "group_key.remove(\"checkitew\")\n",
    "group_key.remove(\"cnt\")\n",
    "print(group_key)\n",
    "selected_records_anslysis = selected_records.groupby(group_key).agg(agg_method).sort_values(by=(f\"val_{metric}_mean\", \"mean\"), ascending=False)\n",
    "selected_para = selected_records_anslysis.index[0]\n",
    "print(selected_para)\n",
    "selected_records_anslysis"
   ]
  },
  {
   "cell_type": "code",
   "execution_count": 21,
   "metadata": {},
   "outputs": [
    {
     "name": "stdout",
     "output_type": "stream",
     "text": [
      "76.69(2.14)\n",
      "81.84(11.64)\n",
      "78.01(6.72)\n",
      "74.85(4.4)\n",
      "79.93(1.25)\n",
      "78.26(2.11)\n"
     ]
    },
    {
     "name": "stderr",
     "output_type": "stream",
     "text": [
      "/tmp/ipykernel_80991/1079342940.py:7: FutureWarning: ['file_name'] did not aggregate successfully. If any error is raised this will raise in a future version of pandas. Drop these columns/ops to avoid this warning.\n",
      "  temp = selected_records[filter].agg([\"mean\", \"std\"]).T\n"
     ]
    },
    {
     "data": {
      "text/html": [
       "<div>\n",
       "<style scoped>\n",
       "    .dataframe tbody tr th:only-of-type {\n",
       "        vertical-align: middle;\n",
       "    }\n",
       "\n",
       "    .dataframe tbody tr th {\n",
       "        vertical-align: top;\n",
       "    }\n",
       "\n",
       "    .dataframe thead th {\n",
       "        text-align: right;\n",
       "    }\n",
       "</style>\n",
       "<table border=\"1\" class=\"dataframe\">\n",
       "  <thead>\n",
       "    <tr style=\"text-align: right;\">\n",
       "      <th></th>\n",
       "      <th>lr</th>\n",
       "      <th>epochs</th>\n",
       "      <th>cnt</th>\n",
       "      <th>max_val_epoch</th>\n",
       "      <th>val_origin_AUPRC</th>\n",
       "      <th>val_brightness_AUPRC</th>\n",
       "      <th>val_contrast_AUPRC</th>\n",
       "      <th>val_defocus_blur_AUPRC</th>\n",
       "      <th>val_gaussian_noise_AUPRC</th>\n",
       "      <th>file_name</th>\n",
       "      <th>val_AUROC_mean</th>\n",
       "      <th>val_AUPRC_mean</th>\n",
       "    </tr>\n",
       "  </thead>\n",
       "  <tbody>\n",
       "    <tr>\n",
       "      <th>162</th>\n",
       "      <td>0.00005</td>\n",
       "      <td>20</td>\n",
       "      <td>0</td>\n",
       "      <td>0</td>\n",
       "      <td>0.781973</td>\n",
       "      <td>0.736081</td>\n",
       "      <td>0.732611</td>\n",
       "      <td>0.779599</td>\n",
       "      <td>0.808075</td>\n",
       "      <td>method=16,backbone=DGAD15,domain_cnt=4,checkit...</td>\n",
       "      <td>0.801167</td>\n",
       "      <td>0.767668</td>\n",
       "    </tr>\n",
       "    <tr>\n",
       "      <th>323</th>\n",
       "      <td>0.00005</td>\n",
       "      <td>20</td>\n",
       "      <td>1</td>\n",
       "      <td>7</td>\n",
       "      <td>0.751736</td>\n",
       "      <td>0.900683</td>\n",
       "      <td>0.827609</td>\n",
       "      <td>0.717345</td>\n",
       "      <td>0.790443</td>\n",
       "      <td>method=16,backbone=DGAD15,domain_cnt=4,checkit...</td>\n",
       "      <td>0.817620</td>\n",
       "      <td>0.797563</td>\n",
       "    </tr>\n",
       "  </tbody>\n",
       "</table>\n",
       "</div>"
      ],
      "text/plain": [
       "          lr  epochs  cnt  max_val_epoch  val_origin_AUPRC  \\\n",
       "162  0.00005      20    0              0          0.781973   \n",
       "323  0.00005      20    1              7          0.751736   \n",
       "\n",
       "     val_brightness_AUPRC  val_contrast_AUPRC  val_defocus_blur_AUPRC  \\\n",
       "162              0.736081            0.732611                0.779599   \n",
       "323              0.900683            0.827609                0.717345   \n",
       "\n",
       "     val_gaussian_noise_AUPRC  \\\n",
       "162                  0.808075   \n",
       "323                  0.790443   \n",
       "\n",
       "                                             file_name  val_AUROC_mean  \\\n",
       "162  method=16,backbone=DGAD15,domain_cnt=4,checkit...        0.801167   \n",
       "323  method=16,backbone=DGAD15,domain_cnt=4,checkit...        0.817620   \n",
       "\n",
       "     val_AUPRC_mean  \n",
       "162        0.767668  \n",
       "323        0.797563  "
      ]
     },
     "execution_count": 21,
     "metadata": {},
     "output_type": "execute_result"
    }
   ],
   "source": [
    "filter = None\n",
    "for idx, item in enumerate(group_key):\n",
    "    if filter is None:\n",
    "        filter = selected_records[item] == selected_para[idx]\n",
    "    else:\n",
    "        filter = filter & (selected_records[item] == selected_para[idx])\n",
    "temp = selected_records[filter].agg([\"mean\", \"std\"]).T\n",
    "temp[\"res\"] = temp.apply(lambda x: f'{round(x[\"mean\"] *100, 2)}({round(x[\"std\"] *100, 2)})', axis=1)\n",
    "for key in [f'val_{item}_{metric}' for item in domain_list]:\n",
    "    print(temp.loc[key][\"res\"])\n",
    "print(f'{round(selected_records_anslysis.loc[selected_para][f\"val_{metric}_mean\"][\"mean\"] * 100, 2)}({round(selected_records_anslysis.loc[selected_para][f\"val_{metric}_mean\"][\"std\"] * 100, 2)})')\n",
    "selected_records[filter]"
   ]
  },
  {
   "cell_type": "code",
   "execution_count": 22,
   "metadata": {},
   "outputs": [
    {
     "data": {
      "text/plain": [
       "NpzFile '../results/MVTEC/DGAD/method16/method=16,backbone=DGAD15,domain_cnt=4,checkitew=transistor,batch_size=30,steps_per_epoch=20,epochs=20,lr=5e-05,reg_lambda=1.0,NCE_lambda=1.0,PL_lambda=1.0,cnt=0.npz' with keys: val_max_metric, train_results_loss, sub_train_results_loss, val_results_loss, val_AUROC_list..."
      ]
     },
     "execution_count": 22,
     "metadata": {},
     "output_type": "execute_result"
    }
   ],
   "source": [
    "file_name = selected_records[filter].file_name.iloc[0]\n",
    "data = np.load(f'{dir_path}/{file_name}', allow_pickle=True)\n",
    "data"
   ]
  },
  {
   "cell_type": "code",
   "execution_count": 23,
   "metadata": {},
   "outputs": [],
   "source": [
    "# # data = np.load(f'{dir_path}/{file_name}', allow_pickle=True)\n",
    "# file_name = 'results/DEBUG/method=10,backbone=DGAD9,domain_cnt=3,normal_class=[0],anomaly_class=[1, 2, 3, 4, 5, 6],batch_size=30,steps_per_epoch=20,epochs=40,lr=5e-05,tau1=0.07,tau2=0.07,origin_svdd_lambda=1.0,class_svdd_lambda=1.0,align_lambda=1.0,beta=0.9,cnt=0.npz'\n",
    "# data = np.load(f'../{file_name}', allow_pickle=True)\n",
    "# data"
   ]
  },
  {
   "cell_type": "code",
   "execution_count": null,
   "metadata": {},
   "outputs": [],
   "source": []
  },
  {
   "cell_type": "code",
   "execution_count": 24,
   "metadata": {},
   "outputs": [],
   "source": [
    "domain_test_trends = dict()\n",
    "for domain in domain_list:\n",
    "    domain_test_trends[domain]={\n",
    "        \"test_loss_list\":[],\n",
    "        \"AUROC\":[],\n",
    "        \"AUPRC\":[],\n",
    "    }\n",
    "\n",
    "domain_test_trends\n",
    "for res in data[\"test_results_list\"]:\n",
    "    if res is not None:\n",
    "        for key in res:\n",
    "            domain_test_trends[key][\"test_loss_list\"].append(np.array(res[key][\"test_loss_list\"]).mean())\n",
    "            domain_test_trends[key][\"AUROC\"].append(res[key][\"AUROC\"])\n",
    "            domain_test_trends[key][\"AUPRC\"].append(res[key][\"AUPRC\"])"
   ]
  },
  {
   "cell_type": "markdown",
   "metadata": {},
   "source": [
    "### 训练过程中 模型在test上下降趋势"
   ]
  },
  {
   "cell_type": "code",
   "execution_count": 25,
   "metadata": {},
   "outputs": [
    {
     "name": "stdout",
     "output_type": "stream",
     "text": [
      "0\n",
      "origin [0.7819728442157768, 0.7281442722708276, 0.7817587750579732, 0.7453536393522376, 0.7291516360810715]\n",
      "brightness [0.736080746431278, 0.8092848350822719, 0.8624728525834635, 0.824996979845076, 0.8155166038831468]\n",
      "contrast [0.7326107307304045, 0.7763220140411885, 0.7935119206354271, 0.7771169834567297, 0.7748999698108808]\n",
      "defocus_blur [0.7795990545555265, 0.7274220602278726, 0.7438067517277186, 0.6555588528043598, 0.686596078195768]\n",
      "gaussian_noise [0.8080745457095468, 0.8180058987521452, 0.781262355256621, 0.7824276150269736, 0.788169592555408]\n"
     ]
    },
    {
     "data": {
      "image/png": "[encoded data removed]",
      "text/plain": [
       "<Figure size 2400x400 with 5 Axes>"
      ]
     },
     "metadata": {},
     "output_type": "display_data"
    },
    {
     "name": "stdout",
     "output_type": "stream",
     "text": [
      "0\n",
      "origin 0.7819728442157768\n",
      "brightness 0.736080746431278\n",
      "contrast 0.7326107307304045\n",
      "defocus_blur 0.7795990545555265\n",
      "gaussian_noise 0.8080745457095468\n"
     ]
    }
   ],
   "source": [
    "max_val_epoch = data[\"val_max_metric\"].item()['epoch']\n",
    "print(max_val_epoch)\n",
    "\n",
    "fig, ax = plt.subplots(1,5, figsize=(24, 4))\n",
    "\n",
    "for idx, domain in enumerate(domain_list):\n",
    "    ax[idx].plot(domain_test_trends[domain][metric], label = domain)\n",
    "    print(domain, domain_test_trends[domain][metric])\n",
    "\n",
    "    if \"metric\" in data[\"val_max_metric\"].item():\n",
    "        if \"test_epoch\" in data[\"args\"].item():\n",
    "            ax[idx].axvline(x=max_val_epoch / data[\"args\"].item()[\"test_epoch\"], color='r', linestyle='--')\n",
    "        else:\n",
    "            ax[idx].axvline(x=max_val_epoch / 5, color='r', linestyle='--')\n",
    "    else:\n",
    "        ax[idx].axvline(x=max_val_epoch, color='r', linestyle='--')\n",
    "\n",
    "    ax[idx].legend()\n",
    "plt.show()\n",
    "\n",
    "print(max_val_epoch)\n",
    "if \"metric\" in data[\"val_max_metric\"].item():\n",
    "    for domain in domain_list:\n",
    "        print(domain, data[\"val_max_metric\"].item()[\"metric\"][domain][metric])\n",
    "else:\n",
    "    for domain in domain_list:\n",
    "        print(domain, domain_test_trends[domain][metric][max_val_epoch])"
   ]
  },
  {
   "cell_type": "code",
   "execution_count": 26,
   "metadata": {},
   "outputs": [
    {
     "name": "stdout",
     "output_type": "stream",
     "text": [
      "2\n"
     ]
    },
    {
     "data": {
      "text/html": [
       "<div>\n",
       "<style scoped>\n",
       "    .dataframe tbody tr th:only-of-type {\n",
       "        vertical-align: middle;\n",
       "    }\n",
       "\n",
       "    .dataframe tbody tr th {\n",
       "        vertical-align: top;\n",
       "    }\n",
       "\n",
       "    .dataframe thead th {\n",
       "        text-align: right;\n",
       "    }\n",
       "</style>\n",
       "<table border=\"1\" class=\"dataframe\">\n",
       "  <thead>\n",
       "    <tr style=\"text-align: right;\">\n",
       "      <th></th>\n",
       "      <th>0</th>\n",
       "      <th>1</th>\n",
       "      <th>2</th>\n",
       "      <th>3</th>\n",
       "      <th>4</th>\n",
       "    </tr>\n",
       "  </thead>\n",
       "  <tbody>\n",
       "    <tr>\n",
       "      <th>origin</th>\n",
       "      <td>0.781973</td>\n",
       "      <td>0.728144</td>\n",
       "      <td>0.781759</td>\n",
       "      <td>0.745354</td>\n",
       "      <td>0.729152</td>\n",
       "    </tr>\n",
       "    <tr>\n",
       "      <th>brightness</th>\n",
       "      <td>0.736081</td>\n",
       "      <td>0.809285</td>\n",
       "      <td>0.862473</td>\n",
       "      <td>0.824997</td>\n",
       "      <td>0.815517</td>\n",
       "    </tr>\n",
       "    <tr>\n",
       "      <th>contrast</th>\n",
       "      <td>0.732611</td>\n",
       "      <td>0.776322</td>\n",
       "      <td>0.793512</td>\n",
       "      <td>0.777117</td>\n",
       "      <td>0.774900</td>\n",
       "    </tr>\n",
       "    <tr>\n",
       "      <th>defocus_blur</th>\n",
       "      <td>0.779599</td>\n",
       "      <td>0.727422</td>\n",
       "      <td>0.743807</td>\n",
       "      <td>0.655559</td>\n",
       "      <td>0.686596</td>\n",
       "    </tr>\n",
       "    <tr>\n",
       "      <th>gaussian_noise</th>\n",
       "      <td>0.808075</td>\n",
       "      <td>0.818006</td>\n",
       "      <td>0.781262</td>\n",
       "      <td>0.782428</td>\n",
       "      <td>0.788170</td>\n",
       "    </tr>\n",
       "    <tr>\n",
       "      <th>avg</th>\n",
       "      <td>0.767668</td>\n",
       "      <td>0.771836</td>\n",
       "      <td>0.792563</td>\n",
       "      <td>0.757091</td>\n",
       "      <td>0.758867</td>\n",
       "    </tr>\n",
       "  </tbody>\n",
       "</table>\n",
       "</div>"
      ],
      "text/plain": [
       "                       0         1         2         3         4\n",
       "origin          0.781973  0.728144  0.781759  0.745354  0.729152\n",
       "brightness      0.736081  0.809285  0.862473  0.824997  0.815517\n",
       "contrast        0.732611  0.776322  0.793512  0.777117  0.774900\n",
       "defocus_blur    0.779599  0.727422  0.743807  0.655559  0.686596\n",
       "gaussian_noise  0.808075  0.818006  0.781262  0.782428  0.788170\n",
       "avg             0.767668  0.771836  0.792563  0.757091  0.758867"
      ]
     },
     "execution_count": 26,
     "metadata": {},
     "output_type": "execute_result"
    }
   ],
   "source": [
    "file_name = selected_records[filter].file_name.iloc[0]\n",
    "data = np.load(f'{dir_path}/{file_name}', allow_pickle=True)\n",
    "data\n",
    "\n",
    "domain_test_trends = dict()\n",
    "for domain in domain_list:\n",
    "    domain_test_trends[domain]={\n",
    "        \"test_loss_list\":[],\n",
    "        \"AUROC\":[],\n",
    "        \"AUPRC\":[],\n",
    "    }\n",
    "\n",
    "domain_test_trends\n",
    "for res in data[\"test_results_list\"]:\n",
    "    if res is not None:\n",
    "        for key in res:\n",
    "            domain_test_trends[key][\"test_loss_list\"].append(np.array(res[key][\"test_loss_list\"]).mean())\n",
    "            domain_test_trends[key][\"AUROC\"].append(res[key][\"AUROC\"])\n",
    "            domain_test_trends[key][\"AUPRC\"].append(res[key][\"AUPRC\"])\n",
    "\n",
    "tmp = []\n",
    "for idx, domain in enumerate(domain_list):\n",
    "    tmp.append(domain_test_trends[domain][metric])\n",
    "tmp = pd.DataFrame(tmp, index=domain_list)\n",
    "idx = tmp.mean(axis = 0).idxmax()\n",
    "print(idx)\n",
    "pd.concat([tmp, pd.DataFrame(tmp.mean(axis = 0), columns = [\"avg\"]).T])"
   ]
  },
  {
   "cell_type": "markdown",
   "metadata": {},
   "source": [
    "### 训练集loss下降趋势"
   ]
  },
  {
   "cell_type": "code",
   "execution_count": 27,
   "metadata": {},
   "outputs": [
    {
     "data": {
      "text/plain": [
       "array([ 4.63899781,  2.71027662,  1.15550232,  0.81036566,  0.56993911,\n",
       "        0.30176854,  0.02214649, -0.30870947, -0.47735266, -0.47830081,\n",
       "       -0.49279189, -0.49642642, -0.52179439, -0.51796232, -0.49761311,\n",
       "       -0.53555062, -0.50790666, -0.5396594 , -0.53986328, -0.54735556])"
      ]
     },
     "execution_count": 27,
     "metadata": {},
     "output_type": "execute_result"
    },
    {
     "data": {
      "image/png": "[encoded data removed]",
      "text/plain": [
       "<Figure size 640x480 with 1 Axes>"
      ]
     },
     "metadata": {},
     "output_type": "display_data"
    }
   ],
   "source": [
    "plt.plot(data[\"train_results_loss\"].mean(axis=1)[0:])\n",
    "plt.axvline(x=max_val_epoch, color='r', linestyle='--')\n",
    "data[\"train_results_loss\"].mean(axis=1)"
   ]
  },
  {
   "cell_type": "markdown",
   "metadata": {},
   "source": [
    "### 训练过程中，模型在val 下降趋势"
   ]
  },
  {
   "cell_type": "markdown",
   "metadata": {},
   "source": [
    "#### 验证集loss下降趋势"
   ]
  },
  {
   "cell_type": "code",
   "execution_count": 28,
   "metadata": {},
   "outputs": [
    {
     "data": {
      "text/plain": [
       "array([0.18375119, 0.3858901 , 0.20155136, 0.23165034, 0.22010247,\n",
       "       0.22289702, 0.17349901, 0.15244819, 0.14431142, 0.14397829,\n",
       "       0.14643846, 0.15097437, 0.15987909, 0.14963797, 0.1584625 ,\n",
       "       0.15016288, 0.14746753, 0.15687179, 0.1455818 , 0.14763019])"
      ]
     },
     "execution_count": 28,
     "metadata": {},
     "output_type": "execute_result"
    },
    {
     "data": {
      "image/png": "[encoded data removed]",
      "text/plain": [
       "<Figure size 640x480 with 1 Axes>"
      ]
     },
     "metadata": {},
     "output_type": "display_data"
    }
   ],
   "source": [
    "plt.plot(data[\"val_results_loss\"].mean(axis=1))\n",
    "plt.axvline(x=max_val_epoch, color='r', linestyle='--')\n",
    "data[\"val_results_loss\"].mean(axis=1)"
   ]
  },
  {
   "cell_type": "markdown",
   "metadata": {},
   "source": [
    "#### 验证集AUROC"
   ]
  },
  {
   "cell_type": "code",
   "execution_count": 29,
   "metadata": {},
   "outputs": [
    {
     "data": {
      "text/plain": [
       "array([0.58333333, 0.42836257, 0.27923977, 0.28508772, 0.2748538 ,\n",
       "       0.34502924, 0.37134503, 0.41081871, 0.49122807, 0.52777778,\n",
       "       0.44590643, 0.4254386 , 0.42836257, 0.46052632, 0.43274854,\n",
       "       0.40789474, 0.4005848 , 0.37134503, 0.3494152 , 0.36111111])"
      ]
     },
     "execution_count": 29,
     "metadata": {},
     "output_type": "execute_result"
    },
    {
     "data": {
      "image/png": "[encoded data removed]",
      "text/plain": [
       "<Figure size 640x480 with 1 Axes>"
      ]
     },
     "metadata": {},
     "output_type": "display_data"
    }
   ],
   "source": [
    "plt.plot(data[f\"val_AUROC_list\"])\n",
    "plt.axvline(x=max_val_epoch, color='r', linestyle='--')\n",
    "# plt.ylim(0.5,1)\n",
    "data[f\"val_AUROC_list\"]"
   ]
  },
  {
   "cell_type": "code",
   "execution_count": 30,
   "metadata": {},
   "outputs": [
    {
     "data": {
      "text/plain": [
       "array([0.03243629, 0.02405319, 0.01895078, 0.01904494, 0.01913884,\n",
       "       0.02082606, 0.02151713, 0.02488393, 0.02832555, 0.03028081,\n",
       "       0.02483186, 0.02344051, 0.02377477, 0.02518049, 0.02373136,\n",
       "       0.02305577, 0.02289415, 0.02149796, 0.02085   , 0.02123171])"
      ]
     },
     "execution_count": 30,
     "metadata": {},
     "output_type": "execute_result"
    },
    {
     "data": {
      "image/png": "[encoded data removed]",
      "text/plain": [
       "<Figure size 640x480 with 1 Axes>"
      ]
     },
     "metadata": {},
     "output_type": "display_data"
    }
   ],
   "source": [
    "plt.plot(data[f\"val_{metric}_list\"])\n",
    "plt.axvline(x=max_val_epoch, color='r', linestyle='--')\n",
    "# plt.ylim(0.5,1)\n",
    "data[f\"val_{metric}_list\"]"
   ]
  },
  {
   "cell_type": "code",
   "execution_count": 31,
   "metadata": {},
   "outputs": [
    {
     "name": "stdout",
     "output_type": "stream",
     "text": [
      "[2.47871454 2.3735634  2.15103177 1.91214298 1.64041757 1.41465961\n",
      " 1.1681886  0.81859918 0.69943219 0.67002067 0.65719557 0.68017396\n",
      " 0.63780826 0.6609156  0.67336203 0.65322313 0.66750776 0.63574634\n",
      " 0.66376733 0.6477708 ]\n"
     ]
    },
    {
     "data": {
      "image/png": "[encoded data removed]",
      "text/plain": [
       "<Figure size 1000x1250 with 5 Axes>"
      ]
     },
     "metadata": {},
     "output_type": "display_data"
    }
   ],
   "source": [
    "temp = data[\"sub_train_results_loss\"].mean(axis=1)\n",
    "fig,ax = plt.subplots(temp.shape[1],1,figsize=(10,2.5 * temp.shape[1]))\n",
    "if dir_path.__contains__(\"method13\"):\n",
    "    loss_name_list = [\"devnet_loss\", \"reg_loss\", \"NCE_loss\", \"PL_loss\", \"class_reg_loss\"]\n",
    "elif dir_path.__contains__(\"VAE_LPIPS_DEVNET\"):\n",
    "    loss_name_list = [\"rec_loss\", \"kl_loss\", \"devnet_loss\", \"reg_loss\", \"PL_loss\", \"class_reg_loss\"]\n",
    "else:\n",
    "    loss_name_list = [\"devnet_loss\", \"reg_loss\", \"NCE_loss\", \"PL_loss\", \"class_reg_loss\"]\n",
    "for idx, label in enumerate(loss_name_list):\n",
    "    ax[idx].plot(temp[0:,idx], label=label)\n",
    "    ax[idx].axvline(x=max_val_epoch, color='r', linestyle='--')\n",
    "    ax[idx].legend()\n",
    "\n",
    "# for i in range(5):\n",
    "#     print(temp[0:,i])\n",
    "print(temp[0:, 1])\n",
    "plt.show()"
   ]
  },
  {
   "cell_type": "code",
   "execution_count": 32,
   "metadata": {},
   "outputs": [
    {
     "data": {
      "text/plain": [
       "0.007529476773925126"
      ]
     },
     "execution_count": 32,
     "metadata": {},
     "output_type": "execute_result"
    }
   ],
   "source": [
    "temp[0:, 0][-5]"
   ]
  },
  {
   "cell_type": "code",
   "execution_count": 33,
   "metadata": {},
   "outputs": [],
   "source": [
    "# data[\"sub_train_results_loss\"].mean(axis=1)"
   ]
  },
  {
   "cell_type": "markdown",
   "metadata": {},
   "source": []
  },
  {
   "cell_type": "code",
   "execution_count": 34,
   "metadata": {},
   "outputs": [],
   "source": [
    "if \"pre_epochs\" in para_name_list:\n",
    "    temp = []\n",
    "    for item in file_name.split(\",\"):\n",
    "        if re.match(\"epochs=|lr=|reg_lambda\", item):\n",
    "            pass\n",
    "        else:\n",
    "            temp.append(item)\n",
    "    data = np.load(f'../experiment/{\",\".join(temp)}', allow_pickle=True)"
   ]
  },
  {
   "cell_type": "code",
   "execution_count": 35,
   "metadata": {},
   "outputs": [
    {
     "ename": "KeyError",
     "evalue": "'pre_train_results_loss is not a file in the archive'",
     "output_type": "error",
     "traceback": [
      "\u001b[0;31m---------------------------------------------------------------------------\u001b[0m",
      "\u001b[0;31mKeyError\u001b[0m                                  Traceback (most recent call last)",
      "Cell \u001b[0;32mIn[35], line 1\u001b[0m\n\u001b[0;32m----> 1\u001b[0m plt\u001b[38;5;241m.\u001b[39mplot(\u001b[43mdata\u001b[49m\u001b[43m[\u001b[49m\u001b[38;5;124;43m\"\u001b[39;49m\u001b[38;5;124;43mpre_train_results_loss\u001b[39;49m\u001b[38;5;124;43m\"\u001b[39;49m\u001b[43m]\u001b[49m\u001b[38;5;241m.\u001b[39mmean(axis\u001b[38;5;241m=\u001b[39m\u001b[38;5;241m1\u001b[39m))\n",
      "File \u001b[0;32m~/anaconda3/envs/general_env/lib/python3.9/site-packages/numpy/lib/npyio.py:263\u001b[0m, in \u001b[0;36mNpzFile.__getitem__\u001b[0;34m(self, key)\u001b[0m\n\u001b[1;32m    261\u001b[0m         \u001b[38;5;28;01mreturn\u001b[39;00m \u001b[38;5;28mself\u001b[39m\u001b[38;5;241m.\u001b[39mzip\u001b[38;5;241m.\u001b[39mread(key)\n\u001b[1;32m    262\u001b[0m \u001b[38;5;28;01melse\u001b[39;00m:\n\u001b[0;32m--> 263\u001b[0m     \u001b[38;5;28;01mraise\u001b[39;00m \u001b[38;5;167;01mKeyError\u001b[39;00m(\u001b[38;5;124mf\u001b[39m\u001b[38;5;124m\"\u001b[39m\u001b[38;5;132;01m{\u001b[39;00mkey\u001b[38;5;132;01m}\u001b[39;00m\u001b[38;5;124m is not a file in the archive\u001b[39m\u001b[38;5;124m\"\u001b[39m)\n",
      "\u001b[0;31mKeyError\u001b[0m: 'pre_train_results_loss is not a file in the archive'"
     ]
    }
   ],
   "source": [
    "plt.plot(data[\"pre_train_results_loss\"].mean(axis=1))"
   ]
  },
  {
   "cell_type": "code",
   "execution_count": null,
   "metadata": {},
   "outputs": [
    {
     "ename": "KeyError",
     "evalue": "'sub_pre_train_results_loss is not a file in the archive'",
     "output_type": "error",
     "traceback": [
      "\u001b[0;31m---------------------------------------------------------------------------\u001b[0m",
      "\u001b[0;31mKeyError\u001b[0m                                  Traceback (most recent call last)",
      "Cell \u001b[0;32mIn[80], line 1\u001b[0m\n\u001b[0;32m----> 1\u001b[0m temp \u001b[38;5;241m=\u001b[39m \u001b[43mdata\u001b[49m\u001b[43m[\u001b[49m\u001b[38;5;124;43m\"\u001b[39;49m\u001b[38;5;124;43msub_pre_train_results_loss\u001b[39;49m\u001b[38;5;124;43m\"\u001b[39;49m\u001b[43m]\u001b[49m\u001b[38;5;241m.\u001b[39mmean(axis\u001b[38;5;241m=\u001b[39m\u001b[38;5;241m1\u001b[39m)\n\u001b[1;32m      2\u001b[0m fig,ax \u001b[38;5;241m=\u001b[39m plt\u001b[38;5;241m.\u001b[39msubplots(\u001b[38;5;241m2\u001b[39m,\u001b[38;5;241m1\u001b[39m,figsize\u001b[38;5;241m=\u001b[39m(\u001b[38;5;241m6\u001b[39m, \u001b[38;5;241m6\u001b[39m))\n\u001b[1;32m      3\u001b[0m ax[\u001b[38;5;241m0\u001b[39m]\u001b[38;5;241m.\u001b[39mplot(temp[\u001b[38;5;241m0\u001b[39m:,\u001b[38;5;241m0\u001b[39m], label\u001b[38;5;241m=\u001b[39m\u001b[38;5;124m\"\u001b[39m\u001b[38;5;124mNCE_loss\u001b[39m\u001b[38;5;124m\"\u001b[39m)\n",
      "File \u001b[0;32m~/anaconda3/envs/general_env/lib/python3.9/site-packages/numpy/lib/npyio.py:263\u001b[0m, in \u001b[0;36mNpzFile.__getitem__\u001b[0;34m(self, key)\u001b[0m\n\u001b[1;32m    261\u001b[0m         \u001b[38;5;28;01mreturn\u001b[39;00m \u001b[38;5;28mself\u001b[39m\u001b[38;5;241m.\u001b[39mzip\u001b[38;5;241m.\u001b[39mread(key)\n\u001b[1;32m    262\u001b[0m \u001b[38;5;28;01melse\u001b[39;00m:\n\u001b[0;32m--> 263\u001b[0m     \u001b[38;5;28;01mraise\u001b[39;00m \u001b[38;5;167;01mKeyError\u001b[39;00m(\u001b[38;5;124mf\u001b[39m\u001b[38;5;124m\"\u001b[39m\u001b[38;5;132;01m{\u001b[39;00mkey\u001b[38;5;132;01m}\u001b[39;00m\u001b[38;5;124m is not a file in the archive\u001b[39m\u001b[38;5;124m\"\u001b[39m)\n",
      "\u001b[0;31mKeyError\u001b[0m: 'sub_pre_train_results_loss is not a file in the archive'"
     ]
    }
   ],
   "source": [
    "temp = data[\"sub_pre_train_results_loss\"].mean(axis=1)\n",
    "fig,ax = plt.subplots(2,1,figsize=(6, 6))\n",
    "ax[0].plot(temp[0:,0], label=\"NCE_loss\")\n",
    "ax[1].plot(temp[0:,1], label=\"PL_loss\") \n",
    "ax[0].legend()\n",
    "ax[1].legend()\n",
    "plt.show()"
   ]
  },
  {
   "cell_type": "code",
   "execution_count": null,
   "metadata": {},
   "outputs": [
    {
     "data": {
      "text/plain": [
       "array([5.12366613e-02, 7.52512779e-04, 2.38156579e-04, 1.11763124e-04,\n",
       "       9.64891620e-05, 7.81198205e-05, 7.47454518e-05, 6.63250018e-05,\n",
       "       5.95974552e-05, 5.38587965e-05, 5.10202187e-05, 4.65418390e-05,\n",
       "       4.23788977e-05, 4.13187449e-05, 4.01404671e-05, 3.87827890e-05,\n",
       "       3.81627700e-05, 3.65760899e-05, 3.56698465e-05, 3.59697684e-05,\n",
       "       3.47524817e-05, 3.46994501e-05, 3.51303973e-05, 3.37718926e-05,\n",
       "       3.41283220e-05, 3.38422307e-05, 3.38356650e-05, 3.35584650e-05,\n",
       "       3.30837758e-05, 3.34783733e-05])"
      ]
     },
     "execution_count": 30,
     "metadata": {},
     "output_type": "execute_result"
    }
   ],
   "source": [
    "temp[0:,0]"
   ]
  },
  {
   "cell_type": "code",
   "execution_count": null,
   "metadata": {},
   "outputs": [
    {
     "data": {
      "text/plain": [
       "array([4.97540535e-01, 1.41077568e-01, 2.41149376e-02, 4.21630200e-02,\n",
       "       5.27702281e-02, 4.10839084e-02, 4.46073550e-02, 3.27919084e-03,\n",
       "       1.01064351e-03, 1.06021749e-04, 5.06643846e-05, 2.74663981e-05,\n",
       "       2.02918835e-05, 1.68948272e-05, 1.48062682e-05, 1.33578818e-05,\n",
       "       1.22908901e-05, 1.14740167e-05, 1.08376776e-05, 1.03394184e-05,\n",
       "       9.94086144e-06, 9.62827937e-06, 9.38167218e-06, 9.19360803e-06,\n",
       "       9.04976189e-06, 8.94778285e-06, 8.87626526e-06, 8.83177576e-06,\n",
       "       8.80642324e-06, 8.79488158e-06])"
      ]
     },
     "execution_count": 31,
     "metadata": {},
     "output_type": "execute_result"
    }
   ],
   "source": [
    "temp[0:,1]"
   ]
  }
 ],
 "metadata": {
  "kernelspec": {
   "display_name": "general_env",
   "language": "python",
   "name": "python3"
  },
  "language_info": {
   "codemirror_mode": {
    "name": "ipython",
    "version": 3
   },
   "file_extension": ".py",
   "mimetype": "text/x-python",
   "name": "python",
   "nbconvert_exporter": "python",
   "pygments_lexer": "ipython3",
   "version": "3.9.18"
  }
 },
 "nbformat": 4,
 "nbformat_minor": 2
}
