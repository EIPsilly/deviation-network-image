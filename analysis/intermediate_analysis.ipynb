{
 "cells": [
  {
   "cell_type": "code",
   "execution_count": 50,
   "metadata": {},
   "outputs": [],
   "source": [
    "import numpy as np\n",
    "import pandas as pd\n",
    "import os\n",
    "from matplotlib import pyplot as plt\n",
    "import re\n",
    "from sklearn.metrics import average_precision_score, roc_auc_score\n",
    "from collections import Counter\n",
    "import seaborn as sns"
   ]
  },
  {
   "cell_type": "code",
   "execution_count": 4,
   "metadata": {},
   "outputs": [],
   "source": [
    "dir_path = \"../results/intermediate_results/MVTEC/DGAD/method16_transistor\""
   ]
  },
  {
   "cell_type": "code",
   "execution_count": 14,
   "metadata": {},
   "outputs": [],
   "source": [
    "epochs=10\n",
    "lr=0.00005"
   ]
  },
  {
   "cell_type": "code",
   "execution_count": 19,
   "metadata": {},
   "outputs": [],
   "source": [
    "path = os.listdir(dir_path)\n",
    "path.sort()\n",
    "path = list(filter(lambda x: x.__contains__(f\"epochs={epochs},lr={lr}\"), path))"
   ]
  },
  {
   "cell_type": "code",
   "execution_count": 28,
   "metadata": {},
   "outputs": [],
   "source": [
    "file_path = list(filter(lambda x: x.__contains__(f\"epoch={4}\"), path))"
   ]
  },
  {
   "cell_type": "code",
   "execution_count": 30,
   "metadata": {},
   "outputs": [
    {
     "data": {
      "text/plain": [
       "['method=16,backbone=DGAD15,domain_cnt=4,checkitew=transistor,batch_size=30,steps_per_epoch=20,epochs=10,lr=5e-05,reg_lambda=1.0,NCE_lambda=1.0,PL_lambda=1.0,cnt=0,epoch=4,brightness.npz',\n",
       " 'method=16,backbone=DGAD15,domain_cnt=4,checkitew=transistor,batch_size=30,steps_per_epoch=20,epochs=10,lr=5e-05,reg_lambda=1.0,NCE_lambda=1.0,PL_lambda=1.0,cnt=0,epoch=4,contrast.npz',\n",
       " 'method=16,backbone=DGAD15,domain_cnt=4,checkitew=transistor,batch_size=30,steps_per_epoch=20,epochs=10,lr=5e-05,reg_lambda=1.0,NCE_lambda=1.0,PL_lambda=1.0,cnt=0,epoch=4,defocus_blur.npz',\n",
       " 'method=16,backbone=DGAD15,domain_cnt=4,checkitew=transistor,batch_size=30,steps_per_epoch=20,epochs=10,lr=5e-05,reg_lambda=1.0,NCE_lambda=1.0,PL_lambda=1.0,cnt=0,epoch=4,gaussian_noise.npz',\n",
       " 'method=16,backbone=DGAD15,domain_cnt=4,checkitew=transistor,batch_size=30,steps_per_epoch=20,epochs=10,lr=5e-05,reg_lambda=1.0,NCE_lambda=1.0,PL_lambda=1.0,cnt=0,epoch=4,origin.npz',\n",
       " 'method=16,backbone=DGAD15,domain_cnt=4,checkitew=transistor,batch_size=30,steps_per_epoch=20,epochs=10,lr=5e-05,reg_lambda=1.0,NCE_lambda=1.0,PL_lambda=1.0,cnt=0,epoch=4,val.npz',\n",
       " 'method=16,backbone=DGAD15,domain_cnt=4,checkitew=transistor,batch_size=30,steps_per_epoch=20,epochs=10,lr=5e-05,reg_lambda=1.0,NCE_lambda=1.0,PL_lambda=1.0,cnt=0,epoch=4.npz']"
      ]
     },
     "execution_count": 30,
     "metadata": {},
     "output_type": "execute_result"
    }
   ],
   "source": [
    "file_path"
   ]
  },
  {
   "cell_type": "code",
   "execution_count": 32,
   "metadata": {},
   "outputs": [],
   "source": [
    "data = np.load(f'{dir_path}/{file_path[0]}', allow_pickle=True)"
   ]
  },
  {
   "cell_type": "code",
   "execution_count": 38,
   "metadata": {},
   "outputs": [
    {
     "data": {
      "text/plain": [
       "Counter({0: 60, 1: 36})"
      ]
     },
     "execution_count": 38,
     "metadata": {},
     "output_type": "execute_result"
    }
   ],
   "source": [
    "target_list = data[\"target_list\"]\n",
    "total_pred = data[\"total_pred\"]\n",
    "Counter(target_list)"
   ]
  },
  {
   "cell_type": "code",
   "execution_count": 46,
   "metadata": {},
   "outputs": [
    {
     "data": {
      "text/plain": [
       "array([60, 61, 62, 63, 64, 65, 66, 67, 68, 69, 70, 71, 72, 73, 74, 75, 76,\n",
       "       77, 78, 79, 80, 81, 82, 83, 84, 85, 86, 87, 88, 89, 90, 91, 92, 93,\n",
       "       94, 95])"
      ]
     },
     "execution_count": 46,
     "metadata": {},
     "output_type": "execute_result"
    }
   ],
   "source": []
  },
  {
   "cell_type": "code",
   "execution_count": 69,
   "metadata": {},
   "outputs": [
    {
     "data": {
      "text/plain": [
       "array([ 6.59144580e-01,  3.94072890e-01,  6.48589134e-02,  2.08612755e-01,\n",
       "        5.44880629e-01,  2.53239870e-01,  1.03749171e-01,  1.59076914e-01,\n",
       "        2.28562906e-01,  2.10045323e-01,  4.59152079e+00,  2.64653492e+00,\n",
       "        6.49336398e-01,  8.85220230e-01,  2.36233965e-01,  1.02194557e+01,\n",
       "        3.02898824e-01,  3.63855302e-01,  6.05188131e-01,  1.05031699e-01,\n",
       "        1.09478414e-01,  8.64648372e-02,  4.66723025e-01, -3.56809120e-04,\n",
       "        2.72891968e-01,  2.81261504e-01,  1.12962151e+00,  7.67185837e-02,\n",
       "        6.24823213e-01,  2.00976372e-01,  1.59486383e-01,  5.60554564e-01,\n",
       "        1.00421309e-01,  8.28765109e-02,  8.65003318e-02,  2.88188308e-01])"
      ]
     },
     "execution_count": 69,
     "metadata": {},
     "output_type": "execute_result"
    }
   ],
   "source": [
    "total_pred[idx1]"
   ]
  },
  {
   "cell_type": "code",
   "execution_count": 77,
   "metadata": {},
   "outputs": [
    {
     "data": {
      "text/plain": [
       "<matplotlib.legend.Legend at 0x7f364f9f3be0>"
      ]
     },
     "execution_count": 77,
     "metadata": {},
     "output_type": "execute_result"
    },
    {
     "data": {
      "image/png": "[encoded data removed]",
      "text/plain": [
       "<Figure size 640x480 with 1 Axes>"
      ]
     },
     "metadata": {},
     "output_type": "display_data"
    }
   ],
   "source": [
    "idx0 = np.where(target_list == 0)[0]\n",
    "idx1 = np.where(target_list == 1)[0]\n",
    "# plt.scatter(total_pred[idx0], np.zeros_like(idx0), label=0)\n",
    "# plt.scatter(total_pred[idx1], np.ones_like(idx1), label=1)\n",
    "# plt.legend()\n",
    "sns.kdeplot(total_pred[idx0], label = 0, bw_adjust=0.5)\n",
    "sns.kdeplot(total_pred[idx1], label = 1, bw_adjust=0.5)\n",
    "plt.legend()"
   ]
  }
 ],
 "metadata": {
  "kernelspec": {
   "display_name": "general_env",
   "language": "python",
   "name": "python3"
  },
  "language_info": {
   "codemirror_mode": {
    "name": "ipython",
    "version": 3
   },
   "file_extension": ".py",
   "mimetype": "text/x-python",
   "name": "python",
   "nbconvert_exporter": "python",
   "pygments_lexer": "ipython3",
   "version": "3.9.18"
  }
 },
 "nbformat": 4,
 "nbformat_minor": 2
}
